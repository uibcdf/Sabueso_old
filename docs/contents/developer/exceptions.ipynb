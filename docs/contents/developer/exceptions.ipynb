{
 "cells": [
  {
   "cell_type": "code",
   "execution_count": 1,
   "id": "aabe75aa-4eac-4f9e-aaa1-0f0e8ca485b4",
   "metadata": {},
   "outputs": [],
   "source": [
    "%load_ext autoreload\n",
    "%autoreload 2"
   ]
  },
  {
   "cell_type": "markdown",
   "id": "e5d50fee-c47c-4b5b-8415-32de462734e5",
   "metadata": {},
   "source": [
    "# Exceptions"
   ]
  },
  {
   "cell_type": "markdown",
   "id": "bdf76ad2-4899-40b9-b0bf-19c24e0ff98d",
   "metadata": {},
   "source": [
    "There is in the directory `sabueso/_private_tools` a module with customized exceptions. Use them timely. And, in case you want to raise a new exception type, please include it here for the others to use it."
   ]
  },
  {
   "cell_type": "code",
   "execution_count": 2,
   "id": "bb142293-1d2c-4c2c-ae5e-f69cdd892fb5",
   "metadata": {},
   "outputs": [],
   "source": [
    "from sabueso._private_tools.exceptions import *"
   ]
  },
  {
   "cell_type": "markdown",
   "id": "d4a04ca5-f1a2-424a-8906-dac64a30a9b4",
   "metadata": {},
   "source": [
    "Let's see the list of customized exceptions in Sabueso."
   ]
  },
  {
   "cell_type": "markdown",
   "id": "76332749-e176-45d6-8de3-bd1ed184a6df",
   "metadata": {},
   "source": [
    "## NotImplementedError\n",
    "\n",
    "The `NotImplementedError` is raised when a method, or using method with an specific option, has being included (defined or considered) to be implemented in the near future -but is not ready yet-. "
   ]
  },
  {
   "cell_type": "code",
   "execution_count": 4,
   "id": "bcaf42f4-5bd7-44da-83c2-9340b884a9b1",
   "metadata": {},
   "outputs": [
    {
     "ename": "NotImplementedError",
     "evalue": "This method has not been implemeted yet. Write a new issue in https://github.com/uibcdf/Sabueso/issues asking for it.",
     "output_type": "error",
     "traceback": [
      "\u001b[0;31m---------------------------------------------------------------------------\u001b[0m",
      "\u001b[0;31mNotImplementedError\u001b[0m                       Traceback (most recent call last)",
      "\u001b[0;32m/tmp/ipykernel_16206/2504607172.py\u001b[0m in \u001b[0;36m<module>\u001b[0;34m\u001b[0m\n\u001b[0;32m----> 1\u001b[0;31m \u001b[0;32mraise\u001b[0m \u001b[0mNotImplementedError\u001b[0m\u001b[0;34m\u001b[0m\u001b[0;34m\u001b[0m\u001b[0m\n\u001b[0m",
      "\u001b[0;31mNotImplementedError\u001b[0m: This method has not been implemeted yet. Write a new issue in https://github.com/uibcdf/Sabueso/issues asking for it."
     ]
    }
   ],
   "source": [
    "raise NotImplementedError"
   ]
  },
  {
   "cell_type": "markdown",
   "id": "ea4551cc-18d2-468a-b869-9d20d64f9c9f",
   "metadata": {},
   "source": [
    "## NotImplementedFormError\n",
    "\n",
    "The `NotImplementedFormError` is raised when a method has not been implemented yet for a given item's form. "
   ]
  },
  {
   "cell_type": "code",
   "execution_count": 5,
   "id": "b36061da-e1ad-4c1d-a58a-78a870778c16",
   "metadata": {},
   "outputs": [
    {
     "ename": "NotImplementedFormError",
     "evalue": "Either the python library this form belongs to was not found, either this form has not been implemeted yet. In this last case, Write a new issue in https://github.com/uibcdf/Sabueso/issues asking for it.",
     "output_type": "error",
     "traceback": [
      "\u001b[0;31m---------------------------------------------------------------------------\u001b[0m",
      "\u001b[0;31mNotImplementedFormError\u001b[0m                   Traceback (most recent call last)",
      "\u001b[0;32m/tmp/ipykernel_16206/3503617471.py\u001b[0m in \u001b[0;36m<module>\u001b[0;34m\u001b[0m\n\u001b[0;32m----> 1\u001b[0;31m \u001b[0;32mraise\u001b[0m \u001b[0mNotImplementedFormError\u001b[0m\u001b[0;34m\u001b[0m\u001b[0;34m\u001b[0m\u001b[0m\n\u001b[0m",
      "\u001b[0;31mNotImplementedFormError\u001b[0m: Either the python library this form belongs to was not found, either this form has not been implemeted yet. In this last case, Write a new issue in https://github.com/uibcdf/Sabueso/issues asking for it."
     ]
    }
   ],
   "source": [
    "raise NotImplementedFormError"
   ]
  },
  {
   "cell_type": "markdown",
   "id": "7b4ee5a4-13f4-4a4d-ba4e-6e670f82e750",
   "metadata": {},
   "source": [
    "## BadCallError\n",
    "\n",
    "The `BadCallError` is raised when a method was not properly called. And the error is not due to just an inappropriate input argument, but something worst than that."
   ]
  },
  {
   "cell_type": "code",
   "execution_count": 3,
   "id": "78c69614-dea6-4e3f-8b1e-0e1eabba5e31",
   "metadata": {},
   "outputs": [
    {
     "ename": "BadCallError",
     "evalue": "Wrong way of invoking this method. Check the online documentation for more information: http://www.uibcdf.org/Sabueso",
     "output_type": "error",
     "traceback": [
      "\u001b[0;31m---------------------------------------------------------------------------\u001b[0m",
      "\u001b[0;31mBadCallError\u001b[0m                              Traceback (most recent call last)",
      "\u001b[0;32m/tmp/ipykernel_16206/3378685273.py\u001b[0m in \u001b[0;36m<module>\u001b[0;34m\u001b[0m\n\u001b[0;32m----> 1\u001b[0;31m \u001b[0;32mraise\u001b[0m \u001b[0mBadCallError\u001b[0m\u001b[0;34m\u001b[0m\u001b[0;34m\u001b[0m\u001b[0m\n\u001b[0m",
      "\u001b[0;31mBadCallError\u001b[0m: Wrong way of invoking this method. Check the online documentation for more information: http://www.uibcdf.org/Sabueso"
     ]
    }
   ],
   "source": [
    "raise BadCallError"
   ]
  },
  {
   "cell_type": "code",
   "execution_count": null,
   "id": "081b9694-0a72-4071-a9f0-27d21382c632",
   "metadata": {},
   "outputs": [],
   "source": []
  }
 ],
 "metadata": {
  "kernelspec": {
   "display_name": "Python 3 (ipykernel)",
   "language": "python",
   "name": "python3"
  },
  "language_info": {
   "codemirror_mode": {
    "name": "ipython",
    "version": 3
   },
   "file_extension": ".py",
   "mimetype": "text/x-python",
   "name": "python",
   "nbconvert_exporter": "python",
   "pygments_lexer": "ipython3",
   "version": "3.7.12"
  }
 },
 "nbformat": 4,
 "nbformat_minor": 5
}
