{
 "cells": [
  {
   "cell_type": "markdown",
   "id": "e5d50fee-c47c-4b5b-8415-32de462734e5",
   "metadata": {},
   "source": [
    "# Exceptions"
   ]
  },
  {
   "cell_type": "markdown",
   "id": "bdf76ad2-4899-40b9-b0bf-19c24e0ff98d",
   "metadata": {},
   "source": [
    "There is in the directory `sabueso/_private_tools` a module named `exceptions.py` with customized exceptions. Use them timely. And, in case you want to raise a new exception type, please include it here for the others to use it.\n",
    "\n",
    "To use a exception you just need to import it and raise it:\n",
    "\n",
    "```python\n",
    "from sabueso._private_tools.exceptions import NotImplementedMethodError\n",
    "\n",
    "def method_to_be_implemented_in_the_future():\n",
    "    \n",
    "    raise NotImplementedMethodError\n",
    "```\n",
    "\n",
    "Let's see the list of customized exceptions in Sabueso."
   ]
  },
  {
   "cell_type": "markdown",
   "id": "76332749-e176-45d6-8de3-bd1ed184a6df",
   "metadata": {},
   "source": [
    "## NotImplementedMethodError\n",
    "\n",
    "The `NotImplementedMethodError` exception is raised when a method has being already defined but its code was not fully implemented yet. Maybe the method was just included in a developing version to be coded in the future. Or maybe the method works already for certain values of the input arguments, but not for others yet.\n",
    "\n",
    "```{admonition} See also\n",
    ":class: attention\n",
    "[sabueso._private_tools.exceptions.NotImplementedMethodError](api_target)\n",
    "```"
   ]
  },
  {
   "cell_type": "markdown",
   "id": "ea4551cc-18d2-468a-b869-9d20d64f9c9f",
   "metadata": {},
   "source": [
    "## NotImplementedClassError\n",
    "\n",
    "The `NotImplementedClassError` exception is raised when a class has being already defined but its code was not fully implemented yet. Maybe the class was just included in a developing version to be coded in the future. Or maybe the class can be instantated already for certain values of the input arguments, but not for others yet.\n",
    "\n",
    "```{admonition} See also\n",
    ":class: attention\n",
    "[sabueso._private_tools.exceptions.NotImplementedClassError](api_target)\n",
    "```"
   ]
  },
  {
   "cell_type": "markdown",
   "id": "ff70927d-95eb-44b0-93a9-b0db45863e13",
   "metadata": {},
   "source": [
    "## NotImplementedFormError\n",
    "\n",
    "The `NotImplementedFormError` exception is raised when working with a speficic item's form has not being implemented yet.\n",
    "\n",
    "This exception requires a mandatory argument: the form not implemented.\n",
    "\n",
    "```{admonition} See also\n",
    ":class: attention\n",
    "[sabueso._private_tools.exceptions.NotImplementedFormError](api_target)\n",
    "```"
   ]
  },
  {
   "cell_type": "markdown",
   "id": "89497792-9d21-4542-9370-cdd8f1d0f421",
   "metadata": {},
   "source": [
    "## NotWithThisFormError\n",
    "\n",
    "The `NotWithThisFormError` exception is raised when the invoked method does not work -by no means- over the item's form provided by the user.\n",
    "\n",
    "This exception requires a mandatory argument: the not working item's form.\n",
    "\n",
    "```{admonition} See also\n",
    ":class: attention\n",
    "[sabueso._private_tools.exceptions.NotWithThisFormError](api_target)\n",
    "```"
   ]
  },
  {
   "cell_type": "markdown",
   "id": "ef89de78-c6fb-4586-afad-8a761cbbe5e2",
   "metadata": {},
   "source": [
    "## WrongFormError\n",
    "\n",
    "The `WrongFormError` exception is raised when the input item of a method has the wrong form.\n",
    "\n",
    "This exception requires a mandatory argument: the required form by the method.\n",
    "\n",
    "```{admonition} See also\n",
    ":class: attention\n",
    "[sabueso._private_tools.exceptions.WrongFormError](api_target)\n",
    "```"
   ]
  },
  {
   "cell_type": "markdown",
   "id": "7b4ee5a4-13f4-4a4d-ba4e-6e670f82e750",
   "metadata": {},
   "source": [
    "## BadCallError\n",
    "\n",
    "The `BadCallError` is raised when a method was not properly called. And the error is not due to just an inappropriate input argument, but something worst than that.\n",
    "\n",
    "This exception has an optional input argument: the name of the probable wrong input argument.\n",
    "\n",
    "```{admonition} See also\n",
    ":class: attention\n",
    "[sabueso._private_tools.exceptions.BadCallError](api_target)\n",
    "```"
   ]
  },
  {
   "cell_type": "markdown",
   "id": "ba56509a-d52f-4218-a162-3af9d6716dce",
   "metadata": {},
   "source": [
    "## LibraryNotFoundError\n",
    "\n",
    "The `LibraryNotFoundError` is raised when Sabueso fails importing a library not required as dependence.\n",
    "\n",
    "This exception has a mandatory input argument: the name of library not found.\n",
    "\n",
    "```{admonition} See also\n",
    ":class: attention\n",
    "[sabueso._private_tools.exceptions.LibraryNotFoundError](api_target)\n",
    "```"
   ]
  },
  {
   "cell_type": "markdown",
   "id": "1f36cf49-694c-45df-833d-0d18614ae450",
   "metadata": {},
   "source": [
    "## DatabaseNotAccessibleError\n",
    "\n",
    "The `DatabaseNotAccessibleError` is raised when an online database can not be reached for whatever reason.\n",
    "\n",
    "This exception has a mandatory input argument: the name of the database.\n",
    "\n",
    "```{admonition} See also\n",
    ":class: attention\n",
    "[sabueso._private_tools.exceptions.LibraryNotFoundError](api_target)\n",
    "```"
   ]
  }
 ],
 "metadata": {
  "kernelspec": {
   "display_name": "Python 3 (ipykernel)",
   "language": "python",
   "name": "python3"
  },
  "language_info": {
   "codemirror_mode": {
    "name": "ipython",
    "version": 3
   },
   "file_extension": ".py",
   "mimetype": "text/x-python",
   "name": "python",
   "nbconvert_exporter": "python",
   "pygments_lexer": "ipython3",
   "version": "3.7.12"
  }
 },
 "nbformat": 4,
 "nbformat_minor": 5
}
