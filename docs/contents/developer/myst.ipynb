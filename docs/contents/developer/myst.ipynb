{
 "cells": [
  {
   "cell_type": "markdown",
   "id": "33479ea6-5469-432a-9713-be39020eaf5b",
   "metadata": {},
   "source": [
    "# MyST"
   ]
  },
  {
   "cell_type": "markdown",
   "id": "a369733a-ed01-408a-bc96-53508b19241f",
   "metadata": {},
   "source": [
    "```{admonition} Admonition\n",
    "Lorem ipsum dolor sit amet, consectetur adipiscing elit.\n",
    "```\n",
    "\n",
    "```{attention} Attention\n",
    "Lorem ipsum dolor sit amet, consectetur adipiscing elit.\n",
    "```\n",
    "\n",
    "```{caution} Caution\n",
    "Lorem ipsum dolor sit amet, consectetur adipiscing elit.\n",
    "```\n",
    "\n",
    "```{danger} Danger\n",
    "Lorem ipsum dolor sit amet, consectetur adipiscing elit.\n",
    "```\n",
    "\n",
    "```{error} Admonition\n",
    "Lorem ipsum dolor sit amet, consectetur adipiscing elit.\n",
    "```\n",
    "\n",
    "```{hint} Attention\n",
    "Lorem ipsum dolor sit amet, consectetur adipiscing elit.\n",
    "```\n",
    "\n",
    "```{important} Caution\n",
    "Lorem ipsum dolor sit amet, consectetur adipiscing elit.\n",
    "```\n",
    "\n",
    "```{note} Danger\n",
    "Lorem ipsum dolor sit amet, consectetur adipiscing elit.\n",
    "```\n",
    "\n",
    "https://pradyunsg.me/furo/reference/admonitions/\n",
    "http://theoryandpractice.org/stats-ds-book/cheatsheet.html"
   ]
  },
  {
   "cell_type": "code",
   "execution_count": null,
   "id": "6eec1a08-a4d4-4c12-ac28-4ebdca49717b",
   "metadata": {},
   "outputs": [],
   "source": []
  }
 ],
 "metadata": {
  "kernelspec": {
   "display_name": "Python 3 (ipykernel)",
   "language": "python",
   "name": "python3"
  },
  "language_info": {
   "codemirror_mode": {
    "name": "ipython",
    "version": 3
   },
   "file_extension": ".py",
   "mimetype": "text/x-python",
   "name": "python",
   "nbconvert_exporter": "python",
   "pygments_lexer": "ipython3",
   "version": "3.7.12"
  }
 },
 "nbformat": 4,
 "nbformat_minor": 5
}
