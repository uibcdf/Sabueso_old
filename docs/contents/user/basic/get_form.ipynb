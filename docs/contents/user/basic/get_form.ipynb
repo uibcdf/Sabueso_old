{
 "cells": [
  {
   "cell_type": "markdown",
   "id": "7b70aa85-ed72-4717-a9d0-159b7b72bb6a",
   "metadata": {},
   "source": [
    "# Get form"
   ]
  },
  {
   "cell_type": "code",
   "execution_count": 1,
   "id": "1ff71f5e-81c7-410b-ad2c-93602c0c1ca3",
   "metadata": {},
   "outputs": [],
   "source": [
    "import sabueso as sab"
   ]
  },
  {
   "cell_type": "code",
   "execution_count": 2,
   "id": "f0ee7620-6706-4aca-b528-4615c8cac10e",
   "metadata": {},
   "outputs": [
    {
     "data": {
      "text/plain": [
       "'file:pdb'"
      ]
     },
     "execution_count": 2,
     "metadata": {},
     "output_type": "execute_result"
    }
   ],
   "source": [
    "sab.get_form('1brs.pdb')"
   ]
  },
  {
   "cell_type": "code",
   "execution_count": null,
   "id": "4291a375-ae10-4ae1-81d5-142947ec2202",
   "metadata": {},
   "outputs": [],
   "source": []
  }
 ],
 "metadata": {
  "kernelspec": {
   "display_name": "Python 3 (ipykernel)",
   "language": "python",
   "name": "python3"
  },
  "language_info": {
   "codemirror_mode": {
    "name": "ipython",
    "version": 3
   },
   "file_extension": ".py",
   "mimetype": "text/x-python",
   "name": "python",
   "nbconvert_exporter": "python",
   "pygments_lexer": "ipython3",
   "version": "3.7.10"
  }
 },
 "nbformat": 4,
 "nbformat_minor": 5
}
