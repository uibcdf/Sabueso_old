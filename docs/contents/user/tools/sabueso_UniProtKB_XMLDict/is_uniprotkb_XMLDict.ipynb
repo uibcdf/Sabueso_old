{
 "cells": [
  {
   "cell_type": "code",
   "execution_count": 1,
   "id": "27827bcf-cbac-4365-a713-4f355a7bb52f",
   "metadata": {},
   "outputs": [],
   "source": [
    "%load_ext autoreload\n",
    "%autoreload 2"
   ]
  },
  {
   "cell_type": "markdown",
   "id": "5c957f69-ab5d-4f3f-ab7d-39c82a88073f",
   "metadata": {},
   "source": [
    "# Is UniProtKB XMLDict"
   ]
  },
  {
   "cell_type": "code",
   "execution_count": 3,
   "id": "4150a9d2-3064-44a5-8f0d-502047a09f91",
   "metadata": {},
   "outputs": [
    {
     "ename": "SyntaxError",
     "evalue": "unexpected EOF while parsing (is_uniprotkb_XMLDict.py, line 3)",
     "output_type": "error",
     "traceback": [
      "Traceback \u001b[0;36m(most recent call last)\u001b[0m:\n",
      "  File \u001b[1;32m\"/home/diego/Myopt/miniconda3/envs/sabueso/lib/python3.7/site-packages/IPython/core/interactiveshell.py\"\u001b[0m, line \u001b[1;32m3441\u001b[0m, in \u001b[1;35mrun_code\u001b[0m\n    exec(code_obj, self.user_global_ns, self.user_ns)\n",
      "\u001b[0;36m  File \u001b[0;32m\"/tmp/ipykernel_3131798/1319136194.py\"\u001b[0;36m, line \u001b[0;32m1\u001b[0;36m, in \u001b[0;35m<module>\u001b[0;36m\u001b[0m\n\u001b[0;31m    from sabueso.tools.uniprotkb_XMLDict import is_uniprotkb_XMLDict\u001b[0m\n",
      "\u001b[0;36m  File \u001b[0;32m\"/home/diego/projects_uibcdf/sabueso/sabueso/tools/uniprotkb_XMLDict/is_uniprotkb_XMLDict.py\"\u001b[0;36m, line \u001b[0;32m3\u001b[0m\n\u001b[0;31m    \u001b[0m\n\u001b[0m    ^\u001b[0m\n\u001b[0;31mSyntaxError\u001b[0m\u001b[0;31m:\u001b[0m unexpected EOF while parsing\n"
     ]
    }
   ],
   "source": [
    "#from sabueso.tools.uniprotkb_XMLDict import is_uniprotkb_XMLDict"
   ]
  },
  {
   "cell_type": "code",
   "execution_count": null,
   "id": "a246669a-e528-441f-95de-d4a48b64a5bf",
   "metadata": {},
   "outputs": [],
   "source": [
    "#from sabueso.tools.uniprotkb_XMLDict import is_uniprotkb_XMLDict"
   ]
  }
 ],
 "metadata": {
  "kernelspec": {
   "display_name": "Python 3 (ipykernel)",
   "language": "python",
   "name": "python3"
  },
  "language_info": {
   "codemirror_mode": {
    "name": "ipython",
    "version": 3
   },
   "file_extension": ".py",
   "mimetype": "text/x-python",
   "name": "python",
   "nbconvert_exporter": "python",
   "pygments_lexer": "ipython3",
   "version": "3.7.10"
  }
 },
 "nbformat": 4,
 "nbformat_minor": 5
}
