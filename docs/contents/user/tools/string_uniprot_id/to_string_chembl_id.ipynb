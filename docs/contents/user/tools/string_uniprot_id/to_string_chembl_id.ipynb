{
 "cells": [
  {
   "cell_type": "code",
   "execution_count": 1,
   "id": "86dd1dfc-936b-4964-b358-35868402925b",
   "metadata": {},
   "outputs": [],
   "source": [
    "%load_ext autoreload\n",
    "%autoreload 2"
   ]
  },
  {
   "cell_type": "markdown",
   "id": "ad142606-7d34-493f-9025-d35ae8fac5db",
   "metadata": {},
   "source": [
    "# to string chembl_id"
   ]
  },
  {
   "cell_type": "markdown",
   "id": "b0db6631-fcd9-4997-affc-5947ea594051",
   "metadata": {},
   "source": [
    "The ChEMBL ID of the target component, or the ChEMBL IDs of target components, in which a protein identified by its Uniprot ID takes place, can be obtained with the method `to_string_chembl_id`. Let's show how this method works. "
   ]
  },
  {
   "cell_type": "code",
   "execution_count": 2,
   "id": "6ba864b2-97cb-461b-b61b-fba7eff655ef",
   "metadata": {},
   "outputs": [],
   "source": [
    "from sabueso.tools.string_uniprot_id import to_string_chembl_id"
   ]
  },
  {
   "cell_type": "code",
   "execution_count": 3,
   "id": "59148237-7d49-4150-9a9d-82e6ba142037",
   "metadata": {},
   "outputs": [
    {
     "data": {
      "text/plain": [
       "'CHEMBL2114'"
      ]
     },
     "execution_count": 3,
     "metadata": {},
     "output_type": "execute_result"
    }
   ],
   "source": [
    "to_string_chembl_id('P49892')"
   ]
  },
  {
   "cell_type": "markdown",
   "id": "75d4e11a-d4c5-46d7-8838-98555a0e95b6",
   "metadata": {},
   "source": [
    "You probably noticed that the method is slower than you expected. This because before doing the conversion, the form of the input item was checked -it must be `string:uniprot_id`- and the accessibility of the online database used to make the conversion was also checked. If you want to skip the checkings to make it faster, run the method `to_string_chembl_id` with the following optional arguments:"
   ]
  },
  {
   "cell_type": "code",
   "execution_count": 4,
   "id": "4f461666-e951-4cb7-9477-f169fe9429f1",
   "metadata": {},
   "outputs": [
    {
     "data": {
      "text/plain": [
       "'CHEMBL2114'"
      ]
     },
     "execution_count": 4,
     "metadata": {},
     "output_type": "execute_result"
    }
   ],
   "source": [
    "to_string_chembl_id('P49892', check_form=False, check_database=False)"
   ]
  },
  {
   "cell_type": "markdown",
   "id": "b2ae91a3-e2bf-40d6-b4d1-d49a36f1c650",
   "metadata": {},
   "source": [
    "This conversion can be done using multiple online resources. By default, the conversion is performed with the ChEMBL web tools. But Sabueso also includes the algorithms to turn a 'string:uniprot_id' item into a 'string:chembl_id' using other resources."
   ]
  },
  {
   "cell_type": "markdown",
   "id": "3e4136c3-c9fb-42ed-92f9-e125e5dd8466",
   "metadata": {},
   "source": [
    "## Using the ChEMBL database resources"
   ]
  },
  {
   "cell_type": "markdown",
   "id": "66d819a6-a964-4b91-a8f8-6e91815712f7",
   "metadata": {},
   "source": [
    "By default the conversion between a 'string:uniprot_id' into one or several, it depends of the case, 'string:chembl_id' strings is done using the official ChEMBL API. "
   ]
  },
  {
   "cell_type": "code",
   "execution_count": 6,
   "id": "cbbe5617-a3f5-4945-a373-9cc9ebeecda3",
   "metadata": {},
   "outputs": [
    {
     "data": {
      "text/plain": [
       "'CHEMBL2114'"
      ]
     },
     "execution_count": 6,
     "metadata": {},
     "output_type": "execute_result"
    }
   ],
   "source": [
    "to_string_chembl_id('P49892', engine='ChEMBL', check_form=False, check_database=False)"
   ]
  },
  {
   "cell_type": "markdown",
   "id": "ea3c1709-7189-4aee-8563-816d43b68edf",
   "metadata": {},
   "source": [
    "<div class=\"alert alert-block alert-info\">\n",
    "<b>Did you know...?</b> <br>\n",
    "    The targets associated to a ChEMBL ID can be single proteins, protein complexes or even protein families. That's why a specific protein variant or isoform can have multiple ChEMBL IDs. Strictly speaking, when you ask for the ChEMBL IDs mapped to a UniPROT ID, you are wondering in which target/s -registered in the ChEMBL database- the protein takes part.</div>"
   ]
  },
  {
   "cell_type": "markdown",
   "id": "4e91d220-44a2-49f8-9aac-a5bda3570a59",
   "metadata": {},
   "source": [
    "<div class=\"alert alert-block alert-warning\">\n",
    "<b>See also:</b><br>\n",
    "    The ChEMBL database section, the method to check the target_type.\n",
    "</div>"
   ]
  },
  {
   "cell_type": "markdown",
   "id": "97f21f82-0ed5-4a64-9819-fba4cb4b38be",
   "metadata": {},
   "source": [
    "<div class=\"alert alert-block alert-danger\">\n",
    "<b>Warning:</b> This alert box indicates a dangerous or potentially negative action.\n",
    "</div>"
   ]
  },
  {
   "cell_type": "markdown",
   "id": "542b88e0-dfa9-4d37-9779-81634327066a",
   "metadata": {},
   "source": [
    "<div class=\"alert alert-block alert-success\">\n",
    "<b>Note:</b> This alert box indicates a successful or positive action.\n",
    "</div>"
   ]
  },
  {
   "cell_type": "code",
   "execution_count": null,
   "id": "cefa7343-23a8-4b3d-90a0-0c2ebd606f57",
   "metadata": {},
   "outputs": [],
   "source": []
  },
  {
   "cell_type": "markdown",
   "id": "72e2d435-7c6c-47c1-a036-12f2501b5bd0",
   "metadata": {},
   "source": [
    "## Using the UniPROTKB database resources"
   ]
  },
  {
   "cell_type": "code",
   "execution_count": null,
   "id": "7713d831-9ea5-42d3-9915-e8d73e2e47be",
   "metadata": {},
   "outputs": [],
   "source": []
  }
 ],
 "metadata": {
  "kernelspec": {
   "display_name": "Python 3 (ipykernel)",
   "language": "python",
   "name": "python3"
  },
  "language_info": {
   "codemirror_mode": {
    "name": "ipython",
    "version": 3
   },
   "file_extension": ".py",
   "mimetype": "text/x-python",
   "name": "python",
   "nbconvert_exporter": "python",
   "pygments_lexer": "ipython3",
   "version": "3.7.12"
  }
 },
 "nbformat": 4,
 "nbformat_minor": 5
}
