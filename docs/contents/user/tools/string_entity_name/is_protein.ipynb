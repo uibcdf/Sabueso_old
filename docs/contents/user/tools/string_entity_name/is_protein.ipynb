{
 "cells": [
  {
   "cell_type": "code",
   "execution_count": 1,
   "id": "de15bf53-b53c-4e39-9cd8-057b34827438",
   "metadata": {},
   "outputs": [],
   "source": [
    "%load_ext autoreload\n",
    "%autoreload 2"
   ]
  },
  {
   "cell_type": "markdown",
   "id": "181145aa-b631-403f-b5e8-9a1d7e6d1c2d",
   "metadata": {},
   "source": [
    "# is protein"
   ]
  },
  {
   "cell_type": "code",
   "execution_count": 1,
   "id": "76116c31-2271-42da-b850-1ca81feae73b",
   "metadata": {},
   "outputs": [
    {
     "ename": "ImportError",
     "evalue": "cannot import name 'is_protein' from 'sabueso.tools.string_entity_name' (/home/diego/projects-uibcdf/sabueso/sabueso/tools/string_entity_name/__init__.py)",
     "output_type": "error",
     "traceback": [
      "\u001b[0;31m---------------------------------------------------------------------------\u001b[0m",
      "\u001b[0;31mImportError\u001b[0m                               Traceback (most recent call last)",
      "\u001b[0;32m/tmp/ipykernel_1307391/2381069201.py\u001b[0m in \u001b[0;36m<module>\u001b[0;34m\u001b[0m\n\u001b[0;32m----> 1\u001b[0;31m \u001b[0;32mfrom\u001b[0m \u001b[0msabueso\u001b[0m\u001b[0;34m.\u001b[0m\u001b[0mtools\u001b[0m\u001b[0;34m.\u001b[0m\u001b[0mstring_entity_name\u001b[0m \u001b[0;32mimport\u001b[0m \u001b[0mis_protein\u001b[0m\u001b[0;34m\u001b[0m\u001b[0;34m\u001b[0m\u001b[0m\n\u001b[0m",
      "\u001b[0;31mImportError\u001b[0m: cannot import name 'is_protein' from 'sabueso.tools.string_entity_name' (/home/diego/projects-uibcdf/sabueso/sabueso/tools/string_entity_name/__init__.py)"
     ]
    }
   ],
   "source": [
    "#from sabueso.tools.string_entity_name import is_protein"
   ]
  },
  {
   "cell_type": "code",
   "execution_count": 3,
   "id": "f4daabe0-e661-47ce-ba8a-92539df72280",
   "metadata": {},
   "outputs": [
    {
     "data": {
      "text/plain": [
       "True"
      ]
     },
     "execution_count": 3,
     "metadata": {},
     "output_type": "execute_result"
    }
   ],
   "source": [
    "#is_protein('Hexokinase-1')"
   ]
  },
  {
   "cell_type": "code",
   "execution_count": 4,
   "id": "9783e7b3-c1a5-4d14-95da-6cad3055f4e2",
   "metadata": {},
   "outputs": [
    {
     "data": {
      "text/plain": [
       "False"
      ]
     },
     "execution_count": 4,
     "metadata": {},
     "output_type": "execute_result"
    }
   ],
   "source": [
    "#is_protein('morphine')"
   ]
  },
  {
   "cell_type": "code",
   "execution_count": 5,
   "id": "151c24f5-e2da-4044-b410-94335387159a",
   "metadata": {},
   "outputs": [
    {
     "data": {
      "text/plain": [
       "True"
      ]
     },
     "execution_count": 5,
     "metadata": {},
     "output_type": "execute_result"
    }
   ],
   "source": [
    "#is_protein('mu opioid receptor')"
   ]
  },
  {
   "cell_type": "code",
   "execution_count": 6,
   "id": "08a4049a-aa92-4feb-82fe-828d0be8d6e7",
   "metadata": {},
   "outputs": [
    {
     "data": {
      "text/plain": [
       "False"
      ]
     },
     "execution_count": 6,
     "metadata": {},
     "output_type": "execute_result"
    }
   ],
   "source": [
    "#is_protein('Zinc')"
   ]
  },
  {
   "cell_type": "code",
   "execution_count": null,
   "id": "5d26760d-ebe6-4fda-af4c-bc6a4f2d0905",
   "metadata": {},
   "outputs": [],
   "source": []
  }
 ],
 "metadata": {
  "kernelspec": {
   "display_name": "Python 3 (ipykernel)",
   "language": "python",
   "name": "python3"
  },
  "language_info": {
   "codemirror_mode": {
    "name": "ipython",
    "version": 3
   },
   "file_extension": ".py",
   "mimetype": "text/x-python",
   "name": "python",
   "nbconvert_exporter": "python",
   "pygments_lexer": "ipython3",
   "version": "3.7.10"
  }
 },
 "nbformat": 4,
 "nbformat_minor": 5
}
