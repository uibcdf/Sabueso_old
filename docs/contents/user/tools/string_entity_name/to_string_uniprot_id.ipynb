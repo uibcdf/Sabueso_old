{
 "cells": [
  {
   "cell_type": "code",
   "execution_count": 1,
   "id": "e2f860a4-7796-438c-b3d6-a8e4099f2b26",
   "metadata": {},
   "outputs": [],
   "source": [
    "%load_ext autoreload\n",
    "%autoreload 2"
   ]
  },
  {
   "cell_type": "markdown",
   "id": "7ebd181d-dd66-4bb3-a7a5-6644fe04f7d7",
   "metadata": {},
   "source": [
    "# to string uniprot id"
   ]
  },
  {
   "cell_type": "code",
   "execution_count": 2,
   "id": "8c0e8a89-ea7a-4815-be75-f2b149d382ca",
   "metadata": {},
   "outputs": [],
   "source": [
    "#from sabueso.tools.string_entity_name import to_string_uniprot_id"
   ]
  },
  {
   "cell_type": "code",
   "execution_count": 3,
   "id": "338b9f09-b44d-4599-a89b-a43c76d8738d",
   "metadata": {},
   "outputs": [],
   "source": [
    "#aa = to_string_uniprot_id('hexokinase-1')"
   ]
  },
  {
   "cell_type": "code",
   "execution_count": 4,
   "id": "9dbc00fe-9ed1-4b4a-9024-7331eda1b04e",
   "metadata": {},
   "outputs": [
    {
     "data": {
      "text/plain": [
       "['P17710',\n",
       " 'P05708',\n",
       " 'P04806',\n",
       " 'Q09756',\n",
       " 'Q42525',\n",
       " 'P19367',\n",
       " 'P27595',\n",
       " 'O64390',\n",
       " 'Q5RC71']"
      ]
     },
     "execution_count": 4,
     "metadata": {},
     "output_type": "execute_result"
    }
   ],
   "source": [
    "#aa"
   ]
  },
  {
   "cell_type": "code",
   "execution_count": 5,
   "id": "4681c4d3-353e-4259-84e0-d538346d128e",
   "metadata": {},
   "outputs": [
    {
     "ename": "ValueError",
     "evalue": "The string entity name is not a protein",
     "output_type": "error",
     "traceback": [
      "\u001b[0;31m---------------------------------------------------------------------------\u001b[0m",
      "\u001b[0;31mValueError\u001b[0m                                Traceback (most recent call last)",
      "\u001b[0;32m/tmp/ipykernel_3271384/2097234505.py\u001b[0m in \u001b[0;36m<module>\u001b[0;34m\u001b[0m\n\u001b[0;32m----> 1\u001b[0;31m \u001b[0mto_string_uniprot_id\u001b[0m\u001b[0;34m(\u001b[0m\u001b[0;34m'morphine'\u001b[0m\u001b[0;34m)\u001b[0m\u001b[0;34m\u001b[0m\u001b[0;34m\u001b[0m\u001b[0m\n\u001b[0m",
      "\u001b[0;32m~/projects_uibcdf/sabueso/sabueso/tools/string_entity_name/to_string_uniprot_id.py\u001b[0m in \u001b[0;36mto_string_uniprot_id\u001b[0;34m(item, max_results)\u001b[0m\n\u001b[1;32m     35\u001b[0m \u001b[0;34m\u001b[0m\u001b[0m\n\u001b[1;32m     36\u001b[0m     \u001b[0;32mif\u001b[0m \u001b[0mlen\u001b[0m\u001b[0;34m(\u001b[0m\u001b[0moutput\u001b[0m\u001b[0;34m)\u001b[0m\u001b[0;34m==\u001b[0m\u001b[0;36m0\u001b[0m\u001b[0;34m:\u001b[0m\u001b[0;34m\u001b[0m\u001b[0;34m\u001b[0m\u001b[0m\n\u001b[0;32m---> 37\u001b[0;31m         \u001b[0;32mraise\u001b[0m \u001b[0mValueError\u001b[0m\u001b[0;34m(\u001b[0m\u001b[0;34m'The string entity name is not a protein'\u001b[0m\u001b[0;34m)\u001b[0m\u001b[0;34m\u001b[0m\u001b[0;34m\u001b[0m\u001b[0m\n\u001b[0m\u001b[1;32m     38\u001b[0m \u001b[0;34m\u001b[0m\u001b[0m\n\u001b[1;32m     39\u001b[0m     \u001b[0;32mif\u001b[0m \u001b[0mlen\u001b[0m\u001b[0;34m(\u001b[0m\u001b[0moutput\u001b[0m\u001b[0;34m)\u001b[0m\u001b[0;34m==\u001b[0m\u001b[0;36m1\u001b[0m\u001b[0;34m:\u001b[0m\u001b[0;34m\u001b[0m\u001b[0;34m\u001b[0m\u001b[0m\n",
      "\u001b[0;31mValueError\u001b[0m: The string entity name is not a protein"
     ]
    }
   ],
   "source": [
    "#to_string_uniprot_id('morphine')"
   ]
  },
  {
   "cell_type": "code",
   "execution_count": 6,
   "id": "4686f144-842a-41af-815c-c0bdd50edc72",
   "metadata": {},
   "outputs": [
    {
     "data": {
      "text/plain": [
       "'P35372'"
      ]
     },
     "execution_count": 6,
     "metadata": {},
     "output_type": "execute_result"
    }
   ],
   "source": [
    "#to_string_uniprot_id('mu opioid receptor')"
   ]
  },
  {
   "cell_type": "code",
   "execution_count": null,
   "id": "4a6c6566-770f-4335-aab0-6537057cd5b1",
   "metadata": {},
   "outputs": [],
   "source": []
  }
 ],
 "metadata": {
  "kernelspec": {
   "display_name": "Python 3 (ipykernel)",
   "language": "python",
   "name": "python3"
  },
  "language_info": {
   "codemirror_mode": {
    "name": "ipython",
    "version": 3
   },
   "file_extension": ".py",
   "mimetype": "text/x-python",
   "name": "python",
   "nbconvert_exporter": "python",
   "pygments_lexer": "ipython3",
   "version": "3.7.10"
  }
 },
 "nbformat": 4,
 "nbformat_minor": 5
}
