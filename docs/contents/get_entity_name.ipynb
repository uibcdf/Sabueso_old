{
 "cells": [
  {
   "cell_type": "markdown",
   "id": "d394742d-edf6-4a1d-a0c8-8b5bb68d6adc",
   "metadata": {},
   "source": [
    "# get_entity_name"
   ]
  },
  {
   "cell_type": "code",
   "execution_count": 1,
   "id": "2e458e22-79cd-47cd-b2b4-a28b1b5c4488",
   "metadata": {},
   "outputs": [],
   "source": [
    "import sabueso as sab"
   ]
  },
  {
   "cell_type": "code",
   "execution_count": null,
   "id": "3ea35915-c6e0-478d-8e4b-98a9f9d9321a",
   "metadata": {},
   "outputs": [],
   "source": [
    "sab.get_entity_name('P19367')"
   ]
  },
  {
   "cell_type": "code",
   "execution_count": 3,
   "id": "b67510b8-e85b-4667-9bec-ecbb79c7b1a4",
   "metadata": {},
   "outputs": [],
   "source": [
    "import pint"
   ]
  },
  {
   "cell_type": "code",
   "execution_count": 17,
   "id": "436d4b10-2cb8-42a4-8e8f-b7dda6d9f536",
   "metadata": {},
   "outputs": [],
   "source": [
    "aa = [pint.Quantity(1.0, 'm')]"
   ]
  },
  {
   "cell_type": "code",
   "execution_count": 7,
   "id": "f893cf7a-9637-4e4d-8861-8391d4326fc2",
   "metadata": {},
   "outputs": [
    {
     "data": {
      "text/plain": [
       "pint.quantity.Quantity"
      ]
     },
     "execution_count": 7,
     "metadata": {},
     "output_type": "execute_result"
    }
   ],
   "source": [
    "type(aa)"
   ]
  },
  {
   "cell_type": "code",
   "execution_count": 15,
   "id": "ab3192f4-0d8a-4508-a679-511c0ea1afe8",
   "metadata": {},
   "outputs": [
    {
     "data": {
      "text/plain": [
       "b'1.0 meter'"
      ]
     },
     "execution_count": 15,
     "metadata": {},
     "output_type": "execute_result"
    }
   ],
   "source": [
    "str(aa).encode(locale.getpreferredencoding())"
   ]
  },
  {
   "cell_type": "code",
   "execution_count": 18,
   "id": "50172638-285c-49b2-b878-0f80a01dd116",
   "metadata": {},
   "outputs": [
    {
     "data": {
      "text/plain": [
       "[1.0 <Unit('meter')>]"
      ]
     },
     "execution_count": 18,
     "metadata": {},
     "output_type": "execute_result"
    }
   ],
   "source": [
    "aa"
   ]
  },
  {
   "cell_type": "code",
   "execution_count": null,
   "id": "41d2d4d6-a109-4a26-890a-b7421ca480ba",
   "metadata": {},
   "outputs": [],
   "source": []
  }
 ],
 "metadata": {
  "kernelspec": {
   "display_name": "Python 3 (ipykernel)",
   "language": "python",
   "name": "python3"
  },
  "language_info": {
   "codemirror_mode": {
    "name": "ipython",
    "version": 3
   },
   "file_extension": ".py",
   "mimetype": "text/x-python",
   "name": "python",
   "nbconvert_exporter": "python",
   "pygments_lexer": "ipython3",
   "version": "3.7.10"
  }
 },
 "nbformat": 4,
 "nbformat_minor": 5
}
