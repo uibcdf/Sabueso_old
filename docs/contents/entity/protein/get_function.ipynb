{
 "cells": [
  {
   "cell_type": "code",
   "execution_count": 1,
   "id": "2648ae3c-1b56-4b00-92d8-35c84a516250",
   "metadata": {},
   "outputs": [],
   "source": [
    "%load_ext autoreload\n",
    "%autoreload 2"
   ]
  },
  {
   "cell_type": "markdown",
   "id": "b135a11c-eb19-4fbd-9da3-33a729b27cc7",
   "metadata": {},
   "source": [
    "# Get function"
   ]
  },
  {
   "cell_type": "code",
   "execution_count": 2,
   "id": "38277705-9029-4906-a8ce-451411ada7d9",
   "metadata": {},
   "outputs": [],
   "source": [
    "from sabueso.protein import get_function"
   ]
  },
  {
   "cell_type": "code",
   "execution_count": 6,
   "id": "d832afd3-15d9-4c72-ba71-42223afbf16f",
   "metadata": {},
   "outputs": [],
   "source": [
    "function = get_function('P19367')"
   ]
  },
  {
   "cell_type": "code",
   "execution_count": 7,
   "id": "2f9b32a0-2c6a-424d-8796-8ccc9d5ee81b",
   "metadata": {},
   "outputs": [
    {
     "data": {
      "text/plain": [
       "<ProteinFunctionCard: HXK1_HUMAN <UniProtKB: P19367>>"
      ]
     },
     "execution_count": 7,
     "metadata": {},
     "output_type": "execute_result"
    }
   ],
   "source": [
    "function"
   ]
  },
  {
   "cell_type": "code",
   "execution_count": 5,
   "id": "0115bf58-1bba-4b05-ba1a-c88533fe1ce4",
   "metadata": {},
   "outputs": [
    {
     "data": {
      "text/markdown": [
       "# **Function Card** (*Hexokinase-1, Human*)"
      ],
      "text/plain": [
       "<IPython.core.display.Markdown object>"
      ]
     },
     "metadata": {},
     "output_type": "display_data"
    },
    {
     "data": {
      "text/markdown": [
       "### UniProtKB function\n",
       "\n",
       "[Catalyzes the phosphorylation of various hexoses, such as D-glucose, D-glucosamine, D-fructose, D-mannose and 2-deoxy-D-glucose, to hexose 6-phosphate (D-glucose 6-phosphate, D-glucosamine 6-phosphate, D-fructose 6-phosphate, D-mannose 6-phosphate and 2-deoxy-D-glucose 6-phosphate, respectively) (PubMed:1637300, PubMed:25316723, PubMed:27374331). Does not phosphorylate N-acetyl-D-glucosamine (PubMed:27374331). Mediates the initial step of glycolysis by catalyzing phosphorylation of D-glucose to D-glucose 6-phosphate (By similarity). Involved in innate immunity and inflammation by acting as a pattern recognition receptor for bacterial peptidoglycan (PubMed:27374331). When released in the cytosol, N-acetyl-D-glucosamine component of bacterial peptidoglycan inhibits the hexokinase activity of HK1 and causes its dissociation from mitochondrial outer membrane, thereby activating the NLRP3 inflammasome (PubMed:27374331). <5 refs.>]\n",
       "\n",
       "[]\n",
       "\n",
       "[<UniProtKB: P05708>, <PubMed: 1637300>, <PubMed: 25316723>, <PubMed: 27374331>, <UniProtKB: P19367>]\n"
      ],
      "text/plain": [
       "<IPython.core.display.Markdown object>"
      ]
     },
     "metadata": {},
     "output_type": "display_data"
    }
   ],
   "source": [
    "get_function('P19367').show()"
   ]
  },
  {
   "cell_type": "code",
   "execution_count": null,
   "id": "00b153bb-aa4c-406e-94e0-4fafc72c2bcb",
   "metadata": {},
   "outputs": [],
   "source": []
  }
 ],
 "metadata": {
  "kernelspec": {
   "display_name": "Python 3 (ipykernel)",
   "language": "python",
   "name": "python3"
  },
  "language_info": {
   "codemirror_mode": {
    "name": "ipython",
    "version": 3
   },
   "file_extension": ".py",
   "mimetype": "text/x-python",
   "name": "python",
   "nbconvert_exporter": "python",
   "pygments_lexer": "ipython3",
   "version": "3.7.10"
  }
 },
 "nbformat": 4,
 "nbformat_minor": 5
}
