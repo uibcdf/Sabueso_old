{
 "cells": [
  {
   "cell_type": "code",
   "execution_count": 1,
   "id": "2648ae3c-1b56-4b00-92d8-35c84a516250",
   "metadata": {},
   "outputs": [],
   "source": [
    "%load_ext autoreload\n",
    "%autoreload 2"
   ]
  },
  {
   "cell_type": "markdown",
   "id": "b135a11c-eb19-4fbd-9da3-33a729b27cc7",
   "metadata": {},
   "source": [
    "# Get function"
   ]
  },
  {
   "cell_type": "code",
   "execution_count": 2,
   "id": "38277705-9029-4906-a8ce-451411ada7d9",
   "metadata": {},
   "outputs": [],
   "source": [
    "from sabueso.protein import get_function"
   ]
  },
  {
   "cell_type": "code",
   "execution_count": 3,
   "id": "0115bf58-1bba-4b05-ba1a-c88533fe1ce4",
   "metadata": {},
   "outputs": [
    {
     "ename": "ImportError",
     "evalue": "cannot import name 'is_uniprotkb_XMLDict' from 'sabueso.tools.uniprotkb_XMLDict' (/home/diego/projects_uibcdf/sabueso/sabueso/tools/uniprotkb_XMLDict/__init__.py)",
     "output_type": "error",
     "traceback": [
      "\u001b[0;31m---------------------------------------------------------------------------\u001b[0m",
      "\u001b[0;31mImportError\u001b[0m                               Traceback (most recent call last)",
      "\u001b[0;32m/tmp/ipykernel_3131239/723450854.py\u001b[0m in \u001b[0;36m<module>\u001b[0;34m\u001b[0m\n\u001b[0;32m----> 1\u001b[0;31m \u001b[0mget_function\u001b[0m\u001b[0;34m(\u001b[0m\u001b[0;34m'P19367'\u001b[0m\u001b[0;34m)\u001b[0m\u001b[0;34m\u001b[0m\u001b[0;34m\u001b[0m\u001b[0m\n\u001b[0m",
      "\u001b[0;32m~/projects_uibcdf/sabueso/sabueso/protein/get_function.py\u001b[0m in \u001b[0;36mget_function\u001b[0;34m(protein)\u001b[0m\n\u001b[1;32m      3\u001b[0m \u001b[0;34m\u001b[0m\u001b[0m\n\u001b[1;32m      4\u001b[0m     \u001b[0;32mfrom\u001b[0m \u001b[0msabueso\u001b[0m\u001b[0;34m.\u001b[0m\u001b[0mcards\u001b[0m\u001b[0;34m.\u001b[0m\u001b[0mprotein\u001b[0m\u001b[0;34m.\u001b[0m\u001b[0mfunction\u001b[0m \u001b[0;32mimport\u001b[0m \u001b[0mFunctionCard\u001b[0m\u001b[0;34m\u001b[0m\u001b[0;34m\u001b[0m\u001b[0m\n\u001b[0;32m----> 5\u001b[0;31m     \u001b[0;32mfrom\u001b[0m \u001b[0msabueso\u001b[0m\u001b[0;34m.\u001b[0m\u001b[0mtools\u001b[0m\u001b[0;34m.\u001b[0m\u001b[0muniprotkb_XMLDict\u001b[0m \u001b[0;32mimport\u001b[0m \u001b[0mis_uniprotkb_XMLDict\u001b[0m\u001b[0;34m\u001b[0m\u001b[0;34m\u001b[0m\u001b[0m\n\u001b[0m\u001b[1;32m      6\u001b[0m     \u001b[0;32mfrom\u001b[0m \u001b[0msabueso\u001b[0m\u001b[0;34m.\u001b[0m\u001b[0mtools\u001b[0m\u001b[0;34m.\u001b[0m\u001b[0muniprotkb_XMLDict\u001b[0m \u001b[0;32mimport\u001b[0m \u001b[0mget_uniprotkb_XMLDict\u001b[0m\u001b[0;34m\u001b[0m\u001b[0;34m\u001b[0m\u001b[0m\n\u001b[1;32m      7\u001b[0m     \u001b[0;32mfrom\u001b[0m \u001b[0msabueso\u001b[0m\u001b[0;34m.\u001b[0m\u001b[0mtools\u001b[0m\u001b[0;34m.\u001b[0m\u001b[0muniprotkb_XMLDict\u001b[0m \u001b[0;32mimport\u001b[0m \u001b[0mget_name\u001b[0m \u001b[0;32mas\u001b[0m \u001b[0mget_name_from_uniprotkb_XMLDict\u001b[0m\u001b[0;34m\u001b[0m\u001b[0;34m\u001b[0m\u001b[0m\n",
      "\u001b[0;31mImportError\u001b[0m: cannot import name 'is_uniprotkb_XMLDict' from 'sabueso.tools.uniprotkb_XMLDict' (/home/diego/projects_uibcdf/sabueso/sabueso/tools/uniprotkb_XMLDict/__init__.py)"
     ]
    }
   ],
   "source": [
    "get_function('P19367')"
   ]
  },
  {
   "cell_type": "code",
   "execution_count": null,
   "id": "7aedee8a-1294-4eef-8c44-17bb4fdf0cf3",
   "metadata": {},
   "outputs": [],
   "source": []
  }
 ],
 "metadata": {
  "kernelspec": {
   "display_name": "Python 3 (ipykernel)",
   "language": "python",
   "name": "python3"
  },
  "language_info": {
   "codemirror_mode": {
    "name": "ipython",
    "version": 3
   },
   "file_extension": ".py",
   "mimetype": "text/x-python",
   "name": "python",
   "nbconvert_exporter": "python",
   "pygments_lexer": "ipython3",
   "version": "3.7.10"
  }
 },
 "nbformat": 4,
 "nbformat_minor": 5
}
