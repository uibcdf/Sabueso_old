{
 "cells": [
  {
   "cell_type": "code",
   "execution_count": null,
   "id": "2648ae3c-1b56-4b00-92d8-35c84a516250",
   "metadata": {},
   "outputs": [],
   "source": [
    "%load_ext autoreload\n",
    "%autoreload 2"
   ]
  },
  {
   "cell_type": "markdown",
   "id": "b135a11c-eb19-4fbd-9da3-33a729b27cc7",
   "metadata": {},
   "source": [
    "# Get function"
   ]
  },
  {
   "cell_type": "code",
   "execution_count": null,
   "id": "38277705-9029-4906-a8ce-451411ada7d9",
   "metadata": {},
   "outputs": [],
   "source": [
    "from sabueso.protein import get_function"
   ]
  },
  {
   "cell_type": "code",
   "execution_count": null,
   "id": "0115bf58-1bba-4b05-ba1a-c88533fe1ce4",
   "metadata": {},
   "outputs": [],
   "source": [
    "function = get_function('P19367')"
   ]
  },
  {
   "cell_type": "code",
   "execution_count": null,
   "id": "b753c954-50d5-4a89-8a83-4a6bae566584",
   "metadata": {},
   "outputs": [],
   "source": [
    "aa = function.show()"
   ]
  },
  {
   "cell_type": "code",
   "execution_count": null,
   "id": "c1e3cd13-56af-4c41-ab55-70c94ea91064",
   "metadata": {},
   "outputs": [],
   "source": [
    "aa['cells'][0]"
   ]
  },
  {
   "cell_type": "code",
   "execution_count": null,
   "id": "7aedee8a-1294-4eef-8c44-17bb4fdf0cf3",
   "metadata": {},
   "outputs": [],
   "source": [
    "function.uniprot_function"
   ]
  },
  {
   "cell_type": "code",
   "execution_count": null,
   "id": "1d086c43-c804-4a65-8395-f25b35474786",
   "metadata": {},
   "outputs": [],
   "source": [
    "function.to_pandas_DataFrame().T"
   ]
  },
  {
   "cell_type": "code",
   "execution_count": null,
   "id": "623ec787-1b51-40db-a92e-c4f26e386f17",
   "metadata": {},
   "outputs": [],
   "source": [
    "def create_new_cell(contents):\n",
    "    from IPython.core.getipython import get_ipython\n",
    "    shell = get_ipython()\n",
    "    shell.set_next_input(contents, replace=False)"
   ]
  },
  {
   "cell_type": "code",
   "execution_count": null,
   "id": "a29c0a3f-7384-4653-9bc5-9f46d9432ded",
   "metadata": {},
   "outputs": [],
   "source": [
    "create_new_cell(aa['cells'][0]['source'])"
   ]
  },
  {
   "cell_type": "code",
   "execution_count": null,
   "id": "7dd534e1-7bc1-4d4f-8e64-1ea99ef1f759",
   "metadata": {},
   "outputs": [],
   "source": [
    "# **Function Card** (*Hexokinase-1, Human*)"
   ]
  },
  {
   "cell_type": "code",
   "execution_count": null,
   "id": "267fe4ec-db75-491f-89d7-24a0312c0a65",
   "metadata": {},
   "outputs": [],
   "source": {
    "cell_type": "markdown",
    "id": "2a90d17e",
    "metadata": {},
    "source": "# **Function Card** (*Hexokinase-1, Human*)"
   }
  },
  {
   "cell_type": "code",
   "execution_count": 2,
   "id": "eb72bb7f-a238-4332-9b0c-7120fc6f9d30",
   "metadata": {},
   "outputs": [
    {
     "ename": "SyntaxError",
     "evalue": "invalid syntax (3255292900.py, line 1)",
     "output_type": "error",
     "traceback": [
      "\u001b[0;36m  File \u001b[0;32m\"/tmp/ipykernel_3366848/3255292900.py\"\u001b[0;36m, line \u001b[0;32m1\u001b[0m\n\u001b[0;31m    from IPython.core.getipython import get_ipython[object Object],[object Object]\u001b[0m\n\u001b[0m                                                   ^\u001b[0m\n\u001b[0;31mSyntaxError\u001b[0m\u001b[0;31m:\u001b[0m invalid syntax\n"
     ]
    }
   ],
   "source": [
    "from IPython.core.getipython import get_ipython[object Object],[object Object]"
   ]
  },
  {
   "cell_type": "code",
   "execution_count": null,
   "id": "9becb480-50c1-44db-b4e4-38e1c49e06f5",
   "metadata": {},
   "outputs": [],
   "source": {
    "cells": [
     {
      "cell_type": "markdown",
      "id": "2a90d17e",
      "metadata": {},
      "source": "# **Function Card** (*Hexokinase-1, Human*)"
     },
     {
      "cell_type": "markdown",
      "id": "24204d88",
      "metadata": {},
      "source": "### UniProtKB function\n\n[Catalyzes the phosphorylation of various hexoses, such as D-glucose, D-glucosamine, D-fructose, D-mannose and 2-deoxy-D-glucose, to hexose 6-phosphate (D-glucose 6-phosphate, D-glucosamine 6-phosphate, D-fructose 6-phosphate, D-mannose 6-phosphate and 2-deoxy-D-glucose 6-phosphate, respectively) (PubMed:1637300, PubMed:25316723, PubMed:27374331). Does not phosphorylate N-acetyl-D-glucosamine (PubMed:27374331). Mediates the initial step of glycolysis by catalyzing phosphorylation of D-glucose to D-glucose 6-phosphate (By similarity). Involved in innate immunity and inflammation by acting as a pattern recognition receptor for bacterial peptidoglycan (PubMed:27374331). When released in the cytosol, N-acetyl-D-glucosamine component of bacterial peptidoglycan inhibits the hexokinase activity of HK1 and causes its dissociation from mitochondrial outer membrane, thereby activating the NLRP3 inflammasome (PubMed:27374331). <5 refs.>]\n\n[]\n\n[<UniProtKB: P05708>, <PubMed: 1637300>, <PubMed: 25316723>, <PubMed: 27374331>, <UniProtKB: P19367>]\n"
     }
    ],
    "metadata": {},
    "nbformat": 4,
    "nbformat_minor": 5
   }
  },
  {
   "cell_type": "code",
   "execution_count": null,
   "id": "8839777f-b605-45b5-b256-bea7da4857b4",
   "metadata": {},
   "outputs": [],
   "source": [
    "c"
   ]
  },
  {
   "cell_type": "code",
   "execution_count": null,
   "id": "aa0bd2f7-69f9-4140-b89d-2e3b46cb79b6",
   "metadata": {},
   "outputs": [],
   "source": [
    "a"
   ]
  },
  {
   "cell_type": "code",
   "execution_count": null,
   "id": "dcb2b2d8-4750-4e04-b39b-40cbba47bfcf",
   "metadata": {},
   "outputs": [],
   "source": [
    "a"
   ]
  },
  {
   "cell_type": "code",
   "execution_count": null,
   "id": "47e6b7e8-5914-48e7-8e6f-6d8d8a0576be",
   "metadata": {},
   "outputs": [],
   "source": [
    "a"
   ]
  },
  {
   "cell_type": "code",
   "execution_count": null,
   "id": "5835657c-b9a6-49ce-b163-0e0e08ecb513",
   "metadata": {},
   "outputs": [],
   "source": [
    "c"
   ]
  },
  {
   "cell_type": "code",
   "execution_count": null,
   "id": "39688d2b-2cf1-4554-a096-754fae2846be",
   "metadata": {},
   "outputs": [],
   "source": [
    "def create_new_cell(contents):\n",
    "    from IPython.core.getipython import get_ipython\n",
    "    shell = get_ipython()\n",
    "\n",
    "    payload = dict(\n",
    "        source='set_next_input',\n",
    "        text=contents,\n",
    "        replace=False,\n",
    "    )\n",
    "    shell.payload_manager.write_payload(payload, single=False)"
   ]
  },
  {
   "cell_type": "code",
   "execution_count": null,
   "id": "9b7513bb-ea96-4704-997a-e6b5a5444aa1",
   "metadata": {},
   "outputs": [],
   "source": []
  }
 ],
 "metadata": {
  "kernelspec": {
   "display_name": "Python 3 (ipykernel)",
   "language": "python",
   "name": "python3"
  },
  "language_info": {
   "codemirror_mode": {
    "name": "ipython",
    "version": 3
   },
   "file_extension": ".py",
   "mimetype": "text/x-python",
   "name": "python",
   "nbconvert_exporter": "python",
   "pygments_lexer": "ipython3",
   "version": "3.7.10"
  }
 },
 "nbformat": 4,
 "nbformat_minor": 5
}
