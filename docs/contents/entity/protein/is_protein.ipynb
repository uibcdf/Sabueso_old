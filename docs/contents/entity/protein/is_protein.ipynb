{
 "cells": [
  {
   "cell_type": "code",
   "execution_count": 1,
   "id": "b1833c7f-0d26-4788-bb3e-3af8e2bf1119",
   "metadata": {},
   "outputs": [],
   "source": [
    "%load_ext autoreload\n",
    "%autoreload 2"
   ]
  },
  {
   "cell_type": "markdown",
   "id": "46aa9c7b-e6cd-4030-8493-d6a92dbb39aa",
   "metadata": {},
   "source": [
    "# Is protein"
   ]
  },
  {
   "cell_type": "code",
   "execution_count": 2,
   "id": "f430b296-1e43-4df7-8304-b5b0686be1f3",
   "metadata": {},
   "outputs": [],
   "source": [
    "from sabueso.protein import is_protein"
   ]
  },
  {
   "cell_type": "code",
   "execution_count": 3,
   "id": "8617c7de-7344-48ba-83e8-bb08a2475838",
   "metadata": {},
   "outputs": [
    {
     "data": {
      "text/plain": [
       "True"
      ]
     },
     "execution_count": 3,
     "metadata": {},
     "output_type": "execute_result"
    }
   ],
   "source": [
    "is_protein('P19367')"
   ]
  },
  {
   "cell_type": "code",
   "execution_count": 4,
   "id": "542cf420-b72a-4cbf-8e07-a7f156c4c8d9",
   "metadata": {},
   "outputs": [
    {
     "data": {
      "text/plain": [
       "True"
      ]
     },
     "execution_count": 4,
     "metadata": {},
     "output_type": "execute_result"
    }
   ],
   "source": [
    "is_protein('uniprot_id:P19367')"
   ]
  },
  {
   "cell_type": "code",
   "execution_count": 6,
   "id": "5ce1d2f7-b878-4f74-8108-cd7c86f6d900",
   "metadata": {},
   "outputs": [],
   "source": [
    "#is_protein({'name':'hexoquinase 1', 'organism':'human'})"
   ]
  },
  {
   "cell_type": "code",
   "execution_count": 7,
   "id": "9a6a139e-922f-481c-8985-9d07a139c8a3",
   "metadata": {},
   "outputs": [],
   "source": [
    "#is_protein('Hexokinase-1')"
   ]
  },
  {
   "cell_type": "code",
   "execution_count": null,
   "id": "0dc2b8ae-8f63-4b23-8100-aa78c7bdf2c7",
   "metadata": {},
   "outputs": [],
   "source": []
  }
 ],
 "metadata": {
  "kernelspec": {
   "display_name": "Python 3 (ipykernel)",
   "language": "python",
   "name": "python3"
  },
  "language_info": {
   "codemirror_mode": {
    "name": "ipython",
    "version": 3
   },
   "file_extension": ".py",
   "mimetype": "text/x-python",
   "name": "python",
   "nbconvert_exporter": "python",
   "pygments_lexer": "ipython3",
   "version": "3.7.10"
  }
 },
 "nbformat": 4,
 "nbformat_minor": 5
}
