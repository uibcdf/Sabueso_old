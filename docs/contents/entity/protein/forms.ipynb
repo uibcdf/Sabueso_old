{
 "cells": [
  {
   "cell_type": "markdown",
   "id": "984d8bdb-46c8-49ee-89e7-fb21a45b967f",
   "metadata": {},
   "source": [
    "# Protein forms"
   ]
  },
  {
   "cell_type": "markdown",
   "id": "1855481a-2abe-4c8b-91af-cf22b248fd9e",
   "metadata": {},
   "source": [
    "## uniprot_id\n",
    "\n",
    "UniProtKB accession string"
   ]
  },
  {
   "cell_type": "markdown",
   "id": "4aaf492b-3958-4ee0-857c-7984fb9c7ea0",
   "metadata": {},
   "source": [
    "## ProteinDict\n",
    "\n",
    "Native protein dictionary"
   ]
  },
  {
   "cell_type": "code",
   "execution_count": null,
   "id": "5e703f04-6131-40ea-82d5-29e6a7416aef",
   "metadata": {},
   "outputs": [],
   "source": [
    "protein = {'name': 'hexokinase 1', 'organism': 'human'}"
   ]
  },
  {
   "cell_type": "code",
   "execution_count": null,
   "id": "0d602b5f-7216-4779-ac45-46b8f0db9726",
   "metadata": {},
   "outputs": [],
   "source": [
    "protein = {'name': 'hexokinase 1', 'organism': 'human', 'isoform': 'common'}"
   ]
  }
 ],
 "metadata": {
  "kernelspec": {
   "display_name": "Python 3 (ipykernel)",
   "language": "python",
   "name": "python3"
  },
  "language_info": {
   "codemirror_mode": {
    "name": "ipython",
    "version": 3
   },
   "file_extension": ".py",
   "mimetype": "text/x-python",
   "name": "python",
   "nbconvert_exporter": "python",
   "pygments_lexer": "ipython3",
   "version": "3.7.10"
  }
 },
 "nbformat": 4,
 "nbformat_minor": 5
}
