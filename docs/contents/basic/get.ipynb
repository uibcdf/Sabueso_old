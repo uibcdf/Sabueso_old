{
 "cells": [
  {
   "cell_type": "code",
   "execution_count": 1,
   "id": "7621c84b-538f-4e24-a3a8-691e098d8e8a",
   "metadata": {},
   "outputs": [],
   "source": [
    "%load_ext autoreload\n",
    "%autoreload 2"
   ]
  },
  {
   "cell_type": "markdown",
   "id": "d394742d-edf6-4a1d-a0c8-8b5bb68d6adc",
   "metadata": {},
   "source": [
    "# get"
   ]
  },
  {
   "cell_type": "code",
   "execution_count": 2,
   "id": "2e458e22-79cd-47cd-b2b4-a28b1b5c4488",
   "metadata": {},
   "outputs": [],
   "source": [
    "import sabueso as sab"
   ]
  },
  {
   "cell_type": "code",
   "execution_count": 3,
   "id": "9660eaf8-c59a-46d4-a7ad-10e8f52d40fd",
   "metadata": {},
   "outputs": [
    {
     "data": {
      "text/plain": [
       "'string:uniprot_id'"
      ]
     },
     "execution_count": 3,
     "metadata": {},
     "output_type": "execute_result"
    }
   ],
   "source": [
    "sab.get_form('P19367')"
   ]
  },
  {
   "cell_type": "code",
   "execution_count": 4,
   "id": "2a150d8d-7e32-41ea-a503-278b17fa9278",
   "metadata": {},
   "outputs": [
    {
     "data": {
      "text/plain": [
       "'string:uniprot_id'"
      ]
     },
     "execution_count": 4,
     "metadata": {},
     "output_type": "execute_result"
    }
   ],
   "source": [
    "sab.get_form('P19367')"
   ]
  },
  {
   "cell_type": "code",
   "execution_count": 6,
   "id": "3ea35915-c6e0-478d-8e4b-98a9f9d9321a",
   "metadata": {},
   "outputs": [],
   "source": [
    "#salida = sab.get('P19367', entity_name=True)"
   ]
  },
  {
   "cell_type": "code",
   "execution_count": 7,
   "id": "41d2d4d6-a109-4a26-890a-b7421ca480ba",
   "metadata": {},
   "outputs": [],
   "source": [
    "#salida"
   ]
  },
  {
   "cell_type": "code",
   "execution_count": null,
   "id": "5e0beb01-c1a5-4a96-88f3-f7a4ba1b2cb4",
   "metadata": {},
   "outputs": [],
   "source": []
  }
 ],
 "metadata": {
  "kernelspec": {
   "display_name": "Python 3 (ipykernel)",
   "language": "python",
   "name": "python3"
  },
  "language_info": {
   "codemirror_mode": {
    "name": "ipython",
    "version": 3
   },
   "file_extension": ".py",
   "mimetype": "text/x-python",
   "name": "python",
   "nbconvert_exporter": "python",
   "pygments_lexer": "ipython3",
   "version": "3.7.10"
  }
 },
 "nbformat": 4,
 "nbformat_minor": 5
}
