{
 "cells": [
  {
   "cell_type": "code",
   "execution_count": 1,
   "id": "6a5ea511-b81d-40ad-89e2-f0e2d5248ab8",
   "metadata": {},
   "outputs": [],
   "source": [
    "%load_ext autoreload\n",
    "%autoreload 2"
   ]
  },
  {
   "cell_type": "markdown",
   "id": "c7520dec-146a-465e-85a2-88b91d761648",
   "metadata": {},
   "source": [
    "# missing info"
   ]
  },
  {
   "cell_type": "code",
   "execution_count": 2,
   "id": "e85a9ef8-8774-4aae-96f8-23683a494acf",
   "metadata": {},
   "outputs": [],
   "source": [
    "from sabueso.tools.string_uniprot import to_uniprotkb_XMLDict\n",
    "from sabueso.tools.uniprotkb_XMLDict import missing_info"
   ]
  },
  {
   "cell_type": "code",
   "execution_count": 3,
   "id": "7d01f99b-5857-4f79-8d27-4b43b0dae986",
   "metadata": {},
   "outputs": [],
   "source": [
    "item = to_uniprotkb_XMLDict('uniprot:P19367')\n",
    "#item = to_uniprotkb_XMLDict('uniprot:P52789')\n",
    "#item = to_uniprotkb_XMLDict('uniprot:P52790')\n",
    "#item = to_uniprotkb_XMLDict('uniprot:P35557')\n",
    "#item = to_uniprotkb_XMLDict('uniprot:P54254')\n",
    "#item = to_uniprotkb_XMLDict('uniprot:Q9FFX4')"
   ]
  },
  {
   "cell_type": "code",
   "execution_count": 8,
   "id": "87715d18-a59c-4ec7-b809-a0803d034f2a",
   "metadata": {},
   "outputs": [
    {
     "name": "stdout",
     "output_type": "stream",
     "text": [
      "item[\"uniprot\"][\"entry\"][\"gene\"]\n",
      "item[\"uniprot\"][\"entry\"][\"reference\"]\n",
      "item[\"uniprot\"][\"entry\"][\"comment\"][ii][\"@type\"]:disease\n",
      "item[\"uniprot\"][\"entry\"][\"comment\"][ii][\"@type\"]:similarity\n",
      "item[\"uniprot\"][\"entry\"][\"comment\"][ii][\"@type\"]:caution\n",
      "item[\"uniprot\"][\"entry\"][\"comment\"][ii][\"@type\"]:online information\n",
      "item[\"uniprot\"][\"entry\"][\"dbReference\"]\n",
      "item[\"uniprot\"][\"entry\"][\"proteinExistence\"]\n",
      "item[\"uniprot\"][\"entry\"][\"keyword\"]\n"
     ]
    }
   ],
   "source": [
    "missing_info(item)"
   ]
  },
  {
   "cell_type": "code",
   "execution_count": null,
   "id": "2e397341-bda4-4794-9e87-ddf31fb2b230",
   "metadata": {},
   "outputs": [],
   "source": [
    "item[\"uniprot\"][\"entry\"][\"protein\"][\"alternativeName\"]"
   ]
  },
  {
   "cell_type": "code",
   "execution_count": null,
   "id": "17611aee-fc61-46aa-940a-541450160412",
   "metadata": {},
   "outputs": [],
   "source": []
  }
 ],
 "metadata": {
  "kernelspec": {
   "display_name": "Python 3 (ipykernel)",
   "language": "python",
   "name": "python3"
  },
  "language_info": {
   "codemirror_mode": {
    "name": "ipython",
    "version": 3
   },
   "file_extension": ".py",
   "mimetype": "text/x-python",
   "name": "python",
   "nbconvert_exporter": "python",
   "pygments_lexer": "ipython3",
   "version": "3.7.10"
  }
 },
 "nbformat": 4,
 "nbformat_minor": 5
}
