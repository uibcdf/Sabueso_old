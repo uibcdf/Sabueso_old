{
 "cells": [
  {
   "cell_type": "code",
   "execution_count": null,
   "id": "606a260e-4eb6-40f9-8bbb-d8d22ac89306",
   "metadata": {},
   "outputs": [],
   "source": [
    "%load_ext autoreload\n",
    "%autoreload 2"
   ]
  },
  {
   "cell_type": "markdown",
   "id": "d1c253bc-e65c-4df3-8a5f-2edbf579c64c",
   "metadata": {},
   "source": [
    "# get protein card"
   ]
  },
  {
   "cell_type": "code",
   "execution_count": null,
   "id": "87748c20-70d4-48e4-9cb7-73622f2cb163",
   "metadata": {},
   "outputs": [],
   "source": [
    "#from sabueso.tools.string_uniprot import to_uniprotkb_XMLDict\n",
    "#from sabueso.tools.uniprotkb_XMLDict import get_protein_card"
   ]
  },
  {
   "cell_type": "code",
   "execution_count": null,
   "id": "c36a8a19-124d-4511-b26b-1d8029a38a0d",
   "metadata": {},
   "outputs": [],
   "source": [
    "#item = to_uniprotkb_XMLDict('uniprot:P19367')\n",
    "#item = to_uniprotkb_XMLDict('uniprot:P46200')\n",
    "#item = to_uniprotkb_XMLDict('uniprot:P55197')\n",
    "#item = to_uniprotkb_XMLDict('uniprot:P05937')\n",
    "#item = to_uniprotkb_XMLDict('uniprot:P00374')\n",
    "#item = to_uniprotkb_XMLDict('uniprot:Q9FFX4')"
   ]
  },
  {
   "cell_type": "code",
   "execution_count": null,
   "id": "d3c78b68-b7bb-4d7f-a144-10e81f68ed6a",
   "metadata": {},
   "outputs": [],
   "source": [
    "#card = get_protein_card(item)"
   ]
  },
  {
   "cell_type": "code",
   "execution_count": null,
   "id": "d5740d63-7a84-4d44-9830-18e5253ca4d0",
   "metadata": {},
   "outputs": [],
   "source": [
    "#card.domains[1].note"
   ]
  },
  {
   "cell_type": "code",
   "execution_count": null,
   "id": "ac0539d5-266f-4164-8d1e-e32c1ce3df52",
   "metadata": {},
   "outputs": [],
   "source": [
    "#df = card.to_pandas_DataFrame(with_evidences=False)"
   ]
  },
  {
   "cell_type": "code",
   "execution_count": null,
   "id": "fd6a02b1-5d36-4bf0-9230-1b5be1de23d8",
   "metadata": {},
   "outputs": [],
   "source": [
    "#df.T"
   ]
  },
  {
   "cell_type": "code",
   "execution_count": null,
   "id": "5c6c30b9-7f26-426d-9e30-61519c249ad8",
   "metadata": {},
   "outputs": [],
   "source": []
  },
  {
   "cell_type": "code",
   "execution_count": null,
   "id": "ca4fc959-fa9d-4360-bc59-1e1717783484",
   "metadata": {},
   "outputs": [],
   "source": []
  }
 ],
 "metadata": {
  "kernelspec": {
   "display_name": "Python 3 (ipykernel)",
   "language": "python",
   "name": "python3"
  },
  "language_info": {
   "codemirror_mode": {
    "name": "ipython",
    "version": 3
   },
   "file_extension": ".py",
   "mimetype": "text/x-python",
   "name": "python",
   "nbconvert_exporter": "python",
   "pygments_lexer": "ipython3",
   "version": "3.7.10"
  }
 },
 "nbformat": 4,
 "nbformat_minor": 5
}
