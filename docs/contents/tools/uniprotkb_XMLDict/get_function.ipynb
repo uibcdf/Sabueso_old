{
 "cells": [
  {
   "cell_type": "code",
   "execution_count": 1,
   "id": "6a5ea511-b81d-40ad-89e2-f0e2d5248ab8",
   "metadata": {},
   "outputs": [],
   "source": [
    "%load_ext autoreload\n",
    "%autoreload 2"
   ]
  },
  {
   "cell_type": "markdown",
   "id": "c7520dec-146a-465e-85a2-88b91d761648",
   "metadata": {},
   "source": [
    "# get function"
   ]
  },
  {
   "cell_type": "code",
   "execution_count": 2,
   "id": "e85a9ef8-8774-4aae-96f8-23683a494acf",
   "metadata": {},
   "outputs": [],
   "source": [
    "from sabueso.tools.string_uniprot import to_uniprotkb_XMLDict\n",
    "from sabueso.tools.uniprotkb_XMLDict import get_function"
   ]
  },
  {
   "cell_type": "code",
   "execution_count": 19,
   "id": "955d2c3a-60e0-4694-b92e-98a40d9f1126",
   "metadata": {},
   "outputs": [],
   "source": [
    "#item = 'uniprot:P19367'\n",
    "#item = 'uniprot:P52789'\n",
    "#item = 'uniprot:P52790'\n",
    "item = 'uniprot:P35557'"
   ]
  },
  {
   "cell_type": "code",
   "execution_count": 20,
   "id": "7d01f99b-5857-4f79-8d27-4b43b0dae986",
   "metadata": {},
   "outputs": [],
   "source": [
    "item = to_uniprotkb_XMLDict(item)"
   ]
  },
  {
   "cell_type": "code",
   "execution_count": 21,
   "id": "87715d18-a59c-4ec7-b809-a0803d034f2a",
   "metadata": {},
   "outputs": [],
   "source": [
    "function = get_function(item)"
   ]
  },
  {
   "cell_type": "code",
   "execution_count": 22,
   "id": "1822ddeb-0be0-4646-97e7-2976cae1c7ea",
   "metadata": {},
   "outputs": [
    {
     "data": {
      "text/html": [
       "Catalyzes the phosphorylation of hexose, such as D-glucose, D-fructose and D-mannose, to hexose 6-phosphate (D-glucose 6-phosphate, D-fructose 6-phosphate and D-mannose 6-phosphate, respectively) (PubMed:7742312, PubMed:11916951, PubMed:15277402, PubMed:17082186, PubMed:18322640, PubMed:19146401, PubMed:25015100, PubMed:8325892). Compared to other hexokinases, has a weak affinity for D-glucose, and is effective only when glucose is abundant (By similarity). Mainly expressed in pancreatic beta cells and the liver and constitutes a rate-limiting step in glucose metabolism in these tissues (PubMed:18322640, PubMed:25015100, PubMed:8325892, PubMed:11916951, PubMed:15277402). Since insulin secretion parallels glucose metabolism and the low glucose affinity of GCK ensures that it can change its enzymatic activity within the physiological range of glucose concentrations, GCK acts as a glucose sensor in the pancreatic beta cell (By similarity). In pancreas, plays an important role in modulating insulin secretion (By similarity). In liver, helps to facilitate the uptake and conversion of glucose by acting as an insulin-sensitive determinant of hepatic glucose usage (By similarity). Required to provide D-glucose 6-phosphate for the synthesis of glycogen (PubMed:8878425). Mediates the initial step of glycolysis by catalyzing phosphorylation of D-glucose to D-glucose 6-phosphate (PubMed:7742312). <<a href=\"https://www.uniprot.org/uniprot/P17712\">UniProtKB: P17712</a>, <a href=\"https://www.uniprot.org/uniprot/P35557\">UniProtKB: P35557</a>, <a href=\"https://www.uniprot.org/uniprot/P52792\">UniProtKB: P52792</a>, <a href=\"https://pubmed.ncbi.nlm.nih.gov/11916951\">PubMed: 11916951</a>, <a href=\"https://pubmed.ncbi.nlm.nih.gov/15277402\">PubMed: 15277402</a>, <a href=\"https://pubmed.ncbi.nlm.nih.gov/17082186\">PubMed: 17082186</a>, <a href=\"https://pubmed.ncbi.nlm.nih.gov/18322640\">PubMed: 18322640</a>, <a href=\"https://pubmed.ncbi.nlm.nih.gov/19146401\">PubMed: 19146401</a>, <a href=\"https://pubmed.ncbi.nlm.nih.gov/25015100\">PubMed: 25015100</a>, <a href=\"https://pubmed.ncbi.nlm.nih.gov/7742312\">PubMed: 7742312</a>, <a href=\"https://pubmed.ncbi.nlm.nih.gov/8325892\">PubMed: 8325892</a>, <a href=\"https://pubmed.ncbi.nlm.nih.gov/8878425\">PubMed: 8878425</a>>"
      ],
      "text/plain": [
       "Catalyzes the phosphorylation of hexose, such as D-glucose, D-fructose and D-mannose, to hexose 6-phosphate (D-glucose 6-phosphate, D-fructose 6-phosphate and D-mannose 6-phosphate, respectively) (PubMed:7742312, PubMed:11916951, PubMed:15277402, PubMed:17082186, PubMed:18322640, PubMed:19146401, PubMed:25015100, PubMed:8325892). Compared to other hexokinases, has a weak affinity for D-glucose, and is effective only when glucose is abundant (By similarity). Mainly expressed in pancreatic beta cells and the liver and constitutes a rate-limiting step in glucose metabolism in these tissues (PubMed:18322640, PubMed:25015100, PubMed:8325892, PubMed:11916951, PubMed:15277402). Since insulin secretion parallels glucose metabolism and the low glucose affinity of GCK ensures that it can change its enzymatic activity within the physiological range of glucose concentrations, GCK acts as a glucose sensor in the pancreatic beta cell (By similarity). In pancreas, plays an important role in modulating insulin secretion (By similarity). In liver, helps to facilitate the uptake and conversion of glucose by acting as an insulin-sensitive determinant of hepatic glucose usage (By similarity). Required to provide D-glucose 6-phosphate for the synthesis of glycogen (PubMed:8878425). Mediates the initial step of glycolysis by catalyzing phosphorylation of D-glucose to D-glucose 6-phosphate (PubMed:7742312). <12 refs.>"
      ]
     },
     "execution_count": 22,
     "metadata": {},
     "output_type": "execute_result"
    }
   ],
   "source": [
    "function"
   ]
  },
  {
   "cell_type": "code",
   "execution_count": null,
   "id": "e825eb67-3bac-4bce-9d65-d44efe623fe9",
   "metadata": {},
   "outputs": [],
   "source": []
  }
 ],
 "metadata": {
  "kernelspec": {
   "display_name": "Python 3 (ipykernel)",
   "language": "python",
   "name": "python3"
  },
  "language_info": {
   "codemirror_mode": {
    "name": "ipython",
    "version": 3
   },
   "file_extension": ".py",
   "mimetype": "text/x-python",
   "name": "python",
   "nbconvert_exporter": "python",
   "pygments_lexer": "ipython3",
   "version": "3.7.10"
  }
 },
 "nbformat": 4,
 "nbformat_minor": 5
}
