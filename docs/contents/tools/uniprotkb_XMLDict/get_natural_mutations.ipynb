{
 "cells": [
  {
   "cell_type": "code",
   "execution_count": 1,
   "id": "6a5ea511-b81d-40ad-89e2-f0e2d5248ab8",
   "metadata": {},
   "outputs": [],
   "source": [
    "%load_ext autoreload\n",
    "%autoreload 2"
   ]
  },
  {
   "cell_type": "markdown",
   "id": "c7520dec-146a-465e-85a2-88b91d761648",
   "metadata": {},
   "source": [
    "# get natural mutations"
   ]
  },
  {
   "cell_type": "code",
   "execution_count": 4,
   "id": "e85a9ef8-8774-4aae-96f8-23683a494acf",
   "metadata": {},
   "outputs": [],
   "source": [
    "from sabueso.tools.string_uniprot import to_uniprotkb_XMLDict\n",
    "from sabueso.tools.uniprotkb_XMLDict import get_natural_mutations"
   ]
  },
  {
   "cell_type": "code",
   "execution_count": 5,
   "id": "7d01f99b-5857-4f79-8d27-4b43b0dae986",
   "metadata": {},
   "outputs": [],
   "source": [
    "item = to_uniprotkb_XMLDict('uniprot:P19367')"
   ]
  },
  {
   "cell_type": "code",
   "execution_count": 9,
   "id": "87715d18-a59c-4ec7-b809-a0803d034f2a",
   "metadata": {},
   "outputs": [],
   "source": [
    "natural_mutations = get_natural_mutations(item)"
   ]
  },
  {
   "cell_type": "code",
   "execution_count": 10,
   "id": "2b27de6d-a2b6-467a-a298-2375e052fad6",
   "metadata": {},
   "outputs": [
    {
     "data": {
      "text/plain": [
       "[{'references': [<UniProtKB: P19367>, <PubMed: 30778173>],\n",
       "  'description': 'In NEDVIBA; dbSNP:rs1064795154.',\n",
       "  'position': '414',\n",
       "  'original': 'G',\n",
       "  'variation': 'E'},\n",
       " {'references': [<UniProtKB: P19367>, <PubMed: 30778173>],\n",
       "  'description': 'In NEDVIBA; no effect on the affinity for glucose or ATP; no effect on thermal stability; dbSNP:rs1564557037.',\n",
       "  'position': '418',\n",
       "  'original': 'K',\n",
       "  'variation': 'E'},\n",
       " {'references': [<UniProtKB: P19367>, <PubMed: 30778173>],\n",
       "  'description': 'In NEDVIBA; no effect on the affinity for glucose or ATP; no effect on thermal stability; dbSNP:rs1064794848.',\n",
       "  'position': '445',\n",
       "  'original': 'S',\n",
       "  'variation': 'L'},\n",
       " {'references': [<UniProtKB: P19367>, <PubMed: 30778173>],\n",
       "  'description': 'In NEDVIBA; dbSNP:rs1057517928.',\n",
       "  'position': '457',\n",
       "  'original': 'T',\n",
       "  'variation': 'M'},\n",
       " {'references': [<UniProtKB: P19367>, <PubMed: 7655856>],\n",
       "  'description': 'In HK deficiency; dbSNP:rs137853249.',\n",
       "  'position': '529',\n",
       "  'original': 'L',\n",
       "  'variation': 'S'},\n",
       " {'references': [<UniProtKB: P19367>, <PubMed: 12393545>],\n",
       "  'description': 'In HK deficiency; HK Utrecht; dbSNP:rs398122379.',\n",
       "  'position': '680',\n",
       "  'original': 'T',\n",
       "  'variation': 'S'},\n",
       " {'references': [<UniProtKB: P19367>, <PubMed: 1637300>, <PubMed: 3207429>],\n",
       "  'description': 'In dbSNP:rs1054203.',\n",
       "  'position': '776',\n",
       "  'original': 'L',\n",
       "  'variation': 'M'},\n",
       " {'references': [<UniProtKB: P19367>, <PubMed: 25190649>, <PubMed: 25316723>],\n",
       "  'description': 'In RP79; unknown pathological significance; no effect on hexokinase activity; no effect on protein abundance; dbSNP:rs777849213.',\n",
       "  'position': '847',\n",
       "  'original': 'E',\n",
       "  'variation': 'K'}]"
      ]
     },
     "execution_count": 10,
     "metadata": {},
     "output_type": "execute_result"
    }
   ],
   "source": [
    "natural_mutations"
   ]
  },
  {
   "cell_type": "code",
   "execution_count": 12,
   "id": "6ad498b7-76a8-42fd-82d3-2c2d6b4c25e7",
   "metadata": {},
   "outputs": [],
   "source": [
    "natural_mutations = get_natural_mutations(item, as_cards=True)"
   ]
  },
  {
   "cell_type": "code",
   "execution_count": 13,
   "id": "b3af5153-7940-40ff-bd17-c7648f245b48",
   "metadata": {},
   "outputs": [
    {
     "data": {
      "text/plain": [
       "[<MutationCard: G414E>,\n",
       " <MutationCard: K418E>,\n",
       " <MutationCard: S445L>,\n",
       " <MutationCard: T457M>,\n",
       " <MutationCard: L529S>,\n",
       " <MutationCard: T680S>,\n",
       " <MutationCard: L776M>,\n",
       " <MutationCard: E847K>]"
      ]
     },
     "execution_count": 13,
     "metadata": {},
     "output_type": "execute_result"
    }
   ],
   "source": [
    "natural_mutations"
   ]
  },
  {
   "cell_type": "code",
   "execution_count": 14,
   "id": "33081e77-d8ae-4322-9eb3-a7bafe62f6fc",
   "metadata": {},
   "outputs": [
    {
     "data": {
      "text/html": [
       "<div>\n",
       "<style scoped>\n",
       "    .dataframe tbody tr th:only-of-type {\n",
       "        vertical-align: middle;\n",
       "    }\n",
       "\n",
       "    .dataframe tbody tr th {\n",
       "        vertical-align: top;\n",
       "    }\n",
       "\n",
       "    .dataframe thead th {\n",
       "        text-align: right;\n",
       "    }\n",
       "</style>\n",
       "<table border=\"1\" class=\"dataframe\">\n",
       "  <thead>\n",
       "    <tr style=\"text-align: right;\">\n",
       "      <th></th>\n",
       "      <th>414</th>\n",
       "    </tr>\n",
       "  </thead>\n",
       "  <tbody>\n",
       "    <tr>\n",
       "      <th>references</th>\n",
       "      <td>[UniProtKB: P19367, PubMed: 30778173]</td>\n",
       "    </tr>\n",
       "    <tr>\n",
       "      <th>description</th>\n",
       "      <td>In NEDVIBA; dbSNP:rs1064795154.</td>\n",
       "    </tr>\n",
       "    <tr>\n",
       "      <th>position</th>\n",
       "      <td>414</td>\n",
       "    </tr>\n",
       "    <tr>\n",
       "      <th>original</th>\n",
       "      <td>G</td>\n",
       "    </tr>\n",
       "    <tr>\n",
       "      <th>variation</th>\n",
       "      <td>E</td>\n",
       "    </tr>\n",
       "  </tbody>\n",
       "</table>\n",
       "</div>"
      ],
      "text/plain": [
       "                                               414\n",
       "references   [UniProtKB: P19367, PubMed: 30778173]\n",
       "description        In NEDVIBA; dbSNP:rs1064795154.\n",
       "position                                       414\n",
       "original                                         G\n",
       "variation                                        E"
      ]
     },
     "execution_count": 14,
     "metadata": {},
     "output_type": "execute_result"
    }
   ],
   "source": [
    "natural_mutations[0].to_pandas_DataFrame().T"
   ]
  },
  {
   "cell_type": "code",
   "execution_count": null,
   "id": "ea9a1c31-5dd8-4e18-b2f8-9e86dd52a5fc",
   "metadata": {},
   "outputs": [],
   "source": []
  }
 ],
 "metadata": {
  "kernelspec": {
   "display_name": "Python 3 (ipykernel)",
   "language": "python",
   "name": "python3"
  },
  "language_info": {
   "codemirror_mode": {
    "name": "ipython",
    "version": 3
   },
   "file_extension": ".py",
   "mimetype": "text/x-python",
   "name": "python",
   "nbconvert_exporter": "python",
   "pygments_lexer": "ipython3",
   "version": "3.7.10"
  }
 },
 "nbformat": 4,
 "nbformat_minor": 5
}
