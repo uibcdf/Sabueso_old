{
 "cells": [
  {
   "cell_type": "code",
   "execution_count": 1,
   "id": "6a5ea511-b81d-40ad-89e2-f0e2d5248ab8",
   "metadata": {},
   "outputs": [],
   "source": [
    "%load_ext autoreload\n",
    "%autoreload 2"
   ]
  },
  {
   "cell_type": "markdown",
   "id": "c7520dec-146a-465e-85a2-88b91d761648",
   "metadata": {},
   "source": [
    "# get diseases"
   ]
  },
  {
   "cell_type": "code",
   "execution_count": 2,
   "id": "e85a9ef8-8774-4aae-96f8-23683a494acf",
   "metadata": {},
   "outputs": [],
   "source": [
    "from sabueso.tools.string_uniprot import to_uniprotkb_XMLDict\n",
    "from sabueso.tools.uniprotkb_XMLDict import get_diseases"
   ]
  },
  {
   "cell_type": "code",
   "execution_count": 3,
   "id": "7d01f99b-5857-4f79-8d27-4b43b0dae986",
   "metadata": {},
   "outputs": [],
   "source": [
    "item = to_uniprotkb_XMLDict('uniprot:P19367')"
   ]
  },
  {
   "cell_type": "code",
   "execution_count": 4,
   "id": "87715d18-a59c-4ec7-b809-a0803d034f2a",
   "metadata": {},
   "outputs": [],
   "source": [
    "diseases = get_diseases(item)"
   ]
  },
  {
   "cell_type": "code",
   "execution_count": 5,
   "id": "2b27de6d-a2b6-467a-a298-2375e052fad6",
   "metadata": {},
   "outputs": [
    {
     "data": {
      "text/plain": [
       "[{'references': [<UniProtKB: P19367>,\n",
       "   <UniProt_Diseases: DI-01739>,\n",
       "   <PubMed: 12393545>,\n",
       "   <PubMed: 7655856>,\n",
       "   <OMIM: 235700>],\n",
       "  'name': 'Hexokinase deficiency',\n",
       "  'acronym': 'HK deficiency',\n",
       "  'description': 'Rare autosomal recessive disease with nonspherocytic hemolytic anemia as the predominant clinical feature.',\n",
       "  'proteins_involved': None,\n",
       "  'note': 'The disease is caused by variants affecting the gene represented in this entry.'},\n",
       " {'references': [<UniProtKB: P19367>,\n",
       "   <UniProt_Diseases: DI-03795>,\n",
       "   <PubMed: 19536174>,\n",
       "   <OMIM: 605285>],\n",
       "  'name': 'Neuropathy, hereditary motor and sensory, Russe type',\n",
       "  'acronym': 'HMSNR',\n",
       "  'description': 'An autosomal recessive progressive complex peripheral neuropathy characterized by onset in the first decade of distal lower limb weakness and muscle atrophy resulting in walking difficulties. Distal impairment of the upper limbs usually occurs later, as does proximal lower limb weakness. There is distal sensory impairment, with pes cavus and areflexia. Laboratory studies suggest that it is a myelinopathy resulting in reduced nerve conduction velocities in the demyelinating range as well as a length-dependent axonopathy.',\n",
       "  'proteins_involved': None,\n",
       "  'note': 'The disease is caused by variants affecting the gene represented in this entry.'},\n",
       " {'references': [<UniProtKB: P19367>,\n",
       "   <UniProt_Diseases: DI-04983>,\n",
       "   <PubMed: 25190649>,\n",
       "   <PubMed: 25316723>,\n",
       "   <OMIM: 617460>],\n",
       "  'name': 'Retinitis pigmentosa 79',\n",
       "  'acronym': 'RP79',\n",
       "  'description': 'A form of retinitis pigmentosa, a retinal dystrophy belonging to the group of pigmentary retinopathies. Retinitis pigmentosa is characterized by retinal pigment deposits visible on fundus examination and primary loss of rod photoreceptor cells followed by secondary loss of cone photoreceptors. Patients typically have night vision blindness and loss of midperipheral visual field. As their condition progresses, they lose their far peripheral visual field and eventually central vision as well. RP79 inheritance is autosomal dominant.',\n",
       "  'proteins_involved': None,\n",
       "  'note': 'The disease is caused by variants affecting the gene represented in this entry.'},\n",
       " {'references': [<UniProtKB: P19367>,\n",
       "   <UniProt_Diseases: DI-05639>,\n",
       "   <PubMed: 30778173>,\n",
       "   <OMIM: 618547>],\n",
       "  'name': 'Neurodevelopmental disorder with visual defects and brain anomalies',\n",
       "  'acronym': 'NEDVIBA',\n",
       "  'description': 'A disorder characterized by global developmental delay, speech delay, intellectual disability, structural brain abnormalities, and visual impairments including retinitis pigmentosa and optic atrophy.',\n",
       "  'proteins_involved': None,\n",
       "  'note': 'The disease is caused by variants affecting the gene represented in this entry.'}]"
      ]
     },
     "execution_count": 5,
     "metadata": {},
     "output_type": "execute_result"
    }
   ],
   "source": [
    "diseases"
   ]
  },
  {
   "cell_type": "code",
   "execution_count": 11,
   "id": "6ad498b7-76a8-42fd-82d3-2c2d6b4c25e7",
   "metadata": {},
   "outputs": [],
   "source": [
    "diseases = get_diseases(item, as_cards=True)"
   ]
  },
  {
   "cell_type": "code",
   "execution_count": 12,
   "id": "b3af5153-7940-40ff-bd17-c7648f245b48",
   "metadata": {},
   "outputs": [
    {
     "data": {
      "text/plain": [
       "[<DiseaseCard: Hexokinase deficiency>,\n",
       " <DiseaseCard: Neuropathy, hereditary motor and sensory, Russe type>,\n",
       " <DiseaseCard: Retinitis pigmentosa 79>,\n",
       " <DiseaseCard: Neurodevelopmental disorder with visual defects and brain anomalies>]"
      ]
     },
     "execution_count": 12,
     "metadata": {},
     "output_type": "execute_result"
    }
   ],
   "source": [
    "diseases"
   ]
  },
  {
   "cell_type": "code",
   "execution_count": 13,
   "id": "33081e77-d8ae-4322-9eb3-a7bafe62f6fc",
   "metadata": {},
   "outputs": [
    {
     "data": {
      "text/html": [
       "<div>\n",
       "<style scoped>\n",
       "    .dataframe tbody tr th:only-of-type {\n",
       "        vertical-align: middle;\n",
       "    }\n",
       "\n",
       "    .dataframe tbody tr th {\n",
       "        vertical-align: top;\n",
       "    }\n",
       "\n",
       "    .dataframe thead th {\n",
       "        text-align: right;\n",
       "    }\n",
       "</style>\n",
       "<table border=\"1\" class=\"dataframe\">\n",
       "  <thead>\n",
       "    <tr style=\"text-align: right;\">\n",
       "      <th></th>\n",
       "      <th>0</th>\n",
       "    </tr>\n",
       "  </thead>\n",
       "  <tbody>\n",
       "    <tr>\n",
       "      <th>references</th>\n",
       "      <td>[UniProtKB: P19367, UniProt_Diseases: DI-01739...</td>\n",
       "    </tr>\n",
       "    <tr>\n",
       "      <th>name</th>\n",
       "      <td>Hexokinase deficiency</td>\n",
       "    </tr>\n",
       "    <tr>\n",
       "      <th>acronym</th>\n",
       "      <td>HK deficiency</td>\n",
       "    </tr>\n",
       "    <tr>\n",
       "      <th>description</th>\n",
       "      <td>Rare autosomal recessive disease with nonspher...</td>\n",
       "    </tr>\n",
       "    <tr>\n",
       "      <th>note</th>\n",
       "      <td>The disease is caused by variants affecting th...</td>\n",
       "    </tr>\n",
       "    <tr>\n",
       "      <th>proteins_involved</th>\n",
       "      <td>None</td>\n",
       "    </tr>\n",
       "  </tbody>\n",
       "</table>\n",
       "</div>"
      ],
      "text/plain": [
       "                                                                   0\n",
       "references         [UniProtKB: P19367, UniProt_Diseases: DI-01739...\n",
       "name                                           Hexokinase deficiency\n",
       "acronym                                                HK deficiency\n",
       "description        Rare autosomal recessive disease with nonspher...\n",
       "note               The disease is caused by variants affecting th...\n",
       "proteins_involved                                               None"
      ]
     },
     "execution_count": 13,
     "metadata": {},
     "output_type": "execute_result"
    }
   ],
   "source": [
    "diseases[0].to_pandas_DataFrame().T"
   ]
  },
  {
   "cell_type": "code",
   "execution_count": null,
   "id": "ea9a1c31-5dd8-4e18-b2f8-9e86dd52a5fc",
   "metadata": {},
   "outputs": [],
   "source": []
  }
 ],
 "metadata": {
  "kernelspec": {
   "display_name": "Python 3 (ipykernel)",
   "language": "python",
   "name": "python3"
  },
  "language_info": {
   "codemirror_mode": {
    "name": "ipython",
    "version": 3
   },
   "file_extension": ".py",
   "mimetype": "text/x-python",
   "name": "python",
   "nbconvert_exporter": "python",
   "pygments_lexer": "ipython3",
   "version": "3.7.10"
  }
 },
 "nbformat": 4,
 "nbformat_minor": 5
}
