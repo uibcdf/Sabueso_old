{
 "cells": [
  {
   "cell_type": "code",
   "execution_count": 1,
   "id": "6a5ea511-b81d-40ad-89e2-f0e2d5248ab8",
   "metadata": {},
   "outputs": [],
   "source": [
    "%load_ext autoreload\n",
    "%autoreload 2"
   ]
  },
  {
   "cell_type": "markdown",
   "id": "c7520dec-146a-465e-85a2-88b91d761648",
   "metadata": {},
   "source": [
    "# get organism common name"
   ]
  },
  {
   "cell_type": "code",
   "execution_count": 2,
   "id": "e85a9ef8-8774-4aae-96f8-23683a494acf",
   "metadata": {},
   "outputs": [],
   "source": [
    "from sabueso.tools.string_uniprot import to_uniprotkb_XMLDict\n",
    "from sabueso.tools.uniprotkb_XMLDict import get_organism_common_name"
   ]
  },
  {
   "cell_type": "code",
   "execution_count": 4,
   "id": "7d01f99b-5857-4f79-8d27-4b43b0dae986",
   "metadata": {},
   "outputs": [],
   "source": [
    "item = to_uniprotkb_XMLDict('uniprot:P19367')\n",
    "#item = to_uniprotkb_XMLDict('uniprot:P52789')\n",
    "#item = to_uniprotkb_XMLDict('uniprot:P52790')\n",
    "#item = to_uniprotkb_XMLDict('uniprot:P35557')"
   ]
  },
  {
   "cell_type": "code",
   "execution_count": 5,
   "id": "9818217a-956d-4e39-b6a1-52cdca0412ee",
   "metadata": {},
   "outputs": [
    {
     "data": {
      "text/plain": [
       "OrderedDict([('name',\n",
       "              [OrderedDict([('@type', 'scientific'),\n",
       "                            ('#text', 'Homo sapiens')]),\n",
       "               OrderedDict([('@type', 'common'), ('#text', 'Human')])]),\n",
       "             ('dbReference',\n",
       "              OrderedDict([('@type', 'NCBI Taxonomy'), ('@id', '9606')])),\n",
       "             ('lineage',\n",
       "              OrderedDict([('taxon',\n",
       "                            ['Eukaryota',\n",
       "                             'Metazoa',\n",
       "                             'Chordata',\n",
       "                             'Craniata',\n",
       "                             'Vertebrata',\n",
       "                             'Euteleostomi',\n",
       "                             'Mammalia',\n",
       "                             'Eutheria',\n",
       "                             'Euarchontoglires',\n",
       "                             'Primates',\n",
       "                             'Haplorrhini',\n",
       "                             'Catarrhini',\n",
       "                             'Hominidae',\n",
       "                             'Homo'])]))])"
      ]
     },
     "execution_count": 5,
     "metadata": {},
     "output_type": "execute_result"
    }
   ],
   "source": [
    "item['uniprot']['entry']['organism']"
   ]
  },
  {
   "cell_type": "code",
   "execution_count": 6,
   "id": "87715d18-a59c-4ec7-b809-a0803d034f2a",
   "metadata": {},
   "outputs": [],
   "source": [
    "organism_common_name = get_organism_common_name(item)"
   ]
  },
  {
   "cell_type": "code",
   "execution_count": 7,
   "id": "2b27de6d-a2b6-467a-a298-2375e052fad6",
   "metadata": {},
   "outputs": [
    {
     "data": {
      "text/html": [
       "Human <<a href=\"https://www.ncbi.nlm.nih.gov/Taxonomy/Browser/wwwtax.cgi?id=9606\">NCBI_Taxonomy: 9606</a>>"
      ],
      "text/plain": [
       "Human <1 refs.>"
      ]
     },
     "execution_count": 7,
     "metadata": {},
     "output_type": "execute_result"
    }
   ],
   "source": [
    "organism_common_name"
   ]
  },
  {
   "cell_type": "code",
   "execution_count": 8,
   "id": "94ca478b-e620-4005-bdb9-23f7a31ff1fe",
   "metadata": {},
   "outputs": [
    {
     "data": {
      "text/plain": [
       "[<NCBI_Taxonomy: 9606>]"
      ]
     },
     "execution_count": 8,
     "metadata": {},
     "output_type": "execute_result"
    }
   ],
   "source": [
    "organism_common_name.references"
   ]
  },
  {
   "cell_type": "code",
   "execution_count": 9,
   "id": "f2bc6ee7-ff2e-4714-89ce-03e7c22b43ba",
   "metadata": {},
   "outputs": [
    {
     "data": {
      "text/plain": [
       "'Human'"
      ]
     },
     "execution_count": 9,
     "metadata": {},
     "output_type": "execute_result"
    }
   ],
   "source": [
    "organism_common_name.value"
   ]
  },
  {
   "cell_type": "code",
   "execution_count": null,
   "id": "68857e4a-c36b-4e21-ba93-86772b7be0ff",
   "metadata": {},
   "outputs": [],
   "source": []
  }
 ],
 "metadata": {
  "kernelspec": {
   "display_name": "Python 3 (ipykernel)",
   "language": "python",
   "name": "python3"
  },
  "language_info": {
   "codemirror_mode": {
    "name": "ipython",
    "version": 3
   },
   "file_extension": ".py",
   "mimetype": "text/x-python",
   "name": "python",
   "nbconvert_exporter": "python",
   "pygments_lexer": "ipython3",
   "version": "3.7.10"
  }
 },
 "nbformat": 4,
 "nbformat_minor": 5
}
