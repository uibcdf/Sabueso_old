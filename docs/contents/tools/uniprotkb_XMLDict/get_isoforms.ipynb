{
 "cells": [
  {
   "cell_type": "code",
   "execution_count": 1,
   "id": "6a5ea511-b81d-40ad-89e2-f0e2d5248ab8",
   "metadata": {},
   "outputs": [],
   "source": [
    "%load_ext autoreload\n",
    "%autoreload 2"
   ]
  },
  {
   "cell_type": "markdown",
   "id": "c7520dec-146a-465e-85a2-88b91d761648",
   "metadata": {},
   "source": [
    "# get isoforms"
   ]
  },
  {
   "cell_type": "code",
   "execution_count": 2,
   "id": "e85a9ef8-8774-4aae-96f8-23683a494acf",
   "metadata": {},
   "outputs": [],
   "source": [
    "from sabueso.tools.string_uniprot import to_uniprotkb_XMLDict\n",
    "from sabueso.tools.uniprotkb_XMLDict import get_isoforms"
   ]
  },
  {
   "cell_type": "code",
   "execution_count": 3,
   "id": "7d01f99b-5857-4f79-8d27-4b43b0dae986",
   "metadata": {},
   "outputs": [],
   "source": [
    "#item = to_uniprotkb_XMLDict('uniprot:P19367')\n",
    "#item = to_uniprotkb_XMLDict('uniprot:P46200')\n",
    "#item = to_uniprotkb_XMLDict('uniprot:P55197')\n",
    "item = to_uniprotkb_XMLDict('uniprot:P05937')\n",
    "#item = to_uniprotkb_XMLDict('uniprot:P00374')\n",
    "#item = to_uniprotkb_XMLDict('uniprot:Q9FFX4')"
   ]
  },
  {
   "cell_type": "code",
   "execution_count": 6,
   "id": "87715d18-a59c-4ec7-b809-a0803d034f2a",
   "metadata": {},
   "outputs": [],
   "source": [
    "isoforms = get_isoforms(item)"
   ]
  },
  {
   "cell_type": "code",
   "execution_count": 7,
   "id": "2b27de6d-a2b6-467a-a298-2375e052fad6",
   "metadata": {},
   "outputs": [
    {
     "data": {
      "text/plain": [
       "[{'references': [<UniProtKB: P05937>],\n",
       "  'name': '1',\n",
       "  'alternative_names': '',\n",
       "  'type': 'alternative splicing',\n",
       "  'sequence': None,\n",
       "  'begin': None,\n",
       "  'end': None,\n",
       "  'original': None,\n",
       "  'variation': None,\n",
       "  'vsp': None,\n",
       "  'uniprot': 'P05937-1'},\n",
       " {'references': [<PubMed: 14702039>, <UniProtKB: P05937>],\n",
       "  'name': '2',\n",
       "  'alternative_names': '',\n",
       "  'type': 'alternative splicing',\n",
       "  'sequence': None,\n",
       "  'begin': '1',\n",
       "  'end': '57',\n",
       "  'original': None,\n",
       "  'variation': None,\n",
       "  'vsp': 'VSP_055508',\n",
       "  'uniprot': 'P05937-2'}]"
      ]
     },
     "execution_count": 7,
     "metadata": {},
     "output_type": "execute_result"
    }
   ],
   "source": [
    "isoforms"
   ]
  },
  {
   "cell_type": "code",
   "execution_count": null,
   "id": "6ad498b7-76a8-42fd-82d3-2c2d6b4c25e7",
   "metadata": {},
   "outputs": [],
   "source": [
    "isoforms = get_isoforms(item, as_cards=True)"
   ]
  },
  {
   "cell_type": "code",
   "execution_count": null,
   "id": "b3af5153-7940-40ff-bd17-c7648f245b48",
   "metadata": {},
   "outputs": [],
   "source": [
    "isoforms"
   ]
  },
  {
   "cell_type": "code",
   "execution_count": null,
   "id": "33081e77-d8ae-4322-9eb3-a7bafe62f6fc",
   "metadata": {},
   "outputs": [],
   "source": [
    "isoforms[3].to_pandas_DataFrame().T"
   ]
  },
  {
   "cell_type": "code",
   "execution_count": null,
   "id": "ea9a1c31-5dd8-4e18-b2f8-9e86dd52a5fc",
   "metadata": {},
   "outputs": [],
   "source": []
  }
 ],
 "metadata": {
  "kernelspec": {
   "display_name": "Python 3 (ipykernel)",
   "language": "python",
   "name": "python3"
  },
  "language_info": {
   "codemirror_mode": {
    "name": "ipython",
    "version": 3
   },
   "file_extension": ".py",
   "mimetype": "text/x-python",
   "name": "python",
   "nbconvert_exporter": "python",
   "pygments_lexer": "ipython3",
   "version": "3.7.10"
  }
 },
 "nbformat": 4,
 "nbformat_minor": 5
}
