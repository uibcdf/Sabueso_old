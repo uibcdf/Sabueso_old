{
 "cells": [
  {
   "cell_type": "code",
   "execution_count": 1,
   "id": "6a5ea511-b81d-40ad-89e2-f0e2d5248ab8",
   "metadata": {},
   "outputs": [],
   "source": [
    "%load_ext autoreload\n",
    "%autoreload 2"
   ]
  },
  {
   "cell_type": "markdown",
   "id": "c7520dec-146a-465e-85a2-88b91d761648",
   "metadata": {},
   "source": [
    "# get isoforms"
   ]
  },
  {
   "cell_type": "code",
   "execution_count": 2,
   "id": "e85a9ef8-8774-4aae-96f8-23683a494acf",
   "metadata": {},
   "outputs": [],
   "source": [
    "from sabueso.tools.string_uniprot import to_uniprotkb_XMLDict\n",
    "from sabueso.tools.uniprotkb_XMLDict import get_isoforms"
   ]
  },
  {
   "cell_type": "code",
   "execution_count": 3,
   "id": "7d01f99b-5857-4f79-8d27-4b43b0dae986",
   "metadata": {},
   "outputs": [],
   "source": [
    "item = to_uniprotkb_XMLDict('uniprot:P19367')\n",
    "#item = to_uniprotkb_XMLDict('uniprot:P52789')\n",
    "#item = to_uniprotkb_XMLDict('uniprot:P52790')\n",
    "#item = to_uniprotkb_XMLDict('uniprot:P35557')"
   ]
  },
  {
   "cell_type": "code",
   "execution_count": 4,
   "id": "87715d18-a59c-4ec7-b809-a0803d034f2a",
   "metadata": {},
   "outputs": [],
   "source": [
    "isoforms = get_isoforms(item)"
   ]
  },
  {
   "cell_type": "code",
   "execution_count": 5,
   "id": "2b27de6d-a2b6-467a-a298-2375e052fad6",
   "metadata": {},
   "outputs": [
    {
     "data": {
      "text/plain": [
       "[{'references': [<UniProtKB: P19367>],\n",
       "  'name': '1',\n",
       "  'alternative_names': ['Common'],\n",
       "  'type': 'alternative splicing',\n",
       "  'sequence': None,\n",
       "  'begin': None,\n",
       "  'end': None,\n",
       "  'original': None,\n",
       "  'variation': None,\n",
       "  'vsp': None,\n",
       "  'uniprot': 'P19367-1'},\n",
       " {'references': [<UniProtKB: P19367>],\n",
       "  'name': '2',\n",
       "  'alternative_names': ['Erythrocyte', 'R'],\n",
       "  'type': 'alternative splicing',\n",
       "  'sequence': None,\n",
       "  'begin': '1',\n",
       "  'end': '21',\n",
       "  'original': 'MIAAQLLAYYFTELKDDQVKK',\n",
       "  'variation': 'MDCEHSLSLPCRGAEAWEIG',\n",
       "  'vsp': 'VSP_002071',\n",
       "  'uniprot': 'P19367-2'},\n",
       " {'references': [<UniProtKB: P19367>],\n",
       "  'name': '3',\n",
       "  'alternative_names': ['TA', 'TB'],\n",
       "  'type': 'alternative splicing',\n",
       "  'sequence': None,\n",
       "  'begin': '1',\n",
       "  'end': '21',\n",
       "  'original': 'MIAAQLLAYYFTELKDDQVKK',\n",
       "  'variation': 'MGQICQRESATAAEKPKLHLLAESE',\n",
       "  'vsp': 'VSP_002072',\n",
       "  'uniprot': 'P19367-3'},\n",
       " {'references': [<PubMed: 10978502>, <UniProtKB: P19367>],\n",
       "  'name': '4',\n",
       "  'alternative_names': ['TD'],\n",
       "  'type': 'alternative splicing',\n",
       "  'sequence': None,\n",
       "  'begin': '1',\n",
       "  'end': '21',\n",
       "  'original': 'MIAAQLLAYYFTELKDDQVKK',\n",
       "  'variation': 'MAKRALHDF',\n",
       "  'vsp': 'VSP_002073',\n",
       "  'uniprot': 'P19367-4'}]"
      ]
     },
     "execution_count": 5,
     "metadata": {},
     "output_type": "execute_result"
    }
   ],
   "source": [
    "isoforms"
   ]
  },
  {
   "cell_type": "code",
   "execution_count": 8,
   "id": "6ad498b7-76a8-42fd-82d3-2c2d6b4c25e7",
   "metadata": {},
   "outputs": [],
   "source": [
    "isoforms = get_isoforms(item, as_cards=True)"
   ]
  },
  {
   "cell_type": "code",
   "execution_count": 9,
   "id": "b3af5153-7940-40ff-bd17-c7648f245b48",
   "metadata": {},
   "outputs": [
    {
     "data": {
      "text/plain": [
       "[<IsoformCard: 1>, <IsoformCard: 2>, <IsoformCard: 3>, <IsoformCard: 4>]"
      ]
     },
     "execution_count": 9,
     "metadata": {},
     "output_type": "execute_result"
    }
   ],
   "source": [
    "isoforms"
   ]
  },
  {
   "cell_type": "code",
   "execution_count": 14,
   "id": "33081e77-d8ae-4322-9eb3-a7bafe62f6fc",
   "metadata": {},
   "outputs": [
    {
     "data": {
      "text/html": [
       "<div>\n",
       "<style scoped>\n",
       "    .dataframe tbody tr th:only-of-type {\n",
       "        vertical-align: middle;\n",
       "    }\n",
       "\n",
       "    .dataframe tbody tr th {\n",
       "        vertical-align: top;\n",
       "    }\n",
       "\n",
       "    .dataframe thead th {\n",
       "        text-align: right;\n",
       "    }\n",
       "</style>\n",
       "<table border=\"1\" class=\"dataframe\">\n",
       "  <thead>\n",
       "    <tr style=\"text-align: right;\">\n",
       "      <th></th>\n",
       "      <th>4</th>\n",
       "    </tr>\n",
       "  </thead>\n",
       "  <tbody>\n",
       "    <tr>\n",
       "      <th>references</th>\n",
       "      <td>[PubMed: 10978502, UniProtKB: P19367]</td>\n",
       "    </tr>\n",
       "    <tr>\n",
       "      <th>name</th>\n",
       "      <td>4</td>\n",
       "    </tr>\n",
       "    <tr>\n",
       "      <th>alternative_names</th>\n",
       "      <td>[TD]</td>\n",
       "    </tr>\n",
       "    <tr>\n",
       "      <th>type</th>\n",
       "      <td>alternative splicing</td>\n",
       "    </tr>\n",
       "    <tr>\n",
       "      <th>sequence</th>\n",
       "      <td>None</td>\n",
       "    </tr>\n",
       "    <tr>\n",
       "      <th>begin</th>\n",
       "      <td>1</td>\n",
       "    </tr>\n",
       "    <tr>\n",
       "      <th>end</th>\n",
       "      <td>21</td>\n",
       "    </tr>\n",
       "    <tr>\n",
       "      <th>original</th>\n",
       "      <td>MIAAQLLAYYFTELKDDQVKK</td>\n",
       "    </tr>\n",
       "    <tr>\n",
       "      <th>variation</th>\n",
       "      <td>MAKRALHDF</td>\n",
       "    </tr>\n",
       "    <tr>\n",
       "      <th>vsp</th>\n",
       "      <td>VSP_002073</td>\n",
       "    </tr>\n",
       "    <tr>\n",
       "      <th>uniprot</th>\n",
       "      <td>P19367-4</td>\n",
       "    </tr>\n",
       "  </tbody>\n",
       "</table>\n",
       "</div>"
      ],
      "text/plain": [
       "                                                       4\n",
       "references         [PubMed: 10978502, UniProtKB: P19367]\n",
       "name                                                   4\n",
       "alternative_names                                   [TD]\n",
       "type                                alternative splicing\n",
       "sequence                                            None\n",
       "begin                                                  1\n",
       "end                                                   21\n",
       "original                           MIAAQLLAYYFTELKDDQVKK\n",
       "variation                                      MAKRALHDF\n",
       "vsp                                           VSP_002073\n",
       "uniprot                                         P19367-4"
      ]
     },
     "execution_count": 14,
     "metadata": {},
     "output_type": "execute_result"
    }
   ],
   "source": [
    "isoforms[3].to_pandas_DataFrame().T"
   ]
  },
  {
   "cell_type": "code",
   "execution_count": null,
   "id": "ea9a1c31-5dd8-4e18-b2f8-9e86dd52a5fc",
   "metadata": {},
   "outputs": [],
   "source": []
  }
 ],
 "metadata": {
  "kernelspec": {
   "display_name": "Python 3 (ipykernel)",
   "language": "python",
   "name": "python3"
  },
  "language_info": {
   "codemirror_mode": {
    "name": "ipython",
    "version": 3
   },
   "file_extension": ".py",
   "mimetype": "text/x-python",
   "name": "python",
   "nbconvert_exporter": "python",
   "pygments_lexer": "ipython3",
   "version": "3.7.10"
  }
 },
 "nbformat": 4,
 "nbformat_minor": 5
}
