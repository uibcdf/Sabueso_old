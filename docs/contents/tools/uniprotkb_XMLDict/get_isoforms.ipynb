{
 "cells": [
  {
   "cell_type": "code",
   "execution_count": 1,
   "id": "6a5ea511-b81d-40ad-89e2-f0e2d5248ab8",
   "metadata": {},
   "outputs": [],
   "source": [
    "%load_ext autoreload\n",
    "%autoreload 2"
   ]
  },
  {
   "cell_type": "markdown",
   "id": "c7520dec-146a-465e-85a2-88b91d761648",
   "metadata": {},
   "source": [
    "# get isoforms"
   ]
  },
  {
   "cell_type": "code",
   "execution_count": 2,
   "id": "e85a9ef8-8774-4aae-96f8-23683a494acf",
   "metadata": {},
   "outputs": [],
   "source": [
    "from sabueso.tools.string_uniprot import to_uniprotkb_XMLDict\n",
    "from sabueso.tools.uniprotkb_XMLDict import get_isoforms"
   ]
  },
  {
   "cell_type": "code",
   "execution_count": 3,
   "id": "7d01f99b-5857-4f79-8d27-4b43b0dae986",
   "metadata": {},
   "outputs": [],
   "source": [
    "item = to_uniprotkb_XMLDict('uniprot:P19367')\n",
    "#item = to_uniprotkb_XMLDict('uniprot:P52789')\n",
    "#item = to_uniprotkb_XMLDict('uniprot:P52790')\n",
    "#item = to_uniprotkb_XMLDict('uniprot:P35557')"
   ]
  },
  {
   "cell_type": "code",
   "execution_count": 4,
   "id": "87715d18-a59c-4ec7-b809-a0803d034f2a",
   "metadata": {},
   "outputs": [],
   "source": [
    "isoforms = get_isoforms(item)"
   ]
  },
  {
   "cell_type": "code",
   "execution_count": 5,
   "id": "2b27de6d-a2b6-467a-a298-2375e052fad6",
   "metadata": {},
   "outputs": [
    {
     "data": {
      "text/plain": [
       "[{'id': 'P19367-1',\n",
       "  'name': ['1', 'Common'],\n",
       "  'sequence': None,\n",
       "  'type': 'alternative splicing',\n",
       "  'VSP': None,\n",
       "  'references': [<UniProtKB: P19367>]},\n",
       " {'id': 'P19367-2',\n",
       "  'name': ['2', 'Erythrocyte', 'R'],\n",
       "  'sequence': None,\n",
       "  'type': 'alternative splicing',\n",
       "  'VSP': 'VSP_002071',\n",
       "  'references': [<UniProtKB: P19367>],\n",
       "  'original': 'MIAAQLLAYYFTELKDDQVKK',\n",
       "  'variation': 'MDCEHSLSLPCRGAEAWEIG',\n",
       "  'begin': '1',\n",
       "  'end': '21'},\n",
       " {'id': 'P19367-3',\n",
       "  'name': ['3', 'TA', 'TB'],\n",
       "  'sequence': None,\n",
       "  'type': 'alternative splicing',\n",
       "  'VSP': 'VSP_002072',\n",
       "  'references': [<UniProtKB: P19367>],\n",
       "  'original': 'MIAAQLLAYYFTELKDDQVKK',\n",
       "  'variation': 'MGQICQRESATAAEKPKLHLLAESE',\n",
       "  'begin': '1',\n",
       "  'end': '21'},\n",
       " {'id': 'P19367-4',\n",
       "  'name': ['4', 'TD'],\n",
       "  'sequence': None,\n",
       "  'type': 'alternative splicing',\n",
       "  'VSP': 'VSP_002073',\n",
       "  'references': [<PubMed: 10978502>, <UniProtKB: P19367>],\n",
       "  'original': 'MIAAQLLAYYFTELKDDQVKK',\n",
       "  'variation': 'MAKRALHDF',\n",
       "  'begin': '1',\n",
       "  'end': '21'}]"
      ]
     },
     "execution_count": 5,
     "metadata": {},
     "output_type": "execute_result"
    }
   ],
   "source": [
    "isoforms"
   ]
  },
  {
   "cell_type": "code",
   "execution_count": null,
   "id": "6ad498b7-76a8-42fd-82d3-2c2d6b4c25e7",
   "metadata": {},
   "outputs": [],
   "source": []
  }
 ],
 "metadata": {
  "kernelspec": {
   "display_name": "Python 3 (ipykernel)",
   "language": "python",
   "name": "python3"
  },
  "language_info": {
   "codemirror_mode": {
    "name": "ipython",
    "version": 3
   },
   "file_extension": ".py",
   "mimetype": "text/x-python",
   "name": "python",
   "nbconvert_exporter": "python",
   "pygments_lexer": "ipython3",
   "version": "3.7.10"
  }
 },
 "nbformat": 4,
 "nbformat_minor": 5
}
