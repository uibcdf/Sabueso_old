{
 "cells": [
  {
   "cell_type": "code",
   "execution_count": 1,
   "id": "6a5ea511-b81d-40ad-89e2-f0e2d5248ab8",
   "metadata": {},
   "outputs": [],
   "source": [
    "%load_ext autoreload\n",
    "%autoreload 2"
   ]
  },
  {
   "cell_type": "markdown",
   "id": "c7520dec-146a-465e-85a2-88b91d761648",
   "metadata": {},
   "source": [
    "# get uniprot"
   ]
  },
  {
   "cell_type": "code",
   "execution_count": 2,
   "id": "e85a9ef8-8774-4aae-96f8-23683a494acf",
   "metadata": {},
   "outputs": [],
   "source": [
    "from sabueso.tools.string_uniprot import to_uniprotkb_XMLDict\n",
    "from sabueso.tools.uniprotkb_XMLDict import get_uniprot"
   ]
  },
  {
   "cell_type": "code",
   "execution_count": 3,
   "id": "7d01f99b-5857-4f79-8d27-4b43b0dae986",
   "metadata": {},
   "outputs": [],
   "source": [
    "#item = to_uniprotkb_XMLDict('uniprot:P19367')\n",
    "#item = to_uniprotkb_XMLDict('uniprot:P52789')\n",
    "#item = to_uniprotkb_XMLDict('uniprot:P52790')\n",
    "#item = to_uniprotkb_XMLDict('uniprot:P35557')\n",
    "#item = to_uniprotkb_XMLDict('uniprot:P54254')\n",
    "item = to_uniprotkb_XMLDict('uniprot:Q9FFX4')"
   ]
  },
  {
   "cell_type": "code",
   "execution_count": 4,
   "id": "87715d18-a59c-4ec7-b809-a0803d034f2a",
   "metadata": {},
   "outputs": [],
   "source": [
    "uniprot = get_uniprot(item)"
   ]
  },
  {
   "cell_type": "code",
   "execution_count": 7,
   "id": "2b27de6d-a2b6-467a-a298-2375e052fad6",
   "metadata": {},
   "outputs": [
    {
     "data": {
      "text/html": [
       "<a href=\"https://www.uniprot.org/uniprot/Q9FFX4\">UniProtKB: Q9FFX4</a>"
      ],
      "text/plain": [
       "<UniProtKB: Q9FFX4>"
      ]
     },
     "execution_count": 7,
     "metadata": {},
     "output_type": "execute_result"
    }
   ],
   "source": [
    "uniprot.references[0]"
   ]
  },
  {
   "cell_type": "code",
   "execution_count": 8,
   "id": "16096a90-dd02-43bf-97af-a346aea220a1",
   "metadata": {},
   "outputs": [],
   "source": [
    "uniprot.add_reference(uniprot.references[0])"
   ]
  },
  {
   "cell_type": "code",
   "execution_count": 9,
   "id": "10311067-4f67-45c5-9b31-45d5cd5e1919",
   "metadata": {},
   "outputs": [
    {
     "data": {
      "text/html": [
       "Q9FFX4 <<a href=\"https://www.uniprot.org/uniprot/Q9FFX4\">UniProtKB: Q9FFX4</a>>"
      ],
      "text/plain": [
       "Q9FFX4 <1 refs.>"
      ]
     },
     "execution_count": 9,
     "metadata": {},
     "output_type": "execute_result"
    }
   ],
   "source": [
    "uniprot"
   ]
  },
  {
   "cell_type": "code",
   "execution_count": null,
   "id": "2e397341-bda4-4794-9e87-ddf31fb2b230",
   "metadata": {},
   "outputs": [],
   "source": []
  }
 ],
 "metadata": {
  "kernelspec": {
   "display_name": "Python 3 (ipykernel)",
   "language": "python",
   "name": "python3"
  },
  "language_info": {
   "codemirror_mode": {
    "name": "ipython",
    "version": 3
   },
   "file_extension": ".py",
   "mimetype": "text/x-python",
   "name": "python",
   "nbconvert_exporter": "python",
   "pygments_lexer": "ipython3",
   "version": "3.7.10"
  }
 },
 "nbformat": 4,
 "nbformat_minor": 5
}
