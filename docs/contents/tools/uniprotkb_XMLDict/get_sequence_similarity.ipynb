{
 "cells": [
  {
   "cell_type": "code",
   "execution_count": 1,
   "id": "6a5ea511-b81d-40ad-89e2-f0e2d5248ab8",
   "metadata": {},
   "outputs": [],
   "source": [
    "%load_ext autoreload\n",
    "%autoreload 2"
   ]
  },
  {
   "cell_type": "markdown",
   "id": "c7520dec-146a-465e-85a2-88b91d761648",
   "metadata": {},
   "source": [
    "# get sequence similarity"
   ]
  },
  {
   "cell_type": "code",
   "execution_count": 2,
   "id": "e85a9ef8-8774-4aae-96f8-23683a494acf",
   "metadata": {},
   "outputs": [],
   "source": [
    "from sabueso.tools.string_uniprot import to_uniprotkb_XMLDict\n",
    "from sabueso.tools.uniprotkb_XMLDict import get_sequence_similarity"
   ]
  },
  {
   "cell_type": "code",
   "execution_count": 3,
   "id": "7d01f99b-5857-4f79-8d27-4b43b0dae986",
   "metadata": {},
   "outputs": [],
   "source": [
    "item = to_uniprotkb_XMLDict('uniprot:P19367')"
   ]
  },
  {
   "cell_type": "code",
   "execution_count": 4,
   "id": "87715d18-a59c-4ec7-b809-a0803d034f2a",
   "metadata": {},
   "outputs": [],
   "source": [
    "sequence_similarity = get_sequence_similarity(item)"
   ]
  },
  {
   "cell_type": "code",
   "execution_count": 5,
   "id": "2b27de6d-a2b6-467a-a298-2375e052fad6",
   "metadata": {},
   "outputs": [
    {
     "data": {
      "text/plain": [
       "[Belongs to the hexokinase family. <2 refs.>]"
      ]
     },
     "execution_count": 5,
     "metadata": {},
     "output_type": "execute_result"
    }
   ],
   "source": [
    "sequence_similarity"
   ]
  },
  {
   "cell_type": "code",
   "execution_count": 6,
   "id": "acd57342-cdbe-46ad-8f2c-067c3578c16e",
   "metadata": {},
   "outputs": [
    {
     "data": {
      "text/html": [
       "Belongs to the hexokinase family. <<a href=\"https://prosite.expasy.org/rule/PRU01084\">PROSITE_ProRule: PRU01084</a>, <a href=\"https://www.uniprot.org/uniprot/P19367\">UniProtKB: P19367</a>>"
      ],
      "text/plain": [
       "Belongs to the hexokinase family. <2 refs.>"
      ]
     },
     "execution_count": 6,
     "metadata": {},
     "output_type": "execute_result"
    }
   ],
   "source": [
    "sequence_similarity[0]"
   ]
  },
  {
   "cell_type": "code",
   "execution_count": null,
   "id": "ea9a1c31-5dd8-4e18-b2f8-9e86dd52a5fc",
   "metadata": {},
   "outputs": [],
   "source": []
  }
 ],
 "metadata": {
  "kernelspec": {
   "display_name": "Python 3 (ipykernel)",
   "language": "python",
   "name": "python3"
  },
  "language_info": {
   "codemirror_mode": {
    "name": "ipython",
    "version": 3
   },
   "file_extension": ".py",
   "mimetype": "text/x-python",
   "name": "python",
   "nbconvert_exporter": "python",
   "pygments_lexer": "ipython3",
   "version": "3.7.10"
  }
 },
 "nbformat": 4,
 "nbformat_minor": 5
}
