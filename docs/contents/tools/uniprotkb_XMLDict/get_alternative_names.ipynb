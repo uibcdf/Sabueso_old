{
 "cells": [
  {
   "cell_type": "code",
   "execution_count": 1,
   "id": "6a5ea511-b81d-40ad-89e2-f0e2d5248ab8",
   "metadata": {},
   "outputs": [],
   "source": [
    "%load_ext autoreload\n",
    "%autoreload 2"
   ]
  },
  {
   "cell_type": "markdown",
   "id": "c7520dec-146a-465e-85a2-88b91d761648",
   "metadata": {},
   "source": [
    "# get alternative names"
   ]
  },
  {
   "cell_type": "code",
   "execution_count": 2,
   "id": "e85a9ef8-8774-4aae-96f8-23683a494acf",
   "metadata": {},
   "outputs": [],
   "source": [
    "from sabueso.tools.string_uniprot import to_uniprotkb_XMLDict\n",
    "from sabueso.tools.uniprotkb_XMLDict import get_alternative_names"
   ]
  },
  {
   "cell_type": "code",
   "execution_count": 18,
   "id": "7d01f99b-5857-4f79-8d27-4b43b0dae986",
   "metadata": {},
   "outputs": [],
   "source": [
    "#item = to_uniprotkb_XMLDict('uniprot:P19367')\n",
    "#item = to_uniprotkb_XMLDict('uniprot:P52789')\n",
    "#item = to_uniprotkb_XMLDict('uniprot:P52790')\n",
    "item = to_uniprotkb_XMLDict('uniprot:P35557')"
   ]
  },
  {
   "cell_type": "code",
   "execution_count": 19,
   "id": "9818217a-956d-4e39-b6a1-52cdca0412ee",
   "metadata": {},
   "outputs": [
    {
     "data": {
      "text/plain": [
       "OrderedDict([('fullName',\n",
       "              OrderedDict([('@evidence', '47'), ('#text', 'Hexokinase-4')])),\n",
       "             ('shortName',\n",
       "              OrderedDict([('@evidence', '47'), ('#text', 'HK4')])),\n",
       "             ('ecNumber',\n",
       "              OrderedDict([('@evidence', '10 17 19 21 23 32 36'),\n",
       "                           ('#text', '2.7.1.1')]))])"
      ]
     },
     "execution_count": 19,
     "metadata": {},
     "output_type": "execute_result"
    }
   ],
   "source": [
    "item['uniprot']['entry']['protein']['recommendedName']"
   ]
  },
  {
   "cell_type": "code",
   "execution_count": 20,
   "id": "12810017-f253-4f17-83c6-4288a94fd38c",
   "metadata": {},
   "outputs": [
    {
     "data": {
      "text/plain": [
       "[OrderedDict([('fullName',\n",
       "               OrderedDict([('@evidence', '44'), ('#text', 'Glucokinase')]))]),\n",
       " OrderedDict([('fullName',\n",
       "               OrderedDict([('@evidence', '1'),\n",
       "                            ('#text', 'Hexokinase type IV')])),\n",
       "              ('shortName',\n",
       "               OrderedDict([('@evidence', '1'), ('#text', 'HK IV')]))]),\n",
       " OrderedDict([('fullName',\n",
       "               OrderedDict([('@evidence', '1'), ('#text', 'Hexokinase-D')]))])]"
      ]
     },
     "execution_count": 20,
     "metadata": {},
     "output_type": "execute_result"
    }
   ],
   "source": [
    "item['uniprot']['entry']['protein']['alternativeName']"
   ]
  },
  {
   "cell_type": "code",
   "execution_count": 21,
   "id": "87715d18-a59c-4ec7-b809-a0803d034f2a",
   "metadata": {},
   "outputs": [],
   "source": [
    "alternative_names = get_alternative_names(item)"
   ]
  },
  {
   "cell_type": "code",
   "execution_count": 22,
   "id": "2b27de6d-a2b6-467a-a298-2375e052fad6",
   "metadata": {},
   "outputs": [
    {
     "data": {
      "text/plain": [
       "[HK4 <1 refs.>,\n",
       " Glucokinase <2 refs.>,\n",
       " Hexokinase type IV <2 refs.>,\n",
       " HK IV <2 refs.>,\n",
       " Hexokinase-D <2 refs.>]"
      ]
     },
     "execution_count": 22,
     "metadata": {},
     "output_type": "execute_result"
    }
   ],
   "source": [
    "alternative_names"
   ]
  },
  {
   "cell_type": "code",
   "execution_count": null,
   "id": "94ca478b-e620-4005-bdb9-23f7a31ff1fe",
   "metadata": {},
   "outputs": [],
   "source": []
  }
 ],
 "metadata": {
  "kernelspec": {
   "display_name": "Python 3 (ipykernel)",
   "language": "python",
   "name": "python3"
  },
  "language_info": {
   "codemirror_mode": {
    "name": "ipython",
    "version": 3
   },
   "file_extension": ".py",
   "mimetype": "text/x-python",
   "name": "python",
   "nbconvert_exporter": "python",
   "pygments_lexer": "ipython3",
   "version": "3.7.10"
  }
 },
 "nbformat": 4,
 "nbformat_minor": 5
}
