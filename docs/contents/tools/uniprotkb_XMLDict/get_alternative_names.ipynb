{
 "cells": [
  {
   "cell_type": "code",
   "execution_count": 1,
   "id": "6a5ea511-b81d-40ad-89e2-f0e2d5248ab8",
   "metadata": {},
   "outputs": [],
   "source": [
    "%load_ext autoreload\n",
    "%autoreload 2"
   ]
  },
  {
   "cell_type": "markdown",
   "id": "c7520dec-146a-465e-85a2-88b91d761648",
   "metadata": {},
   "source": [
    "# get alternative names"
   ]
  },
  {
   "cell_type": "code",
   "execution_count": 2,
   "id": "e85a9ef8-8774-4aae-96f8-23683a494acf",
   "metadata": {},
   "outputs": [],
   "source": [
    "from sabueso.tools.string_uniprot import to_uniprotkb_XMLDict\n",
    "from sabueso.tools.uniprotkb_XMLDict import get_alternative_names"
   ]
  },
  {
   "cell_type": "code",
   "execution_count": 3,
   "id": "7d01f99b-5857-4f79-8d27-4b43b0dae986",
   "metadata": {},
   "outputs": [],
   "source": [
    "#item = to_uniprotkb_XMLDict('uniprot:P19367')\n",
    "item = to_uniprotkb_XMLDict('uniprot:P46200')\n",
    "#item = to_uniprotkb_XMLDict('uniprot:P55197')\n",
    "#item = to_uniprotkb_XMLDict('uniprot:P05937')\n",
    "#item = to_uniprotkb_XMLDict('uniprot:P00374')\n",
    "#item = to_uniprotkb_XMLDict('uniprot:Q9FFX4')"
   ]
  },
  {
   "cell_type": "code",
   "execution_count": 4,
   "id": "9818217a-956d-4e39-b6a1-52cdca0412ee",
   "metadata": {},
   "outputs": [
    {
     "data": {
      "text/plain": [
       "OrderedDict([('fullName', 'Transcriptional activator Myb')])"
      ]
     },
     "execution_count": 4,
     "metadata": {},
     "output_type": "execute_result"
    }
   ],
   "source": [
    "item['uniprot']['entry']['protein']['recommendedName']"
   ]
  },
  {
   "cell_type": "code",
   "execution_count": 5,
   "id": "ed1bfd83-50d3-4e46-9ca8-79713ba68aa9",
   "metadata": {},
   "outputs": [
    {
     "data": {
      "text/plain": [
       "True"
      ]
     },
     "execution_count": 5,
     "metadata": {},
     "output_type": "execute_result"
    }
   ],
   "source": [
    "'fullName' in item['uniprot']['entry']['protein']['alternativeName']"
   ]
  },
  {
   "cell_type": "code",
   "execution_count": 6,
   "id": "12810017-f253-4f17-83c6-4288a94fd38c",
   "metadata": {},
   "outputs": [
    {
     "data": {
      "text/plain": [
       "OrderedDict([('fullName', 'Proto-oncogene c-Myb')])"
      ]
     },
     "execution_count": 6,
     "metadata": {},
     "output_type": "execute_result"
    }
   ],
   "source": [
    "item['uniprot']['entry']['protein']['alternativeName']"
   ]
  },
  {
   "cell_type": "code",
   "execution_count": 8,
   "id": "87715d18-a59c-4ec7-b809-a0803d034f2a",
   "metadata": {},
   "outputs": [],
   "source": [
    "alternative_names = get_alternative_names(item)"
   ]
  },
  {
   "cell_type": "code",
   "execution_count": 9,
   "id": "2b27de6d-a2b6-467a-a298-2375e052fad6",
   "metadata": {},
   "outputs": [
    {
     "data": {
      "text/plain": [
       "[Proto-oncogene c-Myb <1 refs.>]"
      ]
     },
     "execution_count": 9,
     "metadata": {},
     "output_type": "execute_result"
    }
   ],
   "source": [
    "alternative_names"
   ]
  },
  {
   "cell_type": "code",
   "execution_count": 10,
   "id": "94ca478b-e620-4005-bdb9-23f7a31ff1fe",
   "metadata": {},
   "outputs": [
    {
     "data": {
      "text/html": [
       "Proto-oncogene c-Myb <<a href=\"https://www.uniprot.org/uniprot/P46200\">UniProtKB: P46200</a>>"
      ],
      "text/plain": [
       "Proto-oncogene c-Myb <1 refs.>"
      ]
     },
     "execution_count": 10,
     "metadata": {},
     "output_type": "execute_result"
    }
   ],
   "source": [
    "alternative_names[0]"
   ]
  },
  {
   "cell_type": "code",
   "execution_count": null,
   "id": "7d51a142-1c56-4012-8c97-f81e7278cfdb",
   "metadata": {},
   "outputs": [],
   "source": []
  }
 ],
 "metadata": {
  "kernelspec": {
   "display_name": "Python 3 (ipykernel)",
   "language": "python",
   "name": "python3"
  },
  "language_info": {
   "codemirror_mode": {
    "name": "ipython",
    "version": 3
   },
   "file_extension": ".py",
   "mimetype": "text/x-python",
   "name": "python",
   "nbconvert_exporter": "python",
   "pygments_lexer": "ipython3",
   "version": "3.7.10"
  }
 },
 "nbformat": 4,
 "nbformat_minor": 5
}
