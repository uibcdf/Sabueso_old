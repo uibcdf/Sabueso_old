{
 "cells": [
  {
   "cell_type": "code",
   "execution_count": 1,
   "id": "6a5ea511-b81d-40ad-89e2-f0e2d5248ab8",
   "metadata": {},
   "outputs": [],
   "source": [
    "%load_ext autoreload\n",
    "%autoreload 2"
   ]
  },
  {
   "cell_type": "markdown",
   "id": "c7520dec-146a-465e-85a2-88b91d761648",
   "metadata": {},
   "source": [
    "# get subunit structure"
   ]
  },
  {
   "cell_type": "code",
   "execution_count": 2,
   "id": "e85a9ef8-8774-4aae-96f8-23683a494acf",
   "metadata": {},
   "outputs": [],
   "source": [
    "#from sabueso.tools.string_uniprot import to_uniprotkb_XMLDict\n",
    "#from sabueso.tools.uniprotkb_XMLDict import get_subunit_structure"
   ]
  },
  {
   "cell_type": "code",
   "execution_count": 3,
   "id": "955d2c3a-60e0-4694-b92e-98a40d9f1126",
   "metadata": {},
   "outputs": [],
   "source": [
    "#item = 'uniprot:P19367'\n",
    "#item = 'uniprot:P52789'\n",
    "#item = 'uniprot:P52790'\n",
    "#item = 'uniprot:P35557'"
   ]
  },
  {
   "cell_type": "code",
   "execution_count": 4,
   "id": "7d01f99b-5857-4f79-8d27-4b43b0dae986",
   "metadata": {},
   "outputs": [],
   "source": [
    "#item = to_uniprotkb_XMLDict(item)"
   ]
  },
  {
   "cell_type": "code",
   "execution_count": 8,
   "id": "87715d18-a59c-4ec7-b809-a0803d034f2a",
   "metadata": {},
   "outputs": [],
   "source": [
    "#subunit_structure = get_subunit_structure(item)"
   ]
  },
  {
   "cell_type": "code",
   "execution_count": 9,
   "id": "1822ddeb-0be0-4646-97e7-2976cae1c7ea",
   "metadata": {},
   "outputs": [
    {
     "data": {
      "text/html": [
       "Monomer (PubMed:15016359, PubMed:19362831, PubMed:23957911). Interacts with MIDN; the interaction occurs preferentially at low glucose levels and results in inhibition of hexokinase activity (PubMed:24187134). Interacts with GCKR; leading to sequestration in the nucleus (PubMed:10456334). <<a href=\"https://pubmed.ncbi.nlm.nih.gov/10456334\">PubMed: 10456334</a>, <a href=\"https://www.uniprot.org/uniprot/P35557\">UniProtKB: P35557</a>, <a href=\"https://pubmed.ncbi.nlm.nih.gov/15016359\">PubMed: 15016359</a>, <a href=\"https://pubmed.ncbi.nlm.nih.gov/19362831\">PubMed: 19362831</a>, <a href=\"https://pubmed.ncbi.nlm.nih.gov/23957911\">PubMed: 23957911</a>, <a href=\"https://pubmed.ncbi.nlm.nih.gov/24187134\">PubMed: 24187134</a>>"
      ],
      "text/plain": [
       "Monomer (PubMed:15016359, PubMed:19362831, PubMed:23957911). Interacts with MIDN; the interaction occurs preferentially at low glucose levels and results in inhibition of hexokinase activity (PubMed:24187134). Interacts with GCKR; leading to sequestration in the nucleus (PubMed:10456334). <6 refs.>"
      ]
     },
     "execution_count": 9,
     "metadata": {},
     "output_type": "execute_result"
    }
   ],
   "source": [
    "#subunit_structure"
   ]
  },
  {
   "cell_type": "code",
   "execution_count": null,
   "id": "e825eb67-3bac-4bce-9d65-d44efe623fe9",
   "metadata": {},
   "outputs": [],
   "source": []
  }
 ],
 "metadata": {
  "kernelspec": {
   "display_name": "Python 3 (ipykernel)",
   "language": "python",
   "name": "python3"
  },
  "language_info": {
   "codemirror_mode": {
    "name": "ipython",
    "version": 3
   },
   "file_extension": ".py",
   "mimetype": "text/x-python",
   "name": "python",
   "nbconvert_exporter": "python",
   "pygments_lexer": "ipython3",
   "version": "3.7.10"
  }
 },
 "nbformat": 4,
 "nbformat_minor": 5
}
