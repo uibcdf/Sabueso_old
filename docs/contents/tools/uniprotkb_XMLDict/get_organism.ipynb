{
 "cells": [
  {
   "cell_type": "code",
   "execution_count": 1,
   "id": "6a5ea511-b81d-40ad-89e2-f0e2d5248ab8",
   "metadata": {},
   "outputs": [],
   "source": [
    "%load_ext autoreload\n",
    "%autoreload 2"
   ]
  },
  {
   "cell_type": "markdown",
   "id": "c7520dec-146a-465e-85a2-88b91d761648",
   "metadata": {},
   "source": [
    "# get organism"
   ]
  },
  {
   "cell_type": "code",
   "execution_count": 2,
   "id": "e85a9ef8-8774-4aae-96f8-23683a494acf",
   "metadata": {},
   "outputs": [],
   "source": [
    "from sabueso.tools.string_uniprot import to_uniprotkb_XMLDict\n",
    "from sabueso.tools.uniprotkb_XMLDict import get_organism"
   ]
  },
  {
   "cell_type": "code",
   "execution_count": 3,
   "id": "7d01f99b-5857-4f79-8d27-4b43b0dae986",
   "metadata": {},
   "outputs": [],
   "source": [
    "item = to_uniprotkb_XMLDict('uniprot:P19367')\n",
    "#item = to_uniprotkb_XMLDict('uniprot:P52789')\n",
    "#item = to_uniprotkb_XMLDict('uniprot:P52790')\n",
    "#item = to_uniprotkb_XMLDict('uniprot:P35557')"
   ]
  },
  {
   "cell_type": "code",
   "execution_count": 4,
   "id": "9818217a-956d-4e39-b6a1-52cdca0412ee",
   "metadata": {},
   "outputs": [],
   "source": [
    "#item['uniprot']['entry']['organism']"
   ]
  },
  {
   "cell_type": "code",
   "execution_count": 5,
   "id": "87715d18-a59c-4ec7-b809-a0803d034f2a",
   "metadata": {},
   "outputs": [],
   "source": [
    "organism = get_organism(item)"
   ]
  },
  {
   "cell_type": "code",
   "execution_count": 6,
   "id": "2b27de6d-a2b6-467a-a298-2375e052fad6",
   "metadata": {},
   "outputs": [
    {
     "data": {
      "text/plain": [
       "{'references': [<NCBI_Taxonomy: 9606>, <UniProtKB: P19367>],\n",
       " 'common_name': Human <2 refs.>,\n",
       " 'scientific_name': Homo sapiens <2 refs.>,\n",
       " 'ncbi_taxonomy': 9606 <2 refs.>}"
      ]
     },
     "execution_count": 6,
     "metadata": {},
     "output_type": "execute_result"
    }
   ],
   "source": [
    "organism"
   ]
  },
  {
   "cell_type": "code",
   "execution_count": 7,
   "id": "90b67d7f-39d9-4987-a23e-bd602577fa54",
   "metadata": {},
   "outputs": [],
   "source": [
    "organism = get_organism(item, as_card=True)"
   ]
  },
  {
   "cell_type": "code",
   "execution_count": 8,
   "id": "e11b964d-b8d1-4ffe-b594-c71cb4ad515b",
   "metadata": {},
   "outputs": [
    {
     "data": {
      "text/html": [
       "Human <<a href=\"https://www.ncbi.nlm.nih.gov/Taxonomy/Browser/wwwtax.cgi?id=9606\">NCBI_Taxonomy: 9606</a>, <a href=\"https://www.uniprot.org/uniprot/P19367\">UniProtKB: P19367</a>>"
      ],
      "text/plain": [
       "Human <2 refs.>"
      ]
     },
     "execution_count": 8,
     "metadata": {},
     "output_type": "execute_result"
    }
   ],
   "source": [
    "organism.common_name"
   ]
  },
  {
   "cell_type": "code",
   "execution_count": 9,
   "id": "c7d1ce92-cdef-4c2e-96b4-e7e45f748c71",
   "metadata": {},
   "outputs": [
    {
     "data": {
      "text/html": [
       "9606 <<a href=\"https://www.ncbi.nlm.nih.gov/Taxonomy/Browser/wwwtax.cgi?id=9606\">NCBI_Taxonomy: 9606</a>, <a href=\"https://www.uniprot.org/uniprot/P19367\">UniProtKB: P19367</a>>"
      ],
      "text/plain": [
       "9606 <2 refs.>"
      ]
     },
     "execution_count": 9,
     "metadata": {},
     "output_type": "execute_result"
    }
   ],
   "source": [
    "organism.ncbi_taxonomy"
   ]
  },
  {
   "cell_type": "code",
   "execution_count": 11,
   "id": "5218b16a-d636-4f51-9840-94fb96ad667a",
   "metadata": {},
   "outputs": [
    {
     "data": {
      "text/html": [
       "<div>\n",
       "<style scoped>\n",
       "    .dataframe tbody tr th:only-of-type {\n",
       "        vertical-align: middle;\n",
       "    }\n",
       "\n",
       "    .dataframe tbody tr th {\n",
       "        vertical-align: top;\n",
       "    }\n",
       "\n",
       "    .dataframe thead th {\n",
       "        text-align: right;\n",
       "    }\n",
       "</style>\n",
       "<table border=\"1\" class=\"dataframe\">\n",
       "  <thead>\n",
       "    <tr style=\"text-align: right;\">\n",
       "      <th></th>\n",
       "      <th>Human &lt;NCBI_Taxonomy: 9606, UniProtKB: P19367&gt;</th>\n",
       "    </tr>\n",
       "  </thead>\n",
       "  <tbody>\n",
       "    <tr>\n",
       "      <th>references</th>\n",
       "      <td>[NCBI_Taxonomy: 9606, UniProtKB: P19367]</td>\n",
       "    </tr>\n",
       "    <tr>\n",
       "      <th>common_name</th>\n",
       "      <td>Human</td>\n",
       "    </tr>\n",
       "    <tr>\n",
       "      <th>scientific_name</th>\n",
       "      <td>Homo sapiens</td>\n",
       "    </tr>\n",
       "    <tr>\n",
       "      <th>ncbi_taxonomy</th>\n",
       "      <td>9606</td>\n",
       "    </tr>\n",
       "  </tbody>\n",
       "</table>\n",
       "</div>"
      ],
      "text/plain": [
       "                Human <NCBI_Taxonomy: 9606, UniProtKB: P19367>\n",
       "references            [NCBI_Taxonomy: 9606, UniProtKB: P19367]\n",
       "common_name                                              Human\n",
       "scientific_name                                   Homo sapiens\n",
       "ncbi_taxonomy                                             9606"
      ]
     },
     "execution_count": 11,
     "metadata": {},
     "output_type": "execute_result"
    }
   ],
   "source": [
    "organism.to_pandas_DataFrame(with_evidences=False).T"
   ]
  },
  {
   "cell_type": "code",
   "execution_count": null,
   "id": "1822ddeb-0be0-4646-97e7-2976cae1c7ea",
   "metadata": {},
   "outputs": [],
   "source": []
  }
 ],
 "metadata": {
  "kernelspec": {
   "display_name": "Python 3 (ipykernel)",
   "language": "python",
   "name": "python3"
  },
  "language_info": {
   "codemirror_mode": {
    "name": "ipython",
    "version": 3
   },
   "file_extension": ".py",
   "mimetype": "text/x-python",
   "name": "python",
   "nbconvert_exporter": "python",
   "pygments_lexer": "ipython3",
   "version": "3.7.10"
  }
 },
 "nbformat": 4,
 "nbformat_minor": 5
}
