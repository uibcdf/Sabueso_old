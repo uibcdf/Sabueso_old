{
 "cells": [
  {
   "cell_type": "code",
   "execution_count": 1,
   "id": "6a5ea511-b81d-40ad-89e2-f0e2d5248ab8",
   "metadata": {},
   "outputs": [],
   "source": [
    "%load_ext autoreload\n",
    "%autoreload 2"
   ]
  },
  {
   "cell_type": "markdown",
   "id": "c7520dec-146a-465e-85a2-88b91d761648",
   "metadata": {},
   "source": [
    "# get nucleotide phosphate binding regions"
   ]
  },
  {
   "cell_type": "code",
   "execution_count": 2,
   "id": "e85a9ef8-8774-4aae-96f8-23683a494acf",
   "metadata": {},
   "outputs": [],
   "source": [
    "from sabueso.tools.string_uniprot import to_uniprotkb_XMLDict\n",
    "from sabueso.tools.uniprotkb_XMLDict import get_nucleotide_binding_regions"
   ]
  },
  {
   "cell_type": "code",
   "execution_count": 3,
   "id": "7d01f99b-5857-4f79-8d27-4b43b0dae986",
   "metadata": {},
   "outputs": [],
   "source": [
    "item = to_uniprotkb_XMLDict('uniprot:P19367')\n",
    "#item = to_uniprotkb_XMLDict('uniprot:P52789')\n",
    "#item = to_uniprotkb_XMLDict('uniprot:P52790')\n",
    "#item = to_uniprotkb_XMLDict('uniprot:P35557')\n",
    "#item = to_uniprotkb_XMLDict('uniprot:P54254')\n",
    "#item = to_uniprotkb_XMLDict('uniprot:Q9FFX4')"
   ]
  },
  {
   "cell_type": "code",
   "execution_count": 4,
   "id": "87715d18-a59c-4ec7-b809-a0803d034f2a",
   "metadata": {},
   "outputs": [],
   "source": [
    "nucleotide_binding_regions = get_nucleotide_binding_regions(item)"
   ]
  },
  {
   "cell_type": "code",
   "execution_count": 5,
   "id": "2b27de6d-a2b6-467a-a298-2375e052fad6",
   "metadata": {},
   "outputs": [
    {
     "data": {
      "text/plain": [
       "[{'references': [<UniProtKB: P19367>,\n",
       "   <PubMed: 10686099>,\n",
       "   <PubMed: 9735292>,\n",
       "   <PDB: 1DGK>,\n",
       "   <PDB: 1HKC>],\n",
       "  'nucleotide': 'ATP 1',\n",
       "  'begin': '84',\n",
       "  'end': '89'},\n",
       " {'references': [<UniProtKB: P19367>,\n",
       "   <PubMed: 10574795>,\n",
       "   <PubMed: 10686099>,\n",
       "   <PDB: 1CZA>,\n",
       "   <PDB: 1DGK>,\n",
       "   <PDB: 1QHA>],\n",
       "  'nucleotide': 'ATP 1',\n",
       "  'begin': '425',\n",
       "  'end': '426'},\n",
       " {'references': [<UniProtKB: P19367>, <PubMed: 10686099>, <PDB: 1DGK>],\n",
       "  'nucleotide': 'ATP 2',\n",
       "  'begin': '532',\n",
       "  'end': '537'},\n",
       " {'references': [<UniProtKB: P19367>, <PubMed: 10686099>, <PDB: 1DGK>],\n",
       "  'nucleotide': 'ATP 2',\n",
       "  'begin': '747',\n",
       "  'end': '748'},\n",
       " {'references': [<UniProtKB: P19367>, <PubMed: 10686099>, <PDB: 1DGK>],\n",
       "  'nucleotide': 'ATP 2',\n",
       "  'begin': '784',\n",
       "  'end': '788'},\n",
       " {'references': [<UniProtKB: P19367>,\n",
       "   <PubMed: 10686099>,\n",
       "   <PubMed: 9735292>,\n",
       "   <PDB: 1DGK>,\n",
       "   <PDB: 1HKC>],\n",
       "  'nucleotide': 'ATP 2',\n",
       "  'begin': '863',\n",
       "  'end': '867'}]"
      ]
     },
     "execution_count": 5,
     "metadata": {},
     "output_type": "execute_result"
    }
   ],
   "source": [
    "nucleotide_binding_regions"
   ]
  },
  {
   "cell_type": "code",
   "execution_count": 6,
   "id": "6ad498b7-76a8-42fd-82d3-2c2d6b4c25e7",
   "metadata": {},
   "outputs": [],
   "source": [
    "nucleotide_binding_regions = get_nucleotide_binding_regions(item, as_cards=True)"
   ]
  },
  {
   "cell_type": "code",
   "execution_count": 7,
   "id": "b3af5153-7940-40ff-bd17-c7648f245b48",
   "metadata": {},
   "outputs": [
    {
     "data": {
      "text/plain": [
       "[<NucleotideBindingRegionCard: ATP 1 84-89>,\n",
       " <NucleotideBindingRegionCard: ATP 1 425-426>,\n",
       " <NucleotideBindingRegionCard: ATP 2 532-537>,\n",
       " <NucleotideBindingRegionCard: ATP 2 747-748>,\n",
       " <NucleotideBindingRegionCard: ATP 2 784-788>,\n",
       " <NucleotideBindingRegionCard: ATP 2 863-867>]"
      ]
     },
     "execution_count": 7,
     "metadata": {},
     "output_type": "execute_result"
    }
   ],
   "source": [
    "nucleotide_binding_regions"
   ]
  },
  {
   "cell_type": "code",
   "execution_count": 8,
   "id": "33081e77-d8ae-4322-9eb3-a7bafe62f6fc",
   "metadata": {},
   "outputs": [
    {
     "data": {
      "text/html": [
       "<div>\n",
       "<style scoped>\n",
       "    .dataframe tbody tr th:only-of-type {\n",
       "        vertical-align: middle;\n",
       "    }\n",
       "\n",
       "    .dataframe tbody tr th {\n",
       "        vertical-align: top;\n",
       "    }\n",
       "\n",
       "    .dataframe thead th {\n",
       "        text-align: right;\n",
       "    }\n",
       "</style>\n",
       "<table border=\"1\" class=\"dataframe\">\n",
       "  <thead>\n",
       "    <tr style=\"text-align: right;\">\n",
       "      <th></th>\n",
       "      <th>84-89</th>\n",
       "    </tr>\n",
       "  </thead>\n",
       "  <tbody>\n",
       "    <tr>\n",
       "      <th>references</th>\n",
       "      <td>[UniProtKB: P19367, PubMed: 10686099, PubMed: ...</td>\n",
       "    </tr>\n",
       "    <tr>\n",
       "      <th>nucleotide</th>\n",
       "      <td>ATP 1</td>\n",
       "    </tr>\n",
       "    <tr>\n",
       "      <th>begin</th>\n",
       "      <td>84</td>\n",
       "    </tr>\n",
       "    <tr>\n",
       "      <th>end</th>\n",
       "      <td>89</td>\n",
       "    </tr>\n",
       "  </tbody>\n",
       "</table>\n",
       "</div>"
      ],
      "text/plain": [
       "                                                        84-89\n",
       "references  [UniProtKB: P19367, PubMed: 10686099, PubMed: ...\n",
       "nucleotide                                              ATP 1\n",
       "begin                                                      84\n",
       "end                                                        89"
      ]
     },
     "execution_count": 8,
     "metadata": {},
     "output_type": "execute_result"
    }
   ],
   "source": [
    "nucleotide_binding_regions[0].to_pandas_DataFrame().T"
   ]
  },
  {
   "cell_type": "code",
   "execution_count": null,
   "id": "ea9a1c31-5dd8-4e18-b2f8-9e86dd52a5fc",
   "metadata": {},
   "outputs": [],
   "source": []
  }
 ],
 "metadata": {
  "kernelspec": {
   "display_name": "Python 3 (ipykernel)",
   "language": "python",
   "name": "python3"
  },
  "language_info": {
   "codemirror_mode": {
    "name": "ipython",
    "version": 3
   },
   "file_extension": ".py",
   "mimetype": "text/x-python",
   "name": "python",
   "nbconvert_exporter": "python",
   "pygments_lexer": "ipython3",
   "version": "3.7.10"
  }
 },
 "nbformat": 4,
 "nbformat_minor": 5
}
