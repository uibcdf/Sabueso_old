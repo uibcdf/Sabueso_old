{
 "cells": [
  {
   "cell_type": "code",
   "execution_count": 1,
   "id": "6a5ea511-b81d-40ad-89e2-f0e2d5248ab8",
   "metadata": {},
   "outputs": [],
   "source": [
    "%load_ext autoreload\n",
    "%autoreload 2"
   ]
  },
  {
   "cell_type": "markdown",
   "id": "c7520dec-146a-465e-85a2-88b91d761648",
   "metadata": {},
   "source": [
    "# get ec"
   ]
  },
  {
   "cell_type": "code",
   "execution_count": 2,
   "id": "e85a9ef8-8774-4aae-96f8-23683a494acf",
   "metadata": {},
   "outputs": [],
   "source": [
    "#from sabueso.tools.string_uniprot import to_uniprotkb_XMLDict\n",
    "#from sabueso.tools.uniprotkb_XMLDict import get_ec"
   ]
  },
  {
   "cell_type": "code",
   "execution_count": 3,
   "id": "7d01f99b-5857-4f79-8d27-4b43b0dae986",
   "metadata": {},
   "outputs": [],
   "source": [
    "#item = to_uniprotkb_XMLDict('uniprot:P19367')\n",
    "#item = to_uniprotkb_XMLDict('uniprot:P52789')\n",
    "#item = to_uniprotkb_XMLDict('uniprot:P52790')\n",
    "#item = to_uniprotkb_XMLDict('uniprot:P35557')"
   ]
  },
  {
   "cell_type": "code",
   "execution_count": 4,
   "id": "c41d4d3f-e32b-4c86-ab82-b69c2664759d",
   "metadata": {},
   "outputs": [
    {
     "data": {
      "text/plain": [
       "OrderedDict([('fullName',\n",
       "              OrderedDict([('@evidence', '47'), ('#text', 'Hexokinase-4')])),\n",
       "             ('shortName',\n",
       "              OrderedDict([('@evidence', '47'), ('#text', 'HK4')])),\n",
       "             ('ecNumber',\n",
       "              OrderedDict([('@evidence', '10 17 19 21 23 32 36'),\n",
       "                           ('#text', '2.7.1.1')]))])"
      ]
     },
     "execution_count": 4,
     "metadata": {},
     "output_type": "execute_result"
    }
   ],
   "source": [
    "#item['uniprot']['entry']['protein']['recommendedName']"
   ]
  },
  {
   "cell_type": "code",
   "execution_count": 5,
   "id": "e7fbef41-6198-46d0-be06-b1f4213459ce",
   "metadata": {},
   "outputs": [
    {
     "data": {
      "text/plain": [
       "OrderedDict([('@type', 'EC'),\n",
       "             ('@id', '2.7.1.1'),\n",
       "             ('@evidence', '10 17 19 21 23 32 36')])"
      ]
     },
     "execution_count": 5,
     "metadata": {},
     "output_type": "execute_result"
    }
   ],
   "source": [
    "#item['uniprot']['entry']['dbReference'][0]"
   ]
  },
  {
   "cell_type": "code",
   "execution_count": 6,
   "id": "87715d18-a59c-4ec7-b809-a0803d034f2a",
   "metadata": {},
   "outputs": [],
   "source": [
    "#ec = get_ec(item)"
   ]
  },
  {
   "cell_type": "code",
   "execution_count": 7,
   "id": "2b27de6d-a2b6-467a-a298-2375e052fad6",
   "metadata": {},
   "outputs": [
    {
     "data": {
      "text/html": [
       "2.7.1.1 <<a href=\"https://pubmed.ncbi.nlm.nih.gov/11916951\">PubMed: 11916951</a>, <a href=\"https://pubmed.ncbi.nlm.nih.gov/15277402\">PubMed: 15277402</a>, <a href=\"https://pubmed.ncbi.nlm.nih.gov/17082186\">PubMed: 17082186</a>, <a href=\"https://pubmed.ncbi.nlm.nih.gov/18322640\">PubMed: 18322640</a>, <a href=\"https://pubmed.ncbi.nlm.nih.gov/19146401\">PubMed: 19146401</a>, <a href=\"https://pubmed.ncbi.nlm.nih.gov/25015100\">PubMed: 25015100</a>, <a href=\"https://pubmed.ncbi.nlm.nih.gov/8325892\">PubMed: 8325892</a>, <a href=\"https://www.uniprot.org/uniprot/P35557\">UniProtKB: P35557</a>, <a href=\"https://enzyme.expasy.org/EC/2.7.1.1\">EC: 2.7.1.1</a>>"
      ],
      "text/plain": [
       "2.7.1.1 <9 refs.>"
      ]
     },
     "execution_count": 7,
     "metadata": {},
     "output_type": "execute_result"
    }
   ],
   "source": [
    "#ec"
   ]
  }
 ],
 "metadata": {
  "kernelspec": {
   "display_name": "Python 3 (ipykernel)",
   "language": "python",
   "name": "python3"
  },
  "language_info": {
   "codemirror_mode": {
    "name": "ipython",
    "version": 3
   },
   "file_extension": ".py",
   "mimetype": "text/x-python",
   "name": "python",
   "nbconvert_exporter": "python",
   "pygments_lexer": "ipython3",
   "version": "3.7.10"
  }
 },
 "nbformat": 4,
 "nbformat_minor": 5
}
