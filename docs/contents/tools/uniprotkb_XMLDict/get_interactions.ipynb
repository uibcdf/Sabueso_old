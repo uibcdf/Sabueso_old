{
 "cells": [
  {
   "cell_type": "code",
   "execution_count": 1,
   "id": "6a5ea511-b81d-40ad-89e2-f0e2d5248ab8",
   "metadata": {},
   "outputs": [],
   "source": [
    "%load_ext autoreload\n",
    "%autoreload 2"
   ]
  },
  {
   "cell_type": "markdown",
   "id": "c7520dec-146a-465e-85a2-88b91d761648",
   "metadata": {},
   "source": [
    "# get interactions"
   ]
  },
  {
   "cell_type": "code",
   "execution_count": 2,
   "id": "e85a9ef8-8774-4aae-96f8-23683a494acf",
   "metadata": {},
   "outputs": [],
   "source": [
    "#from sabueso.tools.string_uniprot import to_uniprotkb_XMLDict\n",
    "#from sabueso.tools.uniprotkb_XMLDict import get_interactions"
   ]
  },
  {
   "cell_type": "code",
   "execution_count": 3,
   "id": "7d01f99b-5857-4f79-8d27-4b43b0dae986",
   "metadata": {},
   "outputs": [],
   "source": [
    "#item = to_uniprotkb_XMLDict('uniprot:P19367')\n",
    "#item = to_uniprotkb_XMLDict('uniprot:P52789')\n",
    "#item = to_uniprotkb_XMLDict('uniprot:P52790')\n",
    "#item = to_uniprotkb_XMLDict('uniprot:P35557')"
   ]
  },
  {
   "cell_type": "code",
   "execution_count": 4,
   "id": "9818217a-956d-4e39-b6a1-52cdca0412ee",
   "metadata": {},
   "outputs": [],
   "source": [
    "#item['uniprot']['entry']['organism']"
   ]
  },
  {
   "cell_type": "code",
   "execution_count": 5,
   "id": "87715d18-a59c-4ec7-b809-a0803d034f2a",
   "metadata": {},
   "outputs": [],
   "source": [
    "#interactions = get_interactions(item)"
   ]
  },
  {
   "cell_type": "code",
   "execution_count": 6,
   "id": "2b27de6d-a2b6-467a-a298-2375e052fad6",
   "metadata": {},
   "outputs": [
    {
     "data": {
      "text/plain": [
       "[{'references': [],\n",
       "  'interactants': [{'references': [<UniProtKB: accession>],\n",
       "    'type': 'protein',\n",
       "    'name': None,\n",
       "    'ebi': 'EBI-713162',\n",
       "    'uniprot': 'P19367',\n",
       "    'mutations': None,\n",
       "    'isoform_specific': None},\n",
       "   {'references': [<UniProtKB: accession>],\n",
       "    'type': 'protein',\n",
       "    'name': None,\n",
       "    'ebi': 'EBI-621482',\n",
       "    'uniprot': 'P12931',\n",
       "    'mutations': None,\n",
       "    'isoform_specific': None}],\n",
       "  'n_experiments': 2,\n",
       "  'same_organism': True,\n",
       "  'ebi': None,\n",
       "  'imex': None,\n",
       "  'with_mutations': None},\n",
       " {'references': [],\n",
       "  'interactants': [{'references': [<UniProtKB: accession>],\n",
       "    'type': 'protein',\n",
       "    'name': None,\n",
       "    'ebi': 'EBI-713162',\n",
       "    'uniprot': 'P19367',\n",
       "    'mutations': None,\n",
       "    'isoform_specific': None},\n",
       "   {'references': [<UniProtKB: accession>],\n",
       "    'type': 'protein',\n",
       "    'name': None,\n",
       "    'ebi': 'EBI-354158',\n",
       "    'uniprot': 'P21796',\n",
       "    'mutations': None,\n",
       "    'isoform_specific': None}],\n",
       "  'n_experiments': 2,\n",
       "  'same_organism': True,\n",
       "  'ebi': None,\n",
       "  'imex': None,\n",
       "  'with_mutations': None},\n",
       " {'references': [],\n",
       "  'interactants': [{'references': [<UniProtKB: accession>],\n",
       "    'type': 'protein',\n",
       "    'name': None,\n",
       "    'ebi': 'EBI-713162',\n",
       "    'uniprot': 'P19367',\n",
       "    'mutations': None,\n",
       "    'isoform_specific': None},\n",
       "   {'references': [<UniProtKB: accession>],\n",
       "    'type': 'protein',\n",
       "    'name': None,\n",
       "    'ebi': 'EBI-298680',\n",
       "    'uniprot': 'P05480',\n",
       "    'mutations': None,\n",
       "    'isoform_specific': None}],\n",
       "  'n_experiments': 8,\n",
       "  'same_organism': False,\n",
       "  'ebi': None,\n",
       "  'imex': None,\n",
       "  'with_mutations': None}]"
      ]
     },
     "execution_count": 6,
     "metadata": {},
     "output_type": "execute_result"
    }
   ],
   "source": [
    "#interactions"
   ]
  },
  {
   "cell_type": "code",
   "execution_count": 7,
   "id": "90b67d7f-39d9-4987-a23e-bd602577fa54",
   "metadata": {},
   "outputs": [],
   "source": [
    "#interactions = get_interactions(item, as_cards=True)"
   ]
  },
  {
   "cell_type": "code",
   "execution_count": 8,
   "id": "e11b964d-b8d1-4ffe-b594-c71cb4ad515b",
   "metadata": {},
   "outputs": [
    {
     "data": {
      "text/plain": [
       "[<InteractionCard: [<InteractantCard: protein, EBI-713162>, <InteractantCard: protein, EBI-621482>]>,\n",
       " <InteractionCard: [<InteractantCard: protein, EBI-713162>, <InteractantCard: protein, EBI-354158>]>,\n",
       " <InteractionCard: [<InteractantCard: protein, EBI-713162>, <InteractantCard: protein, EBI-298680>]>]"
      ]
     },
     "execution_count": 8,
     "metadata": {},
     "output_type": "execute_result"
    }
   ],
   "source": [
    "#interactions"
   ]
  },
  {
   "cell_type": "code",
   "execution_count": 9,
   "id": "5218b16a-d636-4f51-9840-94fb96ad667a",
   "metadata": {},
   "outputs": [
    {
     "data": {
      "text/html": [
       "<div>\n",
       "<style scoped>\n",
       "    .dataframe tbody tr th:only-of-type {\n",
       "        vertical-align: middle;\n",
       "    }\n",
       "\n",
       "    .dataframe tbody tr th {\n",
       "        vertical-align: top;\n",
       "    }\n",
       "\n",
       "    .dataframe thead th {\n",
       "        text-align: right;\n",
       "    }\n",
       "</style>\n",
       "<table border=\"1\" class=\"dataframe\">\n",
       "  <thead>\n",
       "    <tr style=\"text-align: right;\">\n",
       "      <th></th>\n",
       "      <th>NaN</th>\n",
       "    </tr>\n",
       "  </thead>\n",
       "  <tbody>\n",
       "    <tr>\n",
       "      <th>references</th>\n",
       "      <td>[]</td>\n",
       "    </tr>\n",
       "    <tr>\n",
       "      <th>interactants</th>\n",
       "      <td>[&lt;InteractantCard: protein, EBI-713162&gt;, &lt;Inte...</td>\n",
       "    </tr>\n",
       "    <tr>\n",
       "      <th>n_experiments</th>\n",
       "      <td>2</td>\n",
       "    </tr>\n",
       "    <tr>\n",
       "      <th>same_organism</th>\n",
       "      <td>True</td>\n",
       "    </tr>\n",
       "    <tr>\n",
       "      <th>ebi</th>\n",
       "      <td>None</td>\n",
       "    </tr>\n",
       "    <tr>\n",
       "      <th>imex</th>\n",
       "      <td>None</td>\n",
       "    </tr>\n",
       "    <tr>\n",
       "      <th>with_mutations</th>\n",
       "      <td>None</td>\n",
       "    </tr>\n",
       "  </tbody>\n",
       "</table>\n",
       "</div>"
      ],
      "text/plain": [
       "                                                              NaN\n",
       "references                                                     []\n",
       "interactants    [<InteractantCard: protein, EBI-713162>, <Inte...\n",
       "n_experiments                                                   2\n",
       "same_organism                                                True\n",
       "ebi                                                          None\n",
       "imex                                                         None\n",
       "with_mutations                                               None"
      ]
     },
     "execution_count": 9,
     "metadata": {},
     "output_type": "execute_result"
    }
   ],
   "source": [
    "#interactions[0].to_pandas_DataFrame(with_evidences=False).T"
   ]
  },
  {
   "cell_type": "code",
   "execution_count": null,
   "id": "1822ddeb-0be0-4646-97e7-2976cae1c7ea",
   "metadata": {},
   "outputs": [],
   "source": []
  }
 ],
 "metadata": {
  "kernelspec": {
   "display_name": "Python 3 (ipykernel)",
   "language": "python",
   "name": "python3"
  },
  "language_info": {
   "codemirror_mode": {
    "name": "ipython",
    "version": 3
   },
   "file_extension": ".py",
   "mimetype": "text/x-python",
   "name": "python",
   "nbconvert_exporter": "python",
   "pygments_lexer": "ipython3",
   "version": "3.7.10"
  }
 },
 "nbformat": 4,
 "nbformat_minor": 5
}
