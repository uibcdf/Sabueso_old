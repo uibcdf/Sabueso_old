{
 "cells": [
  {
   "cell_type": "markdown",
   "id": "6c154836",
   "metadata": {},
   "source": [
    "# **Protein Card** (*Hexokinase-1, Human*)"
   ]
  },
  {
   "cell_type": "markdown",
   "id": "14cd0540",
   "metadata": {},
   "source": [
    "## ID Data\n",
    "\n",
    "   - Name: Hexokinase-1\n",
    "   - Key name: HXK1_HUMAN\n",
    "   - Short name: None\n",
    "   - Alternative names: Brain form hexokinase, Hexokinase type I, HK I, Hexokinase-A\n",
    "   - UniProt Id: P19367\n",
    "   - Organism: Human (Homo sapiens)\n"
   ]
  },
  {
   "cell_type": "markdown",
   "id": "7192534f",
   "metadata": {},
   "source": [
    "## Sequence\n",
    "\n",
    "Canonical (917 residues):\n",
    "\n",
    "```\n",
    "MIAAQLLAYYFTELKDDQVKKIDKYLYAMRLSDETLIDIMTRFRKEMKNGLSRDFNPTATVKMLPTFVRSIPDGSEKGDF\n",
    "IALDLGGSSFRILRVQVNHEKNQNVHMESEVYDTPENIVHGSGSQLFDHVAECLGDFMEKRKIKDKKLPVGFTFSFPCQQ\n",
    "SKIDEAILITWTKRFKASGVEGADVVKLLNKAIKKRGDYDANIVAVVNDTVGTMMTCGYDDQHCEVGLIIGTGTNACYME\n",
    "ELRHIDLVEGDEGRMCINTEWGAFGDDGSLEDIRTEFDREIDRGSLNPGKQLFEKMVSGMYLGELVRLILVKMAKEGLLF\n",
    "EGRITPELLTRGKFNTSDVSAIEKNKEGLHNAKEILTRLGVEPSDDDCVSVQHVCTIVSFRSANLVAATLGAILNRLRDN\n",
    "KGTPRLRTTVGVDGSLYKTHPQYSRRFHKTLRRLVPDSDVRFLLSESGSGKGAAMVTAVAYRLAEQHRQIEETLAHFHLT\n",
    "KDMLLEVKKRMRAEMELGLRKQTHNNAVVKMLPSFVRRTPDGTENGDFLALDLGGTNFRVLLVKIRSGKKRTVEMHNKIY\n",
    "AIPIEIMQGTGEELFDHIVSCISDFLDYMGIKGPRMPLGFTFSFPCQQTSLDAGILITWTKGFKATDCVGHDVVTLLRDA\n",
    "IKRREEFDLDVVAVVNDTVGTMMTCAYEEPTCEVGLIVGTGSNACYMEEMKNVEMVEGDQGQMCINMEWGAFGDNGCLDD\n",
    "IRTHYDRLVDEYSLNAGKQRYEKMISGMYLGEIVRNILIDFTKKGFLFRGQISETLKTRGIFETKFLSQIESDRLALLQV\n",
    "RAILQQLGLNSTCDDSILVKTVCGVVSRRAAQLCGAGMAAVVDKIRENRGLDRLNVTVGVDGTLYKLHPHFSRIMHQTVK\n",
    "ELSPKCNVSFLLSEDGSGKGAALITAVGVRLRTEASS\n",
    "\n",
    "```\n"
   ]
  }
 ],
 "metadata": {
  "kernelspec": {
   "display_name": "Python 3 (ipykernel)",
   "language": "python",
   "name": "python3"
  },
  "language_info": {
   "codemirror_mode": {
    "name": "ipython",
    "version": 3
   },
   "file_extension": ".py",
   "mimetype": "text/x-python",
   "name": "python",
   "nbconvert_exporter": "python",
   "pygments_lexer": "ipython3",
   "version": "3.7.10"
  }
 },
 "nbformat": 4,
 "nbformat_minor": 5
}
