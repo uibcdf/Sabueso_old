{
 "cells": [
  {
   "cell_type": "code",
   "execution_count": 1,
   "id": "6a5ea511-b81d-40ad-89e2-f0e2d5248ab8",
   "metadata": {},
   "outputs": [],
   "source": [
    "%load_ext autoreload\n",
    "%autoreload 2"
   ]
  },
  {
   "cell_type": "markdown",
   "id": "c7520dec-146a-465e-85a2-88b91d761648",
   "metadata": {},
   "source": [
    "# get pdbs"
   ]
  },
  {
   "cell_type": "code",
   "execution_count": 2,
   "id": "e85a9ef8-8774-4aae-96f8-23683a494acf",
   "metadata": {},
   "outputs": [],
   "source": [
    "from sabueso.tools.string_uniprot import to_uniprotkb_XMLDict\n",
    "from sabueso.tools.uniprotkb_XMLDict import get_pdbs"
   ]
  },
  {
   "cell_type": "code",
   "execution_count": 3,
   "id": "7d01f99b-5857-4f79-8d27-4b43b0dae986",
   "metadata": {},
   "outputs": [],
   "source": [
    "#item = to_uniprotkb_XMLDict('uniprot:P19367')\n",
    "#item = to_uniprotkb_XMLDict('uniprot:P52789')\n",
    "#item = to_uniprotkb_XMLDict('uniprot:P52790')\n",
    "item = to_uniprotkb_XMLDict('uniprot:P35557')"
   ]
  },
  {
   "cell_type": "code",
   "execution_count": 5,
   "id": "87715d18-a59c-4ec7-b809-a0803d034f2a",
   "metadata": {},
   "outputs": [],
   "source": [
    "pdbs = get_pdbs(item)"
   ]
  },
  {
   "cell_type": "code",
   "execution_count": 6,
   "id": "2b27de6d-a2b6-467a-a298-2375e052fad6",
   "metadata": {},
   "outputs": [
    {
     "data": {
      "text/plain": [
       "[1GLK <2 refs.>,\n",
       " 1V4S <2 refs.>,\n",
       " 1V4T <2 refs.>,\n",
       " 3A0I <2 refs.>,\n",
       " 3F9M <2 refs.>,\n",
       " 3FGU <2 refs.>,\n",
       " 3FR0 <2 refs.>,\n",
       " 3GOI <2 refs.>,\n",
       " 3H1V <2 refs.>,\n",
       " 3ID8 <2 refs.>,\n",
       " 3IDH <2 refs.>,\n",
       " 3IMX <2 refs.>,\n",
       " 3QIC <2 refs.>,\n",
       " 3S41 <2 refs.>,\n",
       " 3VEV <2 refs.>,\n",
       " 3VEY <2 refs.>,\n",
       " 3VF6 <2 refs.>,\n",
       " 4DCH <2 refs.>,\n",
       " 4DHY <2 refs.>,\n",
       " 4ISE <2 refs.>,\n",
       " 4ISF <2 refs.>,\n",
       " 4ISG <2 refs.>,\n",
       " 4IWV <2 refs.>,\n",
       " 4IXC <2 refs.>,\n",
       " 4L3Q <2 refs.>,\n",
       " 4LC9 <2 refs.>,\n",
       " 4MLE <2 refs.>,\n",
       " 4MLH <2 refs.>,\n",
       " 4NO7 <2 refs.>,\n",
       " 4RCH <2 refs.>,\n",
       " 5V4W <2 refs.>,\n",
       " 5V4X <2 refs.>,\n",
       " 6E0E <2 refs.>,\n",
       " 6E0I <2 refs.>]"
      ]
     },
     "execution_count": 6,
     "metadata": {},
     "output_type": "execute_result"
    }
   ],
   "source": [
    "pdbs"
   ]
  },
  {
   "cell_type": "code",
   "execution_count": 7,
   "id": "dd5fda79-caab-47f9-8cef-2317f1a9ee00",
   "metadata": {},
   "outputs": [
    {
     "data": {
      "text/html": [
       "1GLK <<a href=\"https://www.wwpdb.org/\">PDB: 1GLK</a>, <a href=\"https://www.uniprot.org/uniprot/P35557\">UniProtKB: P35557</a>>"
      ],
      "text/plain": [
       "1GLK <2 refs.>"
      ]
     },
     "execution_count": 7,
     "metadata": {},
     "output_type": "execute_result"
    }
   ],
   "source": [
    "pdbs[0]"
   ]
  }
 ],
 "metadata": {
  "kernelspec": {
   "display_name": "Python 3 (ipykernel)",
   "language": "python",
   "name": "python3"
  },
  "language_info": {
   "codemirror_mode": {
    "name": "ipython",
    "version": 3
   },
   "file_extension": ".py",
   "mimetype": "text/x-python",
   "name": "python",
   "nbconvert_exporter": "python",
   "pygments_lexer": "ipython3",
   "version": "3.7.10"
  }
 },
 "nbformat": 4,
 "nbformat_minor": 5
}
