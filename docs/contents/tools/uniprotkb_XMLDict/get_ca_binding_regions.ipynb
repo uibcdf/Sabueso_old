{
 "cells": [
  {
   "cell_type": "code",
   "execution_count": 1,
   "id": "6a5ea511-b81d-40ad-89e2-f0e2d5248ab8",
   "metadata": {},
   "outputs": [],
   "source": [
    "%load_ext autoreload\n",
    "%autoreload 2"
   ]
  },
  {
   "cell_type": "markdown",
   "id": "c7520dec-146a-465e-85a2-88b91d761648",
   "metadata": {},
   "source": [
    "# get ca binding regions"
   ]
  },
  {
   "cell_type": "code",
   "execution_count": 2,
   "id": "e85a9ef8-8774-4aae-96f8-23683a494acf",
   "metadata": {},
   "outputs": [],
   "source": [
    "from sabueso.tools.string_uniprot import to_uniprotkb_XMLDict\n",
    "from sabueso.tools.uniprotkb_XMLDict import get_ca_binding_regions"
   ]
  },
  {
   "cell_type": "code",
   "execution_count": 3,
   "id": "7d01f99b-5857-4f79-8d27-4b43b0dae986",
   "metadata": {},
   "outputs": [],
   "source": [
    "item = to_uniprotkb_XMLDict('uniprot:P05937')"
   ]
  },
  {
   "cell_type": "code",
   "execution_count": 9,
   "id": "87715d18-a59c-4ec7-b809-a0803d034f2a",
   "metadata": {},
   "outputs": [],
   "source": [
    "ca_binding_regions = get_ca_binding_regions(item)"
   ]
  },
  {
   "cell_type": "code",
   "execution_count": 10,
   "id": "2b27de6d-a2b6-467a-a298-2375e052fad6",
   "metadata": {},
   "outputs": [
    {
     "data": {
      "text/plain": [
       "[{'references': [<UniProtKB: P05937>, <PubMed: 30289411>, <PDB: 6FIE>],\n",
       "  'description': '1',\n",
       "  'begin': '24',\n",
       "  'end': '35'},\n",
       " {'references': [<UniProtKB: P05937>, <PubMed: 30289411>, <PDB: 6FIE>],\n",
       "  'description': '2',\n",
       "  'begin': '111',\n",
       "  'end': '122'},\n",
       " {'references': [<UniProtKB: P05937>, <PubMed: 30289411>, <PDB: 6FIE>],\n",
       "  'description': '3',\n",
       "  'begin': '155',\n",
       "  'end': '166'},\n",
       " {'references': [<UniProtKB: P05937>, <PubMed: 30289411>, <PDB: 6FIE>],\n",
       "  'description': '4',\n",
       "  'begin': '199',\n",
       "  'end': '210'}]"
      ]
     },
     "execution_count": 10,
     "metadata": {},
     "output_type": "execute_result"
    }
   ],
   "source": [
    "ca_binding_regions"
   ]
  },
  {
   "cell_type": "code",
   "execution_count": 6,
   "id": "6ad498b7-76a8-42fd-82d3-2c2d6b4c25e7",
   "metadata": {},
   "outputs": [],
   "source": [
    "ca_binding_regions = get_ca_binding_regions(item, as_cards=True)"
   ]
  },
  {
   "cell_type": "code",
   "execution_count": 7,
   "id": "b3af5153-7940-40ff-bd17-c7648f245b48",
   "metadata": {},
   "outputs": [
    {
     "data": {
      "text/plain": [
       "[]"
      ]
     },
     "execution_count": 7,
     "metadata": {},
     "output_type": "execute_result"
    }
   ],
   "source": [
    "ca_binding_regions"
   ]
  },
  {
   "cell_type": "code",
   "execution_count": 8,
   "id": "33081e77-d8ae-4322-9eb3-a7bafe62f6fc",
   "metadata": {},
   "outputs": [
    {
     "ename": "IndexError",
     "evalue": "list index out of range",
     "output_type": "error",
     "traceback": [
      "\u001b[0;31m---------------------------------------------------------------------------\u001b[0m",
      "\u001b[0;31mIndexError\u001b[0m                                Traceback (most recent call last)",
      "\u001b[0;32m/tmp/ipykernel_2894835/2625303363.py\u001b[0m in \u001b[0;36m<module>\u001b[0;34m\u001b[0m\n\u001b[0;32m----> 1\u001b[0;31m \u001b[0mca_binding_regions\u001b[0m\u001b[0;34m[\u001b[0m\u001b[0;36m0\u001b[0m\u001b[0;34m]\u001b[0m\u001b[0;34m.\u001b[0m\u001b[0mto_pandas_DataFrame\u001b[0m\u001b[0;34m(\u001b[0m\u001b[0;34m)\u001b[0m\u001b[0;34m.\u001b[0m\u001b[0mT\u001b[0m\u001b[0;34m\u001b[0m\u001b[0;34m\u001b[0m\u001b[0m\n\u001b[0m",
      "\u001b[0;31mIndexError\u001b[0m: list index out of range"
     ]
    }
   ],
   "source": [
    "ca_binding_regions[0].to_pandas_DataFrame().T"
   ]
  },
  {
   "cell_type": "code",
   "execution_count": null,
   "id": "ea9a1c31-5dd8-4e18-b2f8-9e86dd52a5fc",
   "metadata": {},
   "outputs": [],
   "source": []
  },
  {
   "cell_type": "code",
   "execution_count": null,
   "id": "4683eeff-0f41-4a23-b61b-024c531748b5",
   "metadata": {},
   "outputs": [],
   "source": []
  }
 ],
 "metadata": {
  "kernelspec": {
   "display_name": "Python 3 (ipykernel)",
   "language": "python",
   "name": "python3"
  },
  "language_info": {
   "codemirror_mode": {
    "name": "ipython",
    "version": 3
   },
   "file_extension": ".py",
   "mimetype": "text/x-python",
   "name": "python",
   "nbconvert_exporter": "python",
   "pygments_lexer": "ipython3",
   "version": "3.7.10"
  }
 },
 "nbformat": 4,
 "nbformat_minor": 5
}
