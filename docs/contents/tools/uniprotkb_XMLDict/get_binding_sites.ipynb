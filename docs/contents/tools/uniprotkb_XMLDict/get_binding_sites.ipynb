{
 "cells": [
  {
   "cell_type": "code",
   "execution_count": 1,
   "id": "6a5ea511-b81d-40ad-89e2-f0e2d5248ab8",
   "metadata": {},
   "outputs": [],
   "source": [
    "%load_ext autoreload\n",
    "%autoreload 2"
   ]
  },
  {
   "cell_type": "markdown",
   "id": "c7520dec-146a-465e-85a2-88b91d761648",
   "metadata": {},
   "source": [
    "# get binding sites"
   ]
  },
  {
   "cell_type": "code",
   "execution_count": 2,
   "id": "e85a9ef8-8774-4aae-96f8-23683a494acf",
   "metadata": {},
   "outputs": [],
   "source": [
    "from sabueso.tools.string_uniprot import to_uniprotkb_XMLDict\n",
    "from sabueso.tools.uniprotkb_XMLDict import get_binding_sites"
   ]
  },
  {
   "cell_type": "code",
   "execution_count": 3,
   "id": "7d01f99b-5857-4f79-8d27-4b43b0dae986",
   "metadata": {},
   "outputs": [],
   "source": [
    "item = to_uniprotkb_XMLDict('uniprot:P19367')"
   ]
  },
  {
   "cell_type": "code",
   "execution_count": 4,
   "id": "87715d18-a59c-4ec7-b809-a0803d034f2a",
   "metadata": {},
   "outputs": [],
   "source": [
    "binding_sites = get_binding_sites(item)"
   ]
  },
  {
   "cell_type": "code",
   "execution_count": 5,
   "id": "2b27de6d-a2b6-467a-a298-2375e052fad6",
   "metadata": {},
   "outputs": [
    {
     "data": {
      "text/plain": [
       "[{'references': [<UniProtKB: P19367>,\n",
       "   <PubMed: 10574795>,\n",
       "   <PubMed: 10686099>,\n",
       "   <PDB: 1CZA>,\n",
       "   <PDB: 1DGK>,\n",
       "   <PDB: 1QHA>],\n",
       "  'description': 'ATP 1',\n",
       "  'location': '30'},\n",
       " {'references': [<UniProtKB: P19367>,\n",
       "   <PubMed: 10686099>,\n",
       "   <PubMed: 9493266>,\n",
       "   <PubMed: 9735292>,\n",
       "   <PDB: 1DGK>,\n",
       "   <PDB: 1HKB>,\n",
       "   <PDB: 1HKC>,\n",
       "   <PDB: 4F9O>,\n",
       "   <PDB: 4FOE>,\n",
       "   <PDB: 4FOI>,\n",
       "   <PDB: 4FPA>],\n",
       "  'description': 'Substrate 1',\n",
       "  'location': '155'},\n",
       " {'references': [<UniProtKB: P19367>,\n",
       "   <PubMed: 10574795>,\n",
       "   <PubMed: 10686099>,\n",
       "   <PubMed: 9493266>,\n",
       "   <PDB: 1CZA>,\n",
       "   <PDB: 1HKB>,\n",
       "   <PDB: 1QHA>,\n",
       "   <PDB: 4FOE>,\n",
       "   <PDB: 4FOI>,\n",
       "   <PDB: 4FPA>],\n",
       "  'description': 'Glucose-6-phosphate 1',\n",
       "  'location': '209'},\n",
       " {'references': [<UniProtKB: P19367>,\n",
       "   <PubMed: 10574795>,\n",
       "   <PubMed: 10686099>,\n",
       "   <PubMed: 9493266>,\n",
       "   <PDB: 1CZA>,\n",
       "   <PDB: 1HKB>,\n",
       "   <PDB: 1QHA>,\n",
       "   <PDB: 4F9O>,\n",
       "   <PDB: 4FOE>,\n",
       "   <PDB: 4FOI>,\n",
       "   <PDB: 4FPA>,\n",
       "   <PDB: 4FPB>],\n",
       "  'description': 'Glucose-6-phosphate 1',\n",
       "  'location': '232'},\n",
       " {'references': [<UniProtKB: P19367>,\n",
       "   <PubMed: 10574795>,\n",
       "   <PubMed: 10686099>,\n",
       "   <PubMed: 9493266>,\n",
       "   <PubMed: 9735292>,\n",
       "   <PDB: 1CZA>,\n",
       "   <PDB: 1DGK>,\n",
       "   <PDB: 1HKB>,\n",
       "   <PDB: 1HKC>,\n",
       "   <PDB: 1QHA>,\n",
       "   <PDB: 4F9O>,\n",
       "   <PDB: 4FOE>,\n",
       "   <PDB: 4FOI>,\n",
       "   <PDB: 4FPA>,\n",
       "   <PDB: 4FPB>],\n",
       "  'description': 'Substrate 1',\n",
       "  'location': '235'},\n",
       " {'references': [<UniProtKB: P19367>,\n",
       "   <PubMed: 10574795>,\n",
       "   <PubMed: 10686099>,\n",
       "   <PubMed: 9493266>,\n",
       "   <PubMed: 9735292>,\n",
       "   <PDB: 1CZA>,\n",
       "   <PDB: 1DGK>,\n",
       "   <PDB: 1HKB>,\n",
       "   <PDB: 1HKC>,\n",
       "   <PDB: 1QHA>,\n",
       "   <PDB: 4F9O>,\n",
       "   <PDB: 4FOE>,\n",
       "   <PDB: 4FOI>,\n",
       "   <PDB: 4FPA>,\n",
       "   <PDB: 4FPB>],\n",
       "  'description': 'Substrate 1',\n",
       "  'location': '260'},\n",
       " {'references': [<UniProtKB: P19367>, <PubMed: 10574795>, <PDB: 1QHA>],\n",
       "  'description': 'ATP 1',\n",
       "  'location': '345'},\n",
       " {'references': [<UniProtKB: P19367>,\n",
       "   <PubMed: 10574795>,\n",
       "   <PubMed: 10686099>,\n",
       "   <PubMed: 9493266>,\n",
       "   <PDB: 1CZA>,\n",
       "   <PDB: 1HKB>,\n",
       "   <PDB: 1QHA>,\n",
       "   <PDB: 4F9O>,\n",
       "   <PDB: 4FOE>,\n",
       "   <PDB: 4FOI>,\n",
       "   <PDB: 4FPA>,\n",
       "   <PDB: 4FPB>],\n",
       "  'description': 'Glucose-6-phosphate 1',\n",
       "  'location': '449'},\n",
       " {'references': [<UniProtKB: P19367>,\n",
       "   <PubMed: 10574795>,\n",
       "   <PubMed: 10686099>,\n",
       "   <PubMed: 9493266>,\n",
       "   <PDB: 1CZA>,\n",
       "   <PDB: 1HKB>,\n",
       "   <PDB: 1QHA>,\n",
       "   <PDB: 4FOI>,\n",
       "   <PDB: 4FPA>],\n",
       "  'description': 'Glucose-6-phosphate 2',\n",
       "  'location': '657'},\n",
       " {'references': [<UniProtKB: P19367>,\n",
       "   <PubMed: 10686099>,\n",
       "   <PubMed: 9735292>,\n",
       "   <PDB: 1DGK>,\n",
       "   <PDB: 1HKC>],\n",
       "  'description': 'ATP 2',\n",
       "  'location': '680'},\n",
       " {'references': [<UniProtKB: P19367>,\n",
       "   <PubMed: 10574795>,\n",
       "   <PubMed: 10686099>,\n",
       "   <PubMed: 9493266>,\n",
       "   <PDB: 1CZA>,\n",
       "   <PDB: 1HKB>,\n",
       "   <PDB: 1QHA>,\n",
       "   <PDB: 4F9O>,\n",
       "   <PDB: 4FOE>,\n",
       "   <PDB: 4FOI>,\n",
       "   <PDB: 4FPA>,\n",
       "   <PDB: 4FPB>],\n",
       "  'description': 'Glucose-6-phosphate 2',\n",
       "  'location': '680'},\n",
       " {'references': [<UniProtKB: P19367>,\n",
       "   <PubMed: 10574795>,\n",
       "   <PubMed: 10686099>,\n",
       "   <PubMed: 9493266>,\n",
       "   <PDB: 1CZA>,\n",
       "   <PDB: 1DGK>,\n",
       "   <PDB: 1HKB>,\n",
       "   <PDB: 1QHA>,\n",
       "   <PDB: 4F9O>,\n",
       "   <PDB: 4FOE>,\n",
       "   <PDB: 4FOI>,\n",
       "   <PDB: 4FPA>,\n",
       "   <PDB: 4FPB>],\n",
       "  'description': 'Substrate 2',\n",
       "  'location': '708'},\n",
       " {'references': [<UniProtKB: P19367>,\n",
       "   <PubMed: 10574795>,\n",
       "   <PubMed: 10686099>,\n",
       "   <PubMed: 9493266>,\n",
       "   <PDB: 1CZA>,\n",
       "   <PDB: 1DGK>,\n",
       "   <PDB: 1HKB>,\n",
       "   <PDB: 1QHA>,\n",
       "   <PDB: 4F9O>,\n",
       "   <PDB: 4FOE>,\n",
       "   <PDB: 4FOI>,\n",
       "   <PDB: 4FPA>,\n",
       "   <PDB: 4FPB>],\n",
       "  'description': 'Substrate 2',\n",
       "  'location': '742'},\n",
       " {'references': [<UniProtKB: P19367>,\n",
       "   <PubMed: 10574795>,\n",
       "   <PubMed: 10686099>,\n",
       "   <PubMed: 9493266>,\n",
       "   <PDB: 1CZA>,\n",
       "   <PDB: 1HKB>,\n",
       "   <PDB: 1QHA>,\n",
       "   <PDB: 4F9O>,\n",
       "   <PDB: 4FOI>,\n",
       "   <PDB: 4FPA>,\n",
       "   <PDB: 4FPB>],\n",
       "  'description': 'Glucose-6-phosphate 2',\n",
       "  'location': '897'}]"
      ]
     },
     "execution_count": 5,
     "metadata": {},
     "output_type": "execute_result"
    }
   ],
   "source": [
    "binding_sites"
   ]
  },
  {
   "cell_type": "code",
   "execution_count": 6,
   "id": "6ad498b7-76a8-42fd-82d3-2c2d6b4c25e7",
   "metadata": {},
   "outputs": [],
   "source": [
    "binding_sites = get_binding_sites(item, as_cards=True)"
   ]
  },
  {
   "cell_type": "code",
   "execution_count": 8,
   "id": "b3af5153-7940-40ff-bd17-c7648f245b48",
   "metadata": {},
   "outputs": [
    {
     "data": {
      "text/plain": [
       "[<BindingSiteCard: ATP 1 30>,\n",
       " <BindingSiteCard: Substrate 1 155>,\n",
       " <BindingSiteCard: Glucose-6-phosphate 1 209>,\n",
       " <BindingSiteCard: Glucose-6-phosphate 1 232>,\n",
       " <BindingSiteCard: Substrate 1 235>,\n",
       " <BindingSiteCard: Substrate 1 260>,\n",
       " <BindingSiteCard: ATP 1 345>,\n",
       " <BindingSiteCard: Glucose-6-phosphate 1 449>,\n",
       " <BindingSiteCard: Glucose-6-phosphate 2 657>,\n",
       " <BindingSiteCard: ATP 2 680>,\n",
       " <BindingSiteCard: Glucose-6-phosphate 2 680>,\n",
       " <BindingSiteCard: Substrate 2 708>,\n",
       " <BindingSiteCard: Substrate 2 742>,\n",
       " <BindingSiteCard: Glucose-6-phosphate 2 897>]"
      ]
     },
     "execution_count": 8,
     "metadata": {},
     "output_type": "execute_result"
    }
   ],
   "source": [
    "binding_sites"
   ]
  },
  {
   "cell_type": "code",
   "execution_count": null,
   "id": "33081e77-d8ae-4322-9eb3-a7bafe62f6fc",
   "metadata": {},
   "outputs": [],
   "source": [
    "dna_binding_regions[0].to_pandas_DataFrame().T"
   ]
  },
  {
   "cell_type": "code",
   "execution_count": null,
   "id": "ea9a1c31-5dd8-4e18-b2f8-9e86dd52a5fc",
   "metadata": {},
   "outputs": [],
   "source": []
  }
 ],
 "metadata": {
  "kernelspec": {
   "display_name": "Python 3 (ipykernel)",
   "language": "python",
   "name": "python3"
  },
  "language_info": {
   "codemirror_mode": {
    "name": "ipython",
    "version": 3
   },
   "file_extension": ".py",
   "mimetype": "text/x-python",
   "name": "python",
   "nbconvert_exporter": "python",
   "pygments_lexer": "ipython3",
   "version": "3.7.10"
  }
 },
 "nbformat": 4,
 "nbformat_minor": 5
}
