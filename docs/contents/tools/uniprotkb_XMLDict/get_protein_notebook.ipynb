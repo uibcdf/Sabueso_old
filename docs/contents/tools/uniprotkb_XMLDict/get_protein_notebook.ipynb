{
 "cells": [
  {
   "cell_type": "code",
   "execution_count": 1,
   "id": "606a260e-4eb6-40f9-8bbb-d8d22ac89306",
   "metadata": {},
   "outputs": [],
   "source": [
    "%load_ext autoreload\n",
    "%autoreload 2"
   ]
  },
  {
   "cell_type": "markdown",
   "id": "d1c253bc-e65c-4df3-8a5f-2edbf579c64c",
   "metadata": {},
   "source": [
    "# get protein notebook"
   ]
  },
  {
   "cell_type": "code",
   "execution_count": 2,
   "id": "87748c20-70d4-48e4-9cb7-73622f2cb163",
   "metadata": {},
   "outputs": [],
   "source": [
    "from sabueso.tools.string_uniprot import to_uniprotkb_XMLDict\n",
    "from sabueso.tools.uniprotkb_XMLDict import get_protein_card"
   ]
  },
  {
   "cell_type": "code",
   "execution_count": 3,
   "id": "c36a8a19-124d-4511-b26b-1d8029a38a0d",
   "metadata": {},
   "outputs": [],
   "source": [
    "item = 'uniprot:P19367'\n",
    "#item = 'uniprot:P52789'\n",
    "#item = 'uniprot:P52790'\n",
    "#item = 'uniprot:P35557'"
   ]
  },
  {
   "cell_type": "code",
   "execution_count": 4,
   "id": "a490e7b0-2e54-4ae2-aae6-6fbd99cab626",
   "metadata": {},
   "outputs": [],
   "source": [
    "item = to_uniprotkb_XMLDict(item)"
   ]
  },
  {
   "cell_type": "code",
   "execution_count": 5,
   "id": "d3c78b68-b7bb-4d7f-a144-10e81f68ed6a",
   "metadata": {},
   "outputs": [],
   "source": [
    "card = get_protein_card(item)"
   ]
  },
  {
   "cell_type": "code",
   "execution_count": 6,
   "id": "d5740d63-7a84-4d44-9830-18e5253ca4d0",
   "metadata": {},
   "outputs": [
    {
     "data": {
      "text/plain": [
       "'HXK1_HUMAN.ipynb'"
      ]
     },
     "execution_count": 6,
     "metadata": {},
     "output_type": "execute_result"
    }
   ],
   "source": [
    "card.to_jupyter_notebook()"
   ]
  },
  {
   "cell_type": "code",
   "execution_count": null,
   "id": "85b9d3c0-21b7-428b-9688-96346d563224",
   "metadata": {},
   "outputs": [],
   "source": [
    "card.uniprot."
   ]
  },
  {
   "cell_type": "code",
   "execution_count": null,
   "id": "a0073e16-85fd-40df-90c2-c7b666115ccf",
   "metadata": {},
   "outputs": [],
   "source": [
    "str(card.uniprot)"
   ]
  },
  {
   "cell_type": "code",
   "execution_count": null,
   "id": "ac0539d5-266f-4164-8d1e-e32c1ce3df52",
   "metadata": {},
   "outputs": [],
   "source": [
    "df = card.to_pandas_DataFrame(with_evidences=False)"
   ]
  },
  {
   "cell_type": "code",
   "execution_count": null,
   "id": "fd6a02b1-5d36-4bf0-9230-1b5be1de23d8",
   "metadata": {},
   "outputs": [],
   "source": [
    "df.T"
   ]
  },
  {
   "cell_type": "code",
   "execution_count": null,
   "id": "27b4a620-0a10-4d1a-879e-cf7b7c3f0399",
   "metadata": {},
   "outputs": [],
   "source": [
    "df['function'][0]"
   ]
  },
  {
   "cell_type": "code",
   "execution_count": null,
   "id": "ebf299ad-b05f-4663-b7e1-94f86d8096c7",
   "metadata": {},
   "outputs": [],
   "source": []
  }
 ],
 "metadata": {
  "kernelspec": {
   "display_name": "Python 3 (ipykernel)",
   "language": "python",
   "name": "python3"
  },
  "language_info": {
   "codemirror_mode": {
    "name": "ipython",
    "version": 3
   },
   "file_extension": ".py",
   "mimetype": "text/x-python",
   "name": "python",
   "nbconvert_exporter": "python",
   "pygments_lexer": "ipython3",
   "version": "3.7.10"
  }
 },
 "nbformat": 4,
 "nbformat_minor": 5
}
