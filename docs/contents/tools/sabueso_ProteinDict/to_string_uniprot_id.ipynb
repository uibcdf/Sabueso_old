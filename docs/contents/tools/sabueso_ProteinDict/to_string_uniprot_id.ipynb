{
 "cells": [
  {
   "cell_type": "code",
   "execution_count": 1,
   "id": "4bd03cb8-dddf-46a8-b1c5-a24656ee0f0b",
   "metadata": {},
   "outputs": [],
   "source": [
    "%load_ext autoreload\n",
    "%autoreload 2"
   ]
  },
  {
   "cell_type": "markdown",
   "id": "213dbd31-1eb1-405c-96e2-b7377f26ff00",
   "metadata": {},
   "source": [
    "# to_string_uniprot_id"
   ]
  },
  {
   "cell_type": "code",
   "execution_count": 2,
   "id": "b98e5e65-4ab3-4f5a-afde-c2deeabe6d86",
   "metadata": {},
   "outputs": [],
   "source": [
    "from sabueso.tools.sabueso_ProteinDict import to_string_uniprot_id"
   ]
  },
  {
   "cell_type": "code",
   "execution_count": 3,
   "id": "44f6cf4e-3901-469a-b343-a179cb208214",
   "metadata": {},
   "outputs": [],
   "source": [
    "item = {'name':'hexokinase 1', 'organism':'human'}"
   ]
  },
  {
   "cell_type": "code",
   "execution_count": 4,
   "id": "1573abc4-a5c9-4ce5-819e-eb2eff98a481",
   "metadata": {},
   "outputs": [
    {
     "data": {
      "text/plain": [
       "'P19367'"
      ]
     },
     "execution_count": 4,
     "metadata": {},
     "output_type": "execute_result"
    }
   ],
   "source": [
    "to_string_uniprot_id(item)"
   ]
  },
  {
   "cell_type": "code",
   "execution_count": null,
   "id": "68a8f339-fee9-46cc-a6e7-61e85e042fa2",
   "metadata": {},
   "outputs": [],
   "source": []
  }
 ],
 "metadata": {
  "kernelspec": {
   "display_name": "Python 3 (ipykernel)",
   "language": "python",
   "name": "python3"
  },
  "language_info": {
   "codemirror_mode": {
    "name": "ipython",
    "version": 3
   },
   "file_extension": ".py",
   "mimetype": "text/x-python",
   "name": "python",
   "nbconvert_exporter": "python",
   "pygments_lexer": "ipython3",
   "version": "3.7.10"
  }
 },
 "nbformat": 4,
 "nbformat_minor": 5
}
