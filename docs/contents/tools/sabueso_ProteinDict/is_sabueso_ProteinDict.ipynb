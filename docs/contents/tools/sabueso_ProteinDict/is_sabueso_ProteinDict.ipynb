{
 "cells": [
  {
   "cell_type": "code",
   "execution_count": 1,
   "id": "4fee5c76-241e-4c9b-8755-48ea8bda2559",
   "metadata": {},
   "outputs": [],
   "source": [
    "%load_ext autoreload\n",
    "%autoreload 2"
   ]
  },
  {
   "cell_type": "markdown",
   "id": "f6f5a13a-8b39-43a3-ac53-6b0cafab74fa",
   "metadata": {},
   "source": [
    "# Is sabueso_ProteinDict"
   ]
  },
  {
   "cell_type": "code",
   "execution_count": 2,
   "id": "54072b83-891d-4924-9bbc-9a55fb63ce2d",
   "metadata": {},
   "outputs": [],
   "source": [
    "from sabueso.tools.sabueso_ProteinDict import is_sabueso_ProteinDict"
   ]
  },
  {
   "cell_type": "code",
   "execution_count": 3,
   "id": "1354c54e-473d-4d7c-9cd9-03c43373c649",
   "metadata": {},
   "outputs": [],
   "source": [
    "item = {'name':'Hexokinase 1', 'organism':'human'}"
   ]
  },
  {
   "cell_type": "code",
   "execution_count": null,
   "id": "cb969894-76d3-44d6-8fa4-af93087be5f3",
   "metadata": {},
   "outputs": [],
   "source": []
  }
 ],
 "metadata": {
  "kernelspec": {
   "display_name": "Python 3 (ipykernel)",
   "language": "python",
   "name": "python3"
  },
  "language_info": {
   "codemirror_mode": {
    "name": "ipython",
    "version": 3
   },
   "file_extension": ".py",
   "mimetype": "text/x-python",
   "name": "python",
   "nbconvert_exporter": "python",
   "pygments_lexer": "ipython3",
   "version": "3.7.10"
  }
 },
 "nbformat": 4,
 "nbformat_minor": 5
}
