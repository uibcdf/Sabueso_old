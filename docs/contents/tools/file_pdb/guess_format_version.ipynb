{
 "cells": [
  {
   "cell_type": "markdown",
   "id": "d5be273f-1485-4b23-92b1-49c5125e0d2f",
   "metadata": {},
   "source": [
    "# Guess format version"
   ]
  },
  {
   "cell_type": "code",
   "execution_count": 1,
   "id": "50133a56-c305-43eb-a08a-1944cb70a4ab",
   "metadata": {},
   "outputs": [],
   "source": [
    "from sabueso.tools import file_pdb"
   ]
  },
  {
   "cell_type": "code",
   "execution_count": 2,
   "id": "0f2cc0c3-42cb-465d-8895-f3f3ea6adf48",
   "metadata": {},
   "outputs": [
    {
     "data": {
      "text/plain": [
       "'1brs.pdb'"
      ]
     },
     "execution_count": 2,
     "metadata": {},
     "output_type": "execute_result"
    }
   ],
   "source": [
    "file_pdb.download('1brs')"
   ]
  },
  {
   "cell_type": "code",
   "execution_count": 3,
   "id": "6ef45f72-8979-426d-8e59-d191c7a21b39",
   "metadata": {},
   "outputs": [
    {
     "data": {
      "text/plain": [
       "'3.3'"
      ]
     },
     "execution_count": 3,
     "metadata": {},
     "output_type": "execute_result"
    }
   ],
   "source": [
    "file_pdb.guess_format_version('1brs.pdb')"
   ]
  },
  {
   "cell_type": "code",
   "execution_count": null,
   "id": "a42f4661-ff11-4688-bc62-2c184c23bd9a",
   "metadata": {},
   "outputs": [],
   "source": []
  }
 ],
 "metadata": {
  "kernelspec": {
   "display_name": "Python 3 (ipykernel)",
   "language": "python",
   "name": "python3"
  },
  "language_info": {
   "codemirror_mode": {
    "name": "ipython",
    "version": 3
   },
   "file_extension": ".py",
   "mimetype": "text/x-python",
   "name": "python",
   "nbconvert_exporter": "python",
   "pygments_lexer": "ipython3",
   "version": "3.7.12"
  }
 },
 "nbformat": 4,
 "nbformat_minor": 5
}
