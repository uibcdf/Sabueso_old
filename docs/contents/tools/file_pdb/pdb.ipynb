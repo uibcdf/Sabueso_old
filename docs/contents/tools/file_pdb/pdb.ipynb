{
 "cells": [
  {
   "cell_type": "code",
   "execution_count": 1,
   "id": "8fc6e69f-dfc3-4431-a392-19bef0b186ec",
   "metadata": {},
   "outputs": [],
   "source": [
    "%load_ext autoreload\n",
    "%autoreload 2"
   ]
  },
  {
   "cell_type": "markdown",
   "id": "703e0dea-b45e-4c12-b6c0-2eda09287489",
   "metadata": {},
   "source": [
    " # pdb"
   ]
  },
  {
   "cell_type": "code",
   "execution_count": 2,
   "id": "f0843acb-470c-46a4-b83e-a416987046d8",
   "metadata": {},
   "outputs": [],
   "source": [
    "import sabueso as sab"
   ]
  },
  {
   "cell_type": "code",
   "execution_count": 3,
   "id": "848222ec-9e26-4a06-aaa6-8bda3e761351",
   "metadata": {},
   "outputs": [],
   "source": [
    "#sab.tools.file.pdb.download('1brs')"
   ]
  },
  {
   "cell_type": "code",
   "execution_count": 4,
   "id": "be811b53-275d-4cbd-9349-bfb33d31ba0d",
   "metadata": {},
   "outputs": [],
   "source": [
    "pdb = sab.tools.file.pdb.parsers.format33('1brs.pdb')"
   ]
  },
  {
   "cell_type": "code",
   "execution_count": 5,
   "id": "cd42a3bd-9140-4372-8aa9-341fc97634e5",
   "metadata": {},
   "outputs": [
    {
     "data": {
      "text/plain": [
       "' '"
      ]
     },
     "execution_count": 5,
     "metadata": {},
     "output_type": "execute_result"
    }
   ],
   "source": [
    "pdb.coordinate.model[0].record[0].altLoc"
   ]
  },
  {
   "cell_type": "code",
   "execution_count": 6,
   "id": "53071ece-71b9-443e-b4ba-13dc957fb86a",
   "metadata": {},
   "outputs": [
    {
     "data": {
      "text/plain": [
       "sabueso.native.pdb_atomic_coordinate_entry.PDBAtomicCoordinateEntry"
      ]
     },
     "execution_count": 6,
     "metadata": {},
     "output_type": "execute_result"
    }
   ],
   "source": [
    "type(pdb)"
   ]
  },
  {
   "cell_type": "code",
   "execution_count": 7,
   "id": "1fb5f192-f63c-4255-918a-e76fe792c885",
   "metadata": {},
   "outputs": [],
   "source": [
    "pdb = sab.tools.file.pdb.parsers.format33('1brs.pdb')"
   ]
  },
  {
   "cell_type": "code",
   "execution_count": 8,
   "id": "e5db5d67-c0ff-4fd4-9e37-876323ffd50d",
   "metadata": {},
   "outputs": [],
   "source": [
    "aa = sab.tools.file.pdb.has_atoms_with_alternate_locations('1brs.pdb')"
   ]
  },
  {
   "cell_type": "code",
   "execution_count": 10,
   "id": "b0af8723-d120-4cff-8ab6-ea23b875636b",
   "metadata": {},
   "outputs": [
    {
     "data": {
      "text/plain": [
       "0.5"
      ]
     },
     "execution_count": 10,
     "metadata": {},
     "output_type": "execute_result"
    }
   ],
   "source": [
    "aa[1][0].occupancy"
   ]
  },
  {
   "cell_type": "code",
   "execution_count": null,
   "id": "5f1631b1-4e32-4f05-b8ab-959f0064ff05",
   "metadata": {},
   "outputs": [],
   "source": []
  }
 ],
 "metadata": {
  "kernelspec": {
   "display_name": "Python 3 (ipykernel)",
   "language": "python",
   "name": "python3"
  },
  "language_info": {
   "codemirror_mode": {
    "name": "ipython",
    "version": 3
   },
   "file_extension": ".py",
   "mimetype": "text/x-python",
   "name": "python",
   "nbconvert_exporter": "python",
   "pygments_lexer": "ipython3",
   "version": "3.7.10"
  }
 },
 "nbformat": 4,
 "nbformat_minor": 5
}
