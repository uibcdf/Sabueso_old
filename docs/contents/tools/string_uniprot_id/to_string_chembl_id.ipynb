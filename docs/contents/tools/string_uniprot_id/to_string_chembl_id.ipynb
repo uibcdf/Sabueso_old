{
 "cells": [
  {
   "cell_type": "code",
   "execution_count": 1,
   "id": "86dd1dfc-936b-4964-b358-35868402925b",
   "metadata": {},
   "outputs": [],
   "source": [
    "%load_ext autoreload\n",
    "%autoreload 2"
   ]
  },
  {
   "cell_type": "markdown",
   "id": "ad142606-7d34-493f-9025-d35ae8fac5db",
   "metadata": {},
   "source": [
    "# to string chembl_id"
   ]
  },
  {
   "cell_type": "code",
   "execution_count": 2,
   "id": "6ba864b2-97cb-461b-b61b-fba7eff655ef",
   "metadata": {},
   "outputs": [],
   "source": [
    "from sabueso.tools.string_uniprot_id import to_string_chembl_id"
   ]
  },
  {
   "cell_type": "code",
   "execution_count": 3,
   "id": "59148237-7d49-4150-9a9d-82e6ba142037",
   "metadata": {},
   "outputs": [
    {
     "data": {
      "text/plain": [
       "'CHEMBL2114'"
      ]
     },
     "execution_count": 3,
     "metadata": {},
     "output_type": "execute_result"
    }
   ],
   "source": [
    "to_string_chembl_id('P49892', engine='ChEMBL')"
   ]
  },
  {
   "cell_type": "code",
   "execution_count": 4,
   "id": "4f461666-e951-4cb7-9477-f169fe9429f1",
   "metadata": {},
   "outputs": [
    {
     "data": {
      "text/plain": [
       "'CHEMBL2114'"
      ]
     },
     "execution_count": 4,
     "metadata": {},
     "output_type": "execute_result"
    }
   ],
   "source": [
    "to_string_chembl_id('P49892', engine='ChEMBL', check_form=False, check_database=False)"
   ]
  },
  {
   "cell_type": "code",
   "execution_count": null,
   "id": "ec2d7594-b438-4d61-8df8-2e0a7f3eb851",
   "metadata": {},
   "outputs": [],
   "source": []
  }
 ],
 "metadata": {
  "kernelspec": {
   "display_name": "Python 3 (ipykernel)",
   "language": "python",
   "name": "python3"
  },
  "language_info": {
   "codemirror_mode": {
    "name": "ipython",
    "version": 3
   },
   "file_extension": ".py",
   "mimetype": "text/x-python",
   "name": "python",
   "nbconvert_exporter": "python",
   "pygments_lexer": "ipython3",
   "version": "3.7.12"
  }
 },
 "nbformat": 4,
 "nbformat_minor": 5
}
