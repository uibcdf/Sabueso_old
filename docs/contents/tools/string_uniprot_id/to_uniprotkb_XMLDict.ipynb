{
 "cells": [
  {
   "cell_type": "code",
   "execution_count": 1,
   "id": "6c5008c6-30bd-4a63-8701-85bef6f98f2b",
   "metadata": {},
   "outputs": [],
   "source": [
    "%load_ext autoreload\n",
    "%autoreload 2"
   ]
  },
  {
   "cell_type": "markdown",
   "id": "2fb13e62-4c32-42ed-af5e-d4f14d29f7ff",
   "metadata": {},
   "source": [
    "# To uniprotkb XMLDict"
   ]
  },
  {
   "cell_type": "code",
   "execution_count": 3,
   "id": "e5cc5b5c-7d0b-4725-b33b-04be251fcc70",
   "metadata": {},
   "outputs": [],
   "source": [
    "from sabueso.tools.string_uniprot_id import to_uniprotkb_XMLDict"
   ]
  },
  {
   "cell_type": "code",
   "execution_count": 4,
   "id": "a52e8db2-914e-4ccc-979c-32420c2306f8",
   "metadata": {},
   "outputs": [],
   "source": [
    "item = to_uniprotkb_XMLDict('uniprot:P19367')\n",
    "#item = to_uniprotkb_XMLDict('uniprot:P46200')\n",
    "#item = to_uniprotkb_XMLDict('uniprot:P55197')\n",
    "#item = to_uniprotkb_XMLDict('uniprot:P05937')\n",
    "#item = to_uniprotkb_XMLDict('uniprot:P00374')\n",
    "#item = to_uniprotkb_XMLDict('uniprot:Q9FFX4')\n",
    "#item = to_uniprotkb_XMLDict('uniprot:P62166')"
   ]
  },
  {
   "cell_type": "code",
   "execution_count": null,
   "id": "248d8788-9008-4faf-add3-a3991d73abd7",
   "metadata": {},
   "outputs": [],
   "source": [
    "item['uniprot'].keys()"
   ]
  },
  {
   "cell_type": "code",
   "execution_count": null,
   "id": "bc03b72c-7bed-43b2-8e23-33ee33d72f9b",
   "metadata": {},
   "outputs": [],
   "source": [
    "item['uniprot']['entry'].keys()"
   ]
  },
  {
   "cell_type": "code",
   "execution_count": null,
   "id": "95e284c5-afac-4fda-83f4-df2363c73555",
   "metadata": {},
   "outputs": [],
   "source": [
    "item['uniprot']['entry']['sequence'].keys()"
   ]
  },
  {
   "cell_type": "code",
   "execution_count": null,
   "id": "9ed39f2c-fb74-4ccd-9263-0404817cff8c",
   "metadata": {},
   "outputs": [],
   "source": [
    "for aux in item['uniprot']['entry']['comment']:\n",
    "    print(aux['@type'])"
   ]
  },
  {
   "cell_type": "code",
   "execution_count": null,
   "id": "667370d1-e079-467b-9d2a-3d40ee474202",
   "metadata": {},
   "outputs": [],
   "source": [
    "for aux in item['uniprot']['entry']['comment']:\n",
    "    if aux['@type']=='similarity':\n",
    "        print(aux)\n",
    "        break"
   ]
  },
  {
   "cell_type": "code",
   "execution_count": null,
   "id": "acd2c8d3-4282-411e-ab64-6147027d1059",
   "metadata": {},
   "outputs": [],
   "source": [
    "aux.keys()"
   ]
  },
  {
   "cell_type": "code",
   "execution_count": null,
   "id": "47a3871d-e4b4-48c9-8ecb-fef3bec2df2f",
   "metadata": {},
   "outputs": [],
   "source": [
    "aux['subcellularLocation']"
   ]
  },
  {
   "cell_type": "code",
   "execution_count": null,
   "id": "4f04254b-e7cf-4020-b883-76f452b06620",
   "metadata": {},
   "outputs": [],
   "source": [
    "aux['text']"
   ]
  },
  {
   "cell_type": "code",
   "execution_count": null,
   "id": "34544af7-07b5-4427-b155-1f88ec16a40c",
   "metadata": {},
   "outputs": [],
   "source": [
    "aux['reaction']"
   ]
  },
  {
   "cell_type": "code",
   "execution_count": null,
   "id": "d55eb3f9-03ba-4e36-875a-634b095a8ca8",
   "metadata": {},
   "outputs": [],
   "source": [
    "aux['physiologicalReaction']"
   ]
  },
  {
   "cell_type": "code",
   "execution_count": null,
   "id": "efc7f546-7e1a-4dc0-9db8-d159d32cb3c7",
   "metadata": {},
   "outputs": [],
   "source": []
  }
 ],
 "metadata": {
  "kernelspec": {
   "display_name": "Python 3 (ipykernel)",
   "language": "python",
   "name": "python3"
  },
  "language_info": {
   "codemirror_mode": {
    "name": "ipython",
    "version": 3
   },
   "file_extension": ".py",
   "mimetype": "text/x-python",
   "name": "python",
   "nbconvert_exporter": "python",
   "pygments_lexer": "ipython3",
   "version": "3.7.10"
  }
 },
 "nbformat": 4,
 "nbformat_minor": 5
}
