{
 "cells": [
  {
   "cell_type": "code",
   "execution_count": null,
   "id": "e27dd08e-2276-48eb-8db1-2d5d450580be",
   "metadata": {},
   "outputs": [],
   "source": [
    "%load_ext autoreload\n",
    "%autoreload 2"
   ]
  },
  {
   "cell_type": "markdown",
   "id": "656d47ec-b0b8-4186-9683-eb3a225fe401",
   "metadata": {},
   "source": [
    "# get isoforms"
   ]
  },
  {
   "cell_type": "code",
   "execution_count": null,
   "id": "0ce22a0c-9fa8-4d40-b880-3895b0affbbc",
   "metadata": {},
   "outputs": [],
   "source": [
    "#from sabueso.tools.string_uniprot import get_canonical_sequence"
   ]
  },
  {
   "cell_type": "code",
   "execution_count": null,
   "id": "a2652712-f910-40c8-b812-f6412b497f83",
   "metadata": {},
   "outputs": [],
   "source": [
    "#item = 'uniprot:P19367'\n",
    "#item = 'uniprot:P52789'\n",
    "#item = 'uniprot:P52790'\n",
    "#item = 'uniprot:P35557'"
   ]
  },
  {
   "cell_type": "code",
   "execution_count": null,
   "id": "dcb9a829-1742-42f5-a6bd-73cbd093cdfd",
   "metadata": {},
   "outputs": [],
   "source": [
    "#sequence = get_canonical_sequence(item)"
   ]
  },
  {
   "cell_type": "code",
   "execution_count": null,
   "id": "348ed5a7-7345-4b08-98bc-078359c689b1",
   "metadata": {},
   "outputs": [],
   "source": [
    "#sequence"
   ]
  },
  {
   "cell_type": "code",
   "execution_count": null,
   "id": "96d710d1-134f-4b2c-8820-ade937479366",
   "metadata": {},
   "outputs": [],
   "source": []
  }
 ],
 "metadata": {
  "kernelspec": {
   "display_name": "Python 3 (ipykernel)",
   "language": "python",
   "name": "python3"
  },
  "language_info": {
   "codemirror_mode": {
    "name": "ipython",
    "version": 3
   },
   "file_extension": ".py",
   "mimetype": "text/x-python",
   "name": "python",
   "nbconvert_exporter": "python",
   "pygments_lexer": "ipython3",
   "version": "3.7.10"
  }
 },
 "nbformat": 4,
 "nbformat_minor": 5
}
