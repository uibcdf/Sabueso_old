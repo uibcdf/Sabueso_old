{
 "cells": [
  {
   "cell_type": "markdown",
   "id": "1cf9ca99-7af4-479a-a70e-bf09d6a83488",
   "metadata": {},
   "source": [
    "# string is uniprot"
   ]
  },
  {
   "cell_type": "code",
   "execution_count": 1,
   "id": "b0c36330-7902-4c60-aac4-2eb995ba98f5",
   "metadata": {},
   "outputs": [],
   "source": [
    "import sabueso as sab"
   ]
  },
  {
   "cell_type": "code",
   "execution_count": 3,
   "id": "df4513e1-c6a3-428e-82a0-15da91ca47af",
   "metadata": {},
   "outputs": [
    {
     "data": {
      "text/plain": [
       "True"
      ]
     },
     "execution_count": 3,
     "metadata": {},
     "output_type": "execute_result"
    }
   ],
   "source": [
    "sab.tools.string_uniprot.string_is_uniprot('A2BC19')"
   ]
  },
  {
   "cell_type": "code",
   "execution_count": 4,
   "id": "d1c47bbc-729e-44c5-963a-1441a86e13c1",
   "metadata": {},
   "outputs": [
    {
     "data": {
      "text/plain": [
       "True"
      ]
     },
     "execution_count": 4,
     "metadata": {},
     "output_type": "execute_result"
    }
   ],
   "source": [
    "sab.tools.string_uniprot.string_is_uniprot('P12345')"
   ]
  },
  {
   "cell_type": "code",
   "execution_count": 7,
   "id": "c1e0dcd8-9ee6-4180-bc24-343ba08d71ea",
   "metadata": {},
   "outputs": [
    {
     "data": {
      "text/plain": [
       "True"
      ]
     },
     "execution_count": 7,
     "metadata": {},
     "output_type": "execute_result"
    }
   ],
   "source": [
    "sab.tools.string_uniprot.string_is_uniprot('P12345-2')"
   ]
  },
  {
   "cell_type": "code",
   "execution_count": 5,
   "id": "c2cdaa55-e9ce-4004-b86d-a58e40566ff8",
   "metadata": {},
   "outputs": [
    {
     "data": {
      "text/plain": [
       "True"
      ]
     },
     "execution_count": 5,
     "metadata": {},
     "output_type": "execute_result"
    }
   ],
   "source": [
    "sab.tools.string_uniprot.string_is_uniprot('A0A023GPI8')"
   ]
  },
  {
   "cell_type": "code",
   "execution_count": 6,
   "id": "2d9e88bb-b7e5-45c9-9a65-f44cd86ab476",
   "metadata": {},
   "outputs": [
    {
     "data": {
      "text/plain": [
       "False"
      ]
     },
     "execution_count": 6,
     "metadata": {},
     "output_type": "execute_result"
    }
   ],
   "source": [
    "sab.tools.string_uniprot.string_is_uniprot('1BRS')"
   ]
  },
  {
   "cell_type": "markdown",
   "id": "2e5950a9-e149-4683-b5de-b17cf2f7952a",
   "metadata": {},
   "source": [
    "Regex according to https://www.uniprot.org/help/accession_numbers:\n",
    "\n",
    "[OPQ][0-9][A-Z0-9]{3}[0-9]|[A-NR-Z][0-9]([A-Z][A-Z0-9]{2}[0-9]){1,2}"
   ]
  }
 ],
 "metadata": {
  "kernelspec": {
   "display_name": "Python 3 (ipykernel)",
   "language": "python",
   "name": "python3"
  },
  "language_info": {
   "codemirror_mode": {
    "name": "ipython",
    "version": 3
   },
   "file_extension": ".py",
   "mimetype": "text/x-python",
   "name": "python",
   "nbconvert_exporter": "python",
   "pygments_lexer": "ipython3",
   "version": "3.7.10"
  }
 },
 "nbformat": 4,
 "nbformat_minor": 5
}
