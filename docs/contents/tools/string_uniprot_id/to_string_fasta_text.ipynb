{
 "cells": [
  {
   "cell_type": "code",
   "execution_count": 1,
   "id": "546a0c33-9968-4623-a805-d810afbec830",
   "metadata": {},
   "outputs": [],
   "source": [
    "%load_ext autoreload\n",
    "%autoreload 2"
   ]
  },
  {
   "cell_type": "markdown",
   "id": "c2bbfe1c-6667-4f3e-8b37-c39f28c7a7ac",
   "metadata": {},
   "source": [
    "# to string fasta text"
   ]
  },
  {
   "cell_type": "code",
   "execution_count": 2,
   "id": "f1550a29-ef31-45aa-951a-e54d33ec7ce5",
   "metadata": {},
   "outputs": [],
   "source": [
    "#from sabueso.tools.string_uniprot import to_string_fasta_text"
   ]
  },
  {
   "cell_type": "code",
   "execution_count": 3,
   "id": "5c6fa79b-de09-44fc-be89-721ac6b22faf",
   "metadata": {},
   "outputs": [],
   "source": [
    "#item = 'uniprot:P19367'\n",
    "#item = 'uniprot:P52789'\n",
    "#item = 'uniprot:P52790'\n",
    "#item = 'uniprot:P35557'"
   ]
  },
  {
   "cell_type": "code",
   "execution_count": 4,
   "id": "7535b1e7-2234-4d85-b022-55e31117f622",
   "metadata": {},
   "outputs": [],
   "source": [
    "#fasta_text = to_string_fasta_text(item)"
   ]
  },
  {
   "cell_type": "code",
   "execution_count": 6,
   "id": "9a0d0932-073a-48d0-b67e-f04e44dd14c6",
   "metadata": {},
   "outputs": [
    {
     "name": "stdout",
     "output_type": "stream",
     "text": [
      ">sp|P19367|HXK1_HUMAN Hexokinase-1 OS=Homo sapiens OX=9606 GN=HK1 PE=1 SV=3\n",
      "MIAAQLLAYYFTELKDDQVKKIDKYLYAMRLSDETLIDIMTRFRKEMKNGLSRDFNPTAT\n",
      "VKMLPTFVRSIPDGSEKGDFIALDLGGSSFRILRVQVNHEKNQNVHMESEVYDTPENIVH\n",
      "GSGSQLFDHVAECLGDFMEKRKIKDKKLPVGFTFSFPCQQSKIDEAILITWTKRFKASGV\n",
      "EGADVVKLLNKAIKKRGDYDANIVAVVNDTVGTMMTCGYDDQHCEVGLIIGTGTNACYME\n",
      "ELRHIDLVEGDEGRMCINTEWGAFGDDGSLEDIRTEFDREIDRGSLNPGKQLFEKMVSGM\n",
      "YLGELVRLILVKMAKEGLLFEGRITPELLTRGKFNTSDVSAIEKNKEGLHNAKEILTRLG\n",
      "VEPSDDDCVSVQHVCTIVSFRSANLVAATLGAILNRLRDNKGTPRLRTTVGVDGSLYKTH\n",
      "PQYSRRFHKTLRRLVPDSDVRFLLSESGSGKGAAMVTAVAYRLAEQHRQIEETLAHFHLT\n",
      "KDMLLEVKKRMRAEMELGLRKQTHNNAVVKMLPSFVRRTPDGTENGDFLALDLGGTNFRV\n",
      "LLVKIRSGKKRTVEMHNKIYAIPIEIMQGTGEELFDHIVSCISDFLDYMGIKGPRMPLGF\n",
      "TFSFPCQQTSLDAGILITWTKGFKATDCVGHDVVTLLRDAIKRREEFDLDVVAVVNDTVG\n",
      "TMMTCAYEEPTCEVGLIVGTGSNACYMEEMKNVEMVEGDQGQMCINMEWGAFGDNGCLDD\n",
      "IRTHYDRLVDEYSLNAGKQRYEKMISGMYLGEIVRNILIDFTKKGFLFRGQISETLKTRG\n",
      "IFETKFLSQIESDRLALLQVRAILQQLGLNSTCDDSILVKTVCGVVSRRAAQLCGAGMAA\n",
      "VVDKIRENRGLDRLNVTVGVDGTLYKLHPHFSRIMHQTVKELSPKCNVSFLLSEDGSGKG\n",
      "AALITAVGVRLRTEASS\n",
      "\n"
     ]
    }
   ],
   "source": [
    "#print(fasta_text)"
   ]
  },
  {
   "cell_type": "code",
   "execution_count": null,
   "id": "27d7e6b7-f283-40e3-89ab-da09e9ab7e48",
   "metadata": {},
   "outputs": [],
   "source": []
  }
 ],
 "metadata": {
  "kernelspec": {
   "display_name": "Python 3 (ipykernel)",
   "language": "python",
   "name": "python3"
  },
  "language_info": {
   "codemirror_mode": {
    "name": "ipython",
    "version": 3
   },
   "file_extension": ".py",
   "mimetype": "text/x-python",
   "name": "python",
   "nbconvert_exporter": "python",
   "pygments_lexer": "ipython3",
   "version": "3.7.10"
  }
 },
 "nbformat": 4,
 "nbformat_minor": 5
}
