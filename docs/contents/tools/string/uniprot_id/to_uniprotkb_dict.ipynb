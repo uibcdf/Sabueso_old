{
 "cells": [
  {
   "cell_type": "code",
   "execution_count": 1,
   "id": "6c5008c6-30bd-4a63-8701-85bef6f98f2b",
   "metadata": {},
   "outputs": [],
   "source": [
    "%load_ext autoreload\n",
    "%autoreload 2"
   ]
  },
  {
   "cell_type": "markdown",
   "id": "2fb13e62-4c32-42ed-af5e-d4f14d29f7ff",
   "metadata": {},
   "source": [
    "# To uniprotkb dict"
   ]
  },
  {
   "cell_type": "code",
   "execution_count": 2,
   "id": "e5cc5b5c-7d0b-4725-b33b-04be251fcc70",
   "metadata": {},
   "outputs": [],
   "source": [
    "from sabueso.tools.string.uniprot_id import to_uniprotkb_dict"
   ]
  },
  {
   "cell_type": "code",
   "execution_count": 3,
   "id": "ecea8dcf-997f-4f8d-bc38-3cc451e1ff3e",
   "metadata": {},
   "outputs": [],
   "source": [
    "entry = to_uniprotkb_dict('P19367')"
   ]
  },
  {
   "cell_type": "code",
   "execution_count": null,
   "id": "2035298c-d21a-419e-acd4-acdf8b6a6fbc",
   "metadata": {},
   "outputs": [],
   "source": [
    "entry['uniprot']['entry']['evidence']"
   ]
  },
  {
   "cell_type": "code",
   "execution_count": null,
   "id": "0b707426-623f-4f92-b56e-dc8086a58a43",
   "metadata": {},
   "outputs": [],
   "source": [
    "aa = entry['uniprot']['entry']"
   ]
  },
  {
   "cell_type": "code",
   "execution_count": null,
   "id": "a3e4ce28-c6e5-4277-93f2-e8372fce411c",
   "metadata": {},
   "outputs": [],
   "source": [
    "aa."
   ]
  }
 ],
 "metadata": {
  "kernelspec": {
   "display_name": "Python 3 (ipykernel)",
   "language": "python",
   "name": "python3"
  },
  "language_info": {
   "codemirror_mode": {
    "name": "ipython",
    "version": 3
   },
   "file_extension": ".py",
   "mimetype": "text/x-python",
   "name": "python",
   "nbconvert_exporter": "python",
   "pygments_lexer": "ipython3",
   "version": "3.7.10"
  }
 },
 "nbformat": 4,
 "nbformat_minor": 5
}
