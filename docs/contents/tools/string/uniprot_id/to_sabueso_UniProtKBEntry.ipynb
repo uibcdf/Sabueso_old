{
 "cells": [
  {
   "cell_type": "code",
   "execution_count": 1,
   "id": "6c5008c6-30bd-4a63-8701-85bef6f98f2b",
   "metadata": {},
   "outputs": [],
   "source": [
    "%load_ext autoreload\n",
    "%autoreload 2"
   ]
  },
  {
   "cell_type": "markdown",
   "id": "2fb13e62-4c32-42ed-af5e-d4f14d29f7ff",
   "metadata": {},
   "source": [
    "# To sabueso UniProtKBEntry"
   ]
  },
  {
   "cell_type": "code",
   "execution_count": 2,
   "id": "e5cc5b5c-7d0b-4725-b33b-04be251fcc70",
   "metadata": {},
   "outputs": [],
   "source": [
    "from sabueso.tools.string.uniprot_id import to_sabueso_UniProtKBEntry"
   ]
  },
  {
   "cell_type": "code",
   "execution_count": 5,
   "id": "ecea8dcf-997f-4f8d-bc38-3cc451e1ff3e",
   "metadata": {},
   "outputs": [],
   "source": [
    "entry = to_sabueso_UniProtKBEntry('P19367')"
   ]
  },
  {
   "cell_type": "code",
   "execution_count": 25,
   "id": "0b707426-623f-4f92-b56e-dc8086a58a43",
   "metadata": {},
   "outputs": [
    {
     "ename": "TypeError",
     "evalue": "'Evidence' object is not callable",
     "output_type": "error",
     "traceback": [
      "\u001b[0;31m---------------------------------------------------------------------------\u001b[0m",
      "\u001b[0;31mTypeError\u001b[0m                                 Traceback (most recent call last)",
      "\u001b[0;32m/tmp/ipykernel_1430638/79642936.py\u001b[0m in \u001b[0;36m<module>\u001b[0;34m\u001b[0m\n\u001b[0;32m----> 1\u001b[0;31m \u001b[0mentry\u001b[0m\u001b[0;34m.\u001b[0m\u001b[0mprotein\u001b[0m\u001b[0;34m.\u001b[0m\u001b[0mrecommendedName\u001b[0m\u001b[0;34m.\u001b[0m\u001b[0mecNumber\u001b[0m\u001b[0;34m(\u001b[0m\u001b[0;34m)\u001b[0m\u001b[0;34m\u001b[0m\u001b[0;34m\u001b[0m\u001b[0m\n\u001b[0m",
      "\u001b[0;31mTypeError\u001b[0m: 'Evidence' object is not callable"
     ]
    }
   ],
   "source": [
    "entry.protein.recommendedName.ecNumber()"
   ]
  },
  {
   "cell_type": "code",
   "execution_count": null,
   "id": "65653fd4-bf67-4880-89b3-2d7783f328de",
   "metadata": {},
   "outputs": [],
   "source": []
  }
 ],
 "metadata": {
  "kernelspec": {
   "display_name": "Python 3 (ipykernel)",
   "language": "python",
   "name": "python3"
  },
  "language_info": {
   "codemirror_mode": {
    "name": "ipython",
    "version": 3
   },
   "file_extension": ".py",
   "mimetype": "text/x-python",
   "name": "python",
   "nbconvert_exporter": "python",
   "pygments_lexer": "ipython3",
   "version": "3.7.10"
  }
 },
 "nbformat": 4,
 "nbformat_minor": 5
}
