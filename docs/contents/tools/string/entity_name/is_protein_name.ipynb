{
 "cells": [
  {
   "cell_type": "code",
   "execution_count": 1,
   "id": "e2f860a4-7796-438c-b3d6-a8e4099f2b26",
   "metadata": {},
   "outputs": [],
   "source": [
    "%load_ext autoreload\n",
    "%autoreload 2"
   ]
  },
  {
   "cell_type": "markdown",
   "id": "7ebd181d-dd66-4bb3-a7a5-6644fe04f7d7",
   "metadata": {},
   "source": [
    "# Is protein name"
   ]
  },
  {
   "cell_type": "code",
   "execution_count": 2,
   "id": "8c0e8a89-ea7a-4815-be75-f2b149d382ca",
   "metadata": {},
   "outputs": [],
   "source": [
    "from sabueso.tools.database.UniProtKB import query"
   ]
  },
  {
   "cell_type": "code",
   "execution_count": 3,
   "id": "181e224a-278c-45f6-a55b-c31482ba639f",
   "metadata": {},
   "outputs": [],
   "source": [
    "a=query('name:hexokinase-a AND organism:human')"
   ]
  },
  {
   "cell_type": "code",
   "execution_count": 4,
   "id": "338b9f09-b44d-4599-a89b-a43c76d8738d",
   "metadata": {},
   "outputs": [
    {
     "data": {
      "text/html": [
       "<div>\n",
       "<style scoped>\n",
       "    .dataframe tbody tr th:only-of-type {\n",
       "        vertical-align: middle;\n",
       "    }\n",
       "\n",
       "    .dataframe tbody tr th {\n",
       "        vertical-align: top;\n",
       "    }\n",
       "\n",
       "    .dataframe thead th {\n",
       "        text-align: right;\n",
       "    }\n",
       "</style>\n",
       "<table border=\"1\" class=\"dataframe\">\n",
       "  <thead>\n",
       "    <tr style=\"text-align: right;\">\n",
       "      <th></th>\n",
       "      <th>Entry</th>\n",
       "      <th>Entry name</th>\n",
       "      <th>Status</th>\n",
       "      <th>Protein names</th>\n",
       "      <th>Organism</th>\n",
       "    </tr>\n",
       "  </thead>\n",
       "  <tbody>\n",
       "    <tr>\n",
       "      <th>0</th>\n",
       "      <td>P19367</td>\n",
       "      <td>HXK1_HUMAN</td>\n",
       "      <td>reviewed</td>\n",
       "      <td>Hexokinase-1 (EC 2.7.1.1) (Brain form hexokina...</td>\n",
       "      <td>Homo sapiens (Human)</td>\n",
       "    </tr>\n",
       "  </tbody>\n",
       "</table>\n",
       "</div>"
      ],
      "text/plain": [
       "    Entry  Entry name    Status  \\\n",
       "0  P19367  HXK1_HUMAN  reviewed   \n",
       "\n",
       "                                       Protein names              Organism  \n",
       "0  Hexokinase-1 (EC 2.7.1.1) (Brain form hexokina...  Homo sapiens (Human)  "
      ]
     },
     "execution_count": 4,
     "metadata": {},
     "output_type": "execute_result"
    }
   ],
   "source": [
    "a"
   ]
  },
  {
   "cell_type": "code",
   "execution_count": null,
   "id": "9dbc00fe-9ed1-4b4a-9024-7331eda1b04e",
   "metadata": {},
   "outputs": [],
   "source": []
  }
 ],
 "metadata": {
  "kernelspec": {
   "display_name": "Python 3 (ipykernel)",
   "language": "python",
   "name": "python3"
  },
  "language_info": {
   "codemirror_mode": {
    "name": "ipython",
    "version": 3
   },
   "file_extension": ".py",
   "mimetype": "text/x-python",
   "name": "python",
   "nbconvert_exporter": "python",
   "pygments_lexer": "ipython3",
   "version": "3.7.10"
  }
 },
 "nbformat": 4,
 "nbformat_minor": 5
}
