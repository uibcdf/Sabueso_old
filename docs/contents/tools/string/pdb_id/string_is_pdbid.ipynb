{
 "cells": [
  {
   "cell_type": "markdown",
   "id": "8b401553-372f-47b5-b726-ac625eaf53ff",
   "metadata": {},
   "source": [
    "# string is pdbid"
   ]
  },
  {
   "cell_type": "code",
   "execution_count": 2,
   "id": "f69dc722-ab45-4aa8-9bf5-3be5cbc51470",
   "metadata": {},
   "outputs": [],
   "source": [
    "import sabueso as sab"
   ]
  },
  {
   "cell_type": "code",
   "execution_count": 3,
   "id": "af653f53-f208-47c1-b0df-0f2ede10342f",
   "metadata": {},
   "outputs": [
    {
     "data": {
      "text/plain": [
       "True"
      ]
     },
     "execution_count": 3,
     "metadata": {},
     "output_type": "execute_result"
    }
   ],
   "source": [
    "sab.tools.string.pdbid.string_is_pdbid('1BRS')"
   ]
  },
  {
   "cell_type": "code",
   "execution_count": 4,
   "id": "aaaa648a-b5ea-4a13-879b-cea45bc956c5",
   "metadata": {},
   "outputs": [
    {
     "data": {
      "text/plain": [
       "False"
      ]
     },
     "execution_count": 4,
     "metadata": {},
     "output_type": "execute_result"
    }
   ],
   "source": [
    "sab.tools.string.pdbid.string_is_pdbid('X3BD')"
   ]
  },
  {
   "cell_type": "code",
   "execution_count": 5,
   "id": "4c2f91a8-0fa4-4212-9372-0c8a4bbdcfaf",
   "metadata": {},
   "outputs": [
    {
     "data": {
      "text/plain": [
       "False"
      ]
     },
     "execution_count": 5,
     "metadata": {},
     "output_type": "execute_result"
    }
   ],
   "source": [
    "sab.tools.string.pdbid.string_is_pdbid('P00648')"
   ]
  },
  {
   "cell_type": "markdown",
   "id": "538b3da7-0add-476e-b2da-9ba13a1413a8",
   "metadata": {},
   "source": [
    "Regex according to https://bioportal.bioontology.org/ontologies/EDAM?p=classes&conceptid=data_1127:\n",
    "    \n",
    "[0-9][a-zA-Z_0-9]{3}"
   ]
  },
  {
   "cell_type": "code",
   "execution_count": null,
   "id": "cd60fe1b-1a55-4841-a079-f91903439396",
   "metadata": {},
   "outputs": [],
   "source": [
    "    "
   ]
  }
 ],
 "metadata": {
  "kernelspec": {
   "display_name": "Python 3 (ipykernel)",
   "language": "python",
   "name": "python3"
  },
  "language_info": {
   "codemirror_mode": {
    "name": "ipython",
    "version": 3
   },
   "file_extension": ".py",
   "mimetype": "text/x-python",
   "name": "python",
   "nbconvert_exporter": "python",
   "pygments_lexer": "ipython3",
   "version": "3.7.10"
  }
 },
 "nbformat": 4,
 "nbformat_minor": 5
}
