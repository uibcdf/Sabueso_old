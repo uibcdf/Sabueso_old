{
 "cells": [
  {
   "cell_type": "code",
   "execution_count": 1,
   "id": "008aa18e-a43d-4fb4-ba30-07a207c72ddc",
   "metadata": {},
   "outputs": [],
   "source": [
    "%load_ext autoreload\n",
    "%autoreload 2"
   ]
  },
  {
   "cell_type": "markdown",
   "id": "0b331157-59b9-4f81-9107-bedb7f56a029",
   "metadata": {},
   "source": [
    "# get sequences"
   ]
  },
  {
   "cell_type": "code",
   "execution_count": 2,
   "id": "397605f7-a1a8-4478-b232-6528c0951e6b",
   "metadata": {},
   "outputs": [
    {
     "ename": "ModuleNotFoundError",
     "evalue": "No module named 'sabueso.tools.string_uniprot'",
     "output_type": "error",
     "traceback": [
      "\u001b[0;31m---------------------------------------------------------------------------\u001b[0m",
      "\u001b[0;31mModuleNotFoundError\u001b[0m                       Traceback (most recent call last)",
      "\u001b[0;32m/tmp/ipykernel_1307822/4049485029.py\u001b[0m in \u001b[0;36m<module>\u001b[0;34m\u001b[0m\n\u001b[0;32m----> 1\u001b[0;31m \u001b[0;32mfrom\u001b[0m \u001b[0msabueso\u001b[0m\u001b[0;34m.\u001b[0m\u001b[0mtools\u001b[0m\u001b[0;34m.\u001b[0m\u001b[0mstring_uniprot\u001b[0m \u001b[0;32mimport\u001b[0m \u001b[0mto_string_fasta_text\u001b[0m\u001b[0;34m\u001b[0m\u001b[0;34m\u001b[0m\u001b[0m\n\u001b[0m\u001b[1;32m      2\u001b[0m \u001b[0;32mfrom\u001b[0m \u001b[0msabueso\u001b[0m\u001b[0;34m.\u001b[0m\u001b[0mtools\u001b[0m\u001b[0;34m.\u001b[0m\u001b[0mstring_fasta_text\u001b[0m \u001b[0;32mimport\u001b[0m \u001b[0mget_sequences\u001b[0m\u001b[0;34m\u001b[0m\u001b[0;34m\u001b[0m\u001b[0m\n",
      "\u001b[0;31mModuleNotFoundError\u001b[0m: No module named 'sabueso.tools.string_uniprot'"
     ]
    }
   ],
   "source": [
    "#from sabueso.tools.string_uniprot import to_string_fasta_text\n",
    "#from sabueso.tools.string_fasta_text import get_sequences"
   ]
  },
  {
   "cell_type": "code",
   "execution_count": null,
   "id": "30cfa466-a111-40f9-a0b6-05e3a9a3bda1",
   "metadata": {},
   "outputs": [],
   "source": [
    "#item = 'uniprot:P19367'\n",
    "#item = 'uniprot:P52789'\n",
    "#item = 'uniprot:P52790'\n",
    "#item = 'uniprot:P35557'"
   ]
  },
  {
   "cell_type": "code",
   "execution_count": null,
   "id": "27ca4718-0443-4515-96b4-662df5e0f629",
   "metadata": {},
   "outputs": [],
   "source": [
    "#item = to_string_fasta_text(item)"
   ]
  },
  {
   "cell_type": "code",
   "execution_count": null,
   "id": "38361022-cc07-4cf6-b2d4-5afe48939d11",
   "metadata": {},
   "outputs": [],
   "source": [
    "#sequences = get_sequences(item)"
   ]
  },
  {
   "cell_type": "code",
   "execution_count": null,
   "id": "67386b5a-31d1-4d72-8444-1889c7e64ad8",
   "metadata": {},
   "outputs": [],
   "source": [
    "#sequences"
   ]
  },
  {
   "cell_type": "code",
   "execution_count": null,
   "id": "1e321691-50c5-4b42-bcdc-4881f41666e6",
   "metadata": {},
   "outputs": [],
   "source": []
  }
 ],
 "metadata": {
  "kernelspec": {
   "display_name": "Python 3 (ipykernel)",
   "language": "python",
   "name": "python3"
  },
  "language_info": {
   "codemirror_mode": {
    "name": "ipython",
    "version": 3
   },
   "file_extension": ".py",
   "mimetype": "text/x-python",
   "name": "python",
   "nbconvert_exporter": "python",
   "pygments_lexer": "ipython3",
   "version": "3.7.10"
  }
 },
 "nbformat": 4,
 "nbformat_minor": 5
}
