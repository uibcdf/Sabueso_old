{
 "cells": [
  {
   "cell_type": "code",
   "execution_count": 1,
   "id": "8fc6e69f-dfc3-4431-a392-19bef0b186ec",
   "metadata": {},
   "outputs": [],
   "source": [
    "%load_ext autoreload\n",
    "%autoreload 2"
   ]
  },
  {
   "cell_type": "markdown",
   "id": "703e0dea-b45e-4c12-b6c0-2eda09287489",
   "metadata": {},
   "source": [
    " # pdb"
   ]
  },
  {
   "cell_type": "code",
   "execution_count": 2,
   "id": "f0843acb-470c-46a4-b83e-a416987046d8",
   "metadata": {},
   "outputs": [],
   "source": [
    "import sabueso as sab"
   ]
  },
  {
   "cell_type": "code",
   "execution_count": 3,
   "id": "848222ec-9e26-4a06-aaa6-8bda3e761351",
   "metadata": {},
   "outputs": [],
   "source": [
    "#sab.tools.file.pdb.download('1brs')"
   ]
  },
  {
   "cell_type": "code",
   "execution_count": 4,
   "id": "be811b53-275d-4cbd-9349-bfb33d31ba0d",
   "metadata": {},
   "outputs": [],
   "source": [
    "pdb = sab.tools.file.pdb.parsers.format33('1brs.pdb')"
   ]
  },
  {
   "cell_type": "code",
   "execution_count": 6,
   "id": "38466d5b-e228-40ac-bc0c-6cd5b464ba78",
   "metadata": {},
   "outputs": [
    {
     "data": {
      "text/plain": [
       "207.25"
      ]
     },
     "execution_count": 6,
     "metadata": {},
     "output_type": "execute_result"
    }
   ],
   "source": []
  },
  {
   "cell_type": "code",
   "execution_count": null,
   "id": "894cee4d-2117-41a3-8d5d-441bd1504374",
   "metadata": {},
   "outputs": [],
   "source": []
  }
 ],
 "metadata": {
  "kernelspec": {
   "display_name": "Python 3 (ipykernel)",
   "language": "python",
   "name": "python3"
  },
  "language_info": {
   "codemirror_mode": {
    "name": "ipython",
    "version": 3
   },
   "file_extension": ".py",
   "mimetype": "text/x-python",
   "name": "python",
   "nbconvert_exporter": "python",
   "pygments_lexer": "ipython3",
   "version": "3.7.10"
  }
 },
 "nbformat": 4,
 "nbformat_minor": 5
}
