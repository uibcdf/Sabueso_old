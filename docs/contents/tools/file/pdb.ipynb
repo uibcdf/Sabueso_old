{
 "cells": [
  {
   "cell_type": "code",
   "execution_count": 1,
   "id": "8fc6e69f-dfc3-4431-a392-19bef0b186ec",
   "metadata": {},
   "outputs": [],
   "source": [
    "%load_ext autoreload\n",
    "%autoreload 2"
   ]
  },
  {
   "cell_type": "markdown",
   "id": "703e0dea-b45e-4c12-b6c0-2eda09287489",
   "metadata": {},
   "source": [
    " # pdb"
   ]
  },
  {
   "cell_type": "code",
   "execution_count": 2,
   "id": "f0843acb-470c-46a4-b83e-a416987046d8",
   "metadata": {},
   "outputs": [],
   "source": [
    "import sabueso as sab"
   ]
  },
  {
   "cell_type": "code",
   "execution_count": 3,
   "id": "848222ec-9e26-4a06-aaa6-8bda3e761351",
   "metadata": {},
   "outputs": [],
   "source": [
    "#sab.tools.file.pdb.download('1brs')"
   ]
  },
  {
   "cell_type": "code",
   "execution_count": 4,
   "id": "be811b53-275d-4cbd-9349-bfb33d31ba0d",
   "metadata": {},
   "outputs": [],
   "source": [
    "pdb = sab.tools.file.pdb.parsers.format33('1brs.pdb')"
   ]
  },
  {
   "cell_type": "code",
   "execution_count": 6,
   "id": "d9884202-1bf4-40c0-b195-5ddd3a95de9c",
   "metadata": {},
   "outputs": [
    {
     "data": {
      "text/plain": [
       "'A.M.BUCKLE,G.SCHREIBER,A.R.FERSHT'"
      ]
     },
     "execution_count": 6,
     "metadata": {},
     "output_type": "execute_result"
    }
   ],
   "source": []
  },
  {
   "cell_type": "code",
   "execution_count": null,
   "id": "4e151610-85b9-4b95-87d9-10b7d69f10f9",
   "metadata": {},
   "outputs": [],
   "source": []
  }
 ],
 "metadata": {
  "kernelspec": {
   "display_name": "Python 3 (ipykernel)",
   "language": "python",
   "name": "python3"
  },
  "language_info": {
   "codemirror_mode": {
    "name": "ipython",
    "version": 3
   },
   "file_extension": ".py",
   "mimetype": "text/x-python",
   "name": "python",
   "nbconvert_exporter": "python",
   "pygments_lexer": "ipython3",
   "version": "3.7.10"
  }
 },
 "nbformat": 4,
 "nbformat_minor": 5
}
