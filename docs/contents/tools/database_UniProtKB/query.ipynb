{
 "cells": [
  {
   "cell_type": "code",
   "execution_count": 1,
   "id": "1e03ebcd-7275-4f2d-9ffe-c64b42bd94e0",
   "metadata": {},
   "outputs": [],
   "source": [
    "%load_ext autoreload\n",
    "%autoreload 2"
   ]
  },
  {
   "cell_type": "markdown",
   "id": "2833306f-5f1d-4f8e-a15c-8fe10525eeaf",
   "metadata": {},
   "source": [
    "# query"
   ]
  },
  {
   "cell_type": "code",
   "execution_count": 3,
   "id": "296a5c3f-7111-4bd7-9025-64459263a3a9",
   "metadata": {},
   "outputs": [],
   "source": [
    "from sabueso.tools.database_UniProtKB import query"
   ]
  },
  {
   "cell_type": "code",
   "execution_count": 4,
   "id": "a1974989-5f0c-4b5a-be80-b836769bd8fe",
   "metadata": {},
   "outputs": [],
   "source": [
    "result = query('name:hexokinase-a AND organism:human')"
   ]
  },
  {
   "cell_type": "code",
   "execution_count": 5,
   "id": "305aacc4-b000-4979-92e2-eadf6c11a80a",
   "metadata": {},
   "outputs": [
    {
     "data": {
      "text/html": [
       "<div>\n",
       "<style scoped>\n",
       "    .dataframe tbody tr th:only-of-type {\n",
       "        vertical-align: middle;\n",
       "    }\n",
       "\n",
       "    .dataframe tbody tr th {\n",
       "        vertical-align: top;\n",
       "    }\n",
       "\n",
       "    .dataframe thead th {\n",
       "        text-align: right;\n",
       "    }\n",
       "</style>\n",
       "<table border=\"1\" class=\"dataframe\">\n",
       "  <thead>\n",
       "    <tr style=\"text-align: right;\">\n",
       "      <th></th>\n",
       "      <th>Entry</th>\n",
       "      <th>Entry name</th>\n",
       "      <th>Status</th>\n",
       "      <th>Protein names</th>\n",
       "      <th>Organism</th>\n",
       "    </tr>\n",
       "  </thead>\n",
       "  <tbody>\n",
       "    <tr>\n",
       "      <th>0</th>\n",
       "      <td>P19367</td>\n",
       "      <td>HXK1_HUMAN</td>\n",
       "      <td>reviewed</td>\n",
       "      <td>Hexokinase-1 (EC 2.7.1.1) (Brain form hexokina...</td>\n",
       "      <td>Homo sapiens (Human)</td>\n",
       "    </tr>\n",
       "  </tbody>\n",
       "</table>\n",
       "</div>"
      ],
      "text/plain": [
       "    Entry  Entry name    Status  \\\n",
       "0  P19367  HXK1_HUMAN  reviewed   \n",
       "\n",
       "                                       Protein names              Organism  \n",
       "0  Hexokinase-1 (EC 2.7.1.1) (Brain form hexokina...  Homo sapiens (Human)  "
      ]
     },
     "execution_count": 5,
     "metadata": {},
     "output_type": "execute_result"
    }
   ],
   "source": [
    "result"
   ]
  },
  {
   "cell_type": "markdown",
   "id": "10644227-08af-499b-ae74-6f7350853092",
   "metadata": {},
   "source": [
    "https://www.uniprot.org/help/api_queries    \n",
    "https://www.uniprot.org/downloads    \n",
    "https://www.uniprot.org/help/retrieve_sets    \n",
    "https://www.uniprot.org/help/query-fields    \n",
    "https://www.uniprot.org/help/uniprotkb_column_names    "
   ]
  },
  {
   "cell_type": "code",
   "execution_count": 10,
   "id": "dc0f3767-d61b-4b04-a33e-07eeae97891f",
   "metadata": {},
   "outputs": [],
   "source": [
    "result = query('name:hexokinase-a AND organism:human',\n",
    "               output=['id', 'entry name', 'feature(ALTERNATIVE SEQUENCE)'])"
   ]
  },
  {
   "cell_type": "code",
   "execution_count": 17,
   "id": "6785911d-d0b0-4f49-89a4-110bd4421409",
   "metadata": {},
   "outputs": [
    {
     "data": {
      "text/plain": [
       "'VAR_SEQ 1..21;  /note=\"MIAAQLLAYYFTELKDDQVKK -> MDCEHSLSLPCRGAEAWEIG (in isoform 2)\";  /evidence=\"ECO:0000305\";  /id=\"VSP_002071\"; VAR_SEQ 1..21;  /note=\"MIAAQLLAYYFTELKDDQVKK -> MGQICQRESATAAEKPKLHLLAESE (in isoform 3)\";  /evidence=\"ECO:0000305\";  /id=\"VSP_002072\"; VAR_SEQ 1..21;  /note=\"MIAAQLLAYYFTELKDDQVKK -> MAKRALHDF (in isoform 4)\";  /evidence=\"ECO:0000303|PubMed:10978502\";  /id=\"VSP_002073\"'"
      ]
     },
     "execution_count": 17,
     "metadata": {},
     "output_type": "execute_result"
    }
   ],
   "source": [
    "result['Alternative sequence'][0]"
   ]
  },
  {
   "cell_type": "code",
   "execution_count": 16,
   "id": "a296a65d-dac2-45c6-9dd4-f84d9986d18f",
   "metadata": {},
   "outputs": [
    {
     "name": "stdout",
     "output_type": "stream",
     "text": [
      "VAR_SEQ 1..21;  /note=\"MIAAQLLAYYFTELKDDQVKK -> MDCEHSLSLPCRGAEAWEIG (in isoform 2)\";  /evidence=\"ECO:0000305\";  /id=\"VSP_002071\"; VAR_SEQ 1..21;  /note=\"MIAAQLLAYYFTELKDDQVKK -> MGQICQRESATAAEKPKLHLLAESE (in isoform 3)\";  /evidence=\"ECO:0000305\";  /id=\"VSP_002072\"; VAR_SEQ 1..21;  /note=\"MIAAQLLAYYFTELKDDQVKK -> MAKRALHDF (in isoform 4)\";  /evidence=\"ECO:0000303|PubMed:10978502\";  /id=\"VSP_002073\"\n"
     ]
    }
   ],
   "source": [
    "print(result['Alternative sequence'][0])"
   ]
  },
  {
   "cell_type": "code",
   "execution_count": null,
   "id": "5b8427b9-b995-43ce-9552-46c2e308625a",
   "metadata": {},
   "outputs": [],
   "source": [
    "result = query('name:hexokinase-a AND organism:human',\n",
    "               output=['id', 'entry name', 'feature(ALTERNATIVE SEQUENCE)'])"
   ]
  },
  {
   "cell_type": "code",
   "execution_count": null,
   "id": "2541f98f-9242-4f77-abd9-4749e46f92ec",
   "metadata": {},
   "outputs": [],
   "source": []
  }
 ],
 "metadata": {
  "kernelspec": {
   "display_name": "Python 3 (ipykernel)",
   "language": "python",
   "name": "python3"
  },
  "language_info": {
   "codemirror_mode": {
    "name": "ipython",
    "version": 3
   },
   "file_extension": ".py",
   "mimetype": "text/x-python",
   "name": "python",
   "nbconvert_exporter": "python",
   "pygments_lexer": "ipython3",
   "version": "3.7.10"
  }
 },
 "nbformat": 4,
 "nbformat_minor": 5
}
