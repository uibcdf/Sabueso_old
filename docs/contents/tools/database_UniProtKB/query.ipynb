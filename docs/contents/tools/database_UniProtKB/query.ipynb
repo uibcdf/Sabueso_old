{
 "cells": [
  {
   "cell_type": "code",
   "execution_count": 1,
   "id": "1e03ebcd-7275-4f2d-9ffe-c64b42bd94e0",
   "metadata": {},
   "outputs": [],
   "source": [
    "%load_ext autoreload\n",
    "%autoreload 2"
   ]
  },
  {
   "cell_type": "markdown",
   "id": "2833306f-5f1d-4f8e-a15c-8fe10525eeaf",
   "metadata": {},
   "source": [
    "# query"
   ]
  },
  {
   "cell_type": "code",
   "execution_count": 2,
   "id": "296a5c3f-7111-4bd7-9025-64459263a3a9",
   "metadata": {},
   "outputs": [],
   "source": [
    "from sabueso.tools.database_UniProtKB import query"
   ]
  },
  {
   "cell_type": "code",
   "execution_count": 7,
   "id": "a1974989-5f0c-4b5a-be80-b836769bd8fe",
   "metadata": {},
   "outputs": [],
   "source": [
    "result = query('name:\"hexokinase 1\" AND organism:human')"
   ]
  },
  {
   "cell_type": "code",
   "execution_count": 19,
   "id": "6377740f-8402-4dc0-9738-47ba5d4e1d54",
   "metadata": {},
   "outputs": [],
   "source": [
    "result = query('name:\"hexokinase 1\" AND organism:human',\n",
    "               output=['id', 'reviewed', 'protein names', 'organism', 'annotation score'])"
   ]
  },
  {
   "cell_type": "code",
   "execution_count": 20,
   "id": "305aacc4-b000-4979-92e2-eadf6c11a80a",
   "metadata": {},
   "outputs": [
    {
     "data": {
      "text/html": [
       "<div>\n",
       "<style scoped>\n",
       "    .dataframe tbody tr th:only-of-type {\n",
       "        vertical-align: middle;\n",
       "    }\n",
       "\n",
       "    .dataframe tbody tr th {\n",
       "        vertical-align: top;\n",
       "    }\n",
       "\n",
       "    .dataframe thead th {\n",
       "        text-align: right;\n",
       "    }\n",
       "</style>\n",
       "<table border=\"1\" class=\"dataframe\">\n",
       "  <thead>\n",
       "    <tr style=\"text-align: right;\">\n",
       "      <th></th>\n",
       "      <th>Entry</th>\n",
       "      <th>Status</th>\n",
       "      <th>Protein names</th>\n",
       "      <th>Organism</th>\n",
       "      <th>Annotation</th>\n",
       "    </tr>\n",
       "  </thead>\n",
       "  <tbody>\n",
       "    <tr>\n",
       "      <th>0</th>\n",
       "      <td>P19367</td>\n",
       "      <td>reviewed</td>\n",
       "      <td>Hexokinase-1 (EC 2.7.1.1) (Brain form hexokina...</td>\n",
       "      <td>Homo sapiens (Human)</td>\n",
       "      <td>5 out of 5</td>\n",
       "    </tr>\n",
       "    <tr>\n",
       "      <th>1</th>\n",
       "      <td>P78542</td>\n",
       "      <td>unreviewed</td>\n",
       "      <td>Hexokinase 1 (EC 2.7.1.1) (Fragment)</td>\n",
       "      <td>Homo sapiens (Human)</td>\n",
       "      <td>1 out of 5</td>\n",
       "    </tr>\n",
       "    <tr>\n",
       "      <th>2</th>\n",
       "      <td>Q99609</td>\n",
       "      <td>unreviewed</td>\n",
       "      <td>Hexokinase 1 (EC 2.7.1.1) (Fragment)</td>\n",
       "      <td>Homo sapiens (Human)</td>\n",
       "      <td>1 out of 5</td>\n",
       "    </tr>\n",
       "    <tr>\n",
       "      <th>3</th>\n",
       "      <td>A0A2R8YEE7</td>\n",
       "      <td>unreviewed</td>\n",
       "      <td>Hexokinase-1 (Fragment)</td>\n",
       "      <td>Homo sapiens (Human)</td>\n",
       "      <td>1 out of 5</td>\n",
       "    </tr>\n",
       "    <tr>\n",
       "      <th>4</th>\n",
       "      <td>A0A2R8Y7T9</td>\n",
       "      <td>unreviewed</td>\n",
       "      <td>Hexokinase-1 (Fragment)</td>\n",
       "      <td>Homo sapiens (Human)</td>\n",
       "      <td>1 out of 5</td>\n",
       "    </tr>\n",
       "    <tr>\n",
       "      <th>5</th>\n",
       "      <td>A0A2R8Y626</td>\n",
       "      <td>unreviewed</td>\n",
       "      <td>Hexokinase-1</td>\n",
       "      <td>Homo sapiens (Human)</td>\n",
       "      <td>1 out of 5</td>\n",
       "    </tr>\n",
       "  </tbody>\n",
       "</table>\n",
       "</div>"
      ],
      "text/plain": [
       "        Entry      Status                                      Protein names  \\\n",
       "0      P19367    reviewed  Hexokinase-1 (EC 2.7.1.1) (Brain form hexokina...   \n",
       "1      P78542  unreviewed               Hexokinase 1 (EC 2.7.1.1) (Fragment)   \n",
       "2      Q99609  unreviewed               Hexokinase 1 (EC 2.7.1.1) (Fragment)   \n",
       "3  A0A2R8YEE7  unreviewed                            Hexokinase-1 (Fragment)   \n",
       "4  A0A2R8Y7T9  unreviewed                            Hexokinase-1 (Fragment)   \n",
       "5  A0A2R8Y626  unreviewed                                       Hexokinase-1   \n",
       "\n",
       "               Organism  Annotation  \n",
       "0  Homo sapiens (Human)  5 out of 5  \n",
       "1  Homo sapiens (Human)  1 out of 5  \n",
       "2  Homo sapiens (Human)  1 out of 5  \n",
       "3  Homo sapiens (Human)  1 out of 5  \n",
       "4  Homo sapiens (Human)  1 out of 5  \n",
       "5  Homo sapiens (Human)  1 out of 5  "
      ]
     },
     "execution_count": 20,
     "metadata": {},
     "output_type": "execute_result"
    }
   ],
   "source": [
    "result"
   ]
  },
  {
   "cell_type": "markdown",
   "id": "10644227-08af-499b-ae74-6f7350853092",
   "metadata": {},
   "source": [
    "https://www.uniprot.org/help/api_queries    \n",
    "https://www.uniprot.org/downloads    \n",
    "https://www.uniprot.org/help/retrieve_sets    \n",
    "https://www.uniprot.org/help/query-fields    \n",
    "https://www.uniprot.org/help/uniprotkb_column_names    "
   ]
  },
  {
   "cell_type": "code",
   "execution_count": null,
   "id": "dc0f3767-d61b-4b04-a33e-07eeae97891f",
   "metadata": {},
   "outputs": [],
   "source": [
    "result = query('name:hexokinase-a AND organism:human',\n",
    "               output=['id', 'entry name', 'feature(ALTERNATIVE SEQUENCE)'])"
   ]
  },
  {
   "cell_type": "code",
   "execution_count": null,
   "id": "6785911d-d0b0-4f49-89a4-110bd4421409",
   "metadata": {},
   "outputs": [],
   "source": [
    "result['Alternative sequence'][0]"
   ]
  },
  {
   "cell_type": "code",
   "execution_count": null,
   "id": "a296a65d-dac2-45c6-9dd4-f84d9986d18f",
   "metadata": {},
   "outputs": [],
   "source": [
    "print(result['Alternative sequence'][0])"
   ]
  },
  {
   "cell_type": "code",
   "execution_count": null,
   "id": "5b8427b9-b995-43ce-9552-46c2e308625a",
   "metadata": {},
   "outputs": [],
   "source": [
    "result = query('name:hexokinase-a AND organism:human',\n",
    "               output=['id', 'entry name', 'feature(ALTERNATIVE SEQUENCE)'])"
   ]
  },
  {
   "cell_type": "code",
   "execution_count": null,
   "id": "2541f98f-9242-4f77-abd9-4749e46f92ec",
   "metadata": {},
   "outputs": [],
   "source": []
  }
 ],
 "metadata": {
  "kernelspec": {
   "display_name": "Python 3 (ipykernel)",
   "language": "python",
   "name": "python3"
  },
  "language_info": {
   "codemirror_mode": {
    "name": "ipython",
    "version": 3
   },
   "file_extension": ".py",
   "mimetype": "text/x-python",
   "name": "python",
   "nbconvert_exporter": "python",
   "pygments_lexer": "ipython3",
   "version": "3.7.10"
  }
 },
 "nbformat": 4,
 "nbformat_minor": 5
}
