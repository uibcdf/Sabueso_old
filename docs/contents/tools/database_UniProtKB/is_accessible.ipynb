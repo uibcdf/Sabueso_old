{
 "cells": [
  {
   "cell_type": "markdown",
   "id": "4b692aca-e70d-4ea0-b25c-71e0745b3e02",
   "metadata": {},
   "source": [
    "# Is accessible"
   ]
  },
  {
   "cell_type": "code",
   "execution_count": 3,
   "id": "1c9c4a1a-014b-400f-9b6b-08af9896e1e5",
   "metadata": {},
   "outputs": [],
   "source": [
    "from sabueso.tools.database.UniProtKB import is_accessible"
   ]
  },
  {
   "cell_type": "code",
   "execution_count": 4,
   "id": "e368b5e6-a4da-4b40-912e-4ecfa52096f3",
   "metadata": {},
   "outputs": [
    {
     "data": {
      "text/plain": [
       "True"
      ]
     },
     "execution_count": 4,
     "metadata": {},
     "output_type": "execute_result"
    }
   ],
   "source": [
    "is_accessible()"
   ]
  },
  {
   "cell_type": "code",
   "execution_count": null,
   "id": "7ef0192f-8f99-46b9-b3d0-07d0fe4fa392",
   "metadata": {},
   "outputs": [],
   "source": []
  },
  {
   "cell_type": "code",
   "execution_count": null,
   "id": "f3e5a2a5-c4f6-42d8-bb54-e91094076033",
   "metadata": {},
   "outputs": [],
   "source": []
  }
 ],
 "metadata": {
  "kernelspec": {
   "display_name": "Python 3 (ipykernel)",
   "language": "python",
   "name": "python3"
  },
  "language_info": {
   "codemirror_mode": {
    "name": "ipython",
    "version": 3
   },
   "file_extension": ".py",
   "mimetype": "text/x-python",
   "name": "python",
   "nbconvert_exporter": "python",
   "pygments_lexer": "ipython3",
   "version": "3.7.10"
  }
 },
 "nbformat": 4,
 "nbformat_minor": 5
}
