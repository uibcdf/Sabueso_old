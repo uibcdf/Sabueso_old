{
 "cells": [
  {
   "cell_type": "code",
   "execution_count": 1,
   "id": "17971691-defd-4590-9dbd-c91c46e83f74",
   "metadata": {},
   "outputs": [],
   "source": [
    "%load_ext autoreload\n",
    "%autoreload 2"
   ]
  },
  {
   "cell_type": "markdown",
   "id": "03c1e393-4397-4fa9-8d0d-373e817eecbb",
   "metadata": {},
   "source": [
    "# download"
   ]
  },
  {
   "cell_type": "code",
   "execution_count": 2,
   "id": "c7b9389f-4efe-466f-aa97-133e57764779",
   "metadata": {},
   "outputs": [],
   "source": [
    "from sabueso.tools.database.UniProtKB import download"
   ]
  },
  {
   "cell_type": "code",
   "execution_count": 3,
   "id": "90b58005-6f47-40f4-a595-5164aef01b9f",
   "metadata": {},
   "outputs": [
    {
     "data": {
      "text/plain": [
       "757.5148849487305"
      ]
     },
     "execution_count": 3,
     "metadata": {},
     "output_type": "execute_result"
    }
   ],
   "source": [
    "download(data='reviewed', format='xml', check_size=True)"
   ]
  },
  {
   "cell_type": "code",
   "execution_count": 4,
   "id": "d8f7069a-93ca-4dd9-9dfa-103211d9a69d",
   "metadata": {},
   "outputs": [
    {
     "data": {
      "text/plain": [
       "8.00516128540039"
      ]
     },
     "execution_count": 4,
     "metadata": {},
     "output_type": "execute_result"
    }
   ],
   "source": [
    "download(data='isoform sequences', format='fasta', check_size=True)"
   ]
  },
  {
   "cell_type": "code",
   "execution_count": 5,
   "id": "cf5ea227-ec75-4125-99d1-cd0405b97cae",
   "metadata": {},
   "outputs": [
    {
     "name": "stdout",
     "output_type": "stream",
     "text": [
      "uniprot_sprot_varsplic.fasta.gz downloaded as ./uniprot_sprot_varsplic.fasta.gz in 0:00:07.091126\n"
     ]
    }
   ],
   "source": [
    "download(data='isoform sequences', format='fasta')"
   ]
  },
  {
   "cell_type": "markdown",
   "id": "c5b14efc-a8e4-4a5b-b3b5-a66a7575a39b",
   "metadata": {},
   "source": [
    "https://www.uniprot.org/help/retrieve_sets    \n",
    "https://www.uniprot.org/downloads    \n",
    "https://ftp.uniprot.org/pub/databases/uniprot/        "
   ]
  },
  {
   "cell_type": "code",
   "execution_count": null,
   "id": "620dd971-6bdb-44b9-a84d-a83fdfc70d8b",
   "metadata": {},
   "outputs": [],
   "source": []
  }
 ],
 "metadata": {
  "kernelspec": {
   "display_name": "Python 3 (ipykernel)",
   "language": "python",
   "name": "python3"
  },
  "language_info": {
   "codemirror_mode": {
    "name": "ipython",
    "version": 3
   },
   "file_extension": ".py",
   "mimetype": "text/x-python",
   "name": "python",
   "nbconvert_exporter": "python",
   "pygments_lexer": "ipython3",
   "version": "3.7.10"
  }
 },
 "nbformat": 4,
 "nbformat_minor": 5
}
