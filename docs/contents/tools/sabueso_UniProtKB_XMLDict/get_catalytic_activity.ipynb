{
 "cells": [
  {
   "cell_type": "code",
   "execution_count": 1,
   "id": "6a5ea511-b81d-40ad-89e2-f0e2d5248ab8",
   "metadata": {},
   "outputs": [],
   "source": [
    "%load_ext autoreload\n",
    "%autoreload 2"
   ]
  },
  {
   "cell_type": "markdown",
   "id": "c7520dec-146a-465e-85a2-88b91d761648",
   "metadata": {},
   "source": [
    "# get catalytic activity"
   ]
  },
  {
   "cell_type": "code",
   "execution_count": 2,
   "id": "e85a9ef8-8774-4aae-96f8-23683a494acf",
   "metadata": {},
   "outputs": [],
   "source": [
    "#from sabueso.tools.string_uniprot import to_uniprotkb_XMLDict\n",
    "#from sabueso.tools.uniprotkb_XMLDict import get_catalytic_activity"
   ]
  },
  {
   "cell_type": "code",
   "execution_count": 3,
   "id": "7d01f99b-5857-4f79-8d27-4b43b0dae986",
   "metadata": {},
   "outputs": [],
   "source": [
    "#item = to_uniprotkb_XMLDict('uniprot:P19367')"
   ]
  },
  {
   "cell_type": "code",
   "execution_count": 4,
   "id": "87715d18-a59c-4ec7-b809-a0803d034f2a",
   "metadata": {},
   "outputs": [],
   "source": [
    "#catalytic_activity = get_catalytic_activity(item)"
   ]
  },
  {
   "cell_type": "code",
   "execution_count": 5,
   "id": "2b27de6d-a2b6-467a-a298-2375e052fad6",
   "metadata": {},
   "outputs": [
    {
     "data": {
      "text/plain": [
       "[{'references': [<PubMed: 1637300>,\n",
       "   <PubMed: 27374331>,\n",
       "   <Rhea: RHEA:22741>,\n",
       "   <PubMed: 1637300>,\n",
       "   <PubMed: 27374331>,\n",
       "   <Rhea: RHEA:22741>,\n",
       "   <UniProtKB: P19367>],\n",
       "  'reaction': ATP + D-hexose = ADP + D-hexose 6-phosphate + H(+) <3 refs.>,\n",
       "  'physiological_direction': left-to-right <3 refs.>},\n",
       " {'references': [<UniProtKB: P05708>,\n",
       "   <Rhea: RHEA:16126>,\n",
       "   <UniProtKB: P05708>,\n",
       "   <Rhea: RHEA:16126>,\n",
       "   <UniProtKB: P19367>],\n",
       "  'reaction': ATP + D-fructose = ADP + D-fructose 6-phosphate + H(+) <2 refs.>,\n",
       "  'physiological_direction': left-to-right <2 refs.>},\n",
       " {'references': [<UniProtKB: P05708>,\n",
       "   <Rhea: RHEA:17826>,\n",
       "   <UniProtKB: P05708>,\n",
       "   <Rhea: RHEA:17826>,\n",
       "   <UniProtKB: P19367>],\n",
       "  'reaction': ATP + D-glucose = ADP + D-glucose 6-phosphate + H(+) <2 refs.>,\n",
       "  'physiological_direction': left-to-right <2 refs.>},\n",
       " {'references': [<UniProtKB: P05708>,\n",
       "   <Rhea: RHEA:11029>,\n",
       "   <UniProtKB: P05708>,\n",
       "   <Rhea: RHEA:11029>,\n",
       "   <UniProtKB: P19367>],\n",
       "  'reaction': ATP + D-mannose = ADP + D-mannose 6-phosphate + H(+) <2 refs.>,\n",
       "  'physiological_direction': left-to-right <2 refs.>},\n",
       " {'references': [<PubMed: 27374331>,\n",
       "   <Rhea: RHEA:10949>,\n",
       "   <PubMed: 27374331>,\n",
       "   <Rhea: RHEA:10949>,\n",
       "   <UniProtKB: P19367>],\n",
       "  'reaction': ATP + D-glucosamine = ADP + D-glucosamine 6-phosphate + H(+) <2 refs.>,\n",
       "  'physiological_direction': left-to-right <2 refs.>}]"
      ]
     },
     "execution_count": 5,
     "metadata": {},
     "output_type": "execute_result"
    }
   ],
   "source": [
    "#catalytic_activity"
   ]
  },
  {
   "cell_type": "code",
   "execution_count": 8,
   "id": "6ad498b7-76a8-42fd-82d3-2c2d6b4c25e7",
   "metadata": {},
   "outputs": [],
   "source": [
    "#catalytic_activity = get_catalytic_activity(item, as_cards=True)"
   ]
  },
  {
   "cell_type": "code",
   "execution_count": 9,
   "id": "b3af5153-7940-40ff-bd17-c7648f245b48",
   "metadata": {},
   "outputs": [
    {
     "data": {
      "text/plain": [
       "[<CatalyticActivityCard: ATP + D-hexose = ADP + D-hexose 6-phosphate + H(+)>,\n",
       " <CatalyticActivityCard: ATP + D-fructose = ADP + D-fructose 6-phosphate + H(+)>,\n",
       " <CatalyticActivityCard: ATP + D-glucose = ADP + D-glucose 6-phosphate + H(+)>,\n",
       " <CatalyticActivityCard: ATP + D-mannose = ADP + D-mannose 6-phosphate + H(+)>,\n",
       " <CatalyticActivityCard: ATP + D-glucosamine = ADP + D-glucosamine 6-phosphate + H(+)>]"
      ]
     },
     "execution_count": 9,
     "metadata": {},
     "output_type": "execute_result"
    }
   ],
   "source": [
    "#catalytic_activity"
   ]
  },
  {
   "cell_type": "code",
   "execution_count": 11,
   "id": "33081e77-d8ae-4322-9eb3-a7bafe62f6fc",
   "metadata": {},
   "outputs": [
    {
     "data": {
      "text/html": [
       "<div>\n",
       "<style scoped>\n",
       "    .dataframe tbody tr th:only-of-type {\n",
       "        vertical-align: middle;\n",
       "    }\n",
       "\n",
       "    .dataframe tbody tr th {\n",
       "        vertical-align: top;\n",
       "    }\n",
       "\n",
       "    .dataframe thead th {\n",
       "        text-align: right;\n",
       "    }\n",
       "</style>\n",
       "<table border=\"1\" class=\"dataframe\">\n",
       "  <thead>\n",
       "    <tr style=\"text-align: right;\">\n",
       "      <th></th>\n",
       "      <th>ATP + D-hexose = ADP + D-hexose 6-phosphate + H(+)</th>\n",
       "    </tr>\n",
       "  </thead>\n",
       "  <tbody>\n",
       "    <tr>\n",
       "      <th>references</th>\n",
       "      <td>[PubMed: 1637300, PubMed: 27374331, Rhea: RHEA...</td>\n",
       "    </tr>\n",
       "    <tr>\n",
       "      <th>reaction</th>\n",
       "      <td>ATP + D-hexose = ADP + D-hexose 6-phosphate + ...</td>\n",
       "    </tr>\n",
       "    <tr>\n",
       "      <th>physiological_direction</th>\n",
       "      <td>left-to-right &lt;PubMed: 1637300, PubMed: 273743...</td>\n",
       "    </tr>\n",
       "  </tbody>\n",
       "</table>\n",
       "</div>"
      ],
      "text/plain": [
       "                        ATP + D-hexose = ADP + D-hexose 6-phosphate + H(+)\n",
       "references               [PubMed: 1637300, PubMed: 27374331, Rhea: RHEA...\n",
       "reaction                 ATP + D-hexose = ADP + D-hexose 6-phosphate + ...\n",
       "physiological_direction  left-to-right <PubMed: 1637300, PubMed: 273743..."
      ]
     },
     "execution_count": 11,
     "metadata": {},
     "output_type": "execute_result"
    }
   ],
   "source": [
    "#catalytic_activity[0].to_pandas_DataFrame().T"
   ]
  },
  {
   "cell_type": "code",
   "execution_count": null,
   "id": "ea9a1c31-5dd8-4e18-b2f8-9e86dd52a5fc",
   "metadata": {},
   "outputs": [],
   "source": []
  }
 ],
 "metadata": {
  "kernelspec": {
   "display_name": "Python 3 (ipykernel)",
   "language": "python",
   "name": "python3"
  },
  "language_info": {
   "codemirror_mode": {
    "name": "ipython",
    "version": 3
   },
   "file_extension": ".py",
   "mimetype": "text/x-python",
   "name": "python",
   "nbconvert_exporter": "python",
   "pygments_lexer": "ipython3",
   "version": "3.7.10"
  }
 },
 "nbformat": 4,
 "nbformat_minor": 5
}
