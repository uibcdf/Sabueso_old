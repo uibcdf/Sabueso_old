{
 "cells": [
  {
   "cell_type": "code",
   "execution_count": 1,
   "id": "6a5ea511-b81d-40ad-89e2-f0e2d5248ab8",
   "metadata": {},
   "outputs": [],
   "source": [
    "%load_ext autoreload\n",
    "%autoreload 2"
   ]
  },
  {
   "cell_type": "markdown",
   "id": "c7520dec-146a-465e-85a2-88b91d761648",
   "metadata": {},
   "source": [
    "# get location in cell"
   ]
  },
  {
   "cell_type": "code",
   "execution_count": 2,
   "id": "e85a9ef8-8774-4aae-96f8-23683a494acf",
   "metadata": {},
   "outputs": [],
   "source": [
    "#from sabueso.tools.string_uniprot import to_uniprotkb_XMLDict\n",
    "#from sabueso.tools.uniprotkb_XMLDict import get_location_in_cell"
   ]
  },
  {
   "cell_type": "code",
   "execution_count": 3,
   "id": "955d2c3a-60e0-4694-b92e-98a40d9f1126",
   "metadata": {},
   "outputs": [],
   "source": [
    "#item = to_uniprotkb_XMLDict('uniprot:P19367')\n",
    "#item = to_uniprotkb_XMLDict('uniprot:P46200')\n",
    "#item = to_uniprotkb_XMLDict('uniprot:P55197')\n",
    "#item = to_uniprotkb_XMLDict('uniprot:P05937')\n",
    "#item = to_uniprotkb_XMLDict('uniprot:P00374')\n",
    "#item = to_uniprotkb_XMLDict('uniprot:Q9FFX4')"
   ]
  },
  {
   "cell_type": "code",
   "execution_count": 6,
   "id": "87715d18-a59c-4ec7-b809-a0803d034f2a",
   "metadata": {},
   "outputs": [],
   "source": [
    "#location_in_cell = get_location_in_cell(item)"
   ]
  },
  {
   "cell_type": "code",
   "execution_count": 7,
   "id": "1822ddeb-0be0-4646-97e7-2976cae1c7ea",
   "metadata": {},
   "outputs": [
    {
     "data": {
      "text/plain": [
       "[{'references': [<PubMed: 1985912>,\n",
       "   <PubMed: 27374331>,\n",
       "   <PubMed: 27374331>,\n",
       "   <PubMed: 27374331>,\n",
       "   <PubMed: 27374331>,\n",
       "   <PubMed: 1985912>],\n",
       "  'location': [[Mitochondrion outer membrane <3 refs.>,\n",
       "    Peripheral membrane protein <1 refs.>],\n",
       "   [Cytoplasm <2 refs.>, Cytosol <2 refs.>]],\n",
       "  'note': The mitochondrial-binding peptide (MBP) region promotes association with the mitochondrial outer membrane (Probable). Dissociates from the mitochondrial outer membrane following inhibition by N-acetyl-D-glucosamine, leading to relocation to the cytosol (PubMed:27374331). <3 refs.>}]"
      ]
     },
     "execution_count": 7,
     "metadata": {},
     "output_type": "execute_result"
    }
   ],
   "source": [
    "#location_in_cell"
   ]
  },
  {
   "cell_type": "code",
   "execution_count": 9,
   "id": "12d4d080-5687-4892-a6a2-b8b5214bae40",
   "metadata": {},
   "outputs": [],
   "source": [
    "#location_in_cell = get_location_in_cell(item, as_cards=True)"
   ]
  },
  {
   "cell_type": "code",
   "execution_count": 10,
   "id": "ef70ab84-715d-4336-adbf-5940de527aec",
   "metadata": {},
   "outputs": [
    {
     "data": {
      "text/plain": [
       "[<LocationInCellCard: [[Mitochondrion outer membrane <3 refs.>, Peripheral membrane protein <1 refs.>], [Cytoplasm <2 refs.>, Cytosol <2 refs.>]]>]"
      ]
     },
     "execution_count": 10,
     "metadata": {},
     "output_type": "execute_result"
    }
   ],
   "source": [
    "#location_in_cell"
   ]
  },
  {
   "cell_type": "code",
   "execution_count": 14,
   "id": "26f04542-11df-43ca-8274-92a115c90361",
   "metadata": {},
   "outputs": [],
   "source": [
    "#df = location_in_cell[0].to_pandas_DataFrame()"
   ]
  },
  {
   "cell_type": "code",
   "execution_count": 15,
   "id": "d583246c-2221-4dc9-9972-4a299d5a8b4d",
   "metadata": {},
   "outputs": [
    {
     "data": {
      "text/html": [
       "<div>\n",
       "<style scoped>\n",
       "    .dataframe tbody tr th:only-of-type {\n",
       "        vertical-align: middle;\n",
       "    }\n",
       "\n",
       "    .dataframe tbody tr th {\n",
       "        vertical-align: top;\n",
       "    }\n",
       "\n",
       "    .dataframe thead th {\n",
       "        text-align: right;\n",
       "    }\n",
       "</style>\n",
       "<table border=\"1\" class=\"dataframe\">\n",
       "  <thead>\n",
       "    <tr style=\"text-align: right;\">\n",
       "      <th></th>\n",
       "      <th>0</th>\n",
       "    </tr>\n",
       "  </thead>\n",
       "  <tbody>\n",
       "    <tr>\n",
       "      <th>references</th>\n",
       "      <td>[PubMed: 1985912, PubMed: 27374331, PubMed: 27...</td>\n",
       "    </tr>\n",
       "    <tr>\n",
       "      <th>location</th>\n",
       "      <td>[[Mitochondrion outer membrane &lt;PubMed: 198591...</td>\n",
       "    </tr>\n",
       "    <tr>\n",
       "      <th>note</th>\n",
       "      <td>The mitochondrial-binding peptide (MBP) region...</td>\n",
       "    </tr>\n",
       "  </tbody>\n",
       "</table>\n",
       "</div>"
      ],
      "text/plain": [
       "                                                            0\n",
       "references  [PubMed: 1985912, PubMed: 27374331, PubMed: 27...\n",
       "location    [[Mitochondrion outer membrane <PubMed: 198591...\n",
       "note        The mitochondrial-binding peptide (MBP) region..."
      ]
     },
     "execution_count": 15,
     "metadata": {},
     "output_type": "execute_result"
    }
   ],
   "source": [
    "#df.T"
   ]
  },
  {
   "cell_type": "code",
   "execution_count": null,
   "id": "147a0dfd-ac6b-4661-b1ca-3baacf460c9d",
   "metadata": {},
   "outputs": [],
   "source": []
  }
 ],
 "metadata": {
  "kernelspec": {
   "display_name": "Python 3 (ipykernel)",
   "language": "python",
   "name": "python3"
  },
  "language_info": {
   "codemirror_mode": {
    "name": "ipython",
    "version": 3
   },
   "file_extension": ".py",
   "mimetype": "text/x-python",
   "name": "python",
   "nbconvert_exporter": "python",
   "pygments_lexer": "ipython3",
   "version": "3.7.10"
  }
 },
 "nbformat": 4,
 "nbformat_minor": 5
}
