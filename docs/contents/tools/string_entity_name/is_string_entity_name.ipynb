{
 "cells": [
  {
   "cell_type": "code",
   "execution_count": 1,
   "id": "e2f860a4-7796-438c-b3d6-a8e4099f2b26",
   "metadata": {},
   "outputs": [],
   "source": [
    "%load_ext autoreload\n",
    "%autoreload 2"
   ]
  },
  {
   "cell_type": "markdown",
   "id": "7ebd181d-dd66-4bb3-a7a5-6644fe04f7d7",
   "metadata": {},
   "source": [
    "# is string entity name"
   ]
  },
  {
   "cell_type": "code",
   "execution_count": 2,
   "id": "8c0e8a89-ea7a-4815-be75-f2b149d382ca",
   "metadata": {},
   "outputs": [],
   "source": [
    "from sabueso.tools.string_entity_name import is_string_entity_name"
   ]
  },
  {
   "cell_type": "code",
   "execution_count": 6,
   "id": "338b9f09-b44d-4599-a89b-a43c76d8738d",
   "metadata": {},
   "outputs": [
    {
     "data": {
      "text/plain": [
       "True"
      ]
     },
     "execution_count": 6,
     "metadata": {},
     "output_type": "execute_result"
    }
   ],
   "source": [
    "is_string_entity_name('hexokinase-1')"
   ]
  },
  {
   "cell_type": "code",
   "execution_count": 4,
   "id": "4681c4d3-353e-4259-84e0-d538346d128e",
   "metadata": {},
   "outputs": [
    {
     "data": {
      "text/plain": [
       "False"
      ]
     },
     "execution_count": 4,
     "metadata": {},
     "output_type": "execute_result"
    }
   ],
   "source": [
    "is_string_entity_name('morphine')"
   ]
  },
  {
   "cell_type": "code",
   "execution_count": 5,
   "id": "4686f144-842a-41af-815c-c0bdd50edc72",
   "metadata": {},
   "outputs": [
    {
     "data": {
      "text/plain": [
       "True"
      ]
     },
     "execution_count": 5,
     "metadata": {},
     "output_type": "execute_result"
    }
   ],
   "source": [
    "is_string_entity_name('mu opioid receptor')"
   ]
  },
  {
   "cell_type": "code",
   "execution_count": null,
   "id": "4a6c6566-770f-4335-aab0-6537057cd5b1",
   "metadata": {},
   "outputs": [],
   "source": []
  }
 ],
 "metadata": {
  "kernelspec": {
   "display_name": "Python 3 (ipykernel)",
   "language": "python",
   "name": "python3"
  },
  "language_info": {
   "codemirror_mode": {
    "name": "ipython",
    "version": 3
   },
   "file_extension": ".py",
   "mimetype": "text/x-python",
   "name": "python",
   "nbconvert_exporter": "python",
   "pygments_lexer": "ipython3",
   "version": "3.7.10"
  }
 },
 "nbformat": 4,
 "nbformat_minor": 5
}
