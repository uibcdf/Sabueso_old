{
 "cells": [
  {
   "cell_type": "markdown",
   "id": "6d87c1ff-68fc-4b64-87a3-f666feb64909",
   "metadata": {},
   "source": [
    "# Is accessible"
   ]
  },
  {
   "cell_type": "code",
   "execution_count": 1,
   "id": "87e4e8f1-065a-4d95-a18a-7cfc83e0ae76",
   "metadata": {},
   "outputs": [],
   "source": [
    "from sabueso.tools.database.RCSB_PDB import is_accessible"
   ]
  },
  {
   "cell_type": "code",
   "execution_count": 2,
   "id": "46e2c7e9-f4de-41c2-9c12-1bc4dcdd15bc",
   "metadata": {},
   "outputs": [
    {
     "data": {
      "text/plain": [
       "True"
      ]
     },
     "execution_count": 2,
     "metadata": {},
     "output_type": "execute_result"
    }
   ],
   "source": [
    "is_accessible()"
   ]
  },
  {
   "cell_type": "code",
   "execution_count": null,
   "id": "74c58ac7-8c94-4299-ad26-f15014f8e019",
   "metadata": {},
   "outputs": [],
   "source": []
  }
 ],
 "metadata": {
  "kernelspec": {
   "display_name": "Python 3 (ipykernel)",
   "language": "python",
   "name": "python3"
  },
  "language_info": {
   "codemirror_mode": {
    "name": "ipython",
    "version": 3
   },
   "file_extension": ".py",
   "mimetype": "text/x-python",
   "name": "python",
   "nbconvert_exporter": "python",
   "pygments_lexer": "ipython3",
   "version": "3.7.10"
  }
 },
 "nbformat": 4,
 "nbformat_minor": 5
}
