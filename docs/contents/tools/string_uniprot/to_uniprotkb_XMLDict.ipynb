{
 "cells": [
  {
   "cell_type": "code",
   "execution_count": 1,
   "id": "6c5008c6-30bd-4a63-8701-85bef6f98f2b",
   "metadata": {},
   "outputs": [],
   "source": [
    "%load_ext autoreload\n",
    "%autoreload 2"
   ]
  },
  {
   "cell_type": "markdown",
   "id": "2fb13e62-4c32-42ed-af5e-d4f14d29f7ff",
   "metadata": {},
   "source": [
    "# To uniprotkb XMLDict"
   ]
  },
  {
   "cell_type": "code",
   "execution_count": 2,
   "id": "e5cc5b5c-7d0b-4725-b33b-04be251fcc70",
   "metadata": {},
   "outputs": [],
   "source": [
    "from sabueso.tools.string_uniprot import to_uniprotkb_XMLDict"
   ]
  },
  {
   "cell_type": "code",
   "execution_count": 12,
   "id": "a52e8db2-914e-4ccc-979c-32420c2306f8",
   "metadata": {},
   "outputs": [],
   "source": [
    "item = to_uniprotkb_XMLDict('uniprot:P19367')\n",
    "#item = to_uniprotkb_XMLDict('uniprot:P52789')\n",
    "#item = to_uniprotkb_XMLDict('uniprot:P52790')\n",
    "#item = to_uniprotkb_XMLDict('uniprot:P35557')\n",
    "#item = to_uniprotkb_XMLDict('uniprot:P54254')\n",
    "#item = to_uniprotkb_XMLDict('uniprot:Q9FFX4')"
   ]
  },
  {
   "cell_type": "code",
   "execution_count": 13,
   "id": "056b09f6-63ee-415c-9804-6afb4898fb0d",
   "metadata": {},
   "outputs": [
    {
     "data": {
      "text/plain": [
       "'HXK1_HUMAN'"
      ]
     },
     "execution_count": 13,
     "metadata": {},
     "output_type": "execute_result"
    }
   ],
   "source": [
    "item['uniprot']['entry']['name']"
   ]
  },
  {
   "cell_type": "code",
   "execution_count": 17,
   "id": "8e56e559-135a-4ab4-a9d1-287c7d9d9e6a",
   "metadata": {},
   "outputs": [
    {
     "name": "stdout",
     "output_type": "stream",
     "text": [
      "OrderedDict([('@type', 'binding site'), ('@description', 'ATP 1'), ('@evidence', '4 5 30 31 34'), ('location', OrderedDict([('position', OrderedDict([('@position', '30')]))]))])\n",
      "OrderedDict([('@type', 'binding site'), ('@description', 'Substrate 1'), ('@evidence', '5 18 19 31 32 33 35 36 37 38'), ('location', OrderedDict([('position', OrderedDict([('@position', '155')]))]))])\n",
      "OrderedDict([('@type', 'binding site'), ('@description', 'Glucose-6-phosphate 1'), ('@evidence', '4 5 18 30 32 34 36 37 38'), ('location', OrderedDict([('position', OrderedDict([('@position', '209')]))]))])\n",
      "OrderedDict([('@type', 'binding site'), ('@description', 'Glucose-6-phosphate 1'), ('@evidence', '4 5 18 30 32 34 35 36 37 38 39'), ('location', OrderedDict([('position', OrderedDict([('@position', '232')]))]))])\n",
      "OrderedDict([('@type', 'binding site'), ('@description', 'Substrate 1'), ('@evidence', '4 5 18 19 30 31 32 33 34 35 36 37 38 39'), ('location', OrderedDict([('position', OrderedDict([('@position', '235')]))]))])\n",
      "OrderedDict([('@type', 'binding site'), ('@description', 'Substrate 1'), ('@evidence', '4 5 18 19 30 31 32 33 34 35 36 37 38 39'), ('location', OrderedDict([('position', OrderedDict([('@position', '260')]))]))])\n",
      "OrderedDict([('@type', 'binding site'), ('@description', 'ATP 1'), ('@evidence', '4 34'), ('location', OrderedDict([('position', OrderedDict([('@position', '345')]))]))])\n",
      "OrderedDict([('@type', 'binding site'), ('@description', 'Glucose-6-phosphate 1'), ('@evidence', '4 5 18 30 32 34 35 36 37 38 39'), ('location', OrderedDict([('position', OrderedDict([('@position', '449')]))]))])\n",
      "OrderedDict([('@type', 'binding site'), ('@description', 'Glucose-6-phosphate 2'), ('@evidence', '4 5 18 30 32 34 37 38'), ('location', OrderedDict([('position', OrderedDict([('@position', '657')]))]))])\n",
      "OrderedDict([('@type', 'binding site'), ('@description', 'ATP 2'), ('@evidence', '5 19 31 33'), ('location', OrderedDict([('position', OrderedDict([('@position', '680')]))]))])\n",
      "OrderedDict([('@type', 'binding site'), ('@description', 'Glucose-6-phosphate 2'), ('@evidence', '4 5 18 30 32 34 35 36 37 38 39'), ('location', OrderedDict([('position', OrderedDict([('@position', '680')]))]))])\n",
      "OrderedDict([('@type', 'binding site'), ('@description', 'Substrate 2'), ('@evidence', '4 5 18 30 31 32 34 35 36 37 38 39'), ('location', OrderedDict([('position', OrderedDict([('@position', '708')]))]))])\n",
      "OrderedDict([('@type', 'binding site'), ('@description', 'Substrate 2'), ('@evidence', '4 5 18 30 31 32 34 35 36 37 38 39'), ('location', OrderedDict([('position', OrderedDict([('@position', '742')]))]))])\n",
      "OrderedDict([('@type', 'binding site'), ('@description', 'Glucose-6-phosphate 2'), ('@evidence', '4 5 18 30 32 34 35 37 38 39'), ('location', OrderedDict([('position', OrderedDict([('@position', '897')]))]))])\n"
     ]
    }
   ],
   "source": [
    "for feature in item['uniprot']['entry']['feature']:\n",
    "    if feature['@type']=='binding site':\n",
    "        print(feature)"
   ]
  },
  {
   "cell_type": "code",
   "execution_count": 15,
   "id": "667370d1-e079-467b-9d2a-3d40ee474202",
   "metadata": {},
   "outputs": [
    {
     "name": "stdout",
     "output_type": "stream",
     "text": [
      "chain\n",
      "domain\n",
      "domain\n",
      "nucleotide phosphate-binding region\n",
      "nucleotide phosphate-binding region\n",
      "nucleotide phosphate-binding region\n",
      "nucleotide phosphate-binding region\n",
      "nucleotide phosphate-binding region\n",
      "nucleotide phosphate-binding region\n",
      "region of interest\n",
      "region of interest\n",
      "region of interest\n",
      "region of interest\n",
      "region of interest\n",
      "region of interest\n",
      "region of interest\n",
      "region of interest\n",
      "region of interest\n",
      "region of interest\n",
      "region of interest\n",
      "region of interest\n",
      "region of interest\n",
      "region of interest\n",
      "region of interest\n",
      "region of interest\n",
      "binding site\n",
      "binding site\n",
      "binding site\n",
      "binding site\n",
      "binding site\n",
      "binding site\n",
      "binding site\n",
      "binding site\n",
      "binding site\n",
      "binding site\n",
      "binding site\n",
      "binding site\n",
      "binding site\n",
      "binding site\n",
      "modified residue\n",
      "modified residue\n",
      "splice variant\n",
      "splice variant\n",
      "splice variant\n",
      "sequence variant\n",
      "sequence variant\n",
      "sequence variant\n",
      "sequence variant\n",
      "sequence variant\n",
      "sequence variant\n",
      "sequence variant\n",
      "sequence variant\n",
      "sequence conflict\n",
      "helix\n",
      "helix\n",
      "helix\n",
      "turn\n",
      "helix\n",
      "strand\n",
      "strand\n",
      "helix\n",
      "strand\n",
      "helix\n",
      "strand\n",
      "strand\n",
      "strand\n",
      "turn\n",
      "helix\n",
      "strand\n",
      "helix\n",
      "strand\n",
      "helix\n",
      "strand\n",
      "helix\n",
      "turn\n",
      "helix\n",
      "strand\n",
      "helix\n",
      "helix\n",
      "helix\n",
      "turn\n",
      "helix\n",
      "turn\n",
      "helix\n",
      "helix\n",
      "strand\n",
      "helix\n",
      "helix\n",
      "strand\n",
      "helix\n",
      "helix\n",
      "helix\n",
      "strand\n",
      "strand\n",
      "strand\n",
      "helix\n",
      "strand\n",
      "helix\n",
      "strand\n",
      "strand\n",
      "strand\n",
      "helix\n",
      "strand\n",
      "helix\n",
      "strand\n",
      "turn\n",
      "strand\n",
      "helix\n",
      "turn\n",
      "turn\n",
      "helix\n",
      "turn\n",
      "helix\n",
      "turn\n",
      "helix\n",
      "helix\n",
      "turn\n",
      "helix\n",
      "helix\n",
      "helix\n",
      "strand\n",
      "helix\n",
      "helix\n",
      "strand\n",
      "helix\n"
     ]
    }
   ],
   "source": [
    "for aux in item['uniprot']['entry']['feature']:\n",
    "    print(aux['@type'])"
   ]
  },
  {
   "cell_type": "code",
   "execution_count": null,
   "id": "47a3871d-e4b4-48c9-8ecb-fef3bec2df2f",
   "metadata": {},
   "outputs": [],
   "source": [
    "item['uniprot']['entry']['comment']"
   ]
  },
  {
   "cell_type": "code",
   "execution_count": null,
   "id": "4f04254b-e7cf-4020-b883-76f452b06620",
   "metadata": {},
   "outputs": [],
   "source": []
  },
  {
   "cell_type": "code",
   "execution_count": null,
   "id": "34544af7-07b5-4427-b155-1f88ec16a40c",
   "metadata": {},
   "outputs": [],
   "source": []
  }
 ],
 "metadata": {
  "kernelspec": {
   "display_name": "Python 3 (ipykernel)",
   "language": "python",
   "name": "python3"
  },
  "language_info": {
   "codemirror_mode": {
    "name": "ipython",
    "version": 3
   },
   "file_extension": ".py",
   "mimetype": "text/x-python",
   "name": "python",
   "nbconvert_exporter": "python",
   "pygments_lexer": "ipython3",
   "version": "3.7.10"
  }
 },
 "nbformat": 4,
 "nbformat_minor": 5
}
