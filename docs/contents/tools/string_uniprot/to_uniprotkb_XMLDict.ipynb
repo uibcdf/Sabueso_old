{
 "cells": [
  {
   "cell_type": "code",
   "execution_count": 1,
   "id": "6c5008c6-30bd-4a63-8701-85bef6f98f2b",
   "metadata": {},
   "outputs": [],
   "source": [
    "%load_ext autoreload\n",
    "%autoreload 2"
   ]
  },
  {
   "cell_type": "markdown",
   "id": "2fb13e62-4c32-42ed-af5e-d4f14d29f7ff",
   "metadata": {},
   "source": [
    "# To uniprotkb XMLDict"
   ]
  },
  {
   "cell_type": "code",
   "execution_count": 2,
   "id": "e5cc5b5c-7d0b-4725-b33b-04be251fcc70",
   "metadata": {},
   "outputs": [],
   "source": [
    "from sabueso.tools.string_uniprot import to_uniprotkb_XMLDict"
   ]
  },
  {
   "cell_type": "code",
   "execution_count": 10,
   "id": "a52e8db2-914e-4ccc-979c-32420c2306f8",
   "metadata": {},
   "outputs": [],
   "source": [
    "item = to_uniprotkb_XMLDict('uniprot:P19367')\n",
    "#item = to_uniprotkb_XMLDict('uniprot:P46200')\n",
    "#item = to_uniprotkb_XMLDict('uniprot:P55197')\n",
    "#item = to_uniprotkb_XMLDict('uniprot:P05937')\n",
    "#item = to_uniprotkb_XMLDict('uniprot:P00374')\n",
    "#item = to_uniprotkb_XMLDict('uniprot:Q9FFX4')\n",
    "item = to_uniprotkb_XMLDict('uniprot:P62166')"
   ]
  },
  {
   "cell_type": "code",
   "execution_count": 11,
   "id": "8e56e559-135a-4ab4-a9d1-287c7d9d9e6a",
   "metadata": {},
   "outputs": [
    {
     "name": "stdout",
     "output_type": "stream",
     "text": [
      "initiator methionine\n",
      "chain\n",
      "domain\n",
      "domain\n",
      "domain\n",
      "domain\n",
      "calcium-binding region\n",
      "calcium-binding region\n",
      "calcium-binding region\n",
      "region of interest\n",
      "metal ion-binding site\n",
      "metal ion-binding site\n",
      "metal ion-binding site\n",
      "metal ion-binding site\n",
      "metal ion-binding site\n",
      "metal ion-binding site\n",
      "metal ion-binding site\n",
      "metal ion-binding site\n",
      "metal ion-binding site\n",
      "metal ion-binding site\n",
      "metal ion-binding site\n",
      "metal ion-binding site\n",
      "metal ion-binding site\n",
      "metal ion-binding site\n",
      "metal ion-binding site\n",
      "metal ion-binding site\n",
      "metal ion-binding site\n",
      "metal ion-binding site\n",
      "metal ion-binding site\n",
      "metal ion-binding site\n",
      "metal ion-binding site\n",
      "metal ion-binding site\n",
      "metal ion-binding site\n",
      "metal ion-binding site\n",
      "metal ion-binding site\n",
      "metal ion-binding site\n",
      "metal ion-binding site\n",
      "lipid moiety-binding region\n",
      "splice variant\n",
      "mutagenesis site\n",
      "mutagenesis site\n",
      "mutagenesis site\n",
      "sequence conflict\n",
      "sequence conflict\n",
      "helix\n",
      "helix\n",
      "strand\n",
      "helix\n",
      "strand\n",
      "helix\n",
      "helix\n",
      "strand\n",
      "helix\n",
      "helix\n",
      "strand\n",
      "strand\n",
      "helix\n",
      "helix\n",
      "strand\n",
      "helix\n",
      "helix\n",
      "strand\n",
      "helix\n",
      "helix\n"
     ]
    }
   ],
   "source": [
    "for aux in item['uniprot']['entry']['feature']:\n",
    "    print(aux['@type'])"
   ]
  },
  {
   "cell_type": "code",
   "execution_count": 12,
   "id": "667370d1-e079-467b-9d2a-3d40ee474202",
   "metadata": {},
   "outputs": [
    {
     "name": "stdout",
     "output_type": "stream",
     "text": [
      "OrderedDict([('@type', 'mutagenesis site'), ('@description', 'Reduces calcium binding; when associated with A-117 or A-165. Abolishes calcium binding; when associated with A-117 and A-165.'), ('@evidence', '4'), ('original', 'E'), ('variation', 'T'), ('location', OrderedDict([('position', OrderedDict([('@position', '81')]))]))])\n",
      "OrderedDict([('@type', 'mutagenesis site'), ('@description', 'Reduces calcium binding; when associated with T-81. Abolishes calcium binding; when associated with T-81 and A-165.'), ('@evidence', '4'), ('original', 'T'), ('variation', 'A'), ('location', OrderedDict([('position', OrderedDict([('@position', '117')]))]))])\n",
      "OrderedDict([('@type', 'mutagenesis site'), ('@description', 'Reduces calcium binding; when associated with A-117. Abolishes calcium binding; when associated with T-81 and A-117.'), ('@evidence', '4'), ('original', 'T'), ('variation', 'A'), ('location', OrderedDict([('position', OrderedDict([('@position', '165')]))]))])\n"
     ]
    }
   ],
   "source": [
    "for aux in item['uniprot']['entry']['feature']:\n",
    "    if aux['@type']=='mutagenesis site':\n",
    "        print(aux)"
   ]
  },
  {
   "cell_type": "code",
   "execution_count": null,
   "id": "47a3871d-e4b4-48c9-8ecb-fef3bec2df2f",
   "metadata": {},
   "outputs": [],
   "source": [
    "item['uniprot']['entry']['evidence']"
   ]
  },
  {
   "cell_type": "code",
   "execution_count": null,
   "id": "4f04254b-e7cf-4020-b883-76f452b06620",
   "metadata": {},
   "outputs": [],
   "source": []
  },
  {
   "cell_type": "code",
   "execution_count": null,
   "id": "34544af7-07b5-4427-b155-1f88ec16a40c",
   "metadata": {},
   "outputs": [],
   "source": []
  }
 ],
 "metadata": {
  "kernelspec": {
   "display_name": "Python 3 (ipykernel)",
   "language": "python",
   "name": "python3"
  },
  "language_info": {
   "codemirror_mode": {
    "name": "ipython",
    "version": 3
   },
   "file_extension": ".py",
   "mimetype": "text/x-python",
   "name": "python",
   "nbconvert_exporter": "python",
   "pygments_lexer": "ipython3",
   "version": "3.7.10"
  }
 },
 "nbformat": 4,
 "nbformat_minor": 5
}
