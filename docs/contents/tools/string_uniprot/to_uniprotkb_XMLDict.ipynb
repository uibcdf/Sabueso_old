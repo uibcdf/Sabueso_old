{
 "cells": [
  {
   "cell_type": "code",
   "execution_count": 1,
   "id": "6c5008c6-30bd-4a63-8701-85bef6f98f2b",
   "metadata": {},
   "outputs": [],
   "source": [
    "%load_ext autoreload\n",
    "%autoreload 2"
   ]
  },
  {
   "cell_type": "markdown",
   "id": "2fb13e62-4c32-42ed-af5e-d4f14d29f7ff",
   "metadata": {},
   "source": [
    "# To uniprotkb XMLDict"
   ]
  },
  {
   "cell_type": "code",
   "execution_count": 2,
   "id": "e5cc5b5c-7d0b-4725-b33b-04be251fcc70",
   "metadata": {},
   "outputs": [],
   "source": [
    "from sabueso.tools.string_uniprot import to_uniprotkb_XMLDict"
   ]
  },
  {
   "cell_type": "code",
   "execution_count": 3,
   "id": "ecea8dcf-997f-4f8d-bc38-3cc451e1ff3e",
   "metadata": {},
   "outputs": [],
   "source": [
    "entry = to_uniprotkb_XMLDict('uniprot:P19367')"
   ]
  },
  {
   "cell_type": "code",
   "execution_count": 4,
   "id": "056b09f6-63ee-415c-9804-6afb4898fb0d",
   "metadata": {},
   "outputs": [
    {
     "data": {
      "text/plain": [
       "'HXK1_HUMAN'"
      ]
     },
     "execution_count": 4,
     "metadata": {},
     "output_type": "execute_result"
    }
   ],
   "source": [
    "entry['uniprot']['entry']['name']"
   ]
  },
  {
   "cell_type": "code",
   "execution_count": 9,
   "id": "8e56e559-135a-4ab4-a9d1-287c7d9d9e6a",
   "metadata": {},
   "outputs": [
    {
     "name": "stdout",
     "output_type": "stream",
     "text": [
      "OrderedDict([('@type', 'region of interest'), ('@description', 'Mitochondrial-binding peptide (MBP)'), ('@evidence', '27'), ('location', OrderedDict([('begin', OrderedDict([('@position', '1')])), ('end', OrderedDict([('@position', '10')]))]))])\n",
      "OrderedDict([('@type', 'region of interest'), ('@description', 'Hexokinase small subdomain 1'), ('@evidence', '3'), ('location', OrderedDict([('begin', OrderedDict([('@position', '73')])), ('end', OrderedDict([('@position', '207')]))]))])\n",
      "OrderedDict([('@type', 'region of interest'), ('@description', 'Glucose-6-phosphate 1 binding'), ('@evidence', '4 5 18 30 32 34 36 37 38'), ('location', OrderedDict([('begin', OrderedDict([('@position', '84')])), ('end', OrderedDict([('@position', '91')]))]))])\n",
      "OrderedDict([('@type', 'region of interest'), ('@description', 'Substrate 1 binding'), ('@evidence', '4 5 18 19 30 31 32 33 34 35 36 37 38 39'), ('location', OrderedDict([('begin', OrderedDict([('@position', '172')])), ('end', OrderedDict([('@position', '173')]))]))])\n",
      "OrderedDict([('@type', 'region of interest'), ('@description', 'Hexokinase large subdomain 1'), ('@evidence', '3'), ('location', OrderedDict([('begin', OrderedDict([('@position', '208')])), ('end', OrderedDict([('@position', '447')]))]))])\n",
      "OrderedDict([('@type', 'region of interest'), ('@description', 'Substrate 1 binding'), ('@evidence', '4 5 18 19 30 31 32 33 34 35 36 37 38 39'), ('location', OrderedDict([('begin', OrderedDict([('@position', '208')])), ('end', OrderedDict([('@position', '209')]))]))])\n",
      "OrderedDict([('@type', 'region of interest'), ('@description', 'Substrate 1 binding'), ('@evidence', '4 5 18 19 30 31 32 33 34 35 36 37 38 39'), ('location', OrderedDict([('begin', OrderedDict([('@position', '291')])), ('end', OrderedDict([('@position', '294')]))]))])\n",
      "OrderedDict([('@type', 'region of interest'), ('@description', 'Glucose-6-phosphate 1 binding'), ('@evidence', '4 5 18 30 32 34 35 36 37 38 39'), ('location', OrderedDict([('begin', OrderedDict([('@position', '413')])), ('end', OrderedDict([('@position', '415')]))]))])\n",
      "OrderedDict([('@type', 'region of interest'), ('@description', 'Hexokinase small subdomain 2'), ('@evidence', '3'), ('location', OrderedDict([('begin', OrderedDict([('@position', '521')])), ('end', OrderedDict([('@position', '655')]))]))])\n",
      "OrderedDict([('@type', 'region of interest'), ('@description', 'Glucose-6-phosphate 2 binding'), ('@evidence', '4 5 30 34 36 37 38'), ('location', OrderedDict([('begin', OrderedDict([('@position', '532')])), ('end', OrderedDict([('@position', '536')]))]))])\n",
      "OrderedDict([('@type', 'region of interest'), ('@description', 'Substrate 2 binding'), ('@evidence', '5 18 31 32 35 36 37 38 39'), ('location', OrderedDict([('begin', OrderedDict([('@position', '603')])), ('end', OrderedDict([('@position', '604')]))]))])\n",
      "OrderedDict([('@type', 'region of interest'), ('@description', 'Substrate 2 binding'), ('@evidence', '4 5 18 30 31 32 34 35 36 37 38 39'), ('location', OrderedDict([('begin', OrderedDict([('@position', '620')])), ('end', OrderedDict([('@position', '621')]))]))])\n",
      "OrderedDict([('@type', 'region of interest'), ('@description', 'Hexokinase large subdomain 2'), ('@evidence', '3'), ('location', OrderedDict([('begin', OrderedDict([('@position', '656')])), ('end', OrderedDict([('@position', '895')]))]))])\n",
      "OrderedDict([('@type', 'region of interest'), ('@description', 'Substrate 2 binding'), ('@evidence', '4 5 18 30 31 32 34 35 36 37 38 39'), ('location', OrderedDict([('begin', OrderedDict([('@position', '656')])), ('end', OrderedDict([('@position', '657')]))]))])\n",
      "OrderedDict([('@type', 'region of interest'), ('@description', 'Substrate 2 binding'), ('@evidence', '4 5 18 30 31 32 34 35 36 37 38 39'), ('location', OrderedDict([('begin', OrderedDict([('@position', '682')])), ('end', OrderedDict([('@position', '683')]))]))])\n",
      "OrderedDict([('@type', 'region of interest'), ('@description', 'Glucose-6-phosphate 2 binding'), ('@evidence', '4 5 18 30 32 34 35 36 37 38 39'), ('location', OrderedDict([('begin', OrderedDict([('@position', '861')])), ('end', OrderedDict([('@position', '863')]))]))])\n"
     ]
    }
   ],
   "source": [
    "for feature in entry['uniprot']['entry']['feature']:\n",
    "    if feature['@type']=='region of interest':\n",
    "        print(feature)"
   ]
  },
  {
   "cell_type": "code",
   "execution_count": 8,
   "id": "667370d1-e079-467b-9d2a-3d40ee474202",
   "metadata": {},
   "outputs": [
    {
     "name": "stdout",
     "output_type": "stream",
     "text": [
      "chain\n",
      "domain\n",
      "domain\n",
      "nucleotide phosphate-binding region\n",
      "nucleotide phosphate-binding region\n",
      "nucleotide phosphate-binding region\n",
      "nucleotide phosphate-binding region\n",
      "nucleotide phosphate-binding region\n",
      "nucleotide phosphate-binding region\n",
      "region of interest\n",
      "region of interest\n",
      "region of interest\n",
      "region of interest\n",
      "region of interest\n",
      "region of interest\n",
      "region of interest\n",
      "region of interest\n",
      "region of interest\n",
      "region of interest\n",
      "region of interest\n",
      "region of interest\n",
      "region of interest\n",
      "region of interest\n",
      "region of interest\n",
      "region of interest\n",
      "binding site\n",
      "binding site\n",
      "binding site\n",
      "binding site\n",
      "binding site\n",
      "binding site\n",
      "binding site\n",
      "binding site\n",
      "binding site\n",
      "binding site\n",
      "binding site\n",
      "binding site\n",
      "binding site\n",
      "binding site\n",
      "modified residue\n",
      "modified residue\n",
      "splice variant\n",
      "splice variant\n",
      "splice variant\n",
      "sequence variant\n",
      "sequence variant\n",
      "sequence variant\n",
      "sequence variant\n",
      "sequence variant\n",
      "sequence variant\n",
      "sequence variant\n",
      "sequence variant\n",
      "sequence conflict\n",
      "helix\n",
      "helix\n",
      "helix\n",
      "turn\n",
      "helix\n",
      "strand\n",
      "strand\n",
      "helix\n",
      "strand\n",
      "helix\n",
      "strand\n",
      "strand\n",
      "strand\n",
      "turn\n",
      "helix\n",
      "strand\n",
      "helix\n",
      "strand\n",
      "helix\n",
      "strand\n",
      "helix\n",
      "turn\n",
      "helix\n",
      "strand\n",
      "helix\n",
      "helix\n",
      "helix\n",
      "turn\n",
      "helix\n",
      "turn\n",
      "helix\n",
      "helix\n",
      "strand\n",
      "helix\n",
      "helix\n",
      "strand\n",
      "helix\n",
      "helix\n",
      "helix\n",
      "strand\n",
      "strand\n",
      "strand\n",
      "helix\n",
      "strand\n",
      "helix\n",
      "strand\n",
      "strand\n",
      "strand\n",
      "helix\n",
      "strand\n",
      "helix\n",
      "strand\n",
      "turn\n",
      "strand\n",
      "helix\n",
      "turn\n",
      "turn\n",
      "helix\n",
      "turn\n",
      "helix\n",
      "turn\n",
      "helix\n",
      "helix\n",
      "turn\n",
      "helix\n",
      "helix\n",
      "helix\n",
      "strand\n",
      "helix\n",
      "helix\n",
      "strand\n",
      "helix\n"
     ]
    }
   ],
   "source": [
    "for aux in entry['uniprot']['entry']['feature']:\n",
    "    print(aux['@type'])"
   ]
  },
  {
   "cell_type": "code",
   "execution_count": null,
   "id": "47a3871d-e4b4-48c9-8ecb-fef3bec2df2f",
   "metadata": {},
   "outputs": [],
   "source": [
    "entry['uniprot']['entry']['comment']"
   ]
  },
  {
   "cell_type": "code",
   "execution_count": null,
   "id": "4f04254b-e7cf-4020-b883-76f452b06620",
   "metadata": {},
   "outputs": [],
   "source": []
  },
  {
   "cell_type": "code",
   "execution_count": null,
   "id": "34544af7-07b5-4427-b155-1f88ec16a40c",
   "metadata": {},
   "outputs": [],
   "source": []
  }
 ],
 "metadata": {
  "kernelspec": {
   "display_name": "Python 3 (ipykernel)",
   "language": "python",
   "name": "python3"
  },
  "language_info": {
   "codemirror_mode": {
    "name": "ipython",
    "version": 3
   },
   "file_extension": ".py",
   "mimetype": "text/x-python",
   "name": "python",
   "nbconvert_exporter": "python",
   "pygments_lexer": "ipython3",
   "version": "3.7.10"
  }
 },
 "nbformat": 4,
 "nbformat_minor": 5
}
