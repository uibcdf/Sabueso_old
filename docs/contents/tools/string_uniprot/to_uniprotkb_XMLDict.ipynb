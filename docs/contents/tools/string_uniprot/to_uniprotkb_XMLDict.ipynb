{
 "cells": [
  {
   "cell_type": "code",
   "execution_count": null,
   "id": "6c5008c6-30bd-4a63-8701-85bef6f98f2b",
   "metadata": {},
   "outputs": [],
   "source": [
    "%load_ext autoreload\n",
    "%autoreload 2"
   ]
  },
  {
   "cell_type": "markdown",
   "id": "2fb13e62-4c32-42ed-af5e-d4f14d29f7ff",
   "metadata": {},
   "source": [
    "# To uniprotkb XMLDict"
   ]
  },
  {
   "cell_type": "code",
   "execution_count": null,
   "id": "e5cc5b5c-7d0b-4725-b33b-04be251fcc70",
   "metadata": {},
   "outputs": [],
   "source": [
    "from sabueso.tools.string.uniprot_id import to_uniprotkb_XMLDict"
   ]
  },
  {
   "cell_type": "code",
   "execution_count": null,
   "id": "ecea8dcf-997f-4f8d-bc38-3cc451e1ff3e",
   "metadata": {},
   "outputs": [],
   "source": [
    "entry = to_uniprotkb_XMLDict('uniprot_id:P19367')"
   ]
  },
  {
   "cell_type": "code",
   "execution_count": null,
   "id": "7ef85712-cba4-4341-8ced-c1a0ada53dd8",
   "metadata": {},
   "outputs": [],
   "source": [
    "entry['uniprot']['entry']['evidence']"
   ]
  },
  {
   "cell_type": "code",
   "execution_count": null,
   "id": "8e56e559-135a-4ab4-a9d1-287c7d9d9e6a",
   "metadata": {},
   "outputs": [],
   "source": []
  }
 ],
 "metadata": {
  "kernelspec": {
   "display_name": "Python 3 (ipykernel)",
   "language": "python",
   "name": "python3"
  },
  "language_info": {
   "codemirror_mode": {
    "name": "ipython",
    "version": 3
   },
   "file_extension": ".py",
   "mimetype": "text/x-python",
   "name": "python",
   "nbconvert_exporter": "python",
   "pygments_lexer": "ipython3",
   "version": "3.7.10"
  }
 },
 "nbformat": 4,
 "nbformat_minor": 5
}
