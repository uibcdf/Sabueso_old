{
 "cells": [
  {
   "cell_type": "code",
   "execution_count": 1,
   "id": "6c5008c6-30bd-4a63-8701-85bef6f98f2b",
   "metadata": {},
   "outputs": [],
   "source": [
    "%load_ext autoreload\n",
    "%autoreload 2"
   ]
  },
  {
   "cell_type": "markdown",
   "id": "2fb13e62-4c32-42ed-af5e-d4f14d29f7ff",
   "metadata": {},
   "source": [
    "# To uniprotkb XMLDict"
   ]
  },
  {
   "cell_type": "code",
   "execution_count": 2,
   "id": "e5cc5b5c-7d0b-4725-b33b-04be251fcc70",
   "metadata": {},
   "outputs": [],
   "source": [
    "from sabueso.tools.string_uniprot import to_uniprotkb_XMLDict"
   ]
  },
  {
   "cell_type": "code",
   "execution_count": 3,
   "id": "ecea8dcf-997f-4f8d-bc38-3cc451e1ff3e",
   "metadata": {},
   "outputs": [],
   "source": [
    "#entry = to_uniprotkb_XMLDict('uniprot:P19367')\n",
    "entry = to_uniprotkb_XMLDict('uniprot:P0DOK3')"
   ]
  },
  {
   "cell_type": "code",
   "execution_count": 5,
   "id": "8e56e559-135a-4ab4-a9d1-287c7d9d9e6a",
   "metadata": {},
   "outputs": [
    {
     "data": {
      "text/plain": [
       "OrderedDict([('@type', 'EMBL'),\n",
       "             ('@id', 'AB781089'),\n",
       "             ('property',\n",
       "              [OrderedDict([('@type', 'status'),\n",
       "                            ('@value', 'NOT_ANNOTATED_CDS')]),\n",
       "               OrderedDict([('@type', 'molecule type'),\n",
       "                            ('@value', 'Genomic_DNA')])])])"
      ]
     },
     "execution_count": 5,
     "metadata": {},
     "output_type": "execute_result"
    }
   ],
   "source": [
    "entry['uniprot']['entry']['dbReference']"
   ]
  },
  {
   "cell_type": "code",
   "execution_count": null,
   "id": "667370d1-e079-467b-9d2a-3d40ee474202",
   "metadata": {},
   "outputs": [],
   "source": []
  }
 ],
 "metadata": {
  "kernelspec": {
   "display_name": "Python 3 (ipykernel)",
   "language": "python",
   "name": "python3"
  },
  "language_info": {
   "codemirror_mode": {
    "name": "ipython",
    "version": 3
   },
   "file_extension": ".py",
   "mimetype": "text/x-python",
   "name": "python",
   "nbconvert_exporter": "python",
   "pygments_lexer": "ipython3",
   "version": "3.7.10"
  }
 },
 "nbformat": 4,
 "nbformat_minor": 5
}
