{
 "cells": [
  {
   "cell_type": "code",
   "execution_count": 1,
   "id": "de15bf53-b53c-4e39-9cd8-057b34827438",
   "metadata": {},
   "outputs": [],
   "source": [
    "%load_ext autoreload\n",
    "%autoreload 2"
   ]
  },
  {
   "cell_type": "markdown",
   "id": "181145aa-b631-403f-b5e8-9a1d7e6d1c2d",
   "metadata": {},
   "source": [
    "# is protein"
   ]
  },
  {
   "cell_type": "code",
   "execution_count": 2,
   "id": "76116c31-2271-42da-b850-1ca81feae73b",
   "metadata": {},
   "outputs": [],
   "source": [
    "from sabueso.tools.string_entity_query import is_protein"
   ]
  },
  {
   "cell_type": "code",
   "execution_count": 3,
   "id": "f4daabe0-e661-47ce-ba8a-92539df72280",
   "metadata": {},
   "outputs": [
    {
     "data": {
      "text/plain": [
       "True"
      ]
     },
     "execution_count": 3,
     "metadata": {},
     "output_type": "execute_result"
    }
   ],
   "source": [
    "is_protein('name:hexokinase-1 organism:human')"
   ]
  },
  {
   "cell_type": "code",
   "execution_count": null,
   "id": "5d26760d-ebe6-4fda-af4c-bc6a4f2d0905",
   "metadata": {},
   "outputs": [],
   "source": []
  }
 ],
 "metadata": {
  "kernelspec": {
   "display_name": "Python 3 (ipykernel)",
   "language": "python",
   "name": "python3"
  },
  "language_info": {
   "codemirror_mode": {
    "name": "ipython",
    "version": 3
   },
   "file_extension": ".py",
   "mimetype": "text/x-python",
   "name": "python",
   "nbconvert_exporter": "python",
   "pygments_lexer": "ipython3",
   "version": "3.7.10"
  }
 },
 "nbformat": 4,
 "nbformat_minor": 5
}
