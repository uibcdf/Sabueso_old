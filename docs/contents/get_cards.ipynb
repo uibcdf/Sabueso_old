{
 "cells": [
  {
   "cell_type": "code",
   "execution_count": 1,
   "id": "5ac43c30-7bd3-4177-ae29-56bb1eef248c",
   "metadata": {},
   "outputs": [],
   "source": [
    "%load_ext autoreload\n",
    "%autoreload 2"
   ]
  },
  {
   "cell_type": "markdown",
   "id": "05333c38-cff6-42e8-99e2-2bda56a36eaa",
   "metadata": {},
   "source": [
    "# Get cards"
   ]
  },
  {
   "cell_type": "code",
   "execution_count": 2,
   "id": "2e03f20b-4a71-4671-9d83-6d1c9f2c8144",
   "metadata": {},
   "outputs": [],
   "source": [
    "import sabueso as sab"
   ]
  },
  {
   "cell_type": "code",
   "execution_count": 3,
   "id": "05536b17-046b-4e38-a934-be754521bd29",
   "metadata": {},
   "outputs": [],
   "source": [
    "stack = sab.get_cards('uniprot:P19367')"
   ]
  },
  {
   "cell_type": "code",
   "execution_count": 5,
   "id": "0df91d50-8b66-4ebf-8af6-3ecf243d4f12",
   "metadata": {},
   "outputs": [
    {
     "name": "stderr",
     "output_type": "stream",
     "text": [
      "[autoreload of sabueso.cards.stack_of_cards failed: Traceback (most recent call last):\n",
      "  File \"/home/diego/Myopt/miniconda3/envs/sabueso/lib/python3.7/site-packages/IPython/extensions/autoreload.py\", line 245, in check\n",
      "    superreload(m, reload, self.old_objects)\n",
      "  File \"/home/diego/Myopt/miniconda3/envs/sabueso/lib/python3.7/site-packages/IPython/extensions/autoreload.py\", line 394, in superreload\n",
      "    module = reload(module)\n",
      "  File \"/home/diego/Myopt/miniconda3/envs/sabueso/lib/python3.7/imp.py\", line 314, in reload\n",
      "    return importlib.reload(module)\n",
      "  File \"/home/diego/Myopt/miniconda3/envs/sabueso/lib/python3.7/importlib/__init__.py\", line 169, in reload\n",
      "    _bootstrap._exec(spec, module)\n",
      "  File \"<frozen importlib._bootstrap>\", line 630, in _exec\n",
      "  File \"<frozen importlib._bootstrap_external>\", line 724, in exec_module\n",
      "  File \"<frozen importlib._bootstrap_external>\", line 860, in get_code\n",
      "  File \"<frozen importlib._bootstrap_external>\", line 791, in source_to_code\n",
      "  File \"<frozen importlib._bootstrap>\", line 219, in _call_with_frames_removed\n",
      "  File \"/home/diego/projects_uibcdf/sabueso/sabueso/cards/stack_of_cards.py\", line 24\n",
      "    else:\n",
      "       ^\n",
      "IndentationError: expected an indented block\n",
      "]\n"
     ]
    },
    {
     "data": {
      "text/plain": [
       "sabueso.cards.stack_of_cards.StackOfCards"
      ]
     },
     "execution_count": 5,
     "metadata": {},
     "output_type": "execute_result"
    }
   ],
   "source": [
    "stack"
   ]
  },
  {
   "cell_type": "code",
   "execution_count": null,
   "id": "12df9160-5f49-4bdb-9b54-1b60f97273e0",
   "metadata": {},
   "outputs": [],
   "source": [
    "id(stack)"
   ]
  },
  {
   "cell_type": "code",
   "execution_count": null,
   "id": "f96b1e2e-c670-4b6d-9a84-6d2c8075bbdc",
   "metadata": {},
   "outputs": [],
   "source": [
    "stack.__repr__"
   ]
  },
  {
   "cell_type": "code",
   "execution_count": null,
   "id": "58148416-0bcf-417f-ac16-c603acbea168",
   "metadata": {},
   "outputs": [],
   "source": [
    "import collections"
   ]
  },
  {
   "cell_type": "code",
   "execution_count": null,
   "id": "31229c77-b1f4-4815-9e32-5c445e59f435",
   "metadata": {},
   "outputs": [],
   "source": []
  }
 ],
 "metadata": {
  "kernelspec": {
   "display_name": "Python 3 (ipykernel)",
   "language": "python",
   "name": "python3"
  },
  "language_info": {
   "codemirror_mode": {
    "name": "ipython",
    "version": 3
   },
   "file_extension": ".py",
   "mimetype": "text/x-python",
   "name": "python",
   "nbconvert_exporter": "python",
   "pygments_lexer": "ipython3",
   "version": "3.7.10"
  }
 },
 "nbformat": 4,
 "nbformat_minor": 5
}
