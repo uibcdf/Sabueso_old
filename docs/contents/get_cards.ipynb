{
 "cells": [
  {
   "cell_type": "code",
   "execution_count": 1,
   "id": "5ac43c30-7bd3-4177-ae29-56bb1eef248c",
   "metadata": {},
   "outputs": [],
   "source": [
    "%load_ext autoreload\n",
    "%autoreload 2"
   ]
  },
  {
   "cell_type": "markdown",
   "id": "05333c38-cff6-42e8-99e2-2bda56a36eaa",
   "metadata": {},
   "source": [
    "# Get cards"
   ]
  },
  {
   "cell_type": "code",
   "execution_count": 2,
   "id": "2e03f20b-4a71-4671-9d83-6d1c9f2c8144",
   "metadata": {},
   "outputs": [],
   "source": [
    "import sabueso as sab"
   ]
  },
  {
   "cell_type": "code",
   "execution_count": 3,
   "id": "37f0552d-5b7c-4be1-9fea-469ebd1ae75b",
   "metadata": {},
   "outputs": [],
   "source": [
    "#item = 'uniprot:P19367'\n",
    "#item = 'uniprot:P52789'\n",
    "#item = 'uniprot:P52790'\n",
    "item = 'uniprot:P35557'"
   ]
  },
  {
   "cell_type": "code",
   "execution_count": 4,
   "id": "05536b17-046b-4e38-a934-be754521bd29",
   "metadata": {},
   "outputs": [],
   "source": [
    "stack = sab.get_cards(item)"
   ]
  },
  {
   "cell_type": "code",
   "execution_count": 5,
   "id": "4977bae4-6fe7-4995-928c-7f822051b564",
   "metadata": {},
   "outputs": [
    {
     "data": {
      "text/plain": [
       "dict_keys(['Hexokinase-4'])"
      ]
     },
     "execution_count": 5,
     "metadata": {},
     "output_type": "execute_result"
    }
   ],
   "source": [
    "stack.cards.keys()"
   ]
  },
  {
   "cell_type": "code",
   "execution_count": 6,
   "id": "0df91d50-8b66-4ebf-8af6-3ecf243d4f12",
   "metadata": {},
   "outputs": [
    {
     "data": {
      "text/plain": [
       "Hexokinase-4 <1 refs.>"
      ]
     },
     "execution_count": 6,
     "metadata": {},
     "output_type": "execute_result"
    }
   ],
   "source": [
    "stack.cards['Hexokinase-4'].name"
   ]
  },
  {
   "cell_type": "code",
   "execution_count": 9,
   "id": "8bc9293a-9a29-4b4b-8b3a-01e2366b4a3e",
   "metadata": {},
   "outputs": [
    {
     "data": {
      "text/plain": [
       "                                                               Hexokinase-4\n",
       "name                                                           Hexokinase-4\n",
       "type                                                                protein\n",
       "alternative names         [HK4, Glucokinase, Hexokinase type IV, HK IV, ...\n",
       "organism common name                                                  Human\n",
       "organism scientific name                                       Homo sapiens\n",
       "uniprot                                                              P35557\n",
       "ec                                                                  2.7.1.1"
      ]
     },
     "execution_count": 9,
     "metadata": {},
     "output_type": "execute_result"
    }
   ],
   "source": [
    "stack.cards['Hexokinase-4']"
   ]
  },
  {
   "cell_type": "code",
   "execution_count": null,
   "id": "a2dfbcd7-cc44-421e-b55c-2f8ea3a236ab",
   "metadata": {},
   "outputs": [],
   "source": []
  },
  {
   "cell_type": "code",
   "execution_count": null,
   "id": "d4c9df90-c099-412e-9af5-6e0ffb35c4f8",
   "metadata": {},
   "outputs": [],
   "source": []
  }
 ],
 "metadata": {
  "kernelspec": {
   "display_name": "Python 3 (ipykernel)",
   "language": "python",
   "name": "python3"
  },
  "language_info": {
   "codemirror_mode": {
    "name": "ipython",
    "version": 3
   },
   "file_extension": ".py",
   "mimetype": "text/x-python",
   "name": "python",
   "nbconvert_exporter": "python",
   "pygments_lexer": "ipython3",
   "version": "3.7.10"
  }
 },
 "nbformat": 4,
 "nbformat_minor": 5
}
