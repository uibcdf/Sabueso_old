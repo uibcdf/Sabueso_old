{
 "cells": [
  {
   "cell_type": "markdown",
   "id": "05333c38-cff6-42e8-99e2-2bda56a36eaa",
   "metadata": {},
   "source": [
    "# Get cards"
   ]
  },
  {
   "cell_type": "code",
   "execution_count": 1,
   "id": "2e03f20b-4a71-4671-9d83-6d1c9f2c8144",
   "metadata": {},
   "outputs": [],
   "source": [
    "import sabueso as sab"
   ]
  },
  {
   "cell_type": "code",
   "execution_count": 3,
   "id": "0df91d50-8b66-4ebf-8af6-3ecf243d4f12",
   "metadata": {},
   "outputs": [
    {
     "ename": "NameError",
     "evalue": "name 'get_form' is not defined",
     "output_type": "error",
     "traceback": [
      "\u001b[0;31m---------------------------------------------------------------------------\u001b[0m",
      "\u001b[0;31mNameError\u001b[0m                                 Traceback (most recent call last)",
      "\u001b[0;32m/tmp/ipykernel_48857/2677522090.py\u001b[0m in \u001b[0;36m<module>\u001b[0;34m\u001b[0m\n\u001b[0;32m----> 1\u001b[0;31m \u001b[0mstack\u001b[0m \u001b[0;34m=\u001b[0m \u001b[0msab\u001b[0m\u001b[0;34m.\u001b[0m\u001b[0mget_cards\u001b[0m\u001b[0;34m(\u001b[0m\u001b[0;34m'pdbid:1brs'\u001b[0m\u001b[0;34m)\u001b[0m\u001b[0;34m\u001b[0m\u001b[0;34m\u001b[0m\u001b[0m\n\u001b[0m",
      "\u001b[0;32m~/projects_uibcdf/sabueso/sabueso/get_cards.py\u001b[0m in \u001b[0;36mget_cards\u001b[0;34m(molecular_system, molecule_index)\u001b[0m\n\u001b[1;32m      1\u001b[0m \u001b[0;32mdef\u001b[0m \u001b[0mget_cards\u001b[0m\u001b[0;34m(\u001b[0m\u001b[0mmolecular_system\u001b[0m\u001b[0;34m,\u001b[0m \u001b[0mmolecule_index\u001b[0m\u001b[0;34m=\u001b[0m\u001b[0;34m'all'\u001b[0m\u001b[0;34m)\u001b[0m\u001b[0;34m:\u001b[0m\u001b[0;34m\u001b[0m\u001b[0;34m\u001b[0m\u001b[0m\n\u001b[1;32m      2\u001b[0m \u001b[0;34m\u001b[0m\u001b[0m\n\u001b[0;32m----> 3\u001b[0;31m     \u001b[0mform\u001b[0m \u001b[0;34m=\u001b[0m \u001b[0mget_form\u001b[0m\u001b[0;34m(\u001b[0m\u001b[0mmolecular_system\u001b[0m\u001b[0;34m)\u001b[0m\u001b[0;34m\u001b[0m\u001b[0;34m\u001b[0m\u001b[0m\n\u001b[0m\u001b[1;32m      4\u001b[0m \u001b[0;34m\u001b[0m\u001b[0m\n\u001b[1;32m      5\u001b[0m     \u001b[0moutput\u001b[0m \u001b[0;34m=\u001b[0m \u001b[0mdict_get_cards\u001b[0m\u001b[0;34m[\u001b[0m\u001b[0mform\u001b[0m\u001b[0;34m]\u001b[0m\u001b[0;34m(\u001b[0m\u001b[0mmolecular_system\u001b[0m\u001b[0;34m)\u001b[0m\u001b[0;34m\u001b[0m\u001b[0;34m\u001b[0m\u001b[0m\n",
      "\u001b[0;31mNameError\u001b[0m: name 'get_form' is not defined"
     ]
    }
   ],
   "source": [
    "stack = sab.get_cards('pdbid:1brs')"
   ]
  },
  {
   "cell_type": "code",
   "execution_count": null,
   "id": "5ac43c30-7bd3-4177-ae29-56bb1eef248c",
   "metadata": {},
   "outputs": [],
   "source": []
  }
 ],
 "metadata": {
  "kernelspec": {
   "display_name": "Python 3 (ipykernel)",
   "language": "python",
   "name": "python3"
  },
  "language_info": {
   "codemirror_mode": {
    "name": "ipython",
    "version": 3
   },
   "file_extension": ".py",
   "mimetype": "text/x-python",
   "name": "python",
   "nbconvert_exporter": "python",
   "pygments_lexer": "ipython3",
   "version": "3.7.10"
  }
 },
 "nbformat": 4,
 "nbformat_minor": 5
}
