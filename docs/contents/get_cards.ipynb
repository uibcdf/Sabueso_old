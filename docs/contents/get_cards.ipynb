{
 "cells": [
  {
   "cell_type": "code",
   "execution_count": 1,
   "id": "5ac43c30-7bd3-4177-ae29-56bb1eef248c",
   "metadata": {},
   "outputs": [],
   "source": [
    "%load_ext autoreload\n",
    "%autoreload 2"
   ]
  },
  {
   "cell_type": "markdown",
   "id": "05333c38-cff6-42e8-99e2-2bda56a36eaa",
   "metadata": {},
   "source": [
    "# Get cards"
   ]
  },
  {
   "cell_type": "code",
   "execution_count": 2,
   "id": "2e03f20b-4a71-4671-9d83-6d1c9f2c8144",
   "metadata": {},
   "outputs": [],
   "source": [
    "import sabueso as sab"
   ]
  },
  {
   "cell_type": "code",
   "execution_count": 3,
   "id": "37f0552d-5b7c-4be1-9fea-469ebd1ae75b",
   "metadata": {},
   "outputs": [],
   "source": [
    "item = 'uniprot:P19367'\n",
    "#item = 'uniprot:P52789'\n",
    "#item = 'uniprot:P52790'\n",
    "#item = 'uniprot:P35557'\n",
    "\n",
    "#item = 'uniprot:P0DOK3'"
   ]
  },
  {
   "cell_type": "code",
   "execution_count": 6,
   "id": "05536b17-046b-4e38-a934-be754521bd29",
   "metadata": {},
   "outputs": [
    {
     "ename": "AttributeError",
     "evalue": "'Evidence' object has no attribute 'add_EC'",
     "output_type": "error",
     "traceback": [
      "\u001b[0;31m---------------------------------------------------------------------------\u001b[0m",
      "\u001b[0;31mAttributeError\u001b[0m                            Traceback (most recent call last)",
      "\u001b[0;32m/tmp/ipykernel_2363379/802437628.py\u001b[0m in \u001b[0;36m<module>\u001b[0;34m\u001b[0m\n\u001b[0;32m----> 1\u001b[0;31m \u001b[0mstack\u001b[0m \u001b[0;34m=\u001b[0m \u001b[0msab\u001b[0m\u001b[0;34m.\u001b[0m\u001b[0mget_cards\u001b[0m\u001b[0;34m(\u001b[0m\u001b[0mitem\u001b[0m\u001b[0;34m)\u001b[0m\u001b[0;34m\u001b[0m\u001b[0;34m\u001b[0m\u001b[0m\n\u001b[0m",
      "\u001b[0;32m~/projects_uibcdf/sabueso/sabueso/cards/get_cards.py\u001b[0m in \u001b[0;36mget_cards\u001b[0;34m(molecular_system, entities)\u001b[0m\n\u001b[1;32m      7\u001b[0m     \u001b[0mform\u001b[0m \u001b[0;34m=\u001b[0m \u001b[0mget_form\u001b[0m\u001b[0;34m(\u001b[0m\u001b[0mmolecular_system\u001b[0m\u001b[0;34m)\u001b[0m\u001b[0;34m\u001b[0m\u001b[0;34m\u001b[0m\u001b[0m\n\u001b[1;32m      8\u001b[0m \u001b[0;34m\u001b[0m\u001b[0m\n\u001b[0;32m----> 9\u001b[0;31m     \u001b[0moutput\u001b[0m \u001b[0;34m=\u001b[0m \u001b[0mdict_get_cards\u001b[0m\u001b[0;34m[\u001b[0m\u001b[0mform\u001b[0m\u001b[0;34m]\u001b[0m\u001b[0;34m(\u001b[0m\u001b[0mmolecular_system\u001b[0m\u001b[0;34m,\u001b[0m \u001b[0mindices\u001b[0m\u001b[0;34m=\u001b[0m\u001b[0;34m'all'\u001b[0m\u001b[0;34m)\u001b[0m\u001b[0;34m\u001b[0m\u001b[0;34m\u001b[0m\u001b[0m\n\u001b[0m\u001b[1;32m     10\u001b[0m \u001b[0;34m\u001b[0m\u001b[0m\n\u001b[1;32m     11\u001b[0m     \u001b[0;32mreturn\u001b[0m \u001b[0moutput\u001b[0m\u001b[0;34m\u001b[0m\u001b[0;34m\u001b[0m\u001b[0m\n",
      "\u001b[0;32m~/projects_uibcdf/sabueso/sabueso/cards/forms/api_string_uniprot.py\u001b[0m in \u001b[0;36mget_cards\u001b[0;34m(molecular_system, indices)\u001b[0m\n\u001b[1;32m      7\u001b[0m \u001b[0;34m\u001b[0m\u001b[0m\n\u001b[1;32m      8\u001b[0m     \u001b[0mtmp_molecular_system\u001b[0m \u001b[0;34m=\u001b[0m \u001b[0mto_uniprotkb_XMLDict\u001b[0m\u001b[0;34m(\u001b[0m\u001b[0mmolecular_system\u001b[0m\u001b[0;34m)\u001b[0m\u001b[0;34m\u001b[0m\u001b[0;34m\u001b[0m\u001b[0m\n\u001b[0;32m----> 9\u001b[0;31m     \u001b[0mstack\u001b[0m \u001b[0;34m=\u001b[0m \u001b[0mget_cards_from_uniprotkb_XMLDict\u001b[0m\u001b[0;34m(\u001b[0m\u001b[0mtmp_molecular_system\u001b[0m\u001b[0;34m,\u001b[0m \u001b[0mindices\u001b[0m\u001b[0;34m=\u001b[0m\u001b[0mindices\u001b[0m\u001b[0;34m)\u001b[0m\u001b[0;34m\u001b[0m\u001b[0;34m\u001b[0m\u001b[0m\n\u001b[0m\u001b[1;32m     10\u001b[0m \u001b[0;34m\u001b[0m\u001b[0m\n\u001b[1;32m     11\u001b[0m     \u001b[0;32mreturn\u001b[0m \u001b[0mstack\u001b[0m\u001b[0;34m\u001b[0m\u001b[0;34m\u001b[0m\u001b[0m\n",
      "\u001b[0;32m~/projects_uibcdf/sabueso/sabueso/cards/forms/api_uniprotkb_XMLDict.py\u001b[0m in \u001b[0;36mget_cards\u001b[0;34m(molecular_system, indices)\u001b[0m\n\u001b[1;32m     28\u001b[0m \u001b[0;34m\u001b[0m\u001b[0m\n\u001b[1;32m     29\u001b[0m     \u001b[0mcard\u001b[0m\u001b[0;34m.\u001b[0m\u001b[0muniprot\u001b[0m \u001b[0;34m=\u001b[0m \u001b[0mget_uniprot\u001b[0m\u001b[0;34m(\u001b[0m\u001b[0mmolecular_system\u001b[0m\u001b[0;34m)\u001b[0m\u001b[0;34m\u001b[0m\u001b[0;34m\u001b[0m\u001b[0m\n\u001b[0;32m---> 30\u001b[0;31m     \u001b[0mcard\u001b[0m\u001b[0;34m.\u001b[0m\u001b[0mec\u001b[0m \u001b[0;34m=\u001b[0m \u001b[0mget_dbreference\u001b[0m\u001b[0;34m(\u001b[0m\u001b[0mmolecular_system\u001b[0m\u001b[0;34m,\u001b[0m \u001b[0mdbname\u001b[0m\u001b[0;34m=\u001b[0m\u001b[0;34m'EC'\u001b[0m\u001b[0;34m)\u001b[0m\u001b[0;34m\u001b[0m\u001b[0;34m\u001b[0m\u001b[0m\n\u001b[0m\u001b[1;32m     31\u001b[0m     \u001b[0mcard\u001b[0m\u001b[0;34m.\u001b[0m\u001b[0mchembl\u001b[0m \u001b[0;34m=\u001b[0m \u001b[0mget_dbreference\u001b[0m\u001b[0;34m(\u001b[0m\u001b[0mmolecular_system\u001b[0m\u001b[0;34m,\u001b[0m \u001b[0mdbname\u001b[0m\u001b[0;34m=\u001b[0m\u001b[0;34m'ChEMBL'\u001b[0m\u001b[0;34m)\u001b[0m\u001b[0;34m\u001b[0m\u001b[0;34m\u001b[0m\u001b[0m\n\u001b[1;32m     32\u001b[0m     \u001b[0mcard\u001b[0m\u001b[0;34m.\u001b[0m\u001b[0mbiogrid\u001b[0m \u001b[0;34m=\u001b[0m \u001b[0mget_dbreference\u001b[0m\u001b[0;34m(\u001b[0m\u001b[0mmolecular_system\u001b[0m\u001b[0;34m,\u001b[0m \u001b[0mdbname\u001b[0m\u001b[0;34m=\u001b[0m\u001b[0;34m'BioGRID'\u001b[0m\u001b[0;34m)\u001b[0m\u001b[0;34m\u001b[0m\u001b[0;34m\u001b[0m\u001b[0m\n",
      "\u001b[0;32m~/projects_uibcdf/sabueso/sabueso/tools/uniprotkb_XMLDict/get_dbreference.py\u001b[0m in \u001b[0;36mget_dbreference\u001b[0;34m(item, entity, dbname)\u001b[0m\n\u001b[1;32m     16\u001b[0m                 \u001b[0mevidence\u001b[0m\u001b[0;34m.\u001b[0m\u001b[0madd_ChEMBL\u001b[0m\u001b[0;34m(\u001b[0m\u001b[0mid\u001b[0m\u001b[0;34m=\u001b[0m\u001b[0maccession\u001b[0m\u001b[0;34m)\u001b[0m\u001b[0;34m\u001b[0m\u001b[0;34m\u001b[0m\u001b[0m\n\u001b[1;32m     17\u001b[0m             \u001b[0;32melif\u001b[0m \u001b[0mdbname\u001b[0m\u001b[0;34m==\u001b[0m\u001b[0;34m'EC'\u001b[0m\u001b[0;34m:\u001b[0m\u001b[0;34m\u001b[0m\u001b[0;34m\u001b[0m\u001b[0m\n\u001b[0;32m---> 18\u001b[0;31m                 \u001b[0mevidence\u001b[0m\u001b[0;34m.\u001b[0m\u001b[0madd_EC\u001b[0m\u001b[0;34m(\u001b[0m\u001b[0mid\u001b[0m\u001b[0;34m=\u001b[0m\u001b[0maccession\u001b[0m\u001b[0;34m)\u001b[0m\u001b[0;34m\u001b[0m\u001b[0;34m\u001b[0m\u001b[0m\n\u001b[0m\u001b[1;32m     19\u001b[0m             \u001b[0;32melif\u001b[0m \u001b[0mdbname\u001b[0m\u001b[0;34m==\u001b[0m\u001b[0;34m'DIP'\u001b[0m\u001b[0;34m:\u001b[0m\u001b[0;34m\u001b[0m\u001b[0;34m\u001b[0m\u001b[0m\n\u001b[1;32m     20\u001b[0m                 \u001b[0mevidence\u001b[0m\u001b[0;34m.\u001b[0m\u001b[0madd_DIP\u001b[0m\u001b[0;34m(\u001b[0m\u001b[0mid\u001b[0m\u001b[0;34m=\u001b[0m\u001b[0maccession\u001b[0m\u001b[0;34m)\u001b[0m\u001b[0;34m\u001b[0m\u001b[0;34m\u001b[0m\u001b[0m\n",
      "\u001b[0;31mAttributeError\u001b[0m: 'Evidence' object has no attribute 'add_EC'"
     ]
    }
   ],
   "source": [
    "stack = sab.get_cards(item)"
   ]
  },
  {
   "cell_type": "code",
   "execution_count": null,
   "id": "8bc9293a-9a29-4b4b-8b3a-01e2366b4a3e",
   "metadata": {},
   "outputs": [],
   "source": [
    "stack.cards['Hexokinase-4'].pdbs"
   ]
  },
  {
   "cell_type": "code",
   "execution_count": null,
   "id": "a2dfbcd7-cc44-421e-b55c-2f8ea3a236ab",
   "metadata": {},
   "outputs": [],
   "source": []
  },
  {
   "cell_type": "code",
   "execution_count": null,
   "id": "d4c9df90-c099-412e-9af5-6e0ffb35c4f8",
   "metadata": {},
   "outputs": [],
   "source": []
  }
 ],
 "metadata": {
  "kernelspec": {
   "display_name": "Python 3 (ipykernel)",
   "language": "python",
   "name": "python3"
  },
  "language_info": {
   "codemirror_mode": {
    "name": "ipython",
    "version": 3
   },
   "file_extension": ".py",
   "mimetype": "text/x-python",
   "name": "python",
   "nbconvert_exporter": "python",
   "pygments_lexer": "ipython3",
   "version": "3.7.10"
  }
 },
 "nbformat": 4,
 "nbformat_minor": 5
}
