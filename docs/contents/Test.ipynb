{
 "cells": [
  {
   "cell_type": "markdown",
   "id": "0418fd9d-d7b9-4cbe-a083-08b45edd6f48",
   "metadata": {},
   "source": [
    "# Test"
   ]
  },
  {
   "cell_type": "code",
   "execution_count": null,
   "id": "60c486c8-6671-4216-afff-00cc0b54afa8",
   "metadata": {},
   "outputs": [],
   "source": [
    "import urllib\n",
    "import xmltodict\n",
    "from copy import deepcopy\n",
    "#from sabueso.fields.protein import in_pdb_card as _in_pdb_card\n",
    "#from sabueso.fields.protein import segment_card as _segment_card\n"
   ]
  },
  {
   "cell_type": "code",
   "execution_count": null,
   "id": "d51b63d3-5fa5-4cc0-b754-362da6ad13b6",
   "metadata": {},
   "outputs": [],
   "source": [
    "uniprot_id = 'P19367'\n",
    "\n",
    "url = 'http://www.uniprot.org/uniprot/'+uniprot_id+'.xml'\n",
    "\n",
    "request = urllib.request.Request(url)\n",
    "request.add_header('User-Agent', 'Python at https://github.com/uibcdf/Sabueso || prada.gracia@gmail.com')\n",
    "response = _urllib.request.urlopen(request)\n",
    "xml_result = response.read().decode('utf-8')\n",
    "dict_result = xmltodict.parse(xml_result)\n",
    "#dict_result = dict_result['uniprot']['entry']\n",
    "\n",
    "#tmp_card = _parse_basic_entry(dict_result)\n"
   ]
  },
  {
   "cell_type": "code",
   "execution_count": null,
   "id": "5267b8af-bce8-4a42-9cd0-f75347e4d9de",
   "metadata": {},
   "outputs": [],
   "source": [
    "dict_result['uniprot']['entry'].keys()"
   ]
  },
  {
   "cell_type": "code",
   "execution_count": null,
   "id": "b19ec8f0-0396-4a34-9a06-ba3a22bf9933",
   "metadata": {},
   "outputs": [],
   "source": [
    "dict_result['uniprot']['entry']['protein']['alternativeName']"
   ]
  },
  {
   "cell_type": "code",
   "execution_count": null,
   "id": "84fccc83-8b4a-4d74-9298-ed5743275593",
   "metadata": {},
   "outputs": [],
   "source": []
  },
  {
   "cell_type": "code",
   "execution_count": null,
   "id": "095e43e5-bf34-4041-b4ae-480b2300bd2c",
   "metadata": {},
   "outputs": [],
   "source": []
  }
 ],
 "metadata": {
  "kernelspec": {
   "display_name": "Python 3 (ipykernel)",
   "language": "python",
   "name": "python3"
  },
  "language_info": {
   "codemirror_mode": {
    "name": "ipython",
    "version": 3
   },
   "file_extension": ".py",
   "mimetype": "text/x-python",
   "name": "python",
   "nbconvert_exporter": "python",
   "pygments_lexer": "ipython3",
   "version": "3.7.10"
  }
 },
 "nbformat": 4,
 "nbformat_minor": 5
}
