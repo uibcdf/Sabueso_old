{
 "cells": [
  {
   "cell_type": "code",
   "execution_count": 1,
   "id": "0c151684-f33e-40da-a983-b7b4d9ab515b",
   "metadata": {},
   "outputs": [],
   "source": [
    "%load_ext autoreload\n",
    "%autoreload 2"
   ]
  },
  {
   "cell_type": "markdown",
   "id": "c7e47afa-be02-4716-b819-68275ccbcd40",
   "metadata": {},
   "source": [
    "# convert"
   ]
  },
  {
   "cell_type": "code",
   "execution_count": 2,
   "id": "15344c8c-3d77-418f-ba1d-395c1d6e1508",
   "metadata": {},
   "outputs": [],
   "source": [
    "import sabueso as sab"
   ]
  },
  {
   "cell_type": "code",
   "execution_count": 3,
   "id": "3082cfd8-c461-4fbe-b6e3-efde8bd3201b",
   "metadata": {},
   "outputs": [
    {
     "data": {
      "text/plain": [
       "['mmtf.MMTFDecoder',\n",
       " 'sabueso.UniProtKB_XMLDict',\n",
       " 'sabueso.ProteinDict',\n",
       " 'file:pdb',\n",
       " 'string:pdb_text',\n",
       " 'string:uniprot_id',\n",
       " 'string:pdb',\n",
       " 'string:entity_query',\n",
       " 'string:entity_name']"
      ]
     },
     "execution_count": 3,
     "metadata": {},
     "output_type": "execute_result"
    }
   ],
   "source": [
    "sab.forms.forms"
   ]
  },
  {
   "cell_type": "code",
   "execution_count": 4,
   "id": "d272e357-b8fa-4175-9ba4-cb93c53e2138",
   "metadata": {},
   "outputs": [
    {
     "data": {
      "text/plain": [
       "['pdb_text', 'uniprot_id', 'pdb', 'entity_query', 'entity_name']"
      ]
     },
     "execution_count": 4,
     "metadata": {},
     "output_type": "execute_result"
    }
   ],
   "source": [
    "sab.forms.string_names_recognized"
   ]
  },
  {
   "cell_type": "code",
   "execution_count": 5,
   "id": "33054077-aa96-481d-93cf-58a701bf4960",
   "metadata": {},
   "outputs": [],
   "source": [
    "item = 'uniprot_id:P19367'\n",
    "#item = 'uniprot_id:P46200'\n",
    "#item = 'uniprot_id:P55197'\n",
    "#item = 'uniprot_id:P05937'\n",
    "#item = 'uniprot_id:P00374'\n",
    "#item = 'uniprot_id:Q9FFX4'\n",
    "#item = 'uniprot_id:P62166'"
   ]
  },
  {
   "cell_type": "code",
   "execution_count": 6,
   "id": "807d0dae-ab29-4e6b-b592-97a5a5d88638",
   "metadata": {},
   "outputs": [
    {
     "data": {
      "text/plain": [
       "'string:uniprot_id'"
      ]
     },
     "execution_count": 6,
     "metadata": {},
     "output_type": "execute_result"
    }
   ],
   "source": [
    "sab.get_form(item)"
   ]
  },
  {
   "cell_type": "code",
   "execution_count": 7,
   "id": "01528172-6b1f-4f78-9f9d-4d9588544a15",
   "metadata": {},
   "outputs": [],
   "source": [
    "item = sab.convert(item, to_form='sabueso.UniProtKB_XMLDict')"
   ]
  },
  {
   "cell_type": "code",
   "execution_count": 9,
   "id": "18661da9-03ac-4541-9ce3-146cbf0d9410",
   "metadata": {},
   "outputs": [
    {
     "data": {
      "text/plain": [
       "'sabueso.UniProtKB_XMLDict'"
      ]
     },
     "execution_count": 9,
     "metadata": {},
     "output_type": "execute_result"
    }
   ],
   "source": [
    "sab.get_form(item)"
   ]
  },
  {
   "cell_type": "code",
   "execution_count": null,
   "id": "fd0a60c7-96d5-4b37-a88a-933fa7adad83",
   "metadata": {},
   "outputs": [],
   "source": []
  }
 ],
 "metadata": {
  "kernelspec": {
   "display_name": "Python 3 (ipykernel)",
   "language": "python",
   "name": "python3"
  },
  "language_info": {
   "codemirror_mode": {
    "name": "ipython",
    "version": 3
   },
   "file_extension": ".py",
   "mimetype": "text/x-python",
   "name": "python",
   "nbconvert_exporter": "python",
   "pygments_lexer": "ipython3",
   "version": "3.7.10"
  }
 },
 "nbformat": 4,
 "nbformat_minor": 5
}
