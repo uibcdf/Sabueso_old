{
 "cells": [
  {
   "cell_type": "markdown",
   "metadata": {},
   "source": [
    "Fuentes:\n",
    "\n",
    "https://arxiv.org/pdf/1607.00378.pdf   \n",
    "https://github.com/chembl/chembl_webresource_client   \n",
    "https://github.com/chembl/mychembl/blob/master/ipython_notebooks/09_myChEMBL_web_services.ipynb    \n",
    "https://github.com/chembl/chembl_webresource_client/blob/master/chembl_webresource_client/tests.py    "
   ]
  },
  {
   "cell_type": "markdown",
   "metadata": {},
   "source": [
    "Primero hay que pensar cómo se identifica un blanco:\n",
    "\n",
    "- Nombre? Organismo?"
   ]
  },
  {
   "cell_type": "code",
   "execution_count": 1,
   "metadata": {},
   "outputs": [],
   "source": [
    "import urllib as _urllib\n",
    "import xmltodict as _xmltodict"
   ]
  },
  {
   "cell_type": "code",
   "execution_count": 2,
   "metadata": {},
   "outputs": [],
   "source": [
    "uniprot_id='Q61221'\n",
    "\n",
    "url = 'http://www.uniprot.org/uniprot/'+uniprot_id+'.xml'\n",
    "\n",
    "request = _urllib.request.Request(url)\n",
    "request.add_header('User-Agent', 'Python at https://github.com/uibcdf/MolInterrogator || prada.gracia@gmail.com')\n",
    "response = _urllib.request.urlopen(request)\n",
    "xml_result = response.read().decode('utf-8')\n",
    "dict_result = _xmltodict.parse(xml_result)\n",
    "dict_result = dict_result['uniprot']['entry']\n"
   ]
  },
  {
   "cell_type": "code",
   "execution_count": 11,
   "metadata": {},
   "outputs": [
    {
     "data": {
      "text/plain": [
       "OrderedDict([('@type', 'interaction'),\n",
       "             ('interactant',\n",
       "              [OrderedDict([('@intactId', 'EBI-8549331')]),\n",
       "               OrderedDict([('@intactId', 'EBI-78852'),\n",
       "                            ('id', 'P53762'),\n",
       "                            ('label', 'Arnt')])]),\n",
       "             ('organismsDiffer', 'false'),\n",
       "             ('experiments', '5')])"
      ]
     },
     "execution_count": 11,
     "metadata": {},
     "output_type": "execute_result"
    }
   ],
   "source": [
    "dict_result['comment'][2]"
   ]
  },
  {
   "cell_type": "code",
   "execution_count": null,
   "metadata": {},
   "outputs": [],
   "source": []
  }
 ],
 "metadata": {
  "kernelspec": {
   "display_name": "Python 3",
   "language": "python",
   "name": "python3"
  },
  "language_info": {
   "codemirror_mode": {
    "name": "ipython",
    "version": 3
   },
   "file_extension": ".py",
   "mimetype": "text/x-python",
   "name": "python",
   "nbconvert_exporter": "python",
   "pygments_lexer": "ipython3",
   "version": "3.7.1"
  }
 },
 "nbformat": 4,
 "nbformat_minor": 2
}
