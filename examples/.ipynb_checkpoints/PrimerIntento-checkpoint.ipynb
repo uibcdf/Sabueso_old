{
 "cells": [
  {
   "cell_type": "code",
   "execution_count": 1,
   "metadata": {},
   "outputs": [],
   "source": [
    "%load_ext autoreload\n",
    "%autoreload 2"
   ]
  },
  {
   "cell_type": "code",
   "execution_count": 2,
   "metadata": {},
   "outputs": [],
   "source": [
    "import sabueso as sab"
   ]
  },
  {
   "cell_type": "code",
   "execution_count": 3,
   "metadata": {},
   "outputs": [
    {
     "name": "stderr",
     "output_type": "stream",
     "text": [
      "/home/diego/Myopt/Miniconda/miniconda3/envs/UIBCDF_Lab/lib/python3.7/site-packages/grequests.py:21: MonkeyPatchWarning: Monkey-patching ssl after ssl has already been imported may lead to errors, including RecursionError on Python 3.6. It may also silently lead to incorrect behaviour on Python 3.7. Please monkey-patch earlier. See https://github.com/gevent/gevent/issues/1016. Modules that had direct imports (NOT patched): ['urllib3.contrib.pyopenssl (/home/diego/Myopt/Miniconda/miniconda3/envs/UIBCDF_Lab/lib/python3.7/site-packages/urllib3/contrib/pyopenssl.py)', 'urllib3.util (/home/diego/Myopt/Miniconda/miniconda3/envs/UIBCDF_Lab/lib/python3.7/site-packages/urllib3/util/__init__.py)']. \n",
      "  curious_george.patch_all(thread=False, select=False)\n"
     ]
    }
   ],
   "source": [
    "HIF1a_mouse = sab.Protein('Q61221')"
   ]
  },
  {
   "cell_type": "code",
   "execution_count": 4,
   "metadata": {},
   "outputs": [
    {
     "data": {
      "text/plain": [
       "{'Name': ['Hypoxia-inducible factor 1-alpha', 'HIF1A_MOUSE'],\n",
       " 'Full Name': ['Hypoxia-inducible factor 1-alpha'],\n",
       " 'Short Name': ['HIF1-alpha', 'HIF-1-alpha'],\n",
       " 'Alternative Name': ['ARNT-interacting protein'],\n",
       " 'Type': ['SINGLE PROTEIN', 'Protein'],\n",
       " 'Organism': ['Mouse'],\n",
       " 'Organism Scientific': ['Mus musculus'],\n",
       " 'Host': [],\n",
       " 'Function': [\"Functions as a master transcriptional regulator of the adaptive response to hypoxia. Under hypoxic conditions, activates the transcription of over 40 genes, including erythropoietin, glucose transporters, glycolytic enzymes, vascular endothelial growth factor, HILPDA, and other genes whose protein products increase oxygen delivery or facilitate metabolic adaptation to hypoxia. Plays an essential role in embryonic vascularization, tumor angiogenesis and pathophysiology of ischemic disease. Heterodimerizes with ARNT; heterodimer binds to core DNA sequence 5'-TACGTG-3' within the hypoxia response element (HRE) of target gene promoters (PubMed:26245371). Activation requires recruitment of transcriptional coactivators such as CREBBP and EP300. Activity is enhanced by interaction with both, NCOA1 or NCOA2. Interaction with redox regulatory protein APEX seems to activate CTAD and potentiates activation by NCOA1 and CREBBP. Involved in the axonal distribution and transport of mitochondria in neurons during hypoxia (By similarity).\"],\n",
       " 'Subunit Structure': [\"Interacts with HIF3A isoform 2 (PubMed:21546903). Interacts with the ARNT; forms a heterodimer that binds core DNA sequence 5'-TACGTG-3' within the hypoxia response element (HRE) of target gene promoters (PubMed:26245371). Interacts with Interacts with NCOA1, NCOA2, APEX and HSP90. Interacts (hydroxylated within the ODD domain) with VHLL (via beta domain); the interaction, leads to polyubiquitination and subsequent HIF1A proteasomal degradation. During hypoxia, sumoylated HIF1A also binds VHL; the interaction promotes the ubiquitination of HIF1A. Interacts with SENP1; the interaction desumoylates HIF1A resulting in stabilization and activation of transcription. Interacts (Via the ODD domain) with ARD1A; the interaction appears not to acetylate HIF1A nor have any affect on protein stability, during hypoxia. Interacts with RWDD3; the interaction enhances HIF1A sumoylation. Interacts with RORA (via the DNA binding domain); the interaction enhances HIF1A transcription under hypoxia through increasing protein stability. Interaction with PSMA7 inhibits the transactivation activity of HIF1A under both normoxic and hypoxia-mimicking conditions. Interacts with USP20. Interacts with RACK1; promotes HIF1A ubiquitination and proteasome-mediated degradation. Interacts with EP300 (via TAZ-type 1 domain); the interaction is stimulated in response to hypoxia and inhibited by CITED2. Interacts with CREBBP (via TAZ-type 1 domain). Interacts with SIRT2. Interacts (deacetylated form) with EGLN1 (By similarity). Interacts with TSGA10. Interacts (via N-terminus) with USP19. Interacts with COPS5; the interaction increases the transcriptional activity of HIF1A through increased stability. Interacts with CBFA2T3. Interacts with HSP90AA1 and HSP90AB1 (By similarity).\"],\n",
       " 'Interactions': [{'Interactants': [{'UniProt': 'P40337',\n",
       "     'IntAct': 'EBI-301246',\n",
       "     'Organism Scientific': 'Homo sapiens',\n",
       "     'Short Name': 'VHL',\n",
       "     'Organism': 'Mus musculus'},\n",
       "    {'UniProt': 'P40337',\n",
       "     'IntAct': 'EBI-301246',\n",
       "     'Organism Scientific': 'Homo sapiens',\n",
       "     'Short Name': 'VHL',\n",
       "     'Organism': 'Mus musculus'}]},\n",
       "  {'Interactants': [{'UniProt': 'P40337',\n",
       "     'IntAct': 'EBI-301246',\n",
       "     'Organism Scientific': 'Homo sapiens',\n",
       "     'Short Name': 'VHL',\n",
       "     'Organism': 'Mus musculus'},\n",
       "    {'UniProt': 'P40337',\n",
       "     'IntAct': 'EBI-301246',\n",
       "     'Organism Scientific': 'Homo sapiens',\n",
       "     'Short Name': 'VHL',\n",
       "     'Organism': 'Mus musculus'}]},\n",
       "  {'Interactants': [{'UniProt': 'P40337',\n",
       "     'IntAct': 'EBI-301246',\n",
       "     'Organism Scientific': 'Homo sapiens',\n",
       "     'Short Name': 'VHL',\n",
       "     'Organism': 'Mus musculus'},\n",
       "    {'UniProt': 'P40337',\n",
       "     'IntAct': 'EBI-301246',\n",
       "     'Organism Scientific': 'Homo sapiens',\n",
       "     'Short Name': 'VHL',\n",
       "     'Organism': 'Mus musculus'}]},\n",
       "  {'Interactants': [{'UniProt': 'P40337',\n",
       "     'IntAct': 'EBI-301246',\n",
       "     'Organism Scientific': 'Homo sapiens',\n",
       "     'Short Name': 'VHL',\n",
       "     'Organism': 'Mus musculus'},\n",
       "    {'UniProt': 'P40337',\n",
       "     'IntAct': 'EBI-301246',\n",
       "     'Organism Scientific': 'Homo sapiens',\n",
       "     'Short Name': 'VHL',\n",
       "     'Organism': 'Mus musculus'}]},\n",
       "  {'Interactants': [{'UniProt': 'P40337',\n",
       "     'IntAct': 'EBI-301246',\n",
       "     'Organism Scientific': 'Homo sapiens',\n",
       "     'Short Name': 'VHL',\n",
       "     'Organism': 'Mus musculus'},\n",
       "    {'UniProt': 'P40337',\n",
       "     'IntAct': 'EBI-301246',\n",
       "     'Organism Scientific': 'Homo sapiens',\n",
       "     'Short Name': 'VHL',\n",
       "     'Organism': 'Mus musculus'}]},\n",
       "  {'Interactants': [{'UniProt': 'P40337',\n",
       "     'IntAct': 'EBI-301246',\n",
       "     'Organism Scientific': 'Homo sapiens',\n",
       "     'Short Name': 'VHL',\n",
       "     'Organism': 'Mus musculus'},\n",
       "    {'UniProt': 'P40337',\n",
       "     'IntAct': 'EBI-301246',\n",
       "     'Organism Scientific': 'Homo sapiens',\n",
       "     'Short Name': 'VHL',\n",
       "     'Organism': 'Mus musculus'}]},\n",
       "  {'Interactants': [{'UniProt': 'P40337',\n",
       "     'IntAct': 'EBI-301246',\n",
       "     'Organism Scientific': 'Homo sapiens',\n",
       "     'Short Name': 'VHL',\n",
       "     'Organism': 'Mus musculus'},\n",
       "    {'UniProt': 'P40337',\n",
       "     'IntAct': 'EBI-301246',\n",
       "     'Organism Scientific': 'Homo sapiens',\n",
       "     'Short Name': 'VHL',\n",
       "     'Organism': 'Mus musculus'}]}],\n",
       " 'UniProt': ['Q61665',\n",
       "  'Q8CC19',\n",
       "  'Q8C681',\n",
       "  'Q8CCB6',\n",
       "  'Q8R385',\n",
       "  'O08993',\n",
       "  'Q61664',\n",
       "  'Q61221',\n",
       "  'Q9CYA8',\n",
       "  'O08741'],\n",
       " 'Sequence': ['MEGAGGENEKKKMSSERRKEKSRDAARSRRSKESEVFYELAHQLPLPHNVSSHLDKASVMRLTISYLRVRKLLDAGGLDSEDEMKAQMDCFYLKALDGFVMVLTDDGDMVYISDNVNKYMGLTQFELTGHSVFDFTHPCDHEEMREMLTHRNGPVRKGKELNTQRSFFLRMKCTLTSRGRTMNIKSATWKVLHCTGHIHVYDTNSNQPQCGYKKPPMTCLVLICEPIPHPSNIEIPLDSKTFLSRHSLDMKFSYCDERITELMGYEPEELLGRSIYEYYHALDSDHLTKTHHDMFTKGQVTTGQYRMLAKRGGYVWVETQATVIYNTKNSQPQCIVCVNYVVSGIIQHDLIFSLQQTESVLKPVESSDMKMTQLFTKVESEDTSCLFDKLKKEPDALTLLAPAAGDTIISLDFGSDDTETEDQQLEDVPLYNDVMFPSSNEKLNINLAMSPLPSSETPKPLRSSADPALNQEVALKLESSPESLGLSFTMPQIQDQPASPSDGSTRQSSPERLLQENVNTPNFSQPNSPSEYCFDVDSDMVNVFKLELVEKLFAEDTEAKNPFSTQDTDLDLEMLAPYIPMDDDFQLRSFDQLSPLESNSPSPPSMSTVTGFQQTQLQKPTITATATTTATTDESKTETKDNKEDIKILIASPSSTQVPQETTTAKASAYSGTHSRTASPDRAGKRVIEQTDKAHPRSLNLSATLNQRNTVPEEELNPKTIASQNAQRKRKMEHDGSLFQAAGIGTLLQQPGDCAPTMSLSWKRVKGFISSEQNGTEQKTIILIPSDLACRLLGQSMDESGLPQLTSYDCEVNAPIQGSRNLLQGEELLRALDQVN'],\n",
       " 'FASTA': ['>sp|Q61221|HIF1A_MOUSE Hypoxia-inducible factor 1-alpha OS=Mus musculus OX=10090 GN=Hif1a PE=1 SV=3\\nMEGAGGENEKKKMSSERRKEKSRDAARSRRSKESEVFYELAHQLPLPHNVSSHLDKASVM\\nRLTISYLRVRKLLDAGGLDSEDEMKAQMDCFYLKALDGFVMVLTDDGDMVYISDNVNKYM\\nGLTQFELTGHSVFDFTHPCDHEEMREMLTHRNGPVRKGKELNTQRSFFLRMKCTLTSRGR\\nTMNIKSATWKVLHCTGHIHVYDTNSNQPQCGYKKPPMTCLVLICEPIPHPSNIEIPLDSK\\nTFLSRHSLDMKFSYCDERITELMGYEPEELLGRSIYEYYHALDSDHLTKTHHDMFTKGQV\\nTTGQYRMLAKRGGYVWVETQATVIYNTKNSQPQCIVCVNYVVSGIIQHDLIFSLQQTESV\\nLKPVESSDMKMTQLFTKVESEDTSCLFDKLKKEPDALTLLAPAAGDTIISLDFGSDDTET\\nEDQQLEDVPLYNDVMFPSSNEKLNINLAMSPLPSSETPKPLRSSADPALNQEVALKLESS\\nPESLGLSFTMPQIQDQPASPSDGSTRQSSPERLLQENVNTPNFSQPNSPSEYCFDVDSDM\\nVNVFKLELVEKLFAEDTEAKNPFSTQDTDLDLEMLAPYIPMDDDFQLRSFDQLSPLESNS\\nPSPPSMSTVTGFQQTQLQKPTITATATTTATTDESKTETKDNKEDIKILIASPSSTQVPQ\\nETTTAKASAYSGTHSRTASPDRAGKRVIEQTDKAHPRSLNLSATLNQRNTVPEEELNPKT\\nIASQNAQRKRKMEHDGSLFQAAGIGTLLQQPGDCAPTMSLSWKRVKGFISSEQNGTEQKT\\nIILIPSDLACRLLGQSMDESGLPQLTSYDCEVNAPIQGSRNLLQGEELLRALDQVN\\n'],\n",
       " 'ChEMBL': ['CHEMBL6046'],\n",
       " 'BioGRID': [],\n",
       " 'ProteinModelPortal': ['Q61221'],\n",
       " 'Swiss-Model': ['Q61221'],\n",
       " 'DIP': ['DIP-31083N'],\n",
       " 'ELM': [],\n",
       " 'IntAct': ['Q61221'],\n",
       " 'MINT': ['Q61221'],\n",
       " 'BindingDB': ['Q61221'],\n",
       " 'InterPro': ['IPR013767',\n",
       "  'IPR001321',\n",
       "  'IPR000014',\n",
       "  'IPR011598',\n",
       "  'IPR014887',\n",
       "  'IPR001610',\n",
       "  'Q61221',\n",
       "  'IPR035965',\n",
       "  'IPR036638',\n",
       "  'IPR013655',\n",
       "  'IPR021537'],\n",
       " 'Pfam': ['PF00989', 'PF11413', 'PF08778', 'PF08447'],\n",
       " 'ProDom': [],\n",
       " 'PDB': ['4ZPR'],\n",
       " 'SUPFAM': ['SSF55785', 'SSF47459'],\n",
       " 'Mutagenesis': []}"
      ]
     },
     "execution_count": 4,
     "metadata": {},
     "output_type": "execute_result"
    }
   ],
   "source": [
    "HIF1a_mouse.card"
   ]
  },
  {
   "cell_type": "code",
   "execution_count": null,
   "metadata": {},
   "outputs": [],
   "source": []
  }
 ],
 "metadata": {
  "kernelspec": {
   "display_name": "Python 3",
   "language": "python",
   "name": "python3"
  },
  "language_info": {
   "codemirror_mode": {
    "name": "ipython",
    "version": 3
   },
   "file_extension": ".py",
   "mimetype": "text/x-python",
   "name": "python",
   "nbconvert_exporter": "python",
   "pygments_lexer": "ipython3",
   "version": "3.7.1"
  }
 },
 "nbformat": 4,
 "nbformat_minor": 2
}
