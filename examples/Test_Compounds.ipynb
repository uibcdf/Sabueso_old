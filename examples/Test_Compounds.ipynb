{
 "cells": [
  {
   "cell_type": "markdown",
   "metadata": {},
   "source": [
    "Fuentes:\n",
    "\n",
    "https://www.ebi.ac.uk/chembl/ws"
   ]
  },
  {
   "cell_type": "code",
   "execution_count": 1,
   "metadata": {},
   "outputs": [],
   "source": [
    "from chembl_webresource_client.new_client import new_client"
   ]
  },
  {
   "cell_type": "code",
   "execution_count": 2,
   "metadata": {},
   "outputs": [],
   "source": [
    "target_query_string = 'HIF'"
   ]
  },
  {
   "cell_type": "code",
   "execution_count": 3,
   "metadata": {},
   "outputs": [],
   "source": [
    "target = new_client.target"
   ]
  },
  {
   "cell_type": "code",
   "execution_count": 4,
   "metadata": {},
   "outputs": [],
   "source": [
    "#target_query = target.search('EBNA1')\n",
    "target_query = target.filter(target_synonym__icontains=target_query_string)"
   ]
  },
  {
   "cell_type": "code",
   "execution_count": 5,
   "metadata": {},
   "outputs": [
    {
     "data": {
      "text/plain": [
       "18"
      ]
     },
     "execution_count": 5,
     "metadata": {},
     "output_type": "execute_result"
    }
   ],
   "source": [
    "len(target_query.all())"
   ]
  },
  {
   "cell_type": "code",
   "execution_count": 6,
   "metadata": {},
   "outputs": [],
   "source": [
    "res = target_query.all()"
   ]
  },
  {
   "cell_type": "code",
   "execution_count": 7,
   "metadata": {},
   "outputs": [
    {
     "name": "stdout",
     "output_type": "stream",
     "text": [
      "0 Hypoxia-inducible factor prolyl hydroxylase 1 SINGLE PROTEIN CHEMBL3028\n",
      "1 Hypoxia-inducible factor prolyl 4-hydroxylase SINGLE PROTEIN CHEMBL3047\n",
      "2 Activator of S phase kinase DBF4 SINGLE PROTEIN CHEMBL4483\n",
      "3 Hypoxia-inducible factor 1 alpha SINGLE PROTEIN CHEMBL4261\n",
      "4 Aryl hydrocarbon receptor nuclear translocator SINGLE PROTEIN CHEMBL5618\n",
      "5 Egl nine homolog 1 SINGLE PROTEIN CHEMBL5697\n",
      "6 Egl nine homolog 3 SINGLE PROTEIN CHEMBL5705\n",
      "7 Hypoxia-inducible factor 1-alpha inhibitor SINGLE PROTEIN CHEMBL5909\n",
      "8 Hypoxia-inducible factor 1-alpha SINGLE PROTEIN CHEMBL6046\n",
      "9 Endothelial PAS domain-containing protein 1 SINGLE PROTEIN CHEMBL1744522\n",
      "10 Ubiquitin-like modifier-activating enzyme 5 SINGLE PROTEIN CHEMBL2016429\n",
      "11 CDC7/DBF4 (Cell division cycle 7-related protein kinase/Activator of S phase kinase) PROTEIN COMPLEX CHEMBL2111377\n",
      "12 Hypoxia inducible factors; HIF-1-alpha, HIF-2-alpha PROTEIN FAMILY CHEMBL2221345\n",
      "13 Histone-lysine N-methyltransferase SETD2 SINGLE PROTEIN CHEMBL3108647\n",
      "14 Egl nine homolog 1 SINGLE PROTEIN CHEMBL3638322\n",
      "15 Hypoxia-inducible factor prolyl hydroxylase PROTEIN FAMILY CHEMBL3831261\n",
      "16 Aryl hydrocarbon receptor nuclear translocator/Endothelial PAS domain-containing protein 1 PROTEIN-PROTEIN INTERACTION CHEMBL3885518\n",
      "17 Histone acetyltransferase p300/Hypoxia-inducible factor 1-alpha PROTEIN COMPLEX CHEMBL3885588\n"
     ]
    }
   ],
   "source": [
    "for ii in range(len(res)):\n",
    "    jj = res[ii]\n",
    "    print(ii,jj['pref_name'],jj['target_type'],jj['target_chembl_id'])"
   ]
  },
  {
   "cell_type": "code",
   "execution_count": 9,
   "metadata": {},
   "outputs": [],
   "source": [
    "import pandas as pd"
   ]
  },
  {
   "cell_type": "code",
   "execution_count": 32,
   "metadata": {},
   "outputs": [],
   "source": [
    "df = pd.DataFrame(columns=['Name','Type','ChemBL_id'])"
   ]
  },
  {
   "cell_type": "code",
   "execution_count": 33,
   "metadata": {},
   "outputs": [
    {
     "name": "stdout",
     "output_type": "stream",
     "text": [
      "Hypoxia-inducible factor prolyl hydroxylase 1\n",
      "Hypoxia-inducible factor prolyl 4-hydroxylase\n",
      "Activator of S phase kinase DBF4\n",
      "Hypoxia-inducible factor 1 alpha\n",
      "Aryl hydrocarbon receptor nuclear translocator\n",
      "Egl nine homolog 1\n",
      "Egl nine homolog 3\n",
      "Hypoxia-inducible factor 1-alpha inhibitor\n",
      "Hypoxia-inducible factor 1-alpha\n",
      "Endothelial PAS domain-containing protein 1\n",
      "Ubiquitin-like modifier-activating enzyme 5\n",
      "CDC7/DBF4 (Cell division cycle 7-related protein kinase/Activator of S phase kinase)\n",
      "Hypoxia inducible factors; HIF-1-alpha, HIF-2-alpha\n",
      "Histone-lysine N-methyltransferase SETD2\n",
      "Egl nine homolog 1\n",
      "Hypoxia-inducible factor prolyl hydroxylase\n",
      "Aryl hydrocarbon receptor nuclear translocator/Endothelial PAS domain-containing protein 1\n",
      "Histone acetyltransferase p300/Hypoxia-inducible factor 1-alpha\n"
     ]
    }
   ],
   "source": [
    "for ii in range(len(res)):\n",
    "    jj = res[ii]\n",
    "    tmp_dict = {\n",
    "        'Name': jj['pref_name'],\n",
    "        'Type': jj['target_type'],\n",
    "        'ChemBL_id': jj['target_chembl_id']\n",
    "    }\n",
    "    print(jj['pref_name'])\n",
    "    df=df.append(tmp_dict, ignore_index=True)"
   ]
  },
  {
   "cell_type": "code",
   "execution_count": 34,
   "metadata": {},
   "outputs": [
    {
     "data": {
      "text/html": [
       "<div>\n",
       "<style scoped>\n",
       "    .dataframe tbody tr th:only-of-type {\n",
       "        vertical-align: middle;\n",
       "    }\n",
       "\n",
       "    .dataframe tbody tr th {\n",
       "        vertical-align: top;\n",
       "    }\n",
       "\n",
       "    .dataframe thead th {\n",
       "        text-align: right;\n",
       "    }\n",
       "</style>\n",
       "<table border=\"1\" class=\"dataframe\">\n",
       "  <thead>\n",
       "    <tr style=\"text-align: right;\">\n",
       "      <th></th>\n",
       "      <th>Name</th>\n",
       "      <th>Type</th>\n",
       "      <th>ChemBL_id</th>\n",
       "    </tr>\n",
       "  </thead>\n",
       "  <tbody>\n",
       "    <tr>\n",
       "      <th>0</th>\n",
       "      <td>Hypoxia-inducible factor prolyl hydroxylase 1</td>\n",
       "      <td>SINGLE PROTEIN</td>\n",
       "      <td>CHEMBL3028</td>\n",
       "    </tr>\n",
       "    <tr>\n",
       "      <th>1</th>\n",
       "      <td>Hypoxia-inducible factor prolyl 4-hydroxylase</td>\n",
       "      <td>SINGLE PROTEIN</td>\n",
       "      <td>CHEMBL3047</td>\n",
       "    </tr>\n",
       "    <tr>\n",
       "      <th>2</th>\n",
       "      <td>Activator of S phase kinase DBF4</td>\n",
       "      <td>SINGLE PROTEIN</td>\n",
       "      <td>CHEMBL4483</td>\n",
       "    </tr>\n",
       "    <tr>\n",
       "      <th>3</th>\n",
       "      <td>Hypoxia-inducible factor 1 alpha</td>\n",
       "      <td>SINGLE PROTEIN</td>\n",
       "      <td>CHEMBL4261</td>\n",
       "    </tr>\n",
       "    <tr>\n",
       "      <th>4</th>\n",
       "      <td>Aryl hydrocarbon receptor nuclear translocator</td>\n",
       "      <td>SINGLE PROTEIN</td>\n",
       "      <td>CHEMBL5618</td>\n",
       "    </tr>\n",
       "    <tr>\n",
       "      <th>5</th>\n",
       "      <td>Egl nine homolog 1</td>\n",
       "      <td>SINGLE PROTEIN</td>\n",
       "      <td>CHEMBL5697</td>\n",
       "    </tr>\n",
       "    <tr>\n",
       "      <th>6</th>\n",
       "      <td>Egl nine homolog 3</td>\n",
       "      <td>SINGLE PROTEIN</td>\n",
       "      <td>CHEMBL5705</td>\n",
       "    </tr>\n",
       "    <tr>\n",
       "      <th>7</th>\n",
       "      <td>Hypoxia-inducible factor 1-alpha inhibitor</td>\n",
       "      <td>SINGLE PROTEIN</td>\n",
       "      <td>CHEMBL5909</td>\n",
       "    </tr>\n",
       "    <tr>\n",
       "      <th>8</th>\n",
       "      <td>Hypoxia-inducible factor 1-alpha</td>\n",
       "      <td>SINGLE PROTEIN</td>\n",
       "      <td>CHEMBL6046</td>\n",
       "    </tr>\n",
       "    <tr>\n",
       "      <th>9</th>\n",
       "      <td>Endothelial PAS domain-containing protein 1</td>\n",
       "      <td>SINGLE PROTEIN</td>\n",
       "      <td>CHEMBL1744522</td>\n",
       "    </tr>\n",
       "    <tr>\n",
       "      <th>10</th>\n",
       "      <td>Ubiquitin-like modifier-activating enzyme 5</td>\n",
       "      <td>SINGLE PROTEIN</td>\n",
       "      <td>CHEMBL2016429</td>\n",
       "    </tr>\n",
       "    <tr>\n",
       "      <th>11</th>\n",
       "      <td>CDC7/DBF4 (Cell division cycle 7-related prote...</td>\n",
       "      <td>PROTEIN COMPLEX</td>\n",
       "      <td>CHEMBL2111377</td>\n",
       "    </tr>\n",
       "    <tr>\n",
       "      <th>12</th>\n",
       "      <td>Hypoxia inducible factors; HIF-1-alpha, HIF-2-...</td>\n",
       "      <td>PROTEIN FAMILY</td>\n",
       "      <td>CHEMBL2221345</td>\n",
       "    </tr>\n",
       "    <tr>\n",
       "      <th>13</th>\n",
       "      <td>Histone-lysine N-methyltransferase SETD2</td>\n",
       "      <td>SINGLE PROTEIN</td>\n",
       "      <td>CHEMBL3108647</td>\n",
       "    </tr>\n",
       "    <tr>\n",
       "      <th>14</th>\n",
       "      <td>Egl nine homolog 1</td>\n",
       "      <td>SINGLE PROTEIN</td>\n",
       "      <td>CHEMBL3638322</td>\n",
       "    </tr>\n",
       "    <tr>\n",
       "      <th>15</th>\n",
       "      <td>Hypoxia-inducible factor prolyl hydroxylase</td>\n",
       "      <td>PROTEIN FAMILY</td>\n",
       "      <td>CHEMBL3831261</td>\n",
       "    </tr>\n",
       "    <tr>\n",
       "      <th>16</th>\n",
       "      <td>Aryl hydrocarbon receptor nuclear translocator...</td>\n",
       "      <td>PROTEIN-PROTEIN INTERACTION</td>\n",
       "      <td>CHEMBL3885518</td>\n",
       "    </tr>\n",
       "    <tr>\n",
       "      <th>17</th>\n",
       "      <td>Histone acetyltransferase p300/Hypoxia-inducib...</td>\n",
       "      <td>PROTEIN COMPLEX</td>\n",
       "      <td>CHEMBL3885588</td>\n",
       "    </tr>\n",
       "  </tbody>\n",
       "</table>\n",
       "</div>"
      ],
      "text/plain": [
       "                                                 Name  \\\n",
       "0       Hypoxia-inducible factor prolyl hydroxylase 1   \n",
       "1       Hypoxia-inducible factor prolyl 4-hydroxylase   \n",
       "2                    Activator of S phase kinase DBF4   \n",
       "3                    Hypoxia-inducible factor 1 alpha   \n",
       "4      Aryl hydrocarbon receptor nuclear translocator   \n",
       "5                                  Egl nine homolog 1   \n",
       "6                                  Egl nine homolog 3   \n",
       "7          Hypoxia-inducible factor 1-alpha inhibitor   \n",
       "8                    Hypoxia-inducible factor 1-alpha   \n",
       "9         Endothelial PAS domain-containing protein 1   \n",
       "10        Ubiquitin-like modifier-activating enzyme 5   \n",
       "11  CDC7/DBF4 (Cell division cycle 7-related prote...   \n",
       "12  Hypoxia inducible factors; HIF-1-alpha, HIF-2-...   \n",
       "13           Histone-lysine N-methyltransferase SETD2   \n",
       "14                                 Egl nine homolog 1   \n",
       "15        Hypoxia-inducible factor prolyl hydroxylase   \n",
       "16  Aryl hydrocarbon receptor nuclear translocator...   \n",
       "17  Histone acetyltransferase p300/Hypoxia-inducib...   \n",
       "\n",
       "                           Type      ChemBL_id  \n",
       "0                SINGLE PROTEIN     CHEMBL3028  \n",
       "1                SINGLE PROTEIN     CHEMBL3047  \n",
       "2                SINGLE PROTEIN     CHEMBL4483  \n",
       "3                SINGLE PROTEIN     CHEMBL4261  \n",
       "4                SINGLE PROTEIN     CHEMBL5618  \n",
       "5                SINGLE PROTEIN     CHEMBL5697  \n",
       "6                SINGLE PROTEIN     CHEMBL5705  \n",
       "7                SINGLE PROTEIN     CHEMBL5909  \n",
       "8                SINGLE PROTEIN     CHEMBL6046  \n",
       "9                SINGLE PROTEIN  CHEMBL1744522  \n",
       "10               SINGLE PROTEIN  CHEMBL2016429  \n",
       "11              PROTEIN COMPLEX  CHEMBL2111377  \n",
       "12               PROTEIN FAMILY  CHEMBL2221345  \n",
       "13               SINGLE PROTEIN  CHEMBL3108647  \n",
       "14               SINGLE PROTEIN  CHEMBL3638322  \n",
       "15               PROTEIN FAMILY  CHEMBL3831261  \n",
       "16  PROTEIN-PROTEIN INTERACTION  CHEMBL3885518  \n",
       "17              PROTEIN COMPLEX  CHEMBL3885588  "
      ]
     },
     "execution_count": 34,
     "metadata": {},
     "output_type": "execute_result"
    }
   ],
   "source": [
    "df"
   ]
  },
  {
   "cell_type": "code",
   "execution_count": null,
   "metadata": {},
   "outputs": [],
   "source": [
    "target_chembl_id = res[0]['target_chembl_id']"
   ]
  },
  {
   "cell_type": "code",
   "execution_count": null,
   "metadata": {},
   "outputs": [],
   "source": [
    "print(target_chembl_id)"
   ]
  },
  {
   "cell_type": "code",
   "execution_count": null,
   "metadata": {},
   "outputs": [],
   "source": [
    "target_type = res[0]['target_type']"
   ]
  },
  {
   "cell_type": "code",
   "execution_count": null,
   "metadata": {},
   "outputs": [],
   "source": [
    "print(target_type)"
   ]
  },
  {
   "cell_type": "code",
   "execution_count": null,
   "metadata": {},
   "outputs": [],
   "source": [
    "target_pref_name = res[0]['pref_name']"
   ]
  },
  {
   "cell_type": "code",
   "execution_count": null,
   "metadata": {},
   "outputs": [],
   "source": [
    "print(target_pref_name)"
   ]
  },
  {
   "cell_type": "code",
   "execution_count": null,
   "metadata": {},
   "outputs": [],
   "source": [
    "res_molecule_filter = new_client.molecule.filter(target_chembl_id__in=target_chembl_id)"
   ]
  },
  {
   "cell_type": "code",
   "execution_count": null,
   "metadata": {},
   "outputs": [],
   "source": [
    "res_activity_filter = new_client.activity.filter(target_chembl_id__in=target_chembl_id)"
   ]
  },
  {
   "cell_type": "code",
   "execution_count": null,
   "metadata": {},
   "outputs": [],
   "source": [
    "len(res_molecule_filter)"
   ]
  },
  {
   "cell_type": "code",
   "execution_count": null,
   "metadata": {},
   "outputs": [],
   "source": [
    "len(res_activity_filter)"
   ]
  },
  {
   "cell_type": "code",
   "execution_count": null,
   "metadata": {},
   "outputs": [],
   "source": []
  }
 ],
 "metadata": {
  "kernelspec": {
   "display_name": "Python 3",
   "language": "python",
   "name": "python3"
  },
  "language_info": {
   "codemirror_mode": {
    "name": "ipython",
    "version": 3
   },
   "file_extension": ".py",
   "mimetype": "text/x-python",
   "name": "python",
   "nbconvert_exporter": "python",
   "pygments_lexer": "ipython3",
   "version": "3.5.5"
  }
 },
 "nbformat": 4,
 "nbformat_minor": 2
}
