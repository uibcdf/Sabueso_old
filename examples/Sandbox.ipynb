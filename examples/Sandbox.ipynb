{
 "cells": [
  {
   "cell_type": "markdown",
   "metadata": {},
   "source": [
    "Fuentes:\n",
    "\n",
    "https://arxiv.org/pdf/1607.00378.pdf   \n",
    "https://github.com/chembl/chembl_webresource_client   \n",
    "https://github.com/chembl/mychembl/blob/master/ipython_notebooks/09_myChEMBL_web_services.ipynb    \n",
    "https://github.com/chembl/chembl_webresource_client/blob/master/chembl_webresource_client/tests.py    "
   ]
  },
  {
   "cell_type": "markdown",
   "metadata": {},
   "source": [
    "Primero hay que pensar cómo se identifica un blanco:\n",
    "\n",
    "- Nombre? Organismo?"
   ]
  },
  {
   "cell_type": "code",
   "execution_count": 1,
   "metadata": {},
   "outputs": [],
   "source": [
    "from chembl_webresource_client.new_client import new_client"
   ]
  },
  {
   "cell_type": "code",
   "execution_count": 2,
   "metadata": {},
   "outputs": [],
   "source": [
    "#molecule = new_client.molecule"
   ]
  },
  {
   "cell_type": "code",
   "execution_count": 3,
   "metadata": {},
   "outputs": [],
   "source": [
    "target = new_client.target"
   ]
  },
  {
   "cell_type": "code",
   "execution_count": 4,
   "metadata": {},
   "outputs": [],
   "source": [
    "EBNA1_ChEMBL = target.search('EBNA1')"
   ]
  },
  {
   "cell_type": "code",
   "execution_count": 6,
   "metadata": {},
   "outputs": [
    {
     "data": {
      "text/plain": [
       "chembl_webresource_client.query_set.QuerySet"
      ]
     },
     "execution_count": 6,
     "metadata": {},
     "output_type": "execute_result"
    }
   ],
   "source": [
    "type(EBNA1_ChEMBL)"
   ]
  },
  {
   "cell_type": "code",
   "execution_count": 7,
   "metadata": {},
   "outputs": [],
   "source": [
    "molecule = new_client.molecule\n",
    "res = molecule.search('viagra')"
   ]
  },
  {
   "cell_type": "code",
   "execution_count": 8,
   "metadata": {},
   "outputs": [
    {
     "data": {
      "text/plain": [
       "[{'first_approval': 1998, 'polymer_flag': False, 'topical': False, 'score': 1.805159, 'first_in_class': '0', 'molecule_properties': {'hbd_lipinski': 1, 'acd_logp': '2.47', 'acd_logd': '2.45', 'mw_monoisotopic': '474.2049', 'acd_most_apka': '10.05', 'molecular_species': 'NEUTRAL', 'alogp': '1.61', 'num_ro5_violations': 0, 'ro3_pass': 'N', 'rtb': 7, 'full_molformula': 'C28H38N6O11S', 'mw_freebase': '474.59', 'qed_weighted': '0.55', 'hba': 8, 'psa': '113.42', 'hba_lipinski': 10, 'heavy_atoms': 33, 'aromatic_rings': 3, 'full_mwt': '666.71', 'hbd': 1, 'acd_most_bpka': '6.03', 'num_lipinski_ro5_violations': 0}, 'molecule_structures': {'standard_inchi_key': 'DEIYFTQMQPDXOT-UHFFFAOYSA-N', 'standard_inchi': 'InChI=1S/C22H30N6O4S.C6H8O7/c1-5-7-17-19-20(27(4)25-17)22(29)24-21(23-19)16-14-15(8-9-18(16)32-6-2)33(30,31)28-12-10-26(3)11-13-28;7-3(8)1-6(13,5(11)12)2-4(9)10/h8-9,14H,5-7,10-13H2,1-4H3,(H,23,24,29);13H,1-2H2,(H,7,8)(H,9,10)(H,11,12)', 'canonical_smiles': 'CCCc1nn(C)c2C(=O)NC(=Nc12)c3cc(ccc3OCC)S(=O)(=O)N4CCN(C)CC4.OC(=O)CC(O)(CC(=O)O)C(=O)O'}, 'molecule_type': 'Small molecule', 'prodrug': '0', 'withdrawn_country': None, 'chirality': '2', 'usan_stem': '-afil', 'withdrawn_class': None, 'usan_year': 1997, 'indication_class': 'Impotence Therapy', 'parenteral': True, 'withdrawn_year': None, 'withdrawn_reason': None, 'molecule_synonyms': [{'syn_type': 'TRADE_NAME', 'synonyms': 'REVATIO', 'molecule_synonym': 'Revatio'}, {'syn_type': 'FDA', 'synonyms': 'SILDENAFIL CITRATE', 'molecule_synonym': 'Sildenafil Citrate'}, {'syn_type': 'OTHER', 'synonyms': 'SILDENAFIL CITRATE', 'molecule_synonym': 'Sildenafil Citrate'}, {'syn_type': 'TRADE_NAME', 'synonyms': 'SILDENAFIL CITRATE', 'molecule_synonym': 'Sildenafil Citrate'}, {'syn_type': 'USAN', 'synonyms': 'SILDENAFIL CITRATE', 'molecule_synonym': 'Sildenafil Citrate'}, {'syn_type': 'RESEARCH_CODE', 'synonyms': 'UK-92,480-10', 'molecule_synonym': 'UK-9248010'}, {'syn_type': 'RESEARCH_CODE', 'synonyms': 'UK-92480-10', 'molecule_synonym': 'UK-92480-10'}, {'syn_type': 'TRADE_NAME', 'synonyms': 'VIAGRA', 'molecule_synonym': 'Viagra'}], 'usan_stem_definition': 'PDE5 inhibitors', 'natural_product': '0', 'atc_classifications': [], 'biotherapeutic': None, 'molecule_hierarchy': {'molecule_chembl_id': 'CHEMBL1737', 'parent_chembl_id': 'CHEMBL192'}, 'usan_substem': '-afil', 'dosed_ingredient': True, 'oral': True, 'black_box_warning': '1', 'helm_notation': None, 'structure_type': 'MOL', 'chebi_par_id': 58987, 'withdrawn_flag': False, 'availability_type': '1', 'cross_references': [{'xref_name': 'sildenafil citrate', 'xref_src': 'DailyMed', 'xref_id': 'sildenafil%20citrate'}, {'xref_name': 'SID: 144205270', 'xref_src': 'PubChem', 'xref_id': '144205270'}, {'xref_name': 'SID: 170465285', 'xref_src': 'PubChem', 'xref_id': '170465285'}, {'xref_name': None, 'xref_src': 'Wikipedia', 'xref_id': 'Sildenafil'}], 'pref_name': 'SILDENAFIL CITRATE', 'max_phase': 4, 'molecule_chembl_id': 'CHEMBL1737', 'therapeutic_flag': True, 'inorganic_flag': '0'}, {'first_approval': 1998, 'polymer_flag': False, 'topical': False, 'score': 1.5472791, 'first_in_class': '0', 'molecule_properties': {'hbd_lipinski': 1, 'acd_logp': '2.47', 'acd_logd': '2.45', 'mw_monoisotopic': '474.2049', 'acd_most_apka': '10.05', 'molecular_species': 'NEUTRAL', 'alogp': '1.61', 'num_ro5_violations': 0, 'ro3_pass': 'N', 'rtb': 7, 'full_molformula': 'C22H30N6O4S', 'mw_freebase': '474.59', 'qed_weighted': '0.55', 'hba': 8, 'psa': '113.42', 'hba_lipinski': 10, 'heavy_atoms': 33, 'aromatic_rings': 3, 'full_mwt': '474.59', 'hbd': 1, 'acd_most_bpka': '6.03', 'num_lipinski_ro5_violations': 0}, 'molecule_structures': {'standard_inchi_key': 'BNRNXUUZRGQAQC-UHFFFAOYSA-N', 'standard_inchi': 'InChI=1S/C22H30N6O4S/c1-5-7-17-19-20(27(4)25-17)22(29)24-21(23-19)16-14-15(8-9-18(16)32-6-2)33(30,31)28-12-10-26(3)11-13-28/h8-9,14H,5-7,10-13H2,1-4H3,(H,23,24,29)', 'canonical_smiles': 'CCCc1nn(C)c2C(=O)NC(=Nc12)c3cc(ccc3OCC)S(=O)(=O)N4CCN(C)CC4'}, 'molecule_type': 'Small molecule', 'prodrug': '0', 'withdrawn_country': None, 'chirality': '2', 'usan_stem': '-afil', 'withdrawn_class': None, 'usan_year': 1997, 'indication_class': 'Impotence Therapy', 'parenteral': True, 'withdrawn_year': None, 'withdrawn_reason': None, 'molecule_synonyms': [{'syn_type': 'TRADE_NAME', 'synonyms': 'NIPATRA', 'molecule_synonym': 'Nipatra'}, {'syn_type': 'TRADE_NAME', 'synonyms': 'REVATIO', 'molecule_synonym': 'Revatio'}, {'syn_type': 'ATC', 'synonyms': 'SILDENAFIL', 'molecule_synonym': 'Sildenafil'}, {'syn_type': 'BAN', 'synonyms': 'SILDENAFIL', 'molecule_synonym': 'Sildenafil'}, {'syn_type': 'BNF', 'synonyms': 'SILDENAFIL', 'molecule_synonym': 'Sildenafil'}, {'syn_type': 'INN', 'synonyms': 'SILDENAFIL', 'molecule_synonym': 'Sildenafil'}, {'syn_type': 'FDA', 'synonyms': 'Sildenafil', 'molecule_synonym': 'Sildenafil'}, {'syn_type': 'RESEARCH_CODE', 'synonyms': 'UK-92480', 'molecule_synonym': 'UK-92480'}, {'syn_type': 'TRADE_NAME', 'synonyms': 'VIAGRA', 'molecule_synonym': 'Viagra'}, {'syn_type': 'TRADE_NAME', 'synonyms': 'VIZARSIN', 'molecule_synonym': 'Vizarsin'}], 'usan_stem_definition': 'PDE5 inhibitors', 'natural_product': '0', 'atc_classifications': ['G04BE03'], 'biotherapeutic': None, 'molecule_hierarchy': {'molecule_chembl_id': 'CHEMBL192', 'parent_chembl_id': 'CHEMBL192'}, 'usan_substem': '-afil', 'dosed_ingredient': True, 'oral': True, 'black_box_warning': '1', 'helm_notation': None, 'structure_type': 'MOL', 'chebi_par_id': 9139, 'withdrawn_flag': False, 'availability_type': '1', 'cross_references': [{'xref_name': 'sildenafil citrate', 'xref_src': 'DailyMed', 'xref_id': 'sildenafil%20citrate'}, {'xref_name': 'SID: 26748898', 'xref_src': 'PubChem', 'xref_id': '26748898'}, {'xref_name': 'SID: 50085897', 'xref_src': 'PubChem', 'xref_id': '50085897'}], 'pref_name': 'SILDENAFIL', 'max_phase': 4, 'molecule_chembl_id': 'CHEMBL192', 'therapeutic_flag': True, 'inorganic_flag': '0'}]"
      ]
     },
     "execution_count": 8,
     "metadata": {},
     "output_type": "execute_result"
    }
   ],
   "source": [
    "res"
   ]
  },
  {
   "cell_type": "code",
   "execution_count": 13,
   "metadata": {},
   "outputs": [
    {
     "name": "stdout",
     "output_type": "stream",
     "text": [
      "https%3A//www.ebi.ac.uk/chembl/api/data/molecule/search%3Fq%3Dviagra%26limit%3D20%26offset%3D0\n"
     ]
    }
   ],
   "source": [
    "print(res.url())"
   ]
  },
  {
   "cell_type": "code",
   "execution_count": 14,
   "metadata": {},
   "outputs": [],
   "source": [
    "import sys"
   ]
  },
  {
   "cell_type": "code",
   "execution_count": 15,
   "metadata": {},
   "outputs": [],
   "source": [
    "import urllib"
   ]
  },
  {
   "cell_type": "code",
   "execution_count": 16,
   "metadata": {},
   "outputs": [
    {
     "name": "stdout",
     "output_type": "stream",
     "text": [
      "https://www.ebi.ac.uk/chembl/api/data/molecule/search?q=viagra&limit=20&offset=0\n"
     ]
    }
   ],
   "source": [
    "print(urllib.parse.unquote(res.url()))"
   ]
  },
  {
   "cell_type": "code",
   "execution_count": 18,
   "metadata": {},
   "outputs": [
    {
     "data": {
      "text/plain": [
       "[{'first_approval': 1998, 'polymer_flag': False, 'topical': False, 'score': 1.805159, 'first_in_class': '0', 'molecule_properties': {'hbd_lipinski': 1, 'acd_logp': '2.47', 'acd_logd': '2.45', 'mw_monoisotopic': '474.2049', 'acd_most_apka': '10.05', 'molecular_species': 'NEUTRAL', 'alogp': '1.61', 'num_ro5_violations': 0, 'ro3_pass': 'N', 'rtb': 7, 'full_molformula': 'C28H38N6O11S', 'mw_freebase': '474.59', 'qed_weighted': '0.55', 'hba': 8, 'psa': '113.42', 'hba_lipinski': 10, 'heavy_atoms': 33, 'aromatic_rings': 3, 'full_mwt': '666.71', 'hbd': 1, 'acd_most_bpka': '6.03', 'num_lipinski_ro5_violations': 0}, 'molecule_structures': {'standard_inchi_key': 'DEIYFTQMQPDXOT-UHFFFAOYSA-N', 'standard_inchi': 'InChI=1S/C22H30N6O4S.C6H8O7/c1-5-7-17-19-20(27(4)25-17)22(29)24-21(23-19)16-14-15(8-9-18(16)32-6-2)33(30,31)28-12-10-26(3)11-13-28;7-3(8)1-6(13,5(11)12)2-4(9)10/h8-9,14H,5-7,10-13H2,1-4H3,(H,23,24,29);13H,1-2H2,(H,7,8)(H,9,10)(H,11,12)', 'canonical_smiles': 'CCCc1nn(C)c2C(=O)NC(=Nc12)c3cc(ccc3OCC)S(=O)(=O)N4CCN(C)CC4.OC(=O)CC(O)(CC(=O)O)C(=O)O'}, 'molecule_type': 'Small molecule', 'prodrug': '0', 'withdrawn_country': None, 'chirality': '2', 'usan_stem': '-afil', 'withdrawn_class': None, 'usan_year': 1997, 'indication_class': 'Impotence Therapy', 'parenteral': True, 'withdrawn_year': None, 'withdrawn_reason': None, 'molecule_synonyms': [{'syn_type': 'TRADE_NAME', 'synonyms': 'REVATIO', 'molecule_synonym': 'Revatio'}, {'syn_type': 'FDA', 'synonyms': 'SILDENAFIL CITRATE', 'molecule_synonym': 'Sildenafil Citrate'}, {'syn_type': 'OTHER', 'synonyms': 'SILDENAFIL CITRATE', 'molecule_synonym': 'Sildenafil Citrate'}, {'syn_type': 'TRADE_NAME', 'synonyms': 'SILDENAFIL CITRATE', 'molecule_synonym': 'Sildenafil Citrate'}, {'syn_type': 'USAN', 'synonyms': 'SILDENAFIL CITRATE', 'molecule_synonym': 'Sildenafil Citrate'}, {'syn_type': 'RESEARCH_CODE', 'synonyms': 'UK-92,480-10', 'molecule_synonym': 'UK-9248010'}, {'syn_type': 'RESEARCH_CODE', 'synonyms': 'UK-92480-10', 'molecule_synonym': 'UK-92480-10'}, {'syn_type': 'TRADE_NAME', 'synonyms': 'VIAGRA', 'molecule_synonym': 'Viagra'}], 'usan_stem_definition': 'PDE5 inhibitors', 'natural_product': '0', 'atc_classifications': [], 'biotherapeutic': None, 'molecule_hierarchy': {'molecule_chembl_id': 'CHEMBL1737', 'parent_chembl_id': 'CHEMBL192'}, 'usan_substem': '-afil', 'dosed_ingredient': True, 'oral': True, 'black_box_warning': '1', 'helm_notation': None, 'structure_type': 'MOL', 'chebi_par_id': 58987, 'withdrawn_flag': False, 'availability_type': '1', 'cross_references': [{'xref_name': 'sildenafil citrate', 'xref_src': 'DailyMed', 'xref_id': 'sildenafil%20citrate'}, {'xref_name': 'SID: 144205270', 'xref_src': 'PubChem', 'xref_id': '144205270'}, {'xref_name': 'SID: 170465285', 'xref_src': 'PubChem', 'xref_id': '170465285'}, {'xref_name': None, 'xref_src': 'Wikipedia', 'xref_id': 'Sildenafil'}], 'pref_name': 'SILDENAFIL CITRATE', 'max_phase': 4, 'molecule_chembl_id': 'CHEMBL1737', 'therapeutic_flag': True, 'inorganic_flag': '0'}, {'first_approval': 1998, 'polymer_flag': False, 'topical': False, 'score': 1.5472791, 'first_in_class': '0', 'molecule_properties': {'hbd_lipinski': 1, 'acd_logp': '2.47', 'acd_logd': '2.45', 'mw_monoisotopic': '474.2049', 'acd_most_apka': '10.05', 'molecular_species': 'NEUTRAL', 'alogp': '1.61', 'num_ro5_violations': 0, 'ro3_pass': 'N', 'rtb': 7, 'full_molformula': 'C22H30N6O4S', 'mw_freebase': '474.59', 'qed_weighted': '0.55', 'hba': 8, 'psa': '113.42', 'hba_lipinski': 10, 'heavy_atoms': 33, 'aromatic_rings': 3, 'full_mwt': '474.59', 'hbd': 1, 'acd_most_bpka': '6.03', 'num_lipinski_ro5_violations': 0}, 'molecule_structures': {'standard_inchi_key': 'BNRNXUUZRGQAQC-UHFFFAOYSA-N', 'standard_inchi': 'InChI=1S/C22H30N6O4S/c1-5-7-17-19-20(27(4)25-17)22(29)24-21(23-19)16-14-15(8-9-18(16)32-6-2)33(30,31)28-12-10-26(3)11-13-28/h8-9,14H,5-7,10-13H2,1-4H3,(H,23,24,29)', 'canonical_smiles': 'CCCc1nn(C)c2C(=O)NC(=Nc12)c3cc(ccc3OCC)S(=O)(=O)N4CCN(C)CC4'}, 'molecule_type': 'Small molecule', 'prodrug': '0', 'withdrawn_country': None, 'chirality': '2', 'usan_stem': '-afil', 'withdrawn_class': None, 'usan_year': 1997, 'indication_class': 'Impotence Therapy', 'parenteral': True, 'withdrawn_year': None, 'withdrawn_reason': None, 'molecule_synonyms': [{'syn_type': 'TRADE_NAME', 'synonyms': 'NIPATRA', 'molecule_synonym': 'Nipatra'}, {'syn_type': 'TRADE_NAME', 'synonyms': 'REVATIO', 'molecule_synonym': 'Revatio'}, {'syn_type': 'ATC', 'synonyms': 'SILDENAFIL', 'molecule_synonym': 'Sildenafil'}, {'syn_type': 'BAN', 'synonyms': 'SILDENAFIL', 'molecule_synonym': 'Sildenafil'}, {'syn_type': 'BNF', 'synonyms': 'SILDENAFIL', 'molecule_synonym': 'Sildenafil'}, {'syn_type': 'INN', 'synonyms': 'SILDENAFIL', 'molecule_synonym': 'Sildenafil'}, {'syn_type': 'FDA', 'synonyms': 'Sildenafil', 'molecule_synonym': 'Sildenafil'}, {'syn_type': 'RESEARCH_CODE', 'synonyms': 'UK-92480', 'molecule_synonym': 'UK-92480'}, {'syn_type': 'TRADE_NAME', 'synonyms': 'VIAGRA', 'molecule_synonym': 'Viagra'}, {'syn_type': 'TRADE_NAME', 'synonyms': 'VIZARSIN', 'molecule_synonym': 'Vizarsin'}], 'usan_stem_definition': 'PDE5 inhibitors', 'natural_product': '0', 'atc_classifications': ['G04BE03'], 'biotherapeutic': None, 'molecule_hierarchy': {'molecule_chembl_id': 'CHEMBL192', 'parent_chembl_id': 'CHEMBL192'}, 'usan_substem': '-afil', 'dosed_ingredient': True, 'oral': True, 'black_box_warning': '1', 'helm_notation': None, 'structure_type': 'MOL', 'chebi_par_id': 9139, 'withdrawn_flag': False, 'availability_type': '1', 'cross_references': [{'xref_name': 'sildenafil citrate', 'xref_src': 'DailyMed', 'xref_id': 'sildenafil%20citrate'}, {'xref_name': 'SID: 26748898', 'xref_src': 'PubChem', 'xref_id': '26748898'}, {'xref_name': 'SID: 50085897', 'xref_src': 'PubChem', 'xref_id': '50085897'}], 'pref_name': 'SILDENAFIL', 'max_phase': 4, 'molecule_chembl_id': 'CHEMBL192', 'therapeutic_flag': True, 'inorganic_flag': '0'}]"
      ]
     },
     "execution_count": 18,
     "metadata": {},
     "output_type": "execute_result"
    }
   ],
   "source": [
    "res.all()"
   ]
  },
  {
   "cell_type": "code",
   "execution_count": 23,
   "metadata": {},
   "outputs": [],
   "source": [
    "target = new_client.target"
   ]
  },
  {
   "cell_type": "code",
   "execution_count": 24,
   "metadata": {},
   "outputs": [],
   "source": [
    "gene_name = 'BRD4'"
   ]
  },
  {
   "cell_type": "code",
   "execution_count": 25,
   "metadata": {},
   "outputs": [],
   "source": [
    "res = target.search(gene_name)"
   ]
  },
  {
   "cell_type": "code",
   "execution_count": 26,
   "metadata": {},
   "outputs": [
    {
     "data": {
      "text/plain": [
       "[{'tax_id': 9606, 'organism': 'Homo sapiens', 'target_components': [{'component_type': 'PROTEIN', 'component_description': 'Bromodomain-containing protein 4', 'target_component_synonyms': [{'syn_type': 'GENE_SYMBOL', 'component_synonym': 'BRD4'}, {'syn_type': 'UNIPROT', 'component_synonym': 'Bromodomain-containing protein 4'}, {'syn_type': 'GENE_SYMBOL_OTHER', 'component_synonym': 'HUNK1'}, {'syn_type': 'UNIPROT', 'component_synonym': 'Protein HUNK1'}], 'accession': 'O60885', 'relationship': 'SINGLE PROTEIN', 'component_id': 5501, 'target_component_xrefs': [{'xref_name': None, 'xref_src_db': 'EnsemblGene', 'xref_id': 'ENSG00000141867'}, {'xref_name': None, 'xref_src_db': 'ExpressionAtlas', 'xref_id': 'O60885'}, {'xref_name': 'condensed nuclear chromosome', 'xref_src_db': 'GoComponent', 'xref_id': 'GO:0000794'}, {'xref_name': 'nucleus', 'xref_src_db': 'GoComponent', 'xref_id': 'GO:0005634'}, {'xref_name': 'nucleoplasm', 'xref_src_db': 'GoComponent', 'xref_id': 'GO:0005654'}, {'xref_name': 'chromosome', 'xref_src_db': 'GoComponent', 'xref_id': 'GO:0005694'}, {'xref_name': 'cytosol', 'xref_src_db': 'GoComponent', 'xref_id': 'GO:0005829'}, {'xref_name': 'RNA polymerase II core binding', 'xref_src_db': 'GoFunction', 'xref_id': 'GO:0000993'}, {'xref_name': 'p53 binding', 'xref_src_db': 'GoFunction', 'xref_id': 'GO:0002039'}, {'xref_name': 'chromatin binding', 'xref_src_db': 'GoFunction', 'xref_id': 'GO:0003682'}, {'xref_name': 'protein binding', 'xref_src_db': 'GoFunction', 'xref_id': 'GO:0005515'}, {'xref_name': 'lysine-acetylated histone binding', 'xref_src_db': 'GoFunction', 'xref_id': 'GO:0070577'}, {'xref_name': 'regulation of transcription involved in G1/S transition of mitotic cell cycle', 'xref_src_db': 'GoProcess', 'xref_id': 'GO:0000083'}, {'xref_name': 'chromatin organization', 'xref_src_db': 'GoProcess', 'xref_id': 'GO:0006325'}, {'xref_name': 'chromatin remodeling', 'xref_src_db': 'GoProcess', 'xref_id': 'GO:0006338'}, {'xref_name': 'transcription, DNA-templated', 'xref_src_db': 'GoProcess', 'xref_id': 'GO:0006351'}, {'xref_name': 'regulation of transcription, DNA-templated', 'xref_src_db': 'GoProcess', 'xref_id': 'GO:0006355'}, {'xref_name': 'cellular response to DNA damage stimulus', 'xref_src_db': 'GoProcess', 'xref_id': 'GO:0006974'}, {'xref_name': 'positive regulation of G2/M transition of mitotic cell cycle', 'xref_src_db': 'GoProcess', 'xref_id': 'GO:0010971'}, {'xref_name': 'viral process', 'xref_src_db': 'GoProcess', 'xref_id': 'GO:0016032'}, {'xref_name': 'positive regulation of transcription elongation from RNA polymerase II promoter', 'xref_src_db': 'GoProcess', 'xref_id': 'GO:0032968'}, {'xref_name': 'positive regulation of I-kappaB kinase/NF-kappaB signaling', 'xref_src_db': 'GoProcess', 'xref_id': 'GO:0043123'}, {'xref_name': 'positive regulation of transcription from RNA polymerase II promoter', 'xref_src_db': 'GoProcess', 'xref_id': 'GO:0045944'}, {'xref_name': 'regulation of inflammatory response', 'xref_src_db': 'GoProcess', 'xref_id': 'GO:0050727'}, {'xref_name': 'regulation of phosphorylation of RNA polymerase II C-terminal domain', 'xref_src_db': 'GoProcess', 'xref_id': 'GO:1901407'}, {'xref_name': 'negative regulation of DNA damage checkpoint', 'xref_src_db': 'GoProcess', 'xref_id': 'GO:2000002'}, {'xref_name': None, 'xref_src_db': 'GuideToPHARMACOLOGY', 'xref_id': '1945'}, {'xref_name': None, 'xref_src_db': 'IntAct', 'xref_id': 'O60885'}, {'xref_name': 'Bromodomain.', 'xref_src_db': 'InterPro', 'xref_id': 'IPR001487'}, {'xref_name': 'Bromodomain_CS.', 'xref_src_db': 'InterPro', 'xref_id': 'IPR018359'}, {'xref_name': 'NET_dom.', 'xref_src_db': 'InterPro', 'xref_id': 'IPR027353'}, {'xref_name': 'BRD4_CDT.', 'xref_src_db': 'InterPro', 'xref_id': 'IPR031354'}, {'xref_name': 'Bromodomain-like_sf.', 'xref_src_db': 'InterPro', 'xref_id': 'IPR036427'}, {'xref_name': 'A', 'xref_src_db': 'PDBe', 'xref_id': '2NNU'}, {'xref_name': 'A', 'xref_src_db': 'PDBe', 'xref_id': '2OSS'}, {'xref_name': 'A', 'xref_src_db': 'PDBe', 'xref_id': '2OUO'}, {'xref_name': 'A', 'xref_src_db': 'PDBe', 'xref_id': '2YEL'}, {'xref_name': 'A', 'xref_src_db': 'PDBe', 'xref_id': '2YEM'}, {'xref_name': 'A', 'xref_src_db': 'PDBe', 'xref_id': '3MXF'}, {'xref_name': 'A', 'xref_src_db': 'PDBe', 'xref_id': '3P5O'}, {'xref_name': 'A', 'xref_src_db': 'PDBe', 'xref_id': '3SVF'}, {'xref_name': 'A', 'xref_src_db': 'PDBe', 'xref_id': '3SVG'}, {'xref_name': 'A', 'xref_src_db': 'PDBe', 'xref_id': '3U5J'}, {'xref_name': 'A', 'xref_src_db': 'PDBe', 'xref_id': '3U5K'}, {'xref_name': 'A', 'xref_src_db': 'PDBe', 'xref_id': '3U5L'}, {'xref_name': 'A', 'xref_src_db': 'PDBe', 'xref_id': '3UVW'}, {'xref_name': 'A', 'xref_src_db': 'PDBe', 'xref_id': '3UVX'}, {'xref_name': 'A', 'xref_src_db': 'PDBe', 'xref_id': '3UVY'}, {'xref_name': 'A', 'xref_src_db': 'PDBe', 'xref_id': '3UW9'}, {'xref_name': 'A', 'xref_src_db': 'PDBe', 'xref_id': '3ZYU'}, {'xref_name': 'A', 'xref_src_db': 'PDBe', 'xref_id': '4A9L'}, {'xref_name': 'A', 'xref_src_db': 'PDBe', 'xref_id': '4BJX'}, {'xref_name': 'A', 'xref_src_db': 'PDBe', 'xref_id': '4BW1'}, {'xref_name': 'A', 'xref_src_db': 'PDBe', 'xref_id': '4BW2'}, {'xref_name': 'A', 'xref_src_db': 'PDBe', 'xref_id': '4BW3'}, {'xref_name': 'A', 'xref_src_db': 'PDBe', 'xref_id': '4BW4'}, {'xref_name': 'A', 'xref_src_db': 'PDBe', 'xref_id': '4C66'}, {'xref_name': 'A', 'xref_src_db': 'PDBe', 'xref_id': '4C67'}, {'xref_name': 'A', 'xref_src_db': 'PDBe', 'xref_id': '4CFK'}, {'xref_name': 'A', 'xref_src_db': 'PDBe', 'xref_id': '4CFL'}, {'xref_name': 'A', 'xref_src_db': 'PDBe', 'xref_id': '4CL9'}, {'xref_name': 'A', 'xref_src_db': 'PDBe', 'xref_id': '4CLB'}, {'xref_name': 'A', 'xref_src_db': 'PDBe', 'xref_id': '4DON'}, {'xref_name': 'A', 'xref_src_db': 'PDBe', 'xref_id': '4E96'}, {'xref_name': 'A', 'xref_src_db': 'PDBe', 'xref_id': '4F3I'}, {'xref_name': 'A', 'xref_src_db': 'PDBe', 'xref_id': '4GPJ'}, {'xref_name': 'A', 'xref_src_db': 'PDBe', 'xref_id': '4HBV'}, {'xref_name': 'A', 'xref_src_db': 'PDBe', 'xref_id': '4HBW'}, {'xref_name': 'A', 'xref_src_db': 'PDBe', 'xref_id': '4HBX'}, {'xref_name': 'A', 'xref_src_db': 'PDBe', 'xref_id': '4HBY'}, {'xref_name': 'A', 'xref_src_db': 'PDBe', 'xref_id': '4HXK'}, {'xref_name': 'A', 'xref_src_db': 'PDBe', 'xref_id': '4HXL'}, {'xref_name': 'A', 'xref_src_db': 'PDBe', 'xref_id': '4HXM'}, {'xref_name': 'A', 'xref_src_db': 'PDBe', 'xref_id': '4HXN'}, {'xref_name': 'A', 'xref_src_db': 'PDBe', 'xref_id': '4HXO'}, {'xref_name': 'A', 'xref_src_db': 'PDBe', 'xref_id': '4HXP'}, {'xref_name': 'A', 'xref_src_db': 'PDBe', 'xref_id': '4HXR'}, {'xref_name': 'A', 'xref_src_db': 'PDBe', 'xref_id': '4HXS'}, {'xref_name': 'A', 'xref_src_db': 'PDBe', 'xref_id': '4IOO'}, {'xref_name': 'A', 'xref_src_db': 'PDBe', 'xref_id': '4IOQ'}, {'xref_name': 'A', 'xref_src_db': 'PDBe', 'xref_id': '4IOR'}, {'xref_name': 'A', 'xref_src_db': 'PDBe', 'xref_id': '4J0R'}, {'xref_name': 'A', 'xref_src_db': 'PDBe', 'xref_id': '4J0S'}, {'xref_name': 'A', 'xref_src_db': 'PDBe', 'xref_id': '4J3I'}, {'xref_name': 'A', 'xref_src_db': 'PDBe', 'xref_id': '4KV1'}, {'xref_name': 'A', 'xref_src_db': 'PDBe', 'xref_id': '4KV4'}, {'xref_name': 'A', 'xref_src_db': 'PDBe', 'xref_id': '4LR6'}, {'xref_name': 'A', 'xref_src_db': 'PDBe', 'xref_id': '4LRG'}, {'xref_name': 'A', 'xref_src_db': 'PDBe', 'xref_id': '4LYI'}, {'xref_name': 'A', 'xref_src_db': 'PDBe', 'xref_id': '4LYS'}, {'xref_name': 'A', 'xref_src_db': 'PDBe', 'xref_id': '4LYW'}, {'xref_name': 'A', 'xref_src_db': 'PDBe', 'xref_id': '4LZR'}, {'xref_name': 'A', 'xref_src_db': 'PDBe', 'xref_id': '4LZS'}, {'xref_name': 'A', 'xref_src_db': 'PDBe', 'xref_id': '4MEN'}, {'xref_name': 'A', 'xref_src_db': 'PDBe', 'xref_id': '4MEO'}, {'xref_name': 'A', 'xref_src_db': 'PDBe', 'xref_id': '4MEP'}, {'xref_name': 'A', 'xref_src_db': 'PDBe', 'xref_id': '4MEQ'}, {'xref_name': 'A', 'xref_src_db': 'PDBe', 'xref_id': '4MR3'}, {'xref_name': 'A', 'xref_src_db': 'PDBe', 'xref_id': '4MR4'}, {'xref_name': 'A', 'xref_src_db': 'PDBe', 'xref_id': '4NQM'}, {'xref_name': 'A', 'xref_src_db': 'PDBe', 'xref_id': '4NR8'}, {'xref_name': 'A', 'xref_src_db': 'PDBe', 'xref_id': '4NUC'}, {'xref_name': 'A', 'xref_src_db': 'PDBe', 'xref_id': '4NUD'}, {'xref_name': 'A', 'xref_src_db': 'PDBe', 'xref_id': '4NUE'}, {'xref_name': 'A', 'xref_src_db': 'PDBe', 'xref_id': '4O70'}, {'xref_name': 'A', 'xref_src_db': 'PDBe', 'xref_id': '4O71'}, {'xref_name': 'A', 'xref_src_db': 'PDBe', 'xref_id': '4O72'}, {'xref_name': 'A', 'xref_src_db': 'PDBe', 'xref_id': '4O74'}, {'xref_name': 'A', 'xref_src_db': 'PDBe', 'xref_id': '4O75'}, {'xref_name': 'A', 'xref_src_db': 'PDBe', 'xref_id': '4O76'}, {'xref_name': 'A', 'xref_src_db': 'PDBe', 'xref_id': '4O77'}, {'xref_name': 'A', 'xref_src_db': 'PDBe', 'xref_id': '4O78'}, {'xref_name': 'A', 'xref_src_db': 'PDBe', 'xref_id': '4O7A'}, {'xref_name': 'A', 'xref_src_db': 'PDBe', 'xref_id': '4O7B'}, {'xref_name': 'A', 'xref_src_db': 'PDBe', 'xref_id': '4O7C'}, {'xref_name': 'A', 'xref_src_db': 'PDBe', 'xref_id': '4O7E'}, {'xref_name': 'A', 'xref_src_db': 'PDBe', 'xref_id': '4O7F'}, {'xref_name': 'A', 'xref_src_db': 'PDBe', 'xref_id': '4OGI'}, {'xref_name': 'A', 'xref_src_db': 'PDBe', 'xref_id': '4OGJ'}, {'xref_name': 'A', 'xref_src_db': 'PDBe', 'xref_id': '4PCE'}, {'xref_name': 'A', 'xref_src_db': 'PDBe', 'xref_id': '4PCI'}, {'xref_name': 'A', 'xref_src_db': 'PDBe', 'xref_id': '4PS5'}, {'xref_name': 'A', 'xref_src_db': 'PDBe', 'xref_id': '4QB3'}, {'xref_name': 'A', 'xref_src_db': 'PDBe', 'xref_id': '4QR3'}, {'xref_name': 'A', 'xref_src_db': 'PDBe', 'xref_id': '4QR4'}, {'xref_name': 'A', 'xref_src_db': 'PDBe', 'xref_id': '4QR5'}, {'xref_name': 'A', 'xref_src_db': 'PDBe', 'xref_id': '4QZS'}, {'xref_name': 'A', 'xref_src_db': 'PDBe', 'xref_id': '4UIX'}, {'xref_name': 'A', 'xref_src_db': 'PDBe', 'xref_id': '4UIY'}, {'xref_name': 'A', 'xref_src_db': 'PDBe', 'xref_id': '4UIZ'}, {'xref_name': 'A', 'xref_src_db': 'PDBe', 'xref_id': '4UYD'}, {'xref_name': 'A', 'xref_src_db': 'PDBe', 'xref_id': '4WHW'}, {'xref_name': 'A', 'xref_src_db': 'PDBe', 'xref_id': '4WIV'}, {'xref_name': 'A', 'xref_src_db': 'PDBe', 'xref_id': '4X2I'}, {'xref_name': 'A', 'xref_src_db': 'PDBe', 'xref_id': '4XY9'}, {'xref_name': 'A', 'xref_src_db': 'PDBe', 'xref_id': '4XYA'}, {'xref_name': 'A', 'xref_src_db': 'PDBe', 'xref_id': '4YH3'}, {'xref_name': 'A', 'xref_src_db': 'PDBe', 'xref_id': '4YH4'}, {'xref_name': 'A', 'xref_src_db': 'PDBe', 'xref_id': '4Z1Q'}, {'xref_name': 'A', 'xref_src_db': 'PDBe', 'xref_id': '4Z1S'}, {'xref_name': 'A', 'xref_src_db': 'PDBe', 'xref_id': '4Z93'}, {'xref_name': 'A', 'xref_src_db': 'PDBe', 'xref_id': '4ZC9'}, {'xref_name': 'A', 'xref_src_db': 'PDBe', 'xref_id': '4ZW1'}, {'xref_name': 'A', 'xref_src_db': 'PDBe', 'xref_id': '5A5S'}, {'xref_name': 'A', 'xref_src_db': 'PDBe', 'xref_id': '5A85'}, {'xref_name': 'A', 'xref_src_db': 'PDBe', 'xref_id': '5ACY'}, {'xref_name': 'A', 'xref_src_db': 'PDBe', 'xref_id': '5AD2'}, {'xref_name': 'A', 'xref_src_db': 'PDBe', 'xref_id': '5AD3'}, {'xref_name': 'A', 'xref_src_db': 'PDBe', 'xref_id': '5BT4'}, {'xref_name': 'A', 'xref_src_db': 'PDBe', 'xref_id': '5CFW'}, {'xref_name': 'A', 'xref_src_db': 'PDBe', 'xref_id': '5COI'}, {'xref_name': 'A', 'xref_src_db': 'PDBe', 'xref_id': '5CP5'}, {'xref_name': 'A', 'xref_src_db': 'PDBe', 'xref_id': '5CPE'}, {'xref_name': 'A', 'xref_src_db': 'PDBe', 'xref_id': '5CQT'}, {'xref_name': 'A', 'xref_src_db': 'PDBe', 'xref_id': '5CRM'}, {'xref_name': 'A', 'xref_src_db': 'PDBe', 'xref_id': '5CRZ'}, {'xref_name': 'A', 'xref_src_db': 'PDBe', 'xref_id': '5CS8'}, {'xref_name': 'A', 'xref_src_db': 'PDBe', 'xref_id': '5CTL'}, {'xref_name': 'A', 'xref_src_db': 'PDBe', 'xref_id': '5CY9'}, {'xref_name': 'A', 'xref_src_db': 'PDBe', 'xref_id': '5D0C'}, {'xref_name': 'A', 'xref_src_db': 'PDBe', 'xref_id': '5D24'}, {'xref_name': 'A', 'xref_src_db': 'PDBe', 'xref_id': '5D25'}, {'xref_name': 'A', 'xref_src_db': 'PDBe', 'xref_id': '5D26'}, {'xref_name': 'A', 'xref_src_db': 'PDBe', 'xref_id': '5D3H'}, {'xref_name': 'A', 'xref_src_db': 'PDBe', 'xref_id': '5D3J'}, {'xref_name': 'A', 'xref_src_db': 'PDBe', 'xref_id': '5D3L'}, {'xref_name': 'A', 'xref_src_db': 'PDBe', 'xref_id': '5D3N'}, {'xref_name': 'A', 'xref_src_db': 'PDBe', 'xref_id': '5D3P'}, {'xref_name': 'A', 'xref_src_db': 'PDBe', 'xref_id': '5D3R'}, {'xref_name': 'A', 'xref_src_db': 'PDBe', 'xref_id': '5D3S'}, {'xref_name': 'A', 'xref_src_db': 'PDBe', 'xref_id': '5D3T'}, {'xref_name': 'A', 'xref_src_db': 'PDBe', 'xref_id': '5DLX'}, {'xref_name': 'A', 'xref_src_db': 'PDBe', 'xref_id': '5DLZ'}, {'xref_name': 'A', 'xref_src_db': 'PDBe', 'xref_id': '5DW2'}, {'xref_name': 'A', 'xref_src_db': 'PDBe', 'xref_id': '5DX4'}, {'xref_name': 'A', 'xref_src_db': 'PDBe', 'xref_id': '5E0R'}, {'xref_name': 'A', 'xref_src_db': 'PDBe', 'xref_id': '5EGU'}, {'xref_name': 'A', 'xref_src_db': 'PDBe', 'xref_id': '5EI4'}, {'xref_name': 'A', 'xref_src_db': 'PDBe', 'xref_id': '5EIS'}, {'xref_name': 'A', 'xref_src_db': 'PDBe', 'xref_id': '5F5Z'}, {'xref_name': 'A', 'xref_src_db': 'PDBe', 'xref_id': '5F60'}, {'xref_name': 'A', 'xref_src_db': 'PDBe', 'xref_id': '5F61'}, {'xref_name': 'A', 'xref_src_db': 'PDBe', 'xref_id': '5F62'}, {'xref_name': 'A', 'xref_src_db': 'PDBe', 'xref_id': '5F63'}, {'xref_name': 'A', 'xref_src_db': 'PDBe', 'xref_id': '5FBX'}, {'xref_name': 'A', 'xref_src_db': 'PDBe', 'xref_id': '5H21'}, {'xref_name': 'A', 'xref_src_db': 'PDBe', 'xref_id': '5HCL'}, {'xref_name': 'A', 'xref_src_db': 'PDBe', 'xref_id': '5HLS'}, {'xref_name': 'A', 'xref_src_db': 'PDBe', 'xref_id': '5HM0'}, {'xref_name': 'A', 'xref_src_db': 'PDBe', 'xref_id': '5HQ5'}, {'xref_name': 'A', 'xref_src_db': 'PDBe', 'xref_id': '5HQ6'}, {'xref_name': 'A', 'xref_src_db': 'PDBe', 'xref_id': '5HQ7'}, {'xref_name': 'A', 'xref_src_db': 'PDBe', 'xref_id': '5I80'}, {'xref_name': 'A', 'xref_src_db': 'PDBe', 'xref_id': '5I88'}, {'xref_name': 'A', 'xref_src_db': 'PDBe', 'xref_id': '5IGK'}, {'xref_name': 'A', 'xref_src_db': 'PDBe', 'xref_id': '5JWM'}, {'xref_name': 'A', 'xref_src_db': 'PDBe', 'xref_id': '5KDH'}, {'xref_name': 'A', 'xref_src_db': 'PDBe', 'xref_id': '5KHM'}, {'xref_name': 'A', 'xref_src_db': 'PDBe', 'xref_id': '5KJ0'}, {'xref_name': 'A', 'xref_src_db': 'PDBe', 'xref_id': '5KU3'}, {'xref_name': 'A', 'xref_src_db': 'PDBe', 'xref_id': '5LJ1'}, {'xref_name': 'A', 'xref_src_db': 'PDBe', 'xref_id': '5LJ2'}, {'xref_name': 'A', 'xref_src_db': 'PDBe', 'xref_id': '5LRQ'}, {'xref_name': 'A', 'xref_src_db': 'PDBe', 'xref_id': '5LUU'}, {'xref_name': 'A', 'xref_src_db': 'PDBe', 'xref_id': '5M39'}, {'xref_name': 'A', 'xref_src_db': 'PDBe', 'xref_id': '5M3A'}, {'xref_name': 'A', 'xref_src_db': 'PDBe', 'xref_id': '5MKZ'}, {'xref_name': 'A', 'xref_src_db': 'PDBe', 'xref_id': '5MLI'}, {'xref_name': 'A', 'xref_src_db': 'PDBe', 'xref_id': '5T35'}, {'xref_name': 'A', 'xref_src_db': 'PDBe', 'xref_id': '5TI2'}, {'xref_name': 'A', 'xref_src_db': 'PDBe', 'xref_id': '5TI3'}, {'xref_name': 'A', 'xref_src_db': 'PDBe', 'xref_id': '5TI4'}, {'xref_name': 'A', 'xref_src_db': 'PDBe', 'xref_id': '5TI5'}, {'xref_name': 'A', 'xref_src_db': 'PDBe', 'xref_id': '5TI6'}, {'xref_name': 'A', 'xref_src_db': 'PDBe', 'xref_id': '5TI7'}, {'xref_name': 'A', 'xref_src_db': 'PDBe', 'xref_id': '5U28'}, {'xref_name': 'A', 'xref_src_db': 'PDBe', 'xref_id': '5U2C'}, {'xref_name': 'A', 'xref_src_db': 'PDBe', 'xref_id': '5U2E'}, {'xref_name': 'A', 'xref_src_db': 'PDBe', 'xref_id': '5U2F'}, {'xref_name': 'A', 'xref_src_db': 'PDBe', 'xref_id': '5UEO'}, {'xref_name': 'A', 'xref_src_db': 'PDBe', 'xref_id': '5UEP'}, {'xref_name': 'A', 'xref_src_db': 'PDBe', 'xref_id': '5UEQ'}, {'xref_name': 'A', 'xref_src_db': 'PDBe', 'xref_id': '5UER'}, {'xref_name': 'A', 'xref_src_db': 'PDBe', 'xref_id': '5UES'}, {'xref_name': 'A', 'xref_src_db': 'PDBe', 'xref_id': '5UET'}, {'xref_name': 'A', 'xref_src_db': 'PDBe', 'xref_id': '5UEU'}, {'xref_name': 'A', 'xref_src_db': 'PDBe', 'xref_id': '5UEV'}, {'xref_name': 'A', 'xref_src_db': 'PDBe', 'xref_id': '5UEX'}, {'xref_name': 'A', 'xref_src_db': 'PDBe', 'xref_id': '5UEY'}, {'xref_name': 'A', 'xref_src_db': 'PDBe', 'xref_id': '5UEZ'}, {'xref_name': 'A', 'xref_src_db': 'PDBe', 'xref_id': '5UF0'}, {'xref_name': 'A', 'xref_src_db': 'PDBe', 'xref_id': '5ULA'}, {'xref_name': 'A', 'xref_src_db': 'PDBe', 'xref_id': '5UOO'}, {'xref_name': 'A', 'xref_src_db': 'PDBe', 'xref_id': '5UVS'}, {'xref_name': 'A', 'xref_src_db': 'PDBe', 'xref_id': '5UVT'}, {'xref_name': 'A', 'xref_src_db': 'PDBe', 'xref_id': '5UVU'}, {'xref_name': 'A', 'xref_src_db': 'PDBe', 'xref_id': '5UVV'}, {'xref_name': 'A', 'xref_src_db': 'PDBe', 'xref_id': '5UVW'}, {'xref_name': 'A', 'xref_src_db': 'PDBe', 'xref_id': '5UVX'}, {'xref_name': 'A', 'xref_src_db': 'PDBe', 'xref_id': '5UVY'}, {'xref_name': 'A', 'xref_src_db': 'PDBe', 'xref_id': '5UVZ'}, {'xref_name': 'A', 'xref_src_db': 'PDBe', 'xref_id': '5VOM'}, {'xref_name': 'A', 'xref_src_db': 'PDBe', 'xref_id': '5WUU'}, {'xref_name': 'A', 'xref_src_db': 'PDBe', 'xref_id': '5Y1Y'}, {'xref_name': 'Bromodomain', 'xref_src_db': 'Pfam', 'xref_id': 'PF00439'}, {'xref_name': 'BET', 'xref_src_db': 'Pfam', 'xref_id': 'PF17035'}, {'xref_name': 'BRD4_CDT', 'xref_src_db': 'Pfam', 'xref_id': 'PF17105'}, {'xref_name': 'bromodomain containing 4', 'xref_src_db': 'PharmGKB', 'xref_id': 'PA25416'}, {'xref_name': 'BRD4', 'xref_src_db': 'TIMBAL', 'xref_id': 'BRD4'}, {'xref_name': None, 'xref_src_db': 'UniProt', 'xref_id': 'O60433'}, {'xref_name': None, 'xref_src_db': 'UniProt', 'xref_id': 'O60885'}, {'xref_name': None, 'xref_src_db': 'UniProt', 'xref_id': 'Q4G0X8'}, {'xref_name': None, 'xref_src_db': 'UniProt', 'xref_id': 'Q86YS8'}, {'xref_name': None, 'xref_src_db': 'UniProt', 'xref_id': 'Q96PD3'}]}], 'target_chembl_id': 'CHEMBL1163125', 'cross_references': [{'xref_name': None, 'xref_src': 'Wikipedia', 'xref_id': 'BRD4'}, {'xref_name': None, 'xref_src': 'canSAR-Target', 'xref_id': 'O60885'}], 'pref_name': 'Bromodomain-containing protein 4', 'score': 2.2650638, 'target_type': 'SINGLE PROTEIN', 'species_group_flag': False}, {'tax_id': 10090, 'organism': 'Mus musculus', 'target_components': [{'component_type': 'PROTEIN', 'component_description': 'Bromodomain-containing protein 4', 'target_component_synonyms': [{'syn_type': 'GENE_SYMBOL', 'component_synonym': 'Brd4'}, {'syn_type': 'UNIPROT', 'component_synonym': 'Bromodomain-containing protein 4'}, {'syn_type': 'UNIPROT', 'component_synonym': 'MCAP'}, {'syn_type': 'GENE_SYMBOL_OTHER', 'component_synonym': 'Mcap'}, {'syn_type': 'UNIPROT', 'component_synonym': 'Mitotic chromosome-associated protein'}], 'accession': 'Q9ESU6', 'relationship': 'SINGLE PROTEIN', 'component_id': 8253, 'target_component_xrefs': [{'xref_name': None, 'xref_src_db': 'ExpressionAtlas', 'xref_id': 'Q9ESU6'}, {'xref_name': 'nuclear chromatin', 'xref_src_db': 'GoComponent', 'xref_id': 'GO:0000790'}, {'xref_name': 'condensed nuclear chromosome', 'xref_src_db': 'GoComponent', 'xref_id': 'GO:0000794'}, {'xref_name': 'nucleus', 'xref_src_db': 'GoComponent', 'xref_id': 'GO:0005634'}, {'xref_name': 'DNA-directed RNA polymerase II, core complex', 'xref_src_db': 'GoComponent', 'xref_id': 'GO:0005665'}, {'xref_name': 'chromosome', 'xref_src_db': 'GoComponent', 'xref_id': 'GO:0005694'}, {'xref_name': 'nucleolus', 'xref_src_db': 'GoComponent', 'xref_id': 'GO:0005730'}, {'xref_name': 'cyclin/CDK positive transcription elongation factor complex', 'xref_src_db': 'GoComponent', 'xref_id': 'GO:0008024'}, {'xref_name': 'RNA polymerase II core binding', 'xref_src_db': 'GoFunction', 'xref_id': 'GO:0000993'}, {'xref_name': 'p53 binding', 'xref_src_db': 'GoFunction', 'xref_id': 'GO:0002039'}, {'xref_name': 'DNA binding', 'xref_src_db': 'GoFunction', 'xref_id': 'GO:0003677'}, {'xref_name': 'chromatin binding', 'xref_src_db': 'GoFunction', 'xref_id': 'GO:0003682'}, {'xref_name': 'protein kinase activity', 'xref_src_db': 'GoFunction', 'xref_id': 'GO:0004672'}, {'xref_name': 'protein serine/threonine kinase activity', 'xref_src_db': 'GoFunction', 'xref_id': 'GO:0004674'}, {'xref_name': 'protein binding', 'xref_src_db': 'GoFunction', 'xref_id': 'GO:0005515'}, {'xref_name': 'protein C-terminus binding', 'xref_src_db': 'GoFunction', 'xref_id': 'GO:0008022'}, {'xref_name': 'RNA polymerase II carboxy-terminal domain kinase activity', 'xref_src_db': 'GoFunction', 'xref_id': 'GO:0008353'}, {'xref_name': 'GTP-dependent protein kinase activity', 'xref_src_db': 'GoFunction', 'xref_id': 'GO:0034211'}, {'xref_name': 'lysine-acetylated histone binding', 'xref_src_db': 'GoFunction', 'xref_id': 'GO:0070577'}, {'xref_name': 'RNA polymerase II C-terminal domain phosphoserine binding', 'xref_src_db': 'GoFunction', 'xref_id': 'GO:1990269'}, {'xref_name': 'regulation of transcription involved in G1/S transition of mitotic cell cycle', 'xref_src_db': 'GoProcess', 'xref_id': 'GO:0000083'}, {'xref_name': 'inner cell mass cell proliferation', 'xref_src_db': 'GoProcess', 'xref_id': 'GO:0001833'}, {'xref_name': 'chromatin organization', 'xref_src_db': 'GoProcess', 'xref_id': 'GO:0006325'}, {'xref_name': 'transcription, DNA-templated', 'xref_src_db': 'GoProcess', 'xref_id': 'GO:0006351'}, {'xref_name': 'regulation of transcription, DNA-templated', 'xref_src_db': 'GoProcess', 'xref_id': 'GO:0006355'}, {'xref_name': 'protein phosphorylation', 'xref_src_db': 'GoProcess', 'xref_id': 'GO:0006468'}, {'xref_name': 'chromosome segregation', 'xref_src_db': 'GoProcess', 'xref_id': 'GO:0007059'}, {'xref_name': 'positive regulation of G2/M transition of mitotic cell cycle', 'xref_src_db': 'GoProcess', 'xref_id': 'GO:0010971'}, {'xref_name': 'positive regulation of transcription elongation from RNA polymerase II promoter', 'xref_src_db': 'GoProcess', 'xref_id': 'GO:0032968'}, {'xref_name': 'positive regulation of I-kappaB kinase/NF-kappaB signaling', 'xref_src_db': 'GoProcess', 'xref_id': 'GO:0043123'}, {'xref_name': 'positive regulation of DNA binding', 'xref_src_db': 'GoProcess', 'xref_id': 'GO:0043388'}, {'xref_name': 'histone H4-K12 acetylation', 'xref_src_db': 'GoProcess', 'xref_id': 'GO:0043983'}, {'xref_name': 'histone H3-K14 acetylation', 'xref_src_db': 'GoProcess', 'xref_id': 'GO:0044154'}, {'xref_name': 'positive regulation of transcription from RNA polymerase II promoter', 'xref_src_db': 'GoProcess', 'xref_id': 'GO:0045944'}, {'xref_name': 'protein autophosphorylation', 'xref_src_db': 'GoProcess', 'xref_id': 'GO:0046777'}, {'xref_name': 'regulation of inflammatory response', 'xref_src_db': 'GoProcess', 'xref_id': 'GO:0050727'}, {'xref_name': 'regulation of phosphorylation of RNA polymerase II C-terminal domain', 'xref_src_db': 'GoProcess', 'xref_id': 'GO:1901407'}, {'xref_name': None, 'xref_src_db': 'IntAct', 'xref_id': 'Q9ESU6'}, {'xref_name': 'Bromodomain.', 'xref_src_db': 'InterPro', 'xref_id': 'IPR001487'}, {'xref_name': 'Bromodomain_CS.', 'xref_src_db': 'InterPro', 'xref_id': 'IPR018359'}, {'xref_name': 'NET_dom.', 'xref_src_db': 'InterPro', 'xref_id': 'IPR027353'}, {'xref_name': 'BRD4_CDT.', 'xref_src_db': 'InterPro', 'xref_id': 'IPR031354'}, {'xref_name': 'Bromodomain-like_sf.', 'xref_src_db': 'InterPro', 'xref_id': 'IPR036427'}, {'xref_name': 'A', 'xref_src_db': 'PDBe', 'xref_id': '2DWW'}, {'xref_name': 'A', 'xref_src_db': 'PDBe', 'xref_id': '3JVJ'}, {'xref_name': 'A', 'xref_src_db': 'PDBe', 'xref_id': '3JVK'}, {'xref_name': 'A', 'xref_src_db': 'PDBe', 'xref_id': '3JVL'}, {'xref_name': 'A', 'xref_src_db': 'PDBe', 'xref_id': '3JVM'}, {'xref_name': 'A', 'xref_src_db': 'PDBe', 'xref_id': '3MUK'}, {'xref_name': 'A', 'xref_src_db': 'PDBe', 'xref_id': '3MUL'}, {'xref_name': 'Bromodomain', 'xref_src_db': 'Pfam', 'xref_id': 'PF00439'}, {'xref_name': 'BET', 'xref_src_db': 'Pfam', 'xref_id': 'PF17035'}, {'xref_name': 'BRD4_CDT', 'xref_src_db': 'Pfam', 'xref_id': 'PF17105'}, {'xref_name': None, 'xref_src_db': 'UniProt', 'xref_id': 'B0V2V7'}, {'xref_name': None, 'xref_src_db': 'UniProt', 'xref_id': 'Q8VHF7'}, {'xref_name': None, 'xref_src_db': 'UniProt', 'xref_id': 'Q8VHF8'}, {'xref_name': None, 'xref_src_db': 'UniProt', 'xref_id': 'Q9ESU6'}]}], 'target_chembl_id': 'CHEMBL3085619', 'cross_references': [], 'pref_name': 'Bromodomain-containing protein 4', 'score': 1.8120509, 'target_type': 'SINGLE PROTEIN', 'species_group_flag': False}]"
      ]
     },
     "execution_count": 26,
     "metadata": {},
     "output_type": "execute_result"
    }
   ],
   "source": [
    "res.all()"
   ]
  },
  {
   "cell_type": "code",
   "execution_count": 45,
   "metadata": {},
   "outputs": [],
   "source": [
    "target = new_client.target"
   ]
  },
  {
   "cell_type": "code",
   "execution_count": 46,
   "metadata": {},
   "outputs": [],
   "source": [
    "res = target.filter(target_synonym__icontains='EBNA1')"
   ]
  },
  {
   "cell_type": "code",
   "execution_count": 47,
   "metadata": {},
   "outputs": [
    {
     "data": {
      "text/plain": [
       "[{'tax_id': 10377, 'organism': 'Epstein-Barr virus (strain B95-8) (HHV-4) (Human herpesvirus 4)', 'target_components': [{'component_type': 'PROTEIN', 'component_description': 'Epstein-Barr nuclear antigen 1', 'target_component_synonyms': [{'syn_type': 'UNIPROT', 'component_synonym': 'EBNA-1'}, {'syn_type': 'GENE_SYMBOL', 'component_synonym': 'EBNA1'}, {'syn_type': 'UNIPROT', 'component_synonym': 'EBV nuclear antigen 1'}, {'syn_type': 'UNIPROT', 'component_synonym': 'Epstein-Barr nuclear antigen 1'}], 'accession': 'P03211', 'relationship': 'SINGLE PROTEIN', 'component_id': 5005, 'target_component_xrefs': [{'xref_name': 'host cell nucleus', 'xref_src_db': 'GoComponent', 'xref_id': 'GO:0042025'}, {'xref_name': 'DNA binding', 'xref_src_db': 'GoFunction', 'xref_id': 'GO:0003677'}, {'xref_name': 'transcription factor activity, sequence-specific DNA binding', 'xref_src_db': 'GoFunction', 'xref_id': 'GO:0003700'}, {'xref_name': 'protein binding', 'xref_src_db': 'GoFunction', 'xref_id': 'GO:0005515'}, {'xref_name': 'regulation of DNA replication', 'xref_src_db': 'GoProcess', 'xref_id': 'GO:0006275'}, {'xref_name': 'transcription, DNA-templated', 'xref_src_db': 'GoProcess', 'xref_id': 'GO:0006351'}, {'xref_name': 'regulation of transcription, DNA-templated', 'xref_src_db': 'GoProcess', 'xref_id': 'GO:0006355'}, {'xref_name': 'viral process', 'xref_src_db': 'GoProcess', 'xref_id': 'GO:0016032'}, {'xref_name': 'viral latency', 'xref_src_db': 'GoProcess', 'xref_id': 'GO:0019042'}, {'xref_name': 'evasion or tolerance by virus of host immune response', 'xref_src_db': 'GoProcess', 'xref_id': 'GO:0030683'}, {'xref_name': 'suppression by virus of host adaptive immune response', 'xref_src_db': 'GoProcess', 'xref_id': 'GO:0039504'}, {'xref_name': 'suppression by virus of host antigen processing and presentation', 'xref_src_db': 'GoProcess', 'xref_id': 'GO:0039588'}, {'xref_name': 'suppression by virus of host NF-kappaB transcription factor activity', 'xref_src_db': 'GoProcess', 'xref_id': 'GO:0039644'}, {'xref_name': 'positive regulation of transcription, DNA-templated', 'xref_src_db': 'GoProcess', 'xref_id': 'GO:0045893'}, {'xref_name': None, 'xref_src_db': 'IntAct', 'xref_id': 'P03211'}, {'xref_name': 'EBNA1_DNA-bd.', 'xref_src_db': 'InterPro', 'xref_id': 'IPR004186'}, {'xref_name': 'E2/EBNA1_C_sf.', 'xref_src_db': 'InterPro', 'xref_id': 'IPR035975'}, {'xref_name': 'EBNA1_DNA-bd_sf.', 'xref_src_db': 'InterPro', 'xref_id': 'IPR037007'}, {'xref_name': 'A', 'xref_src_db': 'PDBe', 'xref_id': '1B3T'}, {'xref_name': 'A', 'xref_src_db': 'PDBe', 'xref_id': '1VHI'}, {'xref_name': 'A', 'xref_src_db': 'PDBe', 'xref_id': '1YY6'}, {'xref_name': 'A', 'xref_src_db': 'PDBe', 'xref_id': '2FYY'}, {'xref_name': 'A', 'xref_src_db': 'PDBe', 'xref_id': '2FZ3'}, {'xref_name': 'A', 'xref_src_db': 'PDBe', 'xref_id': '3MV7'}, {'xref_name': 'A', 'xref_src_db': 'PDBe', 'xref_id': '3MV8'}, {'xref_name': 'A', 'xref_src_db': 'PDBe', 'xref_id': '3MV9'}, {'xref_name': 'A', 'xref_src_db': 'PDBe', 'xref_id': '4PRA'}, {'xref_name': 'A', 'xref_src_db': 'PDBe', 'xref_id': '4PRE'}, {'xref_name': 'A', 'xref_src_db': 'PDBe', 'xref_id': '4PRI'}, {'xref_name': 'A', 'xref_src_db': 'PDBe', 'xref_id': '4PRP'}, {'xref_name': 'A', 'xref_src_db': 'PDBe', 'xref_id': '5WMF'}, {'xref_name': 'A', 'xref_src_db': 'PDBe', 'xref_id': '5WUM'}, {'xref_name': 'A', 'xref_src_db': 'PDBe', 'xref_id': '5WUN'}, {'xref_name': 'EBV-NA1', 'xref_src_db': 'Pfam', 'xref_id': 'PF02905'}, {'xref_name': None, 'xref_src_db': 'UniProt', 'xref_id': 'P03211'}, {'xref_name': None, 'xref_src_db': 'UniProt', 'xref_id': 'Q777E1'}]}], 'target_chembl_id': 'CHEMBL1293281', 'cross_references': [], 'pref_name': 'Epstein-Barr nuclear antigen 1', 'species_group_flag': False, 'target_type': 'SINGLE PROTEIN'}]"
      ]
     },
     "execution_count": 47,
     "metadata": {},
     "output_type": "execute_result"
    }
   ],
   "source": [
    "res.all()"
   ]
  },
  {
   "cell_type": "code",
   "execution_count": 35,
   "metadata": {},
   "outputs": [
    {
     "name": "stdout",
     "output_type": "stream",
     "text": [
      "https://www.ebi.ac.uk/chembl/api/data/target?target_synonym__icontains=EBNA1&limit=20&offset=0\n"
     ]
    }
   ],
   "source": [
    "print(urllib.parse.unquote(res.url()))"
   ]
  },
  {
   "cell_type": "code",
   "execution_count": 42,
   "metadata": {},
   "outputs": [
    {
     "data": {
      "text/plain": [
       "{'cross_references': [],\n",
       " 'organism': 'Epstein-Barr virus (strain B95-8) (HHV-4) (Human herpesvirus 4)',\n",
       " 'pref_name': 'Epstein-Barr nuclear antigen 1',\n",
       " 'species_group_flag': False,\n",
       " 'target_chembl_id': 'CHEMBL1293281',\n",
       " 'target_components': [{'accession': 'P03211',\n",
       "   'component_description': 'Epstein-Barr nuclear antigen 1',\n",
       "   'component_id': 5005,\n",
       "   'component_type': 'PROTEIN',\n",
       "   'relationship': 'SINGLE PROTEIN',\n",
       "   'target_component_synonyms': [{'component_synonym': 'EBNA-1',\n",
       "     'syn_type': 'UNIPROT'},\n",
       "    {'component_synonym': 'EBNA1', 'syn_type': 'GENE_SYMBOL'},\n",
       "    {'component_synonym': 'EBV nuclear antigen 1', 'syn_type': 'UNIPROT'},\n",
       "    {'component_synonym': 'Epstein-Barr nuclear antigen 1',\n",
       "     'syn_type': 'UNIPROT'}],\n",
       "   'target_component_xrefs': [{'xref_id': 'GO:0042025',\n",
       "     'xref_name': 'host cell nucleus',\n",
       "     'xref_src_db': 'GoComponent'},\n",
       "    {'xref_id': 'GO:0003677',\n",
       "     'xref_name': 'DNA binding',\n",
       "     'xref_src_db': 'GoFunction'},\n",
       "    {'xref_id': 'GO:0003700',\n",
       "     'xref_name': 'transcription factor activity, sequence-specific DNA binding',\n",
       "     'xref_src_db': 'GoFunction'},\n",
       "    {'xref_id': 'GO:0005515',\n",
       "     'xref_name': 'protein binding',\n",
       "     'xref_src_db': 'GoFunction'},\n",
       "    {'xref_id': 'GO:0006275',\n",
       "     'xref_name': 'regulation of DNA replication',\n",
       "     'xref_src_db': 'GoProcess'},\n",
       "    {'xref_id': 'GO:0006351',\n",
       "     'xref_name': 'transcription, DNA-templated',\n",
       "     'xref_src_db': 'GoProcess'},\n",
       "    {'xref_id': 'GO:0006355',\n",
       "     'xref_name': 'regulation of transcription, DNA-templated',\n",
       "     'xref_src_db': 'GoProcess'},\n",
       "    {'xref_id': 'GO:0016032',\n",
       "     'xref_name': 'viral process',\n",
       "     'xref_src_db': 'GoProcess'},\n",
       "    {'xref_id': 'GO:0019042',\n",
       "     'xref_name': 'viral latency',\n",
       "     'xref_src_db': 'GoProcess'},\n",
       "    {'xref_id': 'GO:0030683',\n",
       "     'xref_name': 'evasion or tolerance by virus of host immune response',\n",
       "     'xref_src_db': 'GoProcess'},\n",
       "    {'xref_id': 'GO:0039504',\n",
       "     'xref_name': 'suppression by virus of host adaptive immune response',\n",
       "     'xref_src_db': 'GoProcess'},\n",
       "    {'xref_id': 'GO:0039588',\n",
       "     'xref_name': 'suppression by virus of host antigen processing and presentation',\n",
       "     'xref_src_db': 'GoProcess'},\n",
       "    {'xref_id': 'GO:0039644',\n",
       "     'xref_name': 'suppression by virus of host NF-kappaB transcription factor activity',\n",
       "     'xref_src_db': 'GoProcess'},\n",
       "    {'xref_id': 'GO:0045893',\n",
       "     'xref_name': 'positive regulation of transcription, DNA-templated',\n",
       "     'xref_src_db': 'GoProcess'},\n",
       "    {'xref_id': 'P03211', 'xref_name': None, 'xref_src_db': 'IntAct'},\n",
       "    {'xref_id': 'IPR004186',\n",
       "     'xref_name': 'EBNA1_DNA-bd.',\n",
       "     'xref_src_db': 'InterPro'},\n",
       "    {'xref_id': 'IPR035975',\n",
       "     'xref_name': 'E2/EBNA1_C_sf.',\n",
       "     'xref_src_db': 'InterPro'},\n",
       "    {'xref_id': 'IPR037007',\n",
       "     'xref_name': 'EBNA1_DNA-bd_sf.',\n",
       "     'xref_src_db': 'InterPro'},\n",
       "    {'xref_id': '1B3T', 'xref_name': 'A', 'xref_src_db': 'PDBe'},\n",
       "    {'xref_id': '1VHI', 'xref_name': 'A', 'xref_src_db': 'PDBe'},\n",
       "    {'xref_id': '1YY6', 'xref_name': 'A', 'xref_src_db': 'PDBe'},\n",
       "    {'xref_id': '2FYY', 'xref_name': 'A', 'xref_src_db': 'PDBe'},\n",
       "    {'xref_id': '2FZ3', 'xref_name': 'A', 'xref_src_db': 'PDBe'},\n",
       "    {'xref_id': '3MV7', 'xref_name': 'A', 'xref_src_db': 'PDBe'},\n",
       "    {'xref_id': '3MV8', 'xref_name': 'A', 'xref_src_db': 'PDBe'},\n",
       "    {'xref_id': '3MV9', 'xref_name': 'A', 'xref_src_db': 'PDBe'},\n",
       "    {'xref_id': '4PRA', 'xref_name': 'A', 'xref_src_db': 'PDBe'},\n",
       "    {'xref_id': '4PRE', 'xref_name': 'A', 'xref_src_db': 'PDBe'},\n",
       "    {'xref_id': '4PRI', 'xref_name': 'A', 'xref_src_db': 'PDBe'},\n",
       "    {'xref_id': '4PRP', 'xref_name': 'A', 'xref_src_db': 'PDBe'},\n",
       "    {'xref_id': '5WMF', 'xref_name': 'A', 'xref_src_db': 'PDBe'},\n",
       "    {'xref_id': '5WUM', 'xref_name': 'A', 'xref_src_db': 'PDBe'},\n",
       "    {'xref_id': '5WUN', 'xref_name': 'A', 'xref_src_db': 'PDBe'},\n",
       "    {'xref_id': 'PF02905', 'xref_name': 'EBV-NA1', 'xref_src_db': 'Pfam'},\n",
       "    {'xref_id': 'P03211', 'xref_name': None, 'xref_src_db': 'UniProt'},\n",
       "    {'xref_id': 'Q777E1', 'xref_name': None, 'xref_src_db': 'UniProt'}]}],\n",
       " 'target_type': 'SINGLE PROTEIN',\n",
       " 'tax_id': 10377}"
      ]
     },
     "execution_count": 42,
     "metadata": {},
     "output_type": "execute_result"
    }
   ],
   "source": [
    "res[0]"
   ]
  },
  {
   "cell_type": "code",
   "execution_count": 48,
   "metadata": {},
   "outputs": [
    {
     "ename": "NameError",
     "evalue": "name 'compounds' is not defined",
     "output_type": "error",
     "traceback": [
      "\u001b[0;31m---------------------------------------------------------------------------\u001b[0m",
      "\u001b[0;31mNameError\u001b[0m                                 Traceback (most recent call last)",
      "\u001b[0;32m<ipython-input-48-93687e6e1fe0>\u001b[0m in \u001b[0;36m<module>\u001b[0;34m\u001b[0m\n\u001b[0;32m----> 1\u001b[0;31m \u001b[0mres\u001b[0m\u001b[0;34m.\u001b[0m\u001b[0mget\u001b[0m\u001b[0;34m(\u001b[0m\u001b[0mcompounds\u001b[0m\u001b[0;34m)\u001b[0m\u001b[0;34m\u001b[0m\u001b[0m\n\u001b[0m",
      "\u001b[0;31mNameError\u001b[0m: name 'compounds' is not defined"
     ]
    }
   ],
   "source": [
    "res.get(compounds)"
   ]
  },
  {
   "cell_type": "code",
   "execution_count": 49,
   "metadata": {},
   "outputs": [],
   "source": [
    "aa = target.get('CHEMBL1293281')"
   ]
  },
  {
   "cell_type": "code",
   "execution_count": 50,
   "metadata": {},
   "outputs": [
    {
     "data": {
      "text/plain": [
       "{'cross_references': [],\n",
       " 'organism': 'Epstein-Barr virus (strain B95-8) (HHV-4) (Human herpesvirus 4)',\n",
       " 'pref_name': 'Epstein-Barr nuclear antigen 1',\n",
       " 'species_group_flag': False,\n",
       " 'target_chembl_id': 'CHEMBL1293281',\n",
       " 'target_components': [{'accession': 'P03211',\n",
       "   'component_description': 'Epstein-Barr nuclear antigen 1',\n",
       "   'component_id': 5005,\n",
       "   'component_type': 'PROTEIN',\n",
       "   'relationship': 'SINGLE PROTEIN',\n",
       "   'target_component_synonyms': [{'component_synonym': 'EBNA-1',\n",
       "     'syn_type': 'UNIPROT'},\n",
       "    {'component_synonym': 'EBNA1', 'syn_type': 'GENE_SYMBOL'},\n",
       "    {'component_synonym': 'EBV nuclear antigen 1', 'syn_type': 'UNIPROT'},\n",
       "    {'component_synonym': 'Epstein-Barr nuclear antigen 1',\n",
       "     'syn_type': 'UNIPROT'}],\n",
       "   'target_component_xrefs': [{'xref_id': 'GO:0042025',\n",
       "     'xref_name': 'host cell nucleus',\n",
       "     'xref_src_db': 'GoComponent'},\n",
       "    {'xref_id': 'GO:0003677',\n",
       "     'xref_name': 'DNA binding',\n",
       "     'xref_src_db': 'GoFunction'},\n",
       "    {'xref_id': 'GO:0003700',\n",
       "     'xref_name': 'transcription factor activity, sequence-specific DNA binding',\n",
       "     'xref_src_db': 'GoFunction'},\n",
       "    {'xref_id': 'GO:0005515',\n",
       "     'xref_name': 'protein binding',\n",
       "     'xref_src_db': 'GoFunction'},\n",
       "    {'xref_id': 'GO:0006275',\n",
       "     'xref_name': 'regulation of DNA replication',\n",
       "     'xref_src_db': 'GoProcess'},\n",
       "    {'xref_id': 'GO:0006351',\n",
       "     'xref_name': 'transcription, DNA-templated',\n",
       "     'xref_src_db': 'GoProcess'},\n",
       "    {'xref_id': 'GO:0006355',\n",
       "     'xref_name': 'regulation of transcription, DNA-templated',\n",
       "     'xref_src_db': 'GoProcess'},\n",
       "    {'xref_id': 'GO:0016032',\n",
       "     'xref_name': 'viral process',\n",
       "     'xref_src_db': 'GoProcess'},\n",
       "    {'xref_id': 'GO:0019042',\n",
       "     'xref_name': 'viral latency',\n",
       "     'xref_src_db': 'GoProcess'},\n",
       "    {'xref_id': 'GO:0030683',\n",
       "     'xref_name': 'evasion or tolerance by virus of host immune response',\n",
       "     'xref_src_db': 'GoProcess'},\n",
       "    {'xref_id': 'GO:0039504',\n",
       "     'xref_name': 'suppression by virus of host adaptive immune response',\n",
       "     'xref_src_db': 'GoProcess'},\n",
       "    {'xref_id': 'GO:0039588',\n",
       "     'xref_name': 'suppression by virus of host antigen processing and presentation',\n",
       "     'xref_src_db': 'GoProcess'},\n",
       "    {'xref_id': 'GO:0039644',\n",
       "     'xref_name': 'suppression by virus of host NF-kappaB transcription factor activity',\n",
       "     'xref_src_db': 'GoProcess'},\n",
       "    {'xref_id': 'GO:0045893',\n",
       "     'xref_name': 'positive regulation of transcription, DNA-templated',\n",
       "     'xref_src_db': 'GoProcess'},\n",
       "    {'xref_id': 'P03211', 'xref_name': None, 'xref_src_db': 'IntAct'},\n",
       "    {'xref_id': 'IPR004186',\n",
       "     'xref_name': 'EBNA1_DNA-bd.',\n",
       "     'xref_src_db': 'InterPro'},\n",
       "    {'xref_id': 'IPR035975',\n",
       "     'xref_name': 'E2/EBNA1_C_sf.',\n",
       "     'xref_src_db': 'InterPro'},\n",
       "    {'xref_id': 'IPR037007',\n",
       "     'xref_name': 'EBNA1_DNA-bd_sf.',\n",
       "     'xref_src_db': 'InterPro'},\n",
       "    {'xref_id': '1B3T', 'xref_name': 'A', 'xref_src_db': 'PDBe'},\n",
       "    {'xref_id': '1VHI', 'xref_name': 'A', 'xref_src_db': 'PDBe'},\n",
       "    {'xref_id': '1YY6', 'xref_name': 'A', 'xref_src_db': 'PDBe'},\n",
       "    {'xref_id': '2FYY', 'xref_name': 'A', 'xref_src_db': 'PDBe'},\n",
       "    {'xref_id': '2FZ3', 'xref_name': 'A', 'xref_src_db': 'PDBe'},\n",
       "    {'xref_id': '3MV7', 'xref_name': 'A', 'xref_src_db': 'PDBe'},\n",
       "    {'xref_id': '3MV8', 'xref_name': 'A', 'xref_src_db': 'PDBe'},\n",
       "    {'xref_id': '3MV9', 'xref_name': 'A', 'xref_src_db': 'PDBe'},\n",
       "    {'xref_id': '4PRA', 'xref_name': 'A', 'xref_src_db': 'PDBe'},\n",
       "    {'xref_id': '4PRE', 'xref_name': 'A', 'xref_src_db': 'PDBe'},\n",
       "    {'xref_id': '4PRI', 'xref_name': 'A', 'xref_src_db': 'PDBe'},\n",
       "    {'xref_id': '4PRP', 'xref_name': 'A', 'xref_src_db': 'PDBe'},\n",
       "    {'xref_id': '5WMF', 'xref_name': 'A', 'xref_src_db': 'PDBe'},\n",
       "    {'xref_id': '5WUM', 'xref_name': 'A', 'xref_src_db': 'PDBe'},\n",
       "    {'xref_id': '5WUN', 'xref_name': 'A', 'xref_src_db': 'PDBe'},\n",
       "    {'xref_id': 'PF02905', 'xref_name': 'EBV-NA1', 'xref_src_db': 'Pfam'},\n",
       "    {'xref_id': 'P03211', 'xref_name': None, 'xref_src_db': 'UniProt'},\n",
       "    {'xref_id': 'Q777E1', 'xref_name': None, 'xref_src_db': 'UniProt'}]}],\n",
       " 'target_type': 'SINGLE PROTEIN',\n",
       " 'tax_id': 10377}"
      ]
     },
     "execution_count": 50,
     "metadata": {},
     "output_type": "execute_result"
    }
   ],
   "source": [
    "aa.get()"
   ]
  },
  {
   "cell_type": "code",
   "execution_count": 51,
   "metadata": {},
   "outputs": [
    {
     "data": {
      "text/plain": [
       "['__class__',\n",
       " '__delattr__',\n",
       " '__dict__',\n",
       " '__dir__',\n",
       " '__doc__',\n",
       " '__eq__',\n",
       " '__format__',\n",
       " '__ge__',\n",
       " '__getattribute__',\n",
       " '__gt__',\n",
       " '__hash__',\n",
       " '__init__',\n",
       " '__le__',\n",
       " '__lt__',\n",
       " '__module__',\n",
       " '__ne__',\n",
       " '__new__',\n",
       " '__reduce__',\n",
       " '__reduce_ex__',\n",
       " '__repr__',\n",
       " '__setattr__',\n",
       " '__sizeof__',\n",
       " '__str__',\n",
       " '__subclasshook__',\n",
       " '__weakref__',\n",
       " 'activity',\n",
       " 'assay',\n",
       " 'atc_class',\n",
       " 'binding_site',\n",
       " 'biotherapeutic',\n",
       " 'cell_line',\n",
       " 'chembl_id_lookup',\n",
       " 'compound_record',\n",
       " 'compound_structural_alert',\n",
       " 'description',\n",
       " 'document',\n",
       " 'document_similarity',\n",
       " 'document_term',\n",
       " 'drug',\n",
       " 'drug_indication',\n",
       " 'go_slim',\n",
       " 'image',\n",
       " 'mechanism',\n",
       " 'metabolism',\n",
       " 'molecule',\n",
       " 'molecule_form',\n",
       " 'official',\n",
       " 'organism',\n",
       " 'protein_class',\n",
       " 'similarity',\n",
       " 'source',\n",
       " 'substructure',\n",
       " 'target',\n",
       " 'target_component',\n",
       " 'target_prediction',\n",
       " 'target_relation',\n",
       " 'tissue',\n",
       " 'xref_source']"
      ]
     },
     "execution_count": 51,
     "metadata": {},
     "output_type": "execute_result"
    }
   ],
   "source": [
    "dir(new_client)"
   ]
  },
  {
   "cell_type": "code",
   "execution_count": 52,
   "metadata": {},
   "outputs": [],
   "source": [
    "molecule = new_client.molecule"
   ]
  },
  {
   "cell_type": "code",
   "execution_count": 54,
   "metadata": {},
   "outputs": [],
   "source": [
    "record_via_client = molecule.get(\"CHEMBL554\")"
   ]
  },
  {
   "cell_type": "code",
   "execution_count": 55,
   "metadata": {},
   "outputs": [
    {
     "data": {
      "text/plain": [
       "{'atc_classifications': ['L01XE07'],\n",
       " 'availability_type': '1',\n",
       " 'biotherapeutic': None,\n",
       " 'black_box_warning': '1',\n",
       " 'chebi_par_id': 49603,\n",
       " 'chirality': '2',\n",
       " 'cross_references': [{'xref_id': 'lapatinib%20ditosylate',\n",
       "   'xref_name': 'lapatinib ditosylate',\n",
       "   'xref_src': 'DailyMed'},\n",
       "  {'xref_id': '103905567',\n",
       "   'xref_name': 'SID: 103905567',\n",
       "   'xref_src': 'PubChem'},\n",
       "  {'xref_id': '103905568',\n",
       "   'xref_name': 'SID: 103905568',\n",
       "   'xref_src': 'PubChem'},\n",
       "  {'xref_id': '144206058',\n",
       "   'xref_name': 'SID: 144206058',\n",
       "   'xref_src': 'PubChem'},\n",
       "  {'xref_id': '170465125',\n",
       "   'xref_name': 'SID: 170465125',\n",
       "   'xref_src': 'PubChem'},\n",
       "  {'xref_id': '50100107', 'xref_name': 'SID: 50100107', 'xref_src': 'PubChem'},\n",
       "  {'xref_id': 'Lapatinib', 'xref_name': None, 'xref_src': 'Wikipedia'}],\n",
       " 'dosed_ingredient': True,\n",
       " 'first_approval': 2007,\n",
       " 'first_in_class': '0',\n",
       " 'helm_notation': None,\n",
       " 'indication_class': None,\n",
       " 'inorganic_flag': '0',\n",
       " 'max_phase': 4,\n",
       " 'molecule_chembl_id': 'CHEMBL554',\n",
       " 'molecule_hierarchy': {'molecule_chembl_id': 'CHEMBL554',\n",
       "  'parent_chembl_id': 'CHEMBL554'},\n",
       " 'molecule_properties': {'acd_logd': '6.26',\n",
       "  'acd_logp': '6.3',\n",
       "  'acd_most_apka': None,\n",
       "  'acd_most_bpka': '6.34',\n",
       "  'alogp': '6.14',\n",
       "  'aromatic_rings': 5,\n",
       "  'full_molformula': 'C29H26ClFN4O4S',\n",
       "  'full_mwt': '581.07',\n",
       "  'hba': 8,\n",
       "  'hba_lipinski': 8,\n",
       "  'hbd': 2,\n",
       "  'hbd_lipinski': 2,\n",
       "  'heavy_atoms': 40,\n",
       "  'molecular_species': 'NEUTRAL',\n",
       "  'mw_freebase': '581.07',\n",
       "  'mw_monoisotopic': '580.1347',\n",
       "  'num_lipinski_ro5_violations': 2,\n",
       "  'num_ro5_violations': 2,\n",
       "  'psa': '106.35',\n",
       "  'qed_weighted': '0.18',\n",
       "  'ro3_pass': 'N',\n",
       "  'rtb': 11},\n",
       " 'molecule_structures': {'canonical_smiles': 'CS(=O)(=O)CCNCc1oc(cc1)c2ccc3ncnc(Nc4ccc(OCc5cccc(F)c5)c(Cl)c4)c3c2',\n",
       "  'standard_inchi': 'InChI=1S/C29H26ClFN4O4S/c1-40(36,37)12-11-32-16-23-7-10-27(39-23)20-5-8-26-24(14-20)29(34-18-33-26)35-22-6-9-28(25(30)15-22)38-17-19-3-2-4-21(31)13-19/h2-10,13-15,18,32H,11-12,16-17H2,1H3,(H,33,34,35)',\n",
       "  'standard_inchi_key': 'BCFGMOOMADDAQU-UHFFFAOYSA-N'},\n",
       " 'molecule_synonyms': [{'molecule_synonym': 'GW-2016',\n",
       "   'syn_type': 'RESEARCH_CODE',\n",
       "   'synonyms': 'GW-2016'},\n",
       "  {'molecule_synonym': 'GW-572016',\n",
       "   'syn_type': 'RESEARCH_CODE',\n",
       "   'synonyms': 'GW-572016'},\n",
       "  {'molecule_synonym': 'Lapatinib',\n",
       "   'syn_type': 'ATC',\n",
       "   'synonyms': 'LAPATINIB'},\n",
       "  {'molecule_synonym': 'Lapatinib',\n",
       "   'syn_type': 'BNF',\n",
       "   'synonyms': 'LAPATINIB'},\n",
       "  {'molecule_synonym': 'Lapatinib',\n",
       "   'syn_type': 'INN',\n",
       "   'synonyms': 'LAPATINIB'},\n",
       "  {'molecule_synonym': 'Lapatinib',\n",
       "   'syn_type': 'FDA',\n",
       "   'synonyms': 'Lapatinib'},\n",
       "  {'molecule_synonym': 'Tyverb',\n",
       "   'syn_type': 'TRADE_NAME',\n",
       "   'synonyms': 'TYVERB'}],\n",
       " 'molecule_type': 'Small molecule',\n",
       " 'natural_product': '0',\n",
       " 'oral': True,\n",
       " 'parenteral': False,\n",
       " 'polymer_flag': False,\n",
       " 'pref_name': 'LAPATINIB',\n",
       " 'prodrug': '0',\n",
       " 'structure_type': 'MOL',\n",
       " 'therapeutic_flag': True,\n",
       " 'topical': False,\n",
       " 'usan_stem': '-tinib',\n",
       " 'usan_stem_definition': 'tyrosine kinase inhibitors',\n",
       " 'usan_substem': '-tinib',\n",
       " 'usan_year': 2003,\n",
       " 'withdrawn_class': None,\n",
       " 'withdrawn_country': None,\n",
       " 'withdrawn_flag': False,\n",
       " 'withdrawn_reason': None,\n",
       " 'withdrawn_year': None}"
      ]
     },
     "execution_count": 55,
     "metadata": {},
     "output_type": "execute_result"
    }
   ],
   "source": [
    "record_via_client"
   ]
  },
  {
   "cell_type": "code",
   "execution_count": null,
   "metadata": {},
   "outputs": [],
   "source": []
  }
 ],
 "metadata": {
  "kernelspec": {
   "display_name": "Python 3",
   "language": "python",
   "name": "python3"
  },
  "language_info": {
   "codemirror_mode": {
    "name": "ipython",
    "version": 3
   },
   "file_extension": ".py",
   "mimetype": "text/x-python",
   "name": "python",
   "nbconvert_exporter": "python",
   "pygments_lexer": "ipython3",
   "version": "3.5.5"
  }
 },
 "nbformat": 4,
 "nbformat_minor": 2
}
