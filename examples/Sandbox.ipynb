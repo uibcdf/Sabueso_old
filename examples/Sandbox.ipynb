{
 "cells": [
  {
   "cell_type": "markdown",
   "metadata": {},
   "source": [
    "Fuentes:\n",
    "\n",
    "https://arxiv.org/pdf/1607.00378.pdf   \n",
    "https://github.com/chembl/chembl_webresource_client   \n",
    "https://github.com/chembl/mychembl/blob/master/ipython_notebooks/09_myChEMBL_web_services.ipynb    \n",
    "https://github.com/chembl/chembl_webresource_client/blob/master/chembl_webresource_client/tests.py    "
   ]
  },
  {
   "cell_type": "markdown",
   "metadata": {},
   "source": [
    "Primero hay que pensar cómo se identifica un blanco:\n",
    "\n",
    "- Nombre? Organismo?"
   ]
  },
  {
   "cell_type": "code",
   "execution_count": 1,
   "metadata": {},
   "outputs": [],
   "source": [
    "%load_ext autoreload\n",
    "%autoreload 2"
   ]
  },
  {
   "cell_type": "code",
   "execution_count": 2,
   "metadata": {},
   "outputs": [],
   "source": [
    "import sabueso as sab"
   ]
  },
  {
   "cell_type": "code",
   "execution_count": 6,
   "metadata": {},
   "outputs": [],
   "source": [
    "import urllib as _urllib\n",
    "import json as _json"
   ]
  },
  {
   "cell_type": "code",
   "execution_count": 56,
   "metadata": {},
   "outputs": [],
   "source": [
    "url = 'http://www.ebi.ac.uk/pdbe/api/mappings/uniprot/5WUN'\n",
    "request = _urllib.request.Request(url)\n",
    "response = _urllib.request.urlopen(request)\n",
    "response_txt = response.read().decode('utf-8')\n",
    "api_dict = _json.loads(response_txt)"
   ]
  },
  {
   "cell_type": "code",
   "execution_count": 59,
   "metadata": {},
   "outputs": [],
   "source": [
    "res=list(api_dict.values())[0]['UniProt']"
   ]
  },
  {
   "cell_type": "code",
   "execution_count": 60,
   "metadata": {},
   "outputs": [
    {
     "data": {
      "text/plain": [
       "{'P52293': {'identifier': 'IMA1_MOUSE',\n",
       "  'name': 'IMA1_MOUSE',\n",
       "  'mappings': [{'entity_id': 1,\n",
       "    'end': {'author_residue_number': None,\n",
       "     'author_insertion_code': '',\n",
       "     'residue_number': 460},\n",
       "    'chain_id': 'A',\n",
       "    'start': {'author_residue_number': None,\n",
       "     'author_insertion_code': '',\n",
       "     'residue_number': 1},\n",
       "    'unp_end': 529,\n",
       "    'unp_start': 70,\n",
       "    'struct_asym_id': 'A'}]},\n",
       " 'P03211': {'identifier': 'EBNA1_EBVB9',\n",
       "  'name': 'EBNA1_EBVB9',\n",
       "  'mappings': [{'entity_id': 2,\n",
       "    'end': {'author_residue_number': None,\n",
       "     'author_insertion_code': '',\n",
       "     'residue_number': 9},\n",
       "    'chain_id': 'B',\n",
       "    'start': {'author_residue_number': 378,\n",
       "     'author_insertion_code': '',\n",
       "     'residue_number': 1},\n",
       "    'unp_end': 386,\n",
       "    'unp_start': 378,\n",
       "    'struct_asym_id': 'B'},\n",
       "   {'entity_id': 2,\n",
       "    'end': {'author_residue_number': None,\n",
       "     'author_insertion_code': '',\n",
       "     'residue_number': 9},\n",
       "    'chain_id': 'C',\n",
       "    'start': {'author_residue_number': 378,\n",
       "     'author_insertion_code': '',\n",
       "     'residue_number': 1},\n",
       "    'unp_end': 386,\n",
       "    'unp_start': 378,\n",
       "    'struct_asym_id': 'C'}]}}"
      ]
     },
     "execution_count": 60,
     "metadata": {},
     "output_type": "execute_result"
    }
   ],
   "source": [
    "res"
   ]
  },
  {
   "cell_type": "code",
   "execution_count": 61,
   "metadata": {},
   "outputs": [],
   "source": [
    "url = 'http://www.ebi.ac.uk/pdbe/api/mappings/uniprot_segments/5WUN'\n",
    "request = _urllib.request.Request(url)\n",
    "response = _urllib.request.urlopen(request)\n",
    "response_txt = response.read().decode('utf-8')\n",
    "api_dict2 = _json.loads(response_txt)"
   ]
  },
  {
   "cell_type": "code",
   "execution_count": 62,
   "metadata": {},
   "outputs": [],
   "source": [
    "res=list(api_dict2.values())[0]['UniProt']"
   ]
  },
  {
   "cell_type": "code",
   "execution_count": 63,
   "metadata": {},
   "outputs": [
    {
     "data": {
      "text/plain": [
       "{'P52293': {'identifier': 'IMA1_MOUSE',\n",
       "  'mappings': [{'entity_id': 1,\n",
       "    'end': {'author_residue_number': None,\n",
       "     'author_insertion_code': '',\n",
       "     'residue_number': 460},\n",
       "    'chain_id': 'A',\n",
       "    'start': {'author_residue_number': None,\n",
       "     'author_insertion_code': '',\n",
       "     'residue_number': 1},\n",
       "    'unp_end': 529,\n",
       "    'unp_start': 70,\n",
       "    'struct_asym_id': 'A'}],\n",
       "  'name': 'IMA1_MOUSE'},\n",
       " 'P03211': {'identifier': 'EBNA1_EBVB9',\n",
       "  'mappings': [{'entity_id': 2,\n",
       "    'end': {'author_residue_number': None,\n",
       "     'author_insertion_code': '',\n",
       "     'residue_number': 9},\n",
       "    'chain_id': 'C',\n",
       "    'start': {'author_residue_number': 378,\n",
       "     'author_insertion_code': '',\n",
       "     'residue_number': 1},\n",
       "    'unp_end': 386,\n",
       "    'unp_start': 378,\n",
       "    'struct_asym_id': 'C'},\n",
       "   {'entity_id': 2,\n",
       "    'end': {'author_residue_number': None,\n",
       "     'author_insertion_code': '',\n",
       "     'residue_number': 9},\n",
       "    'chain_id': 'B',\n",
       "    'start': {'author_residue_number': 378,\n",
       "     'author_insertion_code': '',\n",
       "     'residue_number': 1},\n",
       "    'unp_end': 386,\n",
       "    'unp_start': 378,\n",
       "    'struct_asym_id': 'B'}],\n",
       "  'name': 'EBNA1_EBVB9'}}"
      ]
     },
     "execution_count": 63,
     "metadata": {},
     "output_type": "execute_result"
    }
   ],
   "source": [
    "res"
   ]
  },
  {
   "cell_type": "code",
   "execution_count": 18,
   "metadata": {},
   "outputs": [
    {
     "data": {
      "text/plain": [
       "dict_keys(['5wun'])"
      ]
     },
     "execution_count": 18,
     "metadata": {},
     "output_type": "execute_result"
    }
   ],
   "source": [
    "sifts_api_dict.keys()"
   ]
  },
  {
   "cell_type": "code",
   "execution_count": 37,
   "metadata": {},
   "outputs": [],
   "source": [
    "res=list(sifts_api_dict2.values())[0]"
   ]
  },
  {
   "cell_type": "code",
   "execution_count": 42,
   "metadata": {},
   "outputs": [
    {
     "data": {
      "text/plain": [
       "1"
      ]
     },
     "execution_count": 42,
     "metadata": {},
     "output_type": "execute_result"
    }
   ],
   "source": [
    "len(res)"
   ]
  },
  {
   "cell_type": "code",
   "execution_count": null,
   "metadata": {},
   "outputs": [],
   "source": [
    "pdbid = list(sifts_api_dict.keys())[0]\n",
    "result=[]\n",
    "    for uniprotid in sifts_api_dict[pdbid]['UniProt'].keys():\n",
    "        for mapp in sifts_api_dict[pdbid]['UniProt'][uniprotid]['mappings']:\n",
    "            tmp_dict={}\n",
    "            tmp_dict['uniprot']=uniprotid\n",
    "            tmp_dict['entity_id']=mapp['entity_id']\n",
    "            tmp_dict['chain_id']=mapp['chain_id']\n",
    "            tmp_dict['pdb_start']=mapp['start']['residue_number']\n",
    "            tmp_dict['pdb_end']=mapp['end']['residue_number']\n",
    "            tmp_dict['uniprot_start']=mapp['unp_start']\n",
    "            tmp_dict['uniprot_end']=mapp['unp_end']\n",
    "            result.append(tmp_dict)\n",
    "    del(url, request, response, response_txt, sifts_api_dict, pdbid, uniprotid, mapp)\n",
    "    return result"
   ]
  },
  {
   "cell_type": "code",
   "execution_count": 3,
   "metadata": {},
   "outputs": [],
   "source": [
    "pdb = sab.PDB(\"5WUN\")"
   ]
  },
  {
   "cell_type": "code",
   "execution_count": 5,
   "metadata": {},
   "outputs": [
    {
     "data": {
      "text/plain": [
       "(1, 3514, 3)"
      ]
     },
     "execution_count": 5,
     "metadata": {},
     "output_type": "execute_result"
    }
   ],
   "source": [
    "pdb.coordinates.shape"
   ]
  },
  {
   "cell_type": "code",
   "execution_count": null,
   "metadata": {},
   "outputs": [],
   "source": []
  }
 ],
 "metadata": {
  "kernelspec": {
   "display_name": "Python 3",
   "language": "python",
   "name": "python3"
  },
  "language_info": {
   "codemirror_mode": {
    "name": "ipython",
    "version": 3
   },
   "file_extension": ".py",
   "mimetype": "text/x-python",
   "name": "python",
   "nbconvert_exporter": "python",
   "pygments_lexer": "ipython3",
   "version": "3.7.1"
  }
 },
 "nbformat": 4,
 "nbformat_minor": 2
}
