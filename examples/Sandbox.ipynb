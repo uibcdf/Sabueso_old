{
 "cells": [
  {
   "cell_type": "markdown",
   "metadata": {},
   "source": [
    "Fuentes:\n",
    "\n",
    "https://arxiv.org/pdf/1607.00378.pdf   \n",
    "https://github.com/chembl/chembl_webresource_client   \n",
    "https://github.com/chembl/mychembl/blob/master/ipython_notebooks/09_myChEMBL_web_services.ipynb    \n",
    "https://github.com/chembl/chembl_webresource_client/blob/master/chembl_webresource_client/tests.py    "
   ]
  },
  {
   "cell_type": "markdown",
   "metadata": {},
   "source": [
    "Primero hay que pensar cómo se identifica un blanco:\n",
    "\n",
    "- Nombre? Organismo?"
   ]
  },
  {
   "cell_type": "code",
   "execution_count": null,
   "metadata": {},
   "outputs": [],
   "source": [
    "%load_ext autoreload\n",
    "%autoreload 2"
   ]
  },
  {
   "cell_type": "code",
   "execution_count": null,
   "metadata": {},
   "outputs": [],
   "source": [
    "import urllib as urllib\n",
    "import xmltodict as xmltodict\n",
    "import sabueso as sab"
   ]
  },
  {
   "cell_type": "code",
   "execution_count": null,
   "metadata": {},
   "outputs": [],
   "source": [
    "#uniprot_id='P27540'\n",
    "#uniprot_id='Q61221'\n",
    "#uniprot_id='P97481'\n",
    "#uniprot_id='Q16665'\n",
    "#uniprot_id='Q99814'\n",
    "uniprot_id='P53762'\n",
    "\n",
    "url = 'http://www.uniprot.org/uniprot/'+uniprot_id+'.xml'\n",
    "\n",
    "request = urllib.request.Request(url)\n",
    "request.add_header('User-Agent', 'Python at https://github.com/uibcdf/MolInterrogator || prada.gracia@gmail.com')\n",
    "response = urllib.request.urlopen(request)\n",
    "xml_result = response.read().decode('utf-8')\n",
    "dict_result = xmltodict.parse(xml_result)\n",
    "dict_result = dict_result['uniprot']['entry']\n"
   ]
  },
  {
   "cell_type": "code",
   "execution_count": null,
   "metadata": {},
   "outputs": [],
   "source": [
    "pdb_id='4ZPR'\n",
    "pdb_id='4ZPH'\n",
    "\n",
    "aa = sab.PDB(pdb_id)"
   ]
  },
  {
   "cell_type": "code",
   "execution_count": 1,
   "metadata": {},
   "outputs": [],
   "source": [
    "import pypdb as pypdb"
   ]
  },
  {
   "cell_type": "code",
   "execution_count": 3,
   "metadata": {},
   "outputs": [],
   "source": [
    "all_info = pypdb.get_all_info('4ZPR')"
   ]
  },
  {
   "cell_type": "code",
   "execution_count": 4,
   "metadata": {},
   "outputs": [],
   "source": [
    "entity_info = pypdb.get_entity_info('4ZPR')"
   ]
  },
  {
   "cell_type": "code",
   "execution_count": 7,
   "metadata": {},
   "outputs": [],
   "source": [
    "ligands_info = pypdb.get_ligands('4ZPR')"
   ]
  },
  {
   "cell_type": "code",
   "execution_count": null,
   "metadata": {},
   "outputs": [],
   "source": [
    "pypdb.describe_chemical()"
   ]
  },
  {
   "cell_type": "code",
   "execution_count": 5,
   "metadata": {},
   "outputs": [
    {
     "data": {
      "text/plain": [
       "{'polymer': [{'@entityNr': '1',\n",
       "   '@length': '384',\n",
       "   '@type': 'protein',\n",
       "   '@weight': '43437.4',\n",
       "   'chain': {'@id': 'A'},\n",
       "   'Taxonomy': {'@name': 'Mus musculus', '@id': '10090'},\n",
       "   'synonym': {'@name': 'ARNT protein, Dioxin receptor, nuclear translocator, Hypoxia-inducible factor 1-beta, HIF1-beta'},\n",
       "   'macroMolecule': {'@name': 'Aryl hydrocarbon receptor nuclear translocator',\n",
       "    'accession': {'@id': 'P53762'}},\n",
       "   'polymerDescription': {'@description': 'Aryl hydrocarbon receptor nuclear translocator'},\n",
       "   'fragment': {'@desc': 'UNP residues 82-464'}},\n",
       "  {'@entityNr': '2',\n",
       "   '@length': '345',\n",
       "   '@type': 'protein',\n",
       "   '@weight': '39901.6',\n",
       "   'chain': {'@id': 'B'},\n",
       "   'Taxonomy': {'@name': 'Mus musculus', '@id': '10090'},\n",
       "   'synonym': {'@name': 'HIF1-alpha, ARNT-interacting protein, Hypoxia inducible factor 1, alpha subunit'},\n",
       "   'macroMolecule': {'@name': 'Hypoxia-inducible factor 1-alpha',\n",
       "    'accession': {'@id': 'Q61221'}},\n",
       "   'polymerDescription': {'@description': 'Hypoxia-inducible factor 1-alpha'},\n",
       "   'fragment': {'@desc': 'UNP residues 13-357'}},\n",
       "  {'@entityNr': '3',\n",
       "   '@length': '21',\n",
       "   '@type': 'dna',\n",
       "   '@weight': '6527.18',\n",
       "   'chain': {'@id': 'C'},\n",
       "   'Taxonomy': {'@name': 'Mus musculus', '@id': '10090'},\n",
       "   'polymerDescription': {'@description': \"DNA (5'-D(*GP*GP*CP*TP*GP*CP*GP*TP*AP*CP*GP*TP*GP*CP*GP*GP*GP*TP*CP*GP*T)-3')\"},\n",
       "   'details': {'@desc': 'HRE DNA sense strand'}},\n",
       "  {'@entityNr': '4',\n",
       "   '@length': '21',\n",
       "   '@type': 'dna',\n",
       "   '@weight': '6363.12',\n",
       "   'chain': {'@id': 'D'},\n",
       "   'Taxonomy': {'@name': 'Mus musculus', '@id': '10090'},\n",
       "   'polymerDescription': {'@description': \"DNA (5'-D(*CP*AP*CP*GP*AP*CP*CP*CP*GP*CP*AP*CP*GP*TP*AP*CP*GP*CP*AP*GP*C)-3')\"},\n",
       "   'details': {'@desc': 'HRE DNA antisense strand'}}],\n",
       " 'id': '4ZPR'}"
      ]
     },
     "execution_count": 5,
     "metadata": {},
     "output_type": "execute_result"
    }
   ],
   "source": [
    "all_info"
   ]
  },
  {
   "cell_type": "code",
   "execution_count": 6,
   "metadata": {},
   "outputs": [
    {
     "data": {
      "text/plain": [
       "{'Method': {'@name': 'xray'},\n",
       " 'Entity': [{'@id': '1', '@type': 'protein', 'Chain': {'@id': 'A'}},\n",
       "  {'@id': '2', '@type': 'protein', 'Chain': {'@id': 'B'}},\n",
       "  {'@id': '3', '@type': 'dna', 'Chain': {'@id': 'C'}},\n",
       "  {'@id': '4', '@type': 'dna', 'Chain': {'@id': 'D'}}],\n",
       " 'structureId': '4ZPR',\n",
       " 'bioAssemblies': '1',\n",
       " 'release_date': 'Wed Aug 12 00:00:00 PDT 2015',\n",
       " 'resolution': '3.90'}"
      ]
     },
     "execution_count": 6,
     "metadata": {},
     "output_type": "execute_result"
    }
   ],
   "source": [
    "entity_info"
   ]
  },
  {
   "cell_type": "code",
   "execution_count": 8,
   "metadata": {},
   "outputs": [
    {
     "data": {
      "text/plain": [
       "{'ligandInfo': None, 'id': '4ZPR'}"
      ]
     },
     "execution_count": 8,
     "metadata": {},
     "output_type": "execute_result"
    }
   ],
   "source": [
    "ligands_info"
   ]
  },
  {
   "cell_type": "code",
   "execution_count": null,
   "metadata": {},
   "outputs": [],
   "source": []
  }
 ],
 "metadata": {
  "kernelspec": {
   "display_name": "Python 3",
   "language": "python",
   "name": "python3"
  },
  "language_info": {
   "codemirror_mode": {
    "name": "ipython",
    "version": 3
   },
   "file_extension": ".py",
   "mimetype": "text/x-python",
   "name": "python",
   "nbconvert_exporter": "python",
   "pygments_lexer": "ipython3",
   "version": "3.7.1"
  }
 },
 "nbformat": 4,
 "nbformat_minor": 2
}
